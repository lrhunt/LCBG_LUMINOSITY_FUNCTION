{
 "cells": [
  {
   "cell_type": "code",
   "execution_count": 1,
   "metadata": {},
   "outputs": [],
   "source": [
    "import pandas as pd\n",
    "import numpy as np\n",
    "import matplotlib.pyplot as plt"
   ]
  },
  {
   "cell_type": "code",
   "execution_count": 2,
   "metadata": {},
   "outputs": [],
   "source": [
    "import astropy as ap\n",
    "from astropy import units as u\n",
    "import kcorrect\n",
    "import kcorrect.utils as ut\n",
    "from astropy.cosmology import FlatLambdaCDM\n",
    "from astropy.modeling.fitting import LevMarLSQFitter\n",
    "from astropy.modeling.models import custom_model\n",
    "from astropy.modeling import models, fitting\n",
    "from astropy.coordinates import SkyCoord"
   ]
  },
  {
   "cell_type": "code",
   "execution_count": 3,
   "metadata": {},
   "outputs": [],
   "source": [
    "from itertools import combinations\n",
    "import os\n",
    "import datetime\n",
    "import matplotlib.backends.backend_pdf"
   ]
  },
  {
   "cell_type": "code",
   "execution_count": 4,
   "metadata": {},
   "outputs": [],
   "source": [
    "cosmo=FlatLambdaCDM(H0=70,Om0=0.3)"
   ]
  },
  {
   "cell_type": "code",
   "execution_count": 5,
   "metadata": {},
   "outputs": [],
   "source": [
    "kcordir=os.environ[\"KCORRECT_DIR\"]\n",
    "catbasedir=os.environ[\"COSMOS_DIR\"]"
   ]
  },
  {
   "cell_type": "code",
   "execution_count": 10,
   "metadata": {},
   "outputs": [
    {
     "name": "stdout",
     "output_type": "stream",
     "text": [
      "Reading in Catalogs\n"
     ]
    }
   ],
   "source": [
    "print('Reading in Catalogs')\n",
    "COSMOS_PHOT_LAMBDAR=pd.read_csv(catbasedir+'/Final_Catalogs/COSMOS_CONVERTED_CATALOG.csv')\n",
    "TASCA_COSMOS_MORPH=pd.read_csv(\n",
    "    catbasedir+'/Morphology/cosmos_morph_tasca_1.1.tbl',\n",
    "    delim_whitespace=True,\n",
    "    header=0,\n",
    "    dtype=float,\n",
    "    error_bad_lines=False,\n",
    "    skiprows=[1,2,3])"
   ]
  },
  {
   "cell_type": "code",
   "execution_count": 11,
   "metadata": {},
   "outputs": [],
   "source": [
    "TASCA_COORD=SkyCoord(ra=TASCA_COSMOS_MORPH['RA'].values*u.degree,dec=TASCA_COSMOS_MORPH['DEC'].values*u.degree)\n",
    "G10_COORD=SkyCoord(ra=COSMOS_PHOT_LAMBDAR['RA'].values*u.degree,dec=COSMOS_PHOT_LAMBDAR['DEC'].values*u.degree)"
   ]
  },
  {
   "cell_type": "code",
   "execution_count": 12,
   "metadata": {},
   "outputs": [],
   "source": [
    "idx,d2d,d3d=G10_COORD.match_to_catalog_sky(TASCA_COORD)\n",
    "COSMOS_PHOT_LAMBDAR['R_HALF_PIXELS']=TASCA_COSMOS_MORPH['R_HALF'][idx].values\n",
    "COSMOS_PHOT_LAMBDAR['SEPARATION']=d2d.arcsecond\n",
    "COSMOS_PHOT_LAMBDAR.loc[COSMOS_PHOT_LAMBDAR.SEPARATION>0.1,'R_HALF_PIXELS']=np.nan\n",
    "COSMOS_FLUXES=COSMOS_PHOT_LAMBDAR"
   ]
  },
  {
   "cell_type": "code",
   "execution_count": 28,
   "metadata": {},
   "outputs": [
    {
     "name": "stderr",
     "output_type": "stream",
     "text": [
      "/home/lrhunt/programs/anaconda3/lib/python3.7/site-packages/ipykernel_launcher.py:14: RuntimeWarning: divide by zero encountered in log10\n",
      "  \n"
     ]
    }
   ],
   "source": [
    "COSMOS_FLUXES['BJ0_vega_surface_brightness']=\\\n",
    "(COSMOS_FLUXES['BJ0_vega_absmag']+\n",
    " 2.5*np.log10(\n",
    "     2*np.pi*\n",
    "     np.power(1/cosmo.arcsec_per_kpc_proper(COSMOS_FLUXES.Z_BEST.values).value*\n",
    "              (\n",
    "                  (\n",
    "                      COSMOS_FLUXES.R_HALF_PIXELS.values*\n",
    "                      0.03\n",
    "                  )\n",
    "              )\n",
    "              ,2)\n",
    " )\n",
    " +2.5*np.log10((360*60*60/(2*np.pi*0.01))**2))"
   ]
  },
  {
   "cell_type": "code",
   "execution_count": 29,
   "metadata": {},
   "outputs": [
    {
     "name": "stderr",
     "output_type": "stream",
     "text": [
      "/home/lrhunt/programs/anaconda3/lib/python3.7/site-packages/ipykernel_launcher.py:2: RuntimeWarning: invalid value encountered in power\n",
      "  \n",
      "/home/lrhunt/programs/anaconda3/lib/python3.7/site-packages/ipykernel_launcher.py:4: RuntimeWarning: invalid value encountered in less\n",
      "  after removing the cwd from sys.path.\n"
     ]
    }
   ],
   "source": [
    "COSMOS_FLUXES['R_HALF_ARCSEC_F814W']=COSMOS_FLUXES.loc[:,'R_HALF_PIXELS']*0.03\n",
    "COSMOS_FLUXES['R_HALF_ARCSEC_B']=COSMOS_FLUXES.loc[:,'R_HALF_PIXELS']*0.03*(814/(445*(1+COSMOS_FLUXES.Z_BEST.values)))**0.108\n",
    "COSMOS_FLUXES['is_LCBG']=0\n",
    "COSMOS_FLUXES.loc[(COSMOS_FLUXES.BJ0_vega_absmag.values<-18.5)&(COSMOS_FLUXES.BJ0_vega_surface_brightness.values<21)&(COSMOS_FLUXES['rest_frame_B-V'].values<0.6),'is_LCBG']=1"
   ]
  },
  {
   "cell_type": "code",
   "execution_count": 30,
   "metadata": {},
   "outputs": [],
   "source": [
    "COSMOS_FLUXES.to_csv(catbasedir+'/Final_Catalogs/COSMOS_CONVERTED_CATALOG.csv')"
   ]
  },
  {
   "cell_type": "code",
   "execution_count": 27,
   "metadata": {},
   "outputs": [
    {
     "data": {
      "text/plain": [
       "(array([2.000e+00, 2.000e+00, 2.000e+00, 1.300e+01, 3.400e+01, 5.500e+01,\n",
       "        5.700e+01, 6.300e+01, 5.000e+01, 2.600e+01, 3.500e+01, 4.500e+01,\n",
       "        5.100e+01, 1.170e+02, 2.870e+02, 3.430e+02, 4.320e+02, 4.890e+02,\n",
       "        6.180e+02, 8.630e+02, 1.178e+03, 1.595e+03, 2.096e+03, 2.902e+03,\n",
       "        3.529e+03, 4.422e+03, 5.347e+03, 6.035e+03, 6.560e+03, 7.339e+03,\n",
       "        7.828e+03, 8.071e+03, 7.892e+03, 7.318e+03, 6.510e+03, 5.581e+03,\n",
       "        4.446e+03, 3.485e+03, 2.547e+03, 1.706e+03, 1.151e+03, 7.200e+02,\n",
       "        4.600e+02, 2.960e+02, 1.420e+02, 8.400e+01, 4.700e+01, 2.000e+01,\n",
       "        1.000e+01, 9.000e+00, 9.000e+00, 5.000e+00, 0.000e+00, 3.000e+00,\n",
       "        3.000e+00, 4.000e+00, 4.000e+00, 0.000e+00, 1.000e+00, 3.000e+00]),\n",
       " array([10.        , 10.33333333, 10.66666667, 11.        , 11.33333333,\n",
       "        11.66666667, 12.        , 12.33333333, 12.66666667, 13.        ,\n",
       "        13.33333333, 13.66666667, 14.        , 14.33333333, 14.66666667,\n",
       "        15.        , 15.33333333, 15.66666667, 16.        , 16.33333333,\n",
       "        16.66666667, 17.        , 17.33333333, 17.66666667, 18.        ,\n",
       "        18.33333333, 18.66666667, 19.        , 19.33333333, 19.66666667,\n",
       "        20.        , 20.33333333, 20.66666667, 21.        , 21.33333333,\n",
       "        21.66666667, 22.        , 22.33333333, 22.66666667, 23.        ,\n",
       "        23.33333333, 23.66666667, 24.        , 24.33333333, 24.66666667,\n",
       "        25.        , 25.33333333, 25.66666667, 26.        , 26.33333333,\n",
       "        26.66666667, 27.        , 27.33333333, 27.66666667, 28.        ,\n",
       "        28.33333333, 28.66666667, 29.        , 29.33333333, 29.66666667,\n",
       "        30.        ]),\n",
       " <a list of 60 Patch objects>)"
      ]
     },
     "execution_count": 27,
     "metadata": {},
     "output_type": "execute_result"
    },
    {
     "data": {
      "image/png": "[encoded data removed]",
      "text/plain": [
       "<Figure size 432x288 with 1 Axes>"
      ]
     },
     "metadata": {
      "needs_background": "light"
     },
     "output_type": "display_data"
    }
   ],
   "source": [
    "plt.hist(COSMOS_FLUXES['BJ0_vega_surface_brightness'],range=[10,30],bins=60)\n",
    "plt.hist(surfacebrightnessi,range=[10,30],bins=60,color='orange',alpha=0.5)"
   ]
  },
  {
   "cell_type": "code",
   "execution_count": null,
   "metadata": {},
   "outputs": [],
   "source": []
  }
 ],
 "metadata": {
  "kernelspec": {
   "display_name": "Python 3",
   "language": "python",
   "name": "python3"
  },
  "language_info": {
   "codemirror_mode": {
    "name": "ipython",
    "version": 3
   },
   "file_extension": ".py",
   "mimetype": "text/x-python",
   "name": "python",
   "nbconvert_exporter": "python",
   "pygments_lexer": "ipython3",
   "version": "3.7.1"
  }
 },
 "nbformat": 4,
 "nbformat_minor": 2
}
