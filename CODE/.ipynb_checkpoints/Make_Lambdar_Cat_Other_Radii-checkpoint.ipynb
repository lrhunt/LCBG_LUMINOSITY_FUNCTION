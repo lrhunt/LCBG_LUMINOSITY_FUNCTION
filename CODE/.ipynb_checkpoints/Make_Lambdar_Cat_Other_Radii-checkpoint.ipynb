{
 "cells": [
  {
   "cell_type": "code",
   "execution_count": 1,
   "metadata": {},
   "outputs": [],
   "source": [
    "import pandas as pd\n",
    "import numpy as np\n",
    "import astropy as ap\n",
    "from astropy import units as u\n",
    "from astropy.coordinates import SkyCoord\n",
    "import kcorrect\n",
    "import kcorrect.utils as ut\n",
    "from astropy.cosmology import FlatLambdaCDM\n",
    "import os\n",
    "import matplotlib.pyplot as plt\n",
    "from itertools import combinations"
   ]
  },
  {
   "cell_type": "markdown",
   "metadata": {},
   "source": [
    "Defining Cosmology"
   ]
  },
  {
   "cell_type": "code",
   "execution_count": 2,
   "metadata": {},
   "outputs": [],
   "source": [
    "cosmo=FlatLambdaCDM(H0=70,Om0=0.3)"
   ]
  },
  {
   "cell_type": "markdown",
   "metadata": {},
   "source": [
    "Reading in Catalogs (LAMBDAR and TASCA)"
   ]
  },
  {
   "cell_type": "code",
   "execution_count": 37,
   "metadata": {},
   "outputs": [],
   "source": [
    "def make_kcorr_filt_template(dataframe):\n",
    "    '''This task will make a kcorrect filter template from a dataframe that optimizes the number of objects with detections in a subset of filters. In this case the dataframe should contain cfht, subaru, and irac wideband filters. '''\n",
    "    kcordir=os.environ[\"KCORRECT_DIR\"]\n",
    "    lambdar_to_kcorr={'mag_cfht_u':'capak_cfht_megaprime_sagem_u.par','mag_subaru_B':'capak_subaru_suprimecam_B.par','mag_subaru_V':'capak_subaru_suprimecam_V.par','mag_subaru_g':'capak_subaru_suprimecam_g.par','mag_subaru_r':'capak_subaru_suprimecam_r.par','mag_subaru_i':'capak_subaru_suprimecam_i.par','mag_subaru_z':'capak_subaru_suprimecam_z.par','mag_irac_1':'spitzer_irac_ch1.par','mag_irac_2':'spitzer_irac_ch2.par','mag_irac_3':'spitzer_irac_ch3.par','mag_irac_4':'spitzer_irac_ch4.par'}\n",
    "    numb1=0\n",
    "    numb2=0\n",
    "    numb3=0\n",
    "    numb4=0\n",
    "    numb5=0\n",
    "    flist1=[]\n",
    "    flist2=[]\n",
    "    flist3=[]\n",
    "    flist4=[]\n",
    "    flist5=[]\n",
    "    ilist1=[]\n",
    "    ilist2=[]\n",
    "    ilist3=[]\n",
    "    ilist4=[]\n",
    "    ilist5=[]\n",
    "    kcor_template=kcordir+'/data/templates/temp_filt_list.dat'\n",
    "    for x in combinations(list(dataframe),5):\n",
    "        if len(dataframe[(dataframe[x[0]]<40)&(dataframe[x[1]]<40)&(dataframe[x[2]]<40)&(dataframe[x[3]]<40)&(dataframe[x[4]]<40)]) > numb1:\n",
    "            ilist5=ilist4\n",
    "            ilist4=ilist3\n",
    "            ilist3=ilist2\n",
    "            ilist2=ilist1\n",
    "            ilist1=dataframe[(dataframe[x[0]]<40)&(dataframe[x[1]]<40)&(dataframe[x[2]]<40)&(dataframe[x[3]]<40)&(dataframe[x[4]]<40)].index.tolist()\n",
    "            numb5=numb4\n",
    "            numb4=numb3\n",
    "            numb3=numb2\n",
    "            numb2=numb1\n",
    "            numb1=len(ilist1)\n",
    "            flist5=flist4\n",
    "            flist4=flist3\n",
    "            flist3=flist2\n",
    "            flist2=flist1\n",
    "            flist1=x\n",
    "    with open(kcor_template,'w') as file:\n",
    "        file.write('KCORRECT_DIR\\n')\n",
    "        for filt in flist1:\n",
    "            file.write('data/filters/'+lambdar_to_kcorr[filt]+'\\n')\n",
    "    return flist1,kcor_template"
   ]
  },
  {
   "cell_type": "code",
   "execution_count": 4,
   "metadata": {},
   "outputs": [
    {
     "name": "stdout",
     "output_type": "stream",
     "text": [
      "Reading in Catalogs\n"
     ]
    }
   ],
   "source": [
    "print('Reading in Catalogs')\n",
    "COSMOS_PHOT_LAMBDAR=pd.read_csv('/home/lrhunt/Astrodata/LCBG_Luminosity_Function/Original_Catalogs/G10CosmosLAMBDARCatv05.csv')\n",
    "TASCA_COSMOS_MORPH=pd.read_csv('/home/lrhunt/Astrodata/LCBG_Luminosity_Function/Original_Catalogs/tasca_morphology.tbl',delim_whitespace=True,header=30,dtype=float,error_bad_lines=False,skiprows=[31,32,33])\n",
    "CASSATA_COSMOS_MORPH=pd.read_csv('/home/lrhunt/Astrodata/LCBG_Luminosity_Function/Original_Catalogs/cassata_morphology.tbl',delim_whitespace=True,header=30,dtype=float,error_bad_lines=False,skiprows=[31,32,33])\n",
    "ZURICH_COSMOS_MORPH=pd.read_csv('/home/lrhunt/Astrodata/LCBG_Luminosity_Function/Original_Catalogs/zurich_morphology.tbl',delim_whitespace=True,header=32,error_bad_lines=False,skiprows=[33,34,35])"
   ]
  },
  {
   "cell_type": "code",
   "execution_count": 5,
   "metadata": {},
   "outputs": [],
   "source": [
    "ZURICH_COSMOS_MORPH=ZURICH_COSMOS_MORPH.drop(columns='|')"
   ]
  },
  {
   "cell_type": "code",
   "execution_count": 6,
   "metadata": {},
   "outputs": [],
   "source": [
    "ZURICH_COSMOS_MORPH.columns=ZURICH_COSMOS_MORPH.columns.str.strip('|')\n",
    "CASSATA_COSMOS_MORPH.columns=CASSATA_COSMOS_MORPH.columns.str.strip('|')\n",
    "TASCA_COSMOS_MORPH.columns=TASCA_COSMOS_MORPH.columns.str.strip('|')"
   ]
  },
  {
   "cell_type": "code",
   "execution_count": 8,
   "metadata": {},
   "outputs": [],
   "source": [
    "HALF_LIGHT_RADII=CASSATA_COSMOS_MORPH.copy()"
   ]
  },
  {
   "cell_type": "code",
   "execution_count": 9,
   "metadata": {},
   "outputs": [],
   "source": [
    "HALF_LIGHT_RADII=HALF_LIGHT_RADII.rename(columns={'r_half':'r_half_cassata'})"
   ]
  },
  {
   "cell_type": "markdown",
   "metadata": {},
   "source": [
    "Setting Variables"
   ]
  },
  {
   "cell_type": "code",
   "execution_count": 10,
   "metadata": {},
   "outputs": [],
   "source": [
    "kcordir=os.environ[\"KCORRECT_DIR\"]"
   ]
  },
  {
   "cell_type": "markdown",
   "metadata": {},
   "source": [
    "*********************************************\n",
    "Matching Catalogs\n",
    "*********************************************"
   ]
  },
  {
   "cell_type": "code",
   "execution_count": 11,
   "metadata": {},
   "outputs": [
    {
     "name": "stdout",
     "output_type": "stream",
     "text": [
      "Matching Catalogs\n"
     ]
    }
   ],
   "source": [
    "print('Matching Catalogs')"
   ]
  },
  {
   "cell_type": "markdown",
   "metadata": {},
   "source": [
    "Generating Astropy skycoord objects to easily match catalogs based on position"
   ]
  },
  {
   "cell_type": "code",
   "execution_count": 12,
   "metadata": {},
   "outputs": [],
   "source": [
    "CASSATA_COORD=SkyCoord(ra=CASSATA_COSMOS_MORPH['ra'].values*u.degree,dec=CASSATA_COSMOS_MORPH['dec'].values*u.degree)\n",
    "ZURICH_COORD=SkyCoord(ra=ZURICH_COSMOS_MORPH['ra'].values*u.degree,dec=ZURICH_COSMOS_MORPH['dec'].values*u.degree)\n",
    "TASCA_COORD=SkyCoord(ra=TASCA_COSMOS_MORPH['ra'].values*u.degree,dec=TASCA_COSMOS_MORPH['dec'].values*u.degree)\n",
    "G10_COORD=SkyCoord(ra=COSMOS_PHOT_LAMBDAR['RA'].values*u.degree,dec=COSMOS_PHOT_LAMBDAR['DEC'].values*u.degree)\n",
    "RH_COORD=SkyCoord(ra=HALF_LIGHT_RADII['ra'].values*u.degree,dec=HALF_LIGHT_RADII['dec'].values*u.degree)"
   ]
  },
  {
   "cell_type": "markdown",
   "metadata": {},
   "source": [
    "\n",
    "Matching Catalogs"
   ]
  },
  {
   "cell_type": "code",
   "execution_count": 13,
   "metadata": {},
   "outputs": [],
   "source": [
    "idxCASSATA_t,idxTASCA_c,d2d_ct,d3d_tc=TASCA_COORD.search_around_sky(CASSATA_COORD,0.1*u.arcsecond)\n",
    "idxCASSATA_z,idxZURICH_c,d2d_cz,d3d_zc=ZURICH_COORD.search_around_sky(CASSATA_COORD,0.1*u.arcsecond)"
   ]
  },
  {
   "cell_type": "code",
   "execution_count": 14,
   "metadata": {
    "scrolled": false
   },
   "outputs": [],
   "source": [
    "mask=np.ones(len(idxCASSATA_z),dtype=bool)\n",
    "separation_list=[]\n",
    "three_obj_within_1_arcsec=[]\n",
    "for i in range(0,len(idxCASSATA_z)-2):\n",
    "    if idxZURICH_c[i]==idxZURICH_c[i+1]:\n",
    "        separation_list.append([d2d_cz[i].arcsecond,d2d_cz[i+1].arcsecond])\n",
    "        if d2d_cz[i]>d2d_cz[i+1]:\n",
    "            mask[i]=False\n",
    "        if d2d_cz[i]<d2d_cz[i+1]:\n",
    "            mask[i+1]=False\n",
    "        if d2d_cz[i]==d2d_cz[i+1]:\n",
    "            mask[i+1]=False\n",
    "        print(mask[i])\n",
    "        print(mask[i+1])\n",
    "    if idxZURICH_c[i]==idxZURICH_c[i+2]:\n",
    "        three_obj_within_1_arcsec.append([d2d_cz[i].arcsecond,d2d_cz[i+1].arcsecond,d2d_zc[i+2].arcsecond])"
   ]
  },
  {
   "cell_type": "code",
   "execution_count": 15,
   "metadata": {
    "scrolled": false
   },
   "outputs": [],
   "source": [
    "separation_list=[]\n",
    "three_obj_within_1_arcsec=[]\n",
    "for i in range(0,len(idxCASSATA_t)-2):\n",
    "    if idxTASCA_c[i]==idxTASCA_c[i+1]:\n",
    "        separation_list.append([d2d_ct[i].arcsecond,d2d_ct[i+1].arcsecond])\n",
    "    if idxTASCA_c[i]==idxTASCA_c[i+2]:\n",
    "        three_obj_within_1_arcsec.append([d2d_ct[i].arcsecond,d2d_ct[i+1].arcsecond,d2d_zt[i+2].arcsecond])"
   ]
  },
  {
   "cell_type": "code",
   "execution_count": 16,
   "metadata": {},
   "outputs": [],
   "source": [
    "HALF_LIGHT_RADII.loc[idxCASSATA_t,'r_half_tasca']=np.array(TASCA_COSMOS_MORPH.r_half[idxTASCA_c])\n",
    "HALF_LIGHT_RADII.loc[idxCASSATA_t,'acs_mag_tasca']=np.array(TASCA_COSMOS_MORPH.acs_mag_auto[idxTASCA_c])\n",
    "HALF_LIGHT_RADII.loc[idxCASSATA_z,'r_half_zurich']=np.array(ZURICH_COSMOS_MORPH.r50[idxZURICH_c])\n",
    "HALF_LIGHT_RADII.loc[idxCASSATA_z,'acs_mag_zurich']=np.array(TASCA_COSMOS_MORPH.acs_mag_auto[idxZURICH_c])"
   ]
  },
  {
   "cell_type": "code",
   "execution_count": 17,
   "metadata": {},
   "outputs": [],
   "source": [
    "HALF_LIGHT_RADII['CASSATA_SB']=HALF_LIGHT_RADII.mag_auto_acs+0.753+2.5*np.log10(np.pi*(HALF_LIGHT_RADII.r_half_cassata*0.03)**2)"
   ]
  },
  {
   "cell_type": "code",
   "execution_count": 18,
   "metadata": {},
   "outputs": [
    {
     "name": "stderr",
     "output_type": "stream",
     "text": [
      "/home/lrhunt/programs/anaconda3/lib/python3.7/site-packages/ipykernel_launcher.py:1: RuntimeWarning: divide by zero encountered in log10\n",
      "  \"\"\"Entry point for launching an IPython kernel.\n"
     ]
    }
   ],
   "source": [
    "HALF_LIGHT_RADII['TASCA_SB']=HALF_LIGHT_RADII.acs_mag_tasca+0.753+2.5*np.log10(np.pi*(HALF_LIGHT_RADII.r_half_tasca*0.03)**2)"
   ]
  },
  {
   "cell_type": "code",
   "execution_count": 19,
   "metadata": {},
   "outputs": [],
   "source": [
    "HALF_LIGHT_RADII['ZURICH_SB']=HALF_LIGHT_RADII.acs_mag_zurich+0.753+2.5*np.log10(np.pi*(HALF_LIGHT_RADII.r_half_zurich*0.03)**2)"
   ]
  },
  {
   "cell_type": "code",
   "execution_count": 22,
   "metadata": {},
   "outputs": [],
   "source": [
    "idxRH,idxG10,d2dG10,d3dG10=G10_COORD.search_around_sky(RH_COORD,0.1*u.arcsecond)"
   ]
  },
  {
   "cell_type": "code",
   "execution_count": 23,
   "metadata": {},
   "outputs": [],
   "source": [
    "COSMOS_PHOT_LAMBDAR['r_half_cassata']=np.nan\n",
    "COSMOS_PHOT_LAMBDAR['r_half_tasca']=np.nan\n",
    "COSMOS_PHOT_LAMBDAR['r_half_zurich']=np.nan\n",
    "COSMOS_PHOT_LAMBDAR.loc[idxG10,['r_half_cassata','r_half_tasca','r_half_zurich']]=np.array(HALF_LIGHT_RADII.loc[idxRH,['r_half_cassata','r_half_tasca','r_half_zurich']])*0.03"
   ]
  },
  {
   "cell_type": "code",
   "execution_count": 24,
   "metadata": {
    "scrolled": true
   },
   "outputs": [],
   "source": [
    "COSMOS_FLUXES=COSMOS_PHOT_LAMBDAR.copy()"
   ]
  },
  {
   "cell_type": "markdown",
   "metadata": {},
   "source": [
    "*********************************************\n",
    "Calculating apparent magnitudes\n",
    "*********************************************"
   ]
  },
  {
   "cell_type": "code",
   "execution_count": 25,
   "metadata": {},
   "outputs": [
    {
     "name": "stdout",
     "output_type": "stream",
     "text": [
      "Calculating apparent magnitudes\n"
     ]
    }
   ],
   "source": [
    "print('Calculating apparent magnitudes')"
   ]
  },
  {
   "cell_type": "markdown",
   "metadata": {},
   "source": [
    "Determining what data is in each column"
   ]
  },
  {
   "cell_type": "code",
   "execution_count": 26,
   "metadata": {},
   "outputs": [],
   "source": [
    "column_headers=COSMOS_FLUXES.columns.values\n",
    "telescope_flux_headers=[s for s in column_headers if (('subaru' in s) or ('uvista' in s) or ('galex' in s) or ('cfht' in s) or ('irac' in s) or ('mips' in s) or ('pacs' in s) or ('spire' in s)) and ('err' not in s)]"
   ]
  },
  {
   "cell_type": "markdown",
   "metadata": {},
   "source": [
    "Calculating magnitudes (And creating column for maggies, see kcorrect.org for explanation)"
   ]
  },
  {
   "cell_type": "code",
   "execution_count": 27,
   "metadata": {},
   "outputs": [
    {
     "name": "stderr",
     "output_type": "stream",
     "text": [
      "/home/lrhunt/programs/anaconda3/lib/python3.7/site-packages/ipykernel_launcher.py:2: RuntimeWarning: divide by zero encountered in log10\n",
      "  \n",
      "/home/lrhunt/programs/anaconda3/lib/python3.7/site-packages/ipykernel_launcher.py:2: RuntimeWarning: invalid value encountered in log10\n",
      "  \n"
     ]
    }
   ],
   "source": [
    "for i in telescope_flux_headers:\n",
    "    COSMOS_FLUXES['mag_'+i]=-2.5*np.log10(COSMOS_FLUXES[i]/3631)\n",
    "    COSMOS_FLUXES['mag_'+i+'_err']=2.5/np.log(10)*COSMOS_FLUXES[i+'_err']/COSMOS_FLUXES[i]\n",
    "    COSMOS_FLUXES['maggies_'+i]=np.nan\n",
    "    COSMOS_FLUXES['invervar_'+i]=np.nan\n",
    "\n",
    "COSMOS_FLUXES.loc[COSMOS_FLUXES.isnull().mag_galex_fuv,'mag_galex_fuv_err']=np.nan\n",
    "COSMOS_FLUXES.loc[COSMOS_FLUXES.isnull().mag_galex_nuv,'mag_galex_nuv_err']=np.nan"
   ]
  },
  {
   "cell_type": "code",
   "execution_count": 28,
   "metadata": {},
   "outputs": [],
   "source": [
    "optimize_kcorr_filts=COSMOS_FLUXES[[filt for filt in COSMOS_FLUXES.columns.values if ('mag' in filt) & ('maggies' not in filt) & (('subaru' in filt) | ('irac' in filt) | ('cfht' in filt)) & ('ia' not in filt) & ('nb' not in filt) & ('err' not in filt)]]"
   ]
  },
  {
   "cell_type": "code",
   "execution_count": 38,
   "metadata": {},
   "outputs": [],
   "source": [
    "kcorr_filt_list,kcor_template_filter=make_kcorr_filt_template(optimize_kcorr_filts)"
   ]
  },
  {
   "cell_type": "code",
   "execution_count": 39,
   "metadata": {},
   "outputs": [
    {
     "data": {
      "text/plain": [
       "('mag_subaru_B',\n",
       " 'mag_subaru_V',\n",
       " 'mag_subaru_r',\n",
       " 'mag_subaru_i',\n",
       " 'mag_subaru_z')"
      ]
     },
     "execution_count": 39,
     "metadata": {},
     "output_type": "execute_result"
    }
   ],
   "source": [
    "kcorr_filt_list"
   ]
  },
  {
   "cell_type": "code",
   "execution_count": 50,
   "metadata": {},
   "outputs": [
    {
     "data": {
      "text/plain": [
       "'/home/lrhunt/programs/kcorrect/data/templates/temp_filt_list.dat'"
      ]
     },
     "execution_count": 50,
     "metadata": {},
     "output_type": "execute_result"
    }
   ],
   "source": [
    "kcor_template_filter"
   ]
  },
  {
   "cell_type": "markdown",
   "metadata": {},
   "source": [
    "*********************************************\n",
    "Getting k-correction\n",
    "*********************************************"
   ]
  },
  {
   "cell_type": "markdown",
   "metadata": {},
   "source": [
    "Making columns for kcorrect output values"
   ]
  },
  {
   "cell_type": "code",
   "execution_count": 40,
   "metadata": {},
   "outputs": [],
   "source": [
    "numbers=np.arange(1,7,1)\n",
    "for string in ['c'+str(number) for number in numbers]:\n",
    "    COSMOS_FLUXES[string]=np.nan"
   ]
  },
  {
   "cell_type": "markdown",
   "metadata": {},
   "source": [
    "Making list that contains filters used for k-correction, making columns for synthetic filters. "
   ]
  },
  {
   "cell_type": "markdown",
   "metadata": {},
   "source": [
    "Converting to maggies and invervar"
   ]
  },
  {
   "cell_type": "code",
   "execution_count": 41,
   "metadata": {},
   "outputs": [],
   "source": [
    "column_headers=COSMOS_FLUXES.columns.values"
   ]
  },
  {
   "cell_type": "code",
   "execution_count": 42,
   "metadata": {},
   "outputs": [
    {
     "name": "stdout",
     "output_type": "stream",
     "text": [
      "Converting to maggies\n"
     ]
    }
   ],
   "source": [
    "print('Converting to maggies')\n",
    "column_headers=COSMOS_FLUXES.columns.values\n",
    "for column in column_headers:\n",
    "    if 'maggies' in column:\n",
    "        COSMOS_FLUXES[column]=ut.mag2maggies(COSMOS_FLUXES['mag_'+column.split('maggies_')[1]])\n",
    "        COSMOS_FLUXES['invervar_'+column.split('maggies_')[1]]=ut.invariance(COSMOS_FLUXES[column],COSMOS_FLUXES['mag_'+column.split('maggies_')[1]+'_err'])"
   ]
  },
  {
   "cell_type": "markdown",
   "metadata": {},
   "source": [
    "Here we make a list of the filters we want to use for the k-correct code"
   ]
  },
  {
   "cell_type": "code",
   "execution_count": 43,
   "metadata": {},
   "outputs": [],
   "source": [
    "for f in kcorr_filt_list:\n",
    "    COSMOS_FLUXES['maggies_'+f.split('mag_')[1]+'_synthetic']=np.nan\n",
    "    COSMOS_FLUXES['maggies_'+f.split('mag_')[1]+'0_synthetic']=np.nan"
   ]
  },
  {
   "cell_type": "markdown",
   "metadata": {},
   "source": [
    "Loading Filters"
   ]
  },
  {
   "cell_type": "code",
   "execution_count": 44,
   "metadata": {},
   "outputs": [],
   "source": [
    "kcorrect.load_templates()\n",
    "kcorrect.load_filters(kcor_template_filter)"
   ]
  },
  {
   "cell_type": "markdown",
   "metadata": {},
   "source": [
    "Creating an index array so that we step through each source to calculate the coefficients needed for k-correct"
   ]
  },
  {
   "cell_type": "code",
   "execution_count": 45,
   "metadata": {},
   "outputs": [],
   "source": [
    "cmm_ind=COSMOS_FLUXES.index.values"
   ]
  },
  {
   "cell_type": "code",
   "execution_count": 46,
   "metadata": {},
   "outputs": [],
   "source": [
    "for i in cmm_ind:\n",
    "    COSMOS_FLUXES.loc[i,'c1':'c6']=kcorrect.fit_nonneg(np.array(COSMOS_FLUXES.loc[i,'Z_BEST'],dtype=float),np.array(COSMOS_FLUXES.loc[i,['maggies_'+col.split('mag_')[1] for col in kcorr_filt_list]],dtype=float),np.array(COSMOS_FLUXES.loc[i,['invervar_'+col.split('mag_')[1] for col in kcorr_filt_list]],dtype=float))"
   ]
  },
  {
   "cell_type": "markdown",
   "metadata": {},
   "source": [
    "Recalculating the \"maggies\" for each object based on the best guess of the SED"
   ]
  },
  {
   "cell_type": "code",
   "execution_count": 47,
   "metadata": {},
   "outputs": [
    {
     "ename": "error",
     "evalue": "file: /home/lrhunt/programs/kcorrect/data/templates/Lum_Func_Filters_US.dat not found",
     "output_type": "error",
     "traceback": [
      "\u001b[0;31m---------------------------------------------------------------------------\u001b[0m",
      "\u001b[0;31merror\u001b[0m                                     Traceback (most recent call last)",
      "\u001b[0;32m<ipython-input-47-4005e051b529>\u001b[0m in \u001b[0;36m<module>\u001b[0;34m\u001b[0m\n\u001b[1;32m      1\u001b[0m \u001b[0mkcorrect\u001b[0m\u001b[0;34m.\u001b[0m\u001b[0mload_templates\u001b[0m\u001b[0;34m(\u001b[0m\u001b[0;34m)\u001b[0m\u001b[0;34m\u001b[0m\u001b[0;34m\u001b[0m\u001b[0m\n\u001b[0;32m----> 2\u001b[0;31m \u001b[0mkcorrect\u001b[0m\u001b[0;34m.\u001b[0m\u001b[0mload_filters\u001b[0m\u001b[0;34m(\u001b[0m\u001b[0mkcordir\u001b[0m\u001b[0;34m+\u001b[0m\u001b[0;34m'/data/templates/Lum_Func_Filters_US.dat'\u001b[0m\u001b[0;34m)\u001b[0m\u001b[0;34m\u001b[0m\u001b[0;34m\u001b[0m\u001b[0m\n\u001b[0m",
      "\u001b[0;32m~/programs/anaconda3/lib/python3.7/site-packages/kcorrect/__init__.py\u001b[0m in \u001b[0;36mload_filters\u001b[0;34m(f, band_shift, filters_dir)\u001b[0m\n\u001b[1;32m     25\u001b[0m     \u001b[0mffile\u001b[0m \u001b[0;34m=\u001b[0m \u001b[0mos\u001b[0m\u001b[0;34m.\u001b[0m\u001b[0mpath\u001b[0m\u001b[0;34m.\u001b[0m\u001b[0mjoin\u001b[0m\u001b[0;34m(\u001b[0m\u001b[0mos\u001b[0m\u001b[0;34m.\u001b[0m\u001b[0menviron\u001b[0m\u001b[0;34m[\u001b[0m\u001b[0;34m'KCORRECT_DIR'\u001b[0m\u001b[0;34m]\u001b[0m\u001b[0;34m,\u001b[0m \u001b[0mfilters_dir\u001b[0m\u001b[0;34m,\u001b[0m \u001b[0mf\u001b[0m\u001b[0;34m)\u001b[0m\u001b[0;34m\u001b[0m\u001b[0;34m\u001b[0m\u001b[0m\n\u001b[1;32m     26\u001b[0m     \u001b[0;32mif\u001b[0m \u001b[0;32mnot\u001b[0m \u001b[0mos\u001b[0m\u001b[0;34m.\u001b[0m\u001b[0mpath\u001b[0m\u001b[0;34m.\u001b[0m\u001b[0misfile\u001b[0m\u001b[0;34m(\u001b[0m\u001b[0mffile\u001b[0m\u001b[0;34m)\u001b[0m\u001b[0;34m:\u001b[0m\u001b[0;34m\u001b[0m\u001b[0;34m\u001b[0m\u001b[0m\n\u001b[0;32m---> 27\u001b[0;31m         \u001b[0;32mraise\u001b[0m \u001b[0m_kcorrect\u001b[0m\u001b[0;34m.\u001b[0m\u001b[0merror\u001b[0m\u001b[0;34m(\u001b[0m\u001b[0;34m'file: %s not found'\u001b[0m\u001b[0;34m%\u001b[0m\u001b[0mffile\u001b[0m\u001b[0;34m)\u001b[0m\u001b[0;34m\u001b[0m\u001b[0;34m\u001b[0m\u001b[0m\n\u001b[0m\u001b[1;32m     28\u001b[0m     \u001b[0m_kcorrect\u001b[0m\u001b[0;34m.\u001b[0m\u001b[0mload_filters\u001b[0m\u001b[0;34m(\u001b[0m\u001b[0mffile\u001b[0m\u001b[0;34m,\u001b[0m \u001b[0mband_shift\u001b[0m\u001b[0;34m)\u001b[0m\u001b[0;34m\u001b[0m\u001b[0;34m\u001b[0m\u001b[0m\n\u001b[1;32m     29\u001b[0m \u001b[0;34m\u001b[0m\u001b[0m\n",
      "\u001b[0;31merror\u001b[0m: file: /home/lrhunt/programs/kcorrect/data/templates/Lum_Func_Filters_US.dat not found"
     ]
    }
   ],
   "source": [
    "kcorrect.load_templates()\n",
    "kcorrect.load_filters(kcor_template_filter)"
   ]
  },
  {
   "cell_type": "code",
   "execution_count": null,
   "metadata": {},
   "outputs": [],
   "source": [
    "for i in cmm_ind:\n",
    "    COSMOS_FLUXES.loc[i,['maggies_'+f.split('mag_')[1]+'_synthetic' for f in kcorr_filt_list]]=kcorrect.reconstruct_maggies(COSMOS_FLUXES.loc[i,'c1':'c6'])[1:]\n",
    "    COSMOS_FLUXES.loc[i,['maggies_'+f.split('mag_')[1]+'0_synthetic' for f in kcorr_filt_list]]=kcorrect.reconstruct_maggies(COSMOS_FLUXES.loc[i,'c1':'c6'],redshift=0)[1:]"
   ]
  },
  {
   "cell_type": "markdown",
   "metadata": {},
   "source": [
    "Converting the synthetic maggies to apparent magnitude"
   ]
  },
  {
   "cell_type": "code",
   "execution_count": null,
   "metadata": {},
   "outputs": [],
   "source": [
    "COSMOS_FLUXES[[f+'_synthetic' for f in kcorr_filt_list]]=-2.5*np.log10(COSMOS_FLUXES[['maggies_'+f.split('mag_')[1]+'_synthetic' for f in kcorr_filt_list]])\n",
    "COSMOS_FLUXES[[f+'0_synthetic' for f in kcorr_filt_list]]=-2.5*np.log10(COSMOS_FLUXES[['maggies_'+f.split('mag_')[1]+'0_synthetic' for f in kcorr_filt_list]])"
   ]
  },
  {
   "cell_type": "markdown",
   "metadata": {},
   "source": [
    "Calculating Johnson U/B/V from the SED"
   ]
  },
  {
   "cell_type": "code",
   "execution_count": null,
   "metadata": {},
   "outputs": [],
   "source": [
    "COSMOS_FLUXES['U0_synthetic']=np.nan\n",
    "COSMOS_FLUXES['B0_synthetic']=np.nan\n",
    "COSMOS_FLUXES['V0_synthetic']=np.nan"
   ]
  },
  {
   "cell_type": "code",
   "execution_count": null,
   "metadata": {},
   "outputs": [],
   "source": [
    "kcorrect.load_templates()\n",
    "kcorrect.load_filters(kcordir+'/data/templates/bessell_ubv.dat')"
   ]
  },
  {
   "cell_type": "code",
   "execution_count": null,
   "metadata": {},
   "outputs": [],
   "source": [
    "for i in cmm_ind:\n",
    "    COSMOS_FLUXES.loc[i,['U0_synthetic','B0_synthetic','V0_synthetic']]=kcorrect.reconstruct_maggies(COSMOS_FLUXES.loc[i,'c1':'c6'],redshift=0)[1:]"
   ]
  },
  {
   "cell_type": "markdown",
   "metadata": {},
   "source": [
    "Converting to magnitudes and then adding offsets to go from AB magnitudes to Vega magnitudes"
   ]
  },
  {
   "cell_type": "code",
   "execution_count": null,
   "metadata": {
    "scrolled": true
   },
   "outputs": [],
   "source": [
    "COSMOS_FLUXES[['U0_synthetic_mag','B0_synthetic_mag','V0_synthetic_mag']]=-2.5*np.log10(COSMOS_FLUXES[['U0_synthetic','B0_synthetic','V0_synthetic']])\n",
    "COSMOS_FLUXES['U0_synthetic_mag']=COSMOS_FLUXES['U0_synthetic_mag']-0.79\n",
    "COSMOS_FLUXES['B0_synthetic_mag']=COSMOS_FLUXES['B0_synthetic_mag']+0.09\n",
    "COSMOS_FLUXES['V0_synthetic_mag']=COSMOS_FLUXES['V0_synthetic_mag']-0.02"
   ]
  },
  {
   "cell_type": "markdown",
   "metadata": {},
   "source": [
    "Actually calculating k-correction from Subaru filters to Bessell Filters"
   ]
  },
  {
   "cell_type": "code",
   "execution_count": null,
   "metadata": {},
   "outputs": [],
   "source": [
    "COSMOS_FLUXES[[f+'_kcorr_B' for f in kcorr_filts]]=-2.5*np.log10(COSMOS_FLUXES[[f+'_synthetic' for f in kcorr_filts]]/np.stack((COSMOS_FLUXES['B0_synthetic'],COSMOS_FLUXES['B0_synthetic'],COSMOS_FLUXES['B0_synthetic'],COSMOS_FLUXES['B0_synthetic'],COSMOS_FLUXES['B0_synthetic'],COSMOS_FLUXES['B0_synthetic']),axis=-1))"
   ]
  },
  {
   "cell_type": "markdown",
   "metadata": {},
   "source": [
    "Calculating B-V color"
   ]
  },
  {
   "cell_type": "code",
   "execution_count": null,
   "metadata": {},
   "outputs": [],
   "source": [
    "COSMOS_FLUXES['rest_frame_B-V']=COSMOS_FLUXES['B0_synthetic_mag']-COSMOS_FLUXES['V0_synthetic_mag']"
   ]
  },
  {
   "cell_type": "markdown",
   "metadata": {},
   "source": [
    "Calculating Absolute Magnitude using k-correction (Different cells below cover different redshift ranges)"
   ]
  },
  {
   "cell_type": "code",
   "execution_count": null,
   "metadata": {
    "scrolled": true
   },
   "outputs": [],
   "source": [
    "COSMOS_FLUXES['Abs_B_Mag']=np.nan"
   ]
  },
  {
   "cell_type": "code",
   "execution_count": 32,
   "metadata": {},
   "outputs": [
    {
     "name": "stderr",
     "output_type": "stream",
     "text": [
      "/Users/lucashunt/programs/anaconda3/anaconda3/lib/python3.6/site-packages/scipy/integrate/quadpack.py:364: IntegrationWarning: The occurrence of roundoff error is detected, which prevents \n",
      "  the requested tolerance from being achieved.  The error may be \n",
      "  underestimated.\n",
      "  warnings.warn(msg, IntegrationWarning)\n",
      "/Users/lucashunt/programs/anaconda3/anaconda3/lib/python3.6/site-packages/numpy/lib/function_base.py:2815: RuntimeWarning: invalid value encountered in ? (vectorized)\n",
      "  outputs = ufunc(*inputs)\n",
      "/Users/lucashunt/programs/anaconda3/anaconda3/lib/python3.6/site-packages/astropy/cosmology/core.py:1363: RuntimeWarning: divide by zero encountered in log10\n",
      "  val = 5. * np.log10(abs(self.luminosity_distance(z).value)) + 25.0\n"
     ]
    }
   ],
   "source": [
    "COSMOS_FLUXES.loc[COSMOS_FLUXES.Z_BEST<0.1,'Abs_B_Mag']=COSMOS_FLUXES.loc[COSMOS_FLUXES.Z_BEST<0.1,'mag_subaru_B']-0.05122-cosmo.distmod(COSMOS_FLUXES.loc[COSMOS_FLUXES.Z_BEST<0.1,'Z_BEST']).value-COSMOS_FLUXES.loc[COSMOS_FLUXES.Z_BEST<0.1,'subaru_B_kcorr_B']+0.09"
   ]
  },
  {
   "cell_type": "code",
   "execution_count": 33,
   "metadata": {},
   "outputs": [],
   "source": [
    "COSMOS_FLUXES.loc[(COSMOS_FLUXES.Z_BEST>0.1)&(COSMOS_FLUXES.Z_BEST<0.35),'Abs_B_Mag']=COSMOS_FLUXES.loc[(COSMOS_FLUXES.Z_BEST>0.1)&(COSMOS_FLUXES.Z_BEST<0.35),'mag_subaru_V']-0.069802-cosmo.distmod(COSMOS_FLUXES.loc[(COSMOS_FLUXES.Z_BEST>0.1)&(COSMOS_FLUXES.Z_BEST<0.35),'Z_BEST']).value-COSMOS_FLUXES.loc[(COSMOS_FLUXES.Z_BEST>0.1)&(COSMOS_FLUXES.Z_BEST<0.35),'subaru_V_kcorr_B']+0.09"
   ]
  },
  {
   "cell_type": "code",
   "execution_count": 34,
   "metadata": {},
   "outputs": [],
   "source": [
    "COSMOS_FLUXES.loc[(COSMOS_FLUXES.Z_BEST>0.35)&(COSMOS_FLUXES.Z_BEST<0.55),'Abs_B_Mag']=COSMOS_FLUXES.loc[(COSMOS_FLUXES.Z_BEST>0.35)&(COSMOS_FLUXES.Z_BEST<0.55),'mag_subaru_r']-0.01267-cosmo.distmod(COSMOS_FLUXES.loc[(COSMOS_FLUXES.Z_BEST>0.35)&(COSMOS_FLUXES.Z_BEST<0.55),'Z_BEST']).value-COSMOS_FLUXES.loc[(COSMOS_FLUXES.Z_BEST>0.35)&(COSMOS_FLUXES.Z_BEST<0.55),'subaru_r_kcorr_B']+0.09"
   ]
  },
  {
   "cell_type": "code",
   "execution_count": 35,
   "metadata": {},
   "outputs": [],
   "source": [
    "COSMOS_FLUXES.loc[(COSMOS_FLUXES.Z_BEST>0.55)&(COSMOS_FLUXES.Z_BEST<0.75),'Abs_B_Mag']=COSMOS_FLUXES.loc[(COSMOS_FLUXES.Z_BEST>0.55)&(COSMOS_FLUXES.Z_BEST<0.75),'mag_subaru_i']-0.004512-cosmo.distmod(COSMOS_FLUXES.loc[(COSMOS_FLUXES.Z_BEST>0.55)&(COSMOS_FLUXES.Z_BEST<0.75),'Z_BEST']).value-COSMOS_FLUXES.loc[(COSMOS_FLUXES.Z_BEST>0.55)&(COSMOS_FLUXES.Z_BEST<0.75),'subaru_i_kcorr_B']+0.09"
   ]
  },
  {
   "cell_type": "code",
   "execution_count": 36,
   "metadata": {},
   "outputs": [],
   "source": [
    "COSMOS_FLUXES.loc[COSMOS_FLUXES.Z_BEST>0.75,'Abs_B_Mag']=COSMOS_FLUXES.loc[COSMOS_FLUXES.Z_BEST>0.75,'mag_subaru_z']-0.00177-cosmo.distmod(COSMOS_FLUXES.loc[COSMOS_FLUXES.Z_BEST>0.75,'Z_BEST']).value-COSMOS_FLUXES.loc[COSMOS_FLUXES.Z_BEST>0.75,'subaru_z_kcorr_B']+0.09"
   ]
  },
  {
   "cell_type": "markdown",
   "metadata": {},
   "source": [
    "Calculate absolute magnitude from the \"Synthetic\" apparent magnitude"
   ]
  },
  {
   "cell_type": "code",
   "execution_count": 37,
   "metadata": {
    "scrolled": true
   },
   "outputs": [],
   "source": [
    "COSMOS_FLUXES['Abs_B_Mag_synthetic']=COSMOS_FLUXES['B0_synthetic_mag']-cosmo.distmod(COSMOS_FLUXES.Z_BEST.values).value"
   ]
  },
  {
   "cell_type": "markdown",
   "metadata": {},
   "source": [
    "Diagnostic plotting"
   ]
  },
  {
   "cell_type": "code",
   "execution_count": 48,
   "metadata": {},
   "outputs": [
    {
     "name": "stdout",
     "output_type": "stream",
     "text": [
      "12255\n"
     ]
    },
    {
     "data": {
      "text/plain": [
       "<matplotlib.collections.LineCollection at 0x11e9366a0>"
      ]
     },
     "execution_count": 48,
     "metadata": {},
     "output_type": "execute_result"
    },
    {
     "data": {
      "image/png": "[encoded data removed]",
      "text/plain": [
       "<matplotlib.figure.Figure at 0x11e7acf98>"
      ]
     },
     "metadata": {
      "needs_background": "light"
     },
     "output_type": "display_data"
    }
   ],
   "source": [
    "plt.plot(COSMOS_FLUXES.loc[COSMOS_FLUXES.Z_BEST<1.0,'Abs_B_Mag'],COSMOS_FLUXES.loc[COSMOS_FLUXES.Z_BEST<1.0,'Abs_B_Mag']-COSMOS_FLUXES.loc[COSMOS_FLUXES.Z_BEST<1.0,'Abs_B_Mag_synthetic'],'.')\n",
    "plt.plot(COSMOS_FLUXES.loc[(COSMOS_FLUXES.Z_BEST<1.0)&(COSMOS_FLUXES.Z_USE<2)&(COSMOS_FLUXES.SG_MASTER==0),'Abs_B_Mag'],COSMOS_FLUXES.loc[(COSMOS_FLUXES.Z_BEST<1.0)&(COSMOS_FLUXES.Z_USE<2)&(COSMOS_FLUXES.SG_MASTER==0),'Abs_B_Mag']-COSMOS_FLUXES.loc[(COSMOS_FLUXES.Z_BEST<1.0)&(COSMOS_FLUXES.Z_USE<2)&(COSMOS_FLUXES.SG_MASTER==0),'Abs_B_Mag_synthetic'],'.')\n",
    "plt.xlabel('Absolute Magnitude')\n",
    "plt.ylabel('Abs Mag-Synthetic Mag')\n",
    "print(len(COSMOS_FLUXES.loc[(COSMOS_FLUXES.Z_BEST>0.01)&(COSMOS_FLUXES.Z_BEST<1.0)&(COSMOS_FLUXES.Z_USE<2)&(COSMOS_FLUXES.SG_MASTER==0),'Abs_B_Mag']))\n",
    "plt.hlines(0.5,-30,200)\n",
    "plt.hlines(-0.5,-30,200)\n",
    "plt.savefig('Absmag-synthmagVSabsmag.ps')"
   ]
  },
  {
   "cell_type": "code",
   "execution_count": null,
   "metadata": {},
   "outputs": [],
   "source": [
    "plt.plot(COSMOS_FLUXES.loc[COSMOS_FLUXES.Z_BEST<1.0,'Abs_B_Mag'],COSMOS_FLUXES.loc[COSMOS_FLUXES.Z_BEST<1.0,'Abs_B_Mag']-COSMOS_FLUXES.loc[COSMOS_FLUXES.Z_BEST<1.0,'Abs_B_Mag_synthetic'],'.')\n",
    "plt.plot(COSMOS_FLUXES.loc[(COSMOS_FLUXES.Z_BEST<1.0)&(COSMOS_FLUXES.Z_USE<2)&(COSMOS_FLUXES.SG_MASTER==0),'Abs_B_Mag'],COSMOS_FLUXES.loc[(COSMOS_FLUXES.Z_BEST<1.0)&(COSMOS_FLUXES.Z_USE<2)&(COSMOS_FLUXES.SG_MASTER==0),'Abs_B_Mag']-COSMOS_FLUXES.loc[(COSMOS_FLUXES.Z_BEST<1.0)&(COSMOS_FLUXES.Z_USE<2)&(COSMOS_FLUXES.SG_MASTER==0),'Abs_B_Mag_synthetic'],'.')\n",
    "plt.xlabel('Absolute Magnitude')\n",
    "plt.ylabel('Abs Mag-Synthetic Mag')\n",
    "print(len(COSMOS_FLUXES.loc[(COSMOS_FLUXES.Z_BEST>0.01)&(COSMOS_FLUXES.Z_BEST<1.0)&(COSMOS_FLUXES.Z_USE<2)&(COSMOS_FLUXES.SG_MASTER==0),'Abs_B_Mag']))\n",
    "plt.hlines(0.5,-30,200)\n",
    "plt.hlines(-0.5,-30,200)\n",
    "plt.xlim(-30,-15)\n",
    "plt.savefig('Absmag-synthmagVSabsmag_zoom.ps')"
   ]
  },
  {
   "cell_type": "code",
   "execution_count": null,
   "metadata": {},
   "outputs": [],
   "source": [
    "for f in kcorr_filt_list:\n",
    "    plt.plot(COSMOS_FLUXES.loc[(COSMOS_FLUXES.Z_BEST<1.0)&(COSMOS_FLUXES.Z_USE<3)&(COSMOS_FLUXES.SG_MASTER==0),f],COSMOS_FLUXES.loc[(COSMOS_FLUXES.Z_BEST<1.0)&(COSMOS_FLUXES.Z_USE<3)&(COSMOS_FLUXES.SG_MASTER==0),f]-COSMOS_FLUXES.loc[(COSMOS_FLUXES.Z_BEST<1.0)&(COSMOS_FLUXES.Z_USE<3)&(COSMOS_FLUXES.SG_MASTER==0),f+'_synthetic'],'.')\n",
    "    plt.xlabel('Apparent Magnitude')\n",
    "    plt.ylabel('Apparent Magnitude-Synthetic Apparent Magniture')\n",
    "    plt.title(f)\n",
    "    plt.savefig(f+'synth_vs_meas.ps')\n"
   ]
  },
  {
   "cell_type": "code",
   "execution_count": 41,
   "metadata": {},
   "outputs": [
    {
     "data": {
      "text/plain": [
       "[<matplotlib.lines.Line2D at 0x1263240b8>]"
      ]
     },
     "execution_count": 41,
     "metadata": {},
     "output_type": "execute_result"
    },
    {
     "data": {
      "image/png": "[encoded data removed]",
      "text/plain": [
       "<matplotlib.figure.Figure at 0x11d1337b8>"
      ]
     },
     "metadata": {
      "needs_background": "light"
     },
     "output_type": "display_data"
    }
   ],
   "source": [
    "plt.plot(COSMOS_FLUXES.loc[(COSMOS_FLUXES.Z_BEST<1.0)&(COSMOS_FLUXES.Z_USE<3)&(COSMOS_FLUXES.SG_MASTER==0),'Z_BEST'],COSMOS_FLUXES.loc[(COSMOS_FLUXES.Z_BEST<1.0)&(COSMOS_FLUXES.Z_USE<3)&(COSMOS_FLUXES.SG_MASTER==0),'Abs_B_Mag'],',')"
   ]
  },
  {
   "cell_type": "markdown",
   "metadata": {},
   "source": [
    "Calculate surface brightness"
   ]
  },
  {
   "cell_type": "markdown",
   "metadata": {},
   "source": [
    "Calculate effective radius and surface brightness determine whether each source is an LCBG"
   ]
  },
  {
   "cell_type": "code",
   "execution_count": 59,
   "metadata": {},
   "outputs": [
    {
     "name": "stderr",
     "output_type": "stream",
     "text": [
      "/home/lrhunt/programs/anaconda3/lib/python3.7/site-packages/ipykernel_launcher.py:2: RuntimeWarning: invalid value encountered in power\n",
      "  \n"
     ]
    },
    {
     "ename": "AttributeError",
     "evalue": "'DataFrame' object has no attribute 'Abs_B_Mag'",
     "output_type": "error",
     "traceback": [
      "\u001b[0;31m---------------------------------------------------------------------------\u001b[0m",
      "\u001b[0;31mAttributeError\u001b[0m                            Traceback (most recent call last)",
      "\u001b[0;32m<ipython-input-59-114fc4369d05>\u001b[0m in \u001b[0;36m<module>\u001b[0;34m\u001b[0m\n\u001b[1;32m      1\u001b[0m \u001b[0;32mfor\u001b[0m \u001b[0mr_col\u001b[0m \u001b[0;32min\u001b[0m \u001b[0;34m[\u001b[0m\u001b[0;34m'r_half_cassata'\u001b[0m\u001b[0;34m,\u001b[0m\u001b[0;34m'r_half_tasca'\u001b[0m\u001b[0;34m,\u001b[0m\u001b[0;34m'r_half_zurich'\u001b[0m\u001b[0;34m]\u001b[0m\u001b[0;34m:\u001b[0m\u001b[0;34m\u001b[0m\u001b[0;34m\u001b[0m\u001b[0m\n\u001b[1;32m      2\u001b[0m     \u001b[0mCOSMOS_FLUXES\u001b[0m\u001b[0;34m[\u001b[0m\u001b[0mr_col\u001b[0m\u001b[0;34m+\u001b[0m\u001b[0;34m'_B'\u001b[0m\u001b[0;34m]\u001b[0m\u001b[0;34m=\u001b[0m\u001b[0mCOSMOS_FLUXES\u001b[0m\u001b[0;34m[\u001b[0m\u001b[0mr_col\u001b[0m\u001b[0;34m]\u001b[0m\u001b[0;34m*\u001b[0m\u001b[0;34m(\u001b[0m\u001b[0;36m814\u001b[0m\u001b[0;34m/\u001b[0m\u001b[0;34m(\u001b[0m\u001b[0;36m445\u001b[0m\u001b[0;34m*\u001b[0m\u001b[0;34m(\u001b[0m\u001b[0;36m1\u001b[0m\u001b[0;34m+\u001b[0m\u001b[0mCOSMOS_FLUXES\u001b[0m\u001b[0;34m.\u001b[0m\u001b[0mZ_BEST\u001b[0m\u001b[0;34m.\u001b[0m\u001b[0mvalues\u001b[0m\u001b[0;34m)\u001b[0m\u001b[0;34m)\u001b[0m\u001b[0;34m)\u001b[0m\u001b[0;34m**\u001b[0m\u001b[0;36m0.108\u001b[0m\u001b[0;34m\u001b[0m\u001b[0;34m\u001b[0m\u001b[0m\n\u001b[0;32m----> 3\u001b[0;31m     \u001b[0mCOSMOS_FLUXES\u001b[0m\u001b[0;34m[\u001b[0m\u001b[0mr_col\u001b[0m\u001b[0;34m.\u001b[0m\u001b[0msplit\u001b[0m\u001b[0;34m(\u001b[0m\u001b[0;34m'_'\u001b[0m\u001b[0;34m)\u001b[0m\u001b[0;34m[\u001b[0m\u001b[0;34m-\u001b[0m\u001b[0;36m1\u001b[0m\u001b[0;34m]\u001b[0m\u001b[0;34m+\u001b[0m\u001b[0;34m'_Surface_Brightness_B'\u001b[0m\u001b[0;34m]\u001b[0m\u001b[0;34m=\u001b[0m\u001b[0mCOSMOS_FLUXES\u001b[0m\u001b[0;34m.\u001b[0m\u001b[0mAbs_B_Mag\u001b[0m\u001b[0;34m+\u001b[0m\u001b[0;36m2.5\u001b[0m\u001b[0;34m*\u001b[0m\u001b[0mnp\u001b[0m\u001b[0;34m.\u001b[0m\u001b[0mlog10\u001b[0m\u001b[0;34m(\u001b[0m\u001b[0;34m(\u001b[0m\u001b[0;36m2\u001b[0m\u001b[0;34m*\u001b[0m\u001b[0mnp\u001b[0m\u001b[0;34m.\u001b[0m\u001b[0mpi\u001b[0m\u001b[0;34m*\u001b[0m\u001b[0mnp\u001b[0m\u001b[0;34m.\u001b[0m\u001b[0mpower\u001b[0m\u001b[0;34m(\u001b[0m\u001b[0mcosmo\u001b[0m\u001b[0;34m.\u001b[0m\u001b[0mangular_diameter_distance\u001b[0m\u001b[0;34m(\u001b[0m\u001b[0mCOSMOS_FLUXES\u001b[0m\u001b[0;34m.\u001b[0m\u001b[0mZ_BEST\u001b[0m\u001b[0;34m.\u001b[0m\u001b[0mvalues\u001b[0m\u001b[0;34m)\u001b[0m\u001b[0;34m.\u001b[0m\u001b[0mvalue\u001b[0m\u001b[0;34m*\u001b[0m\u001b[0mnp\u001b[0m\u001b[0;34m.\u001b[0m\u001b[0mtan\u001b[0m\u001b[0;34m(\u001b[0m\u001b[0mCOSMOS_FLUXES\u001b[0m\u001b[0;34m[\u001b[0m\u001b[0mr_col\u001b[0m\u001b[0;34m+\u001b[0m\u001b[0;34m'_B'\u001b[0m\u001b[0;34m]\u001b[0m\u001b[0;34m.\u001b[0m\u001b[0mvalues\u001b[0m\u001b[0;34m*\u001b[0m\u001b[0;36m4.84814e-6\u001b[0m\u001b[0;34m)\u001b[0m\u001b[0;34m,\u001b[0m\u001b[0;36m2\u001b[0m\u001b[0;34m)\u001b[0m\u001b[0;34m)\u001b[0m\u001b[0;34m)\u001b[0m\u001b[0;34m+\u001b[0m\u001b[0;36m2.5\u001b[0m\u001b[0;34m*\u001b[0m\u001b[0mnp\u001b[0m\u001b[0;34m.\u001b[0m\u001b[0mlog10\u001b[0m\u001b[0;34m(\u001b[0m\u001b[0;34m(\u001b[0m\u001b[0;36m360\u001b[0m\u001b[0;34m*\u001b[0m\u001b[0;36m60\u001b[0m\u001b[0;34m*\u001b[0m\u001b[0;36m60\u001b[0m\u001b[0;34m/\u001b[0m\u001b[0;34m(\u001b[0m\u001b[0;36m2\u001b[0m\u001b[0;34m*\u001b[0m\u001b[0mnp\u001b[0m\u001b[0;34m.\u001b[0m\u001b[0mpi\u001b[0m\u001b[0;34m*\u001b[0m\u001b[0;36m0.01\u001b[0m\u001b[0;34m)\u001b[0m\u001b[0;34m)\u001b[0m\u001b[0;34m**\u001b[0m\u001b[0;36m2\u001b[0m\u001b[0;34m)\u001b[0m\u001b[0;34m\u001b[0m\u001b[0;34m\u001b[0m\u001b[0m\n\u001b[0m\u001b[1;32m      4\u001b[0m \u001b[0;31m#COSMOS_FLUXES['R_eff_arcsec_F814W']=COSMOS_FLUXES.loc[:,'Rh']*0.03\u001b[0m\u001b[0;34m\u001b[0m\u001b[0;34m\u001b[0m\u001b[0;34m\u001b[0m\u001b[0m\n\u001b[1;32m      5\u001b[0m \u001b[0;31m#COSMOS_FLUXES['R_eff_arcsec_B']=COSMOS_FLUXES.loc[:,'Rh']*0.03*(814/(445*(1+COSMOS_FLUXES.Z_BEST.values)))**0.108\u001b[0m\u001b[0;34m\u001b[0m\u001b[0;34m\u001b[0m\u001b[0;34m\u001b[0m\u001b[0m\n",
      "\u001b[0;32m~/programs/anaconda3/lib/python3.7/site-packages/pandas/core/generic.py\u001b[0m in \u001b[0;36m__getattr__\u001b[0;34m(self, name)\u001b[0m\n\u001b[1;32m   4374\u001b[0m             \u001b[0;32mif\u001b[0m \u001b[0mself\u001b[0m\u001b[0;34m.\u001b[0m\u001b[0m_info_axis\u001b[0m\u001b[0;34m.\u001b[0m\u001b[0m_can_hold_identifiers_and_holds_name\u001b[0m\u001b[0;34m(\u001b[0m\u001b[0mname\u001b[0m\u001b[0;34m)\u001b[0m\u001b[0;34m:\u001b[0m\u001b[0;34m\u001b[0m\u001b[0;34m\u001b[0m\u001b[0m\n\u001b[1;32m   4375\u001b[0m                 \u001b[0;32mreturn\u001b[0m \u001b[0mself\u001b[0m\u001b[0;34m[\u001b[0m\u001b[0mname\u001b[0m\u001b[0;34m]\u001b[0m\u001b[0;34m\u001b[0m\u001b[0;34m\u001b[0m\u001b[0m\n\u001b[0;32m-> 4376\u001b[0;31m             \u001b[0;32mreturn\u001b[0m \u001b[0mobject\u001b[0m\u001b[0;34m.\u001b[0m\u001b[0m__getattribute__\u001b[0m\u001b[0;34m(\u001b[0m\u001b[0mself\u001b[0m\u001b[0;34m,\u001b[0m \u001b[0mname\u001b[0m\u001b[0;34m)\u001b[0m\u001b[0;34m\u001b[0m\u001b[0;34m\u001b[0m\u001b[0m\n\u001b[0m\u001b[1;32m   4377\u001b[0m \u001b[0;34m\u001b[0m\u001b[0m\n\u001b[1;32m   4378\u001b[0m     \u001b[0;32mdef\u001b[0m \u001b[0m__setattr__\u001b[0m\u001b[0;34m(\u001b[0m\u001b[0mself\u001b[0m\u001b[0;34m,\u001b[0m \u001b[0mname\u001b[0m\u001b[0;34m,\u001b[0m \u001b[0mvalue\u001b[0m\u001b[0;34m)\u001b[0m\u001b[0;34m:\u001b[0m\u001b[0;34m\u001b[0m\u001b[0;34m\u001b[0m\u001b[0m\n",
      "\u001b[0;31mAttributeError\u001b[0m: 'DataFrame' object has no attribute 'Abs_B_Mag'"
     ]
    }
   ],
   "source": [
    "for r_col in ['r_half_cassata','r_half_tasca','r_half_zurich']:\n",
    "    COSMOS_FLUXES[r_col+'_B']=COSMOS_FLUXES[r_col]*(814/(445*(1+COSMOS_FLUXES.Z_BEST.values)))**0.108\n",
    "    COSMOS_FLUXES[r_col.split('_')[-1]+'_Surface_Brightness_B']=COSMOS_FLUXES.Abs_B_Mag+2.5*np.log10((2*np.pi*np.power(cosmo.angular_diameter_distance(COSMOS_FLUXES.Z_BEST.values).value*np.tan(COSMOS_FLUXES[r_col+'_B'].values*4.84814e-6),2)))+2.5*np.log10((360*60*60/(2*np.pi*0.01))**2)\n",
    "    COSMOS_FLUXES[r_col.split('_')[-1]+'_is_LCBG']=0\n",
    "    COSMOS_FLUXES.loc[(COSMOS_FLUXES['Abs_B_Mag'].values<-18.5)&(COSMOS_FLUXES[r_col.split('_')[-1]+'Surface_Brightness_B'].values<21)&(COSMOS_FLUXES['rest_frame_B-V'].values<0.6),r_col.split('_')[-1]+'is_LCBG']=1\n",
    "    #COSMOS_FLUXES['R_eff_arcsec_F814W']=COSMOS_FLUXES.loc[:,'Rh']*0.03\n",
    "#COSMOS_FLUXES['R_eff_arcsec_B']=COSMOS_FLUXES.loc[:,'Rh']*0.03*(814/(445*(1+COSMOS_FLUXES.Z_BEST.values)))**0.108\n",
    "#COSMOS_FLUXES['is_LCBG']=0\n",
    "#COSMOS_FLUXES.loc[(COSMOS_FLUXES.Abs_B_Mag.values<-18.5)&(COSMOS_FLUXES.Surface_Brightness_B.values<21)&(COSMOS_FLUXES['rest_frame_B-V'].values<0.6),'is_LCBG']=1"
   ]
  },
  {
   "cell_type": "code",
   "execution_count": 61,
   "metadata": {},
   "outputs": [
    {
     "ename": "FileNotFoundError",
     "evalue": "[Errno 2] No such file or directory: '/Users/lucashunt/ASTRODATA/LCBG_LUMINOSITY_FUNCTION/COSMOS_CATALOGS/Photometry/COSMOS_CONVERTED_CATALOG_OTHER_RADII.csv'",
     "output_type": "error",
     "traceback": [
      "\u001b[0;31m---------------------------------------------------------------------------\u001b[0m",
      "\u001b[0;31mFileNotFoundError\u001b[0m                         Traceback (most recent call last)",
      "\u001b[0;32m<ipython-input-61-62d45190c4fb>\u001b[0m in \u001b[0;36m<module>\u001b[0;34m\u001b[0m\n\u001b[0;32m----> 1\u001b[0;31m \u001b[0mCOSMOS_FLUXES\u001b[0m\u001b[0;34m.\u001b[0m\u001b[0mto_csv\u001b[0m\u001b[0;34m(\u001b[0m\u001b[0;34m'/Users/lucashunt/ASTRODATA/LCBG_LUMINOSITY_FUNCTION/COSMOS_CATALOGS/Photometry/COSMOS_CONVERTED_CATALOG_OTHER_RADII.csv'\u001b[0m\u001b[0;34m)\u001b[0m\u001b[0;34m\u001b[0m\u001b[0;34m\u001b[0m\u001b[0m\n\u001b[0m",
      "\u001b[0;32m~/programs/anaconda3/lib/python3.7/site-packages/pandas/core/frame.py\u001b[0m in \u001b[0;36mto_csv\u001b[0;34m(self, path_or_buf, sep, na_rep, float_format, columns, header, index, index_label, mode, encoding, compression, quoting, quotechar, line_terminator, chunksize, tupleize_cols, date_format, doublequote, escapechar, decimal)\u001b[0m\n\u001b[1;32m   1743\u001b[0m                                  \u001b[0mdoublequote\u001b[0m\u001b[0;34m=\u001b[0m\u001b[0mdoublequote\u001b[0m\u001b[0;34m,\u001b[0m\u001b[0;34m\u001b[0m\u001b[0;34m\u001b[0m\u001b[0m\n\u001b[1;32m   1744\u001b[0m                                  escapechar=escapechar, decimal=decimal)\n\u001b[0;32m-> 1745\u001b[0;31m         \u001b[0mformatter\u001b[0m\u001b[0;34m.\u001b[0m\u001b[0msave\u001b[0m\u001b[0;34m(\u001b[0m\u001b[0;34m)\u001b[0m\u001b[0;34m\u001b[0m\u001b[0;34m\u001b[0m\u001b[0m\n\u001b[0m\u001b[1;32m   1746\u001b[0m \u001b[0;34m\u001b[0m\u001b[0m\n\u001b[1;32m   1747\u001b[0m         \u001b[0;32mif\u001b[0m \u001b[0mpath_or_buf\u001b[0m \u001b[0;32mis\u001b[0m \u001b[0;32mNone\u001b[0m\u001b[0;34m:\u001b[0m\u001b[0;34m\u001b[0m\u001b[0;34m\u001b[0m\u001b[0m\n",
      "\u001b[0;32m~/programs/anaconda3/lib/python3.7/site-packages/pandas/io/formats/csvs.py\u001b[0m in \u001b[0;36msave\u001b[0;34m(self)\u001b[0m\n\u001b[1;32m    154\u001b[0m             f, handles = _get_handle(self.path_or_buf, self.mode,\n\u001b[1;32m    155\u001b[0m                                      \u001b[0mencoding\u001b[0m\u001b[0;34m=\u001b[0m\u001b[0mencoding\u001b[0m\u001b[0;34m,\u001b[0m\u001b[0;34m\u001b[0m\u001b[0;34m\u001b[0m\u001b[0m\n\u001b[0;32m--> 156\u001b[0;31m                                      compression=self.compression)\n\u001b[0m\u001b[1;32m    157\u001b[0m             \u001b[0mclose\u001b[0m \u001b[0;34m=\u001b[0m \u001b[0;32mTrue\u001b[0m\u001b[0;34m\u001b[0m\u001b[0;34m\u001b[0m\u001b[0m\n\u001b[1;32m    158\u001b[0m \u001b[0;34m\u001b[0m\u001b[0m\n",
      "\u001b[0;32m~/programs/anaconda3/lib/python3.7/site-packages/pandas/io/common.py\u001b[0m in \u001b[0;36m_get_handle\u001b[0;34m(path_or_buf, mode, encoding, compression, memory_map, is_text)\u001b[0m\n\u001b[1;32m    398\u001b[0m         \u001b[0;32melif\u001b[0m \u001b[0mencoding\u001b[0m\u001b[0;34m:\u001b[0m\u001b[0;34m\u001b[0m\u001b[0;34m\u001b[0m\u001b[0m\n\u001b[1;32m    399\u001b[0m             \u001b[0;31m# Python 3 and encoding\u001b[0m\u001b[0;34m\u001b[0m\u001b[0;34m\u001b[0m\u001b[0;34m\u001b[0m\u001b[0m\n\u001b[0;32m--> 400\u001b[0;31m             \u001b[0mf\u001b[0m \u001b[0;34m=\u001b[0m \u001b[0mopen\u001b[0m\u001b[0;34m(\u001b[0m\u001b[0mpath_or_buf\u001b[0m\u001b[0;34m,\u001b[0m \u001b[0mmode\u001b[0m\u001b[0;34m,\u001b[0m \u001b[0mencoding\u001b[0m\u001b[0;34m=\u001b[0m\u001b[0mencoding\u001b[0m\u001b[0;34m)\u001b[0m\u001b[0;34m\u001b[0m\u001b[0;34m\u001b[0m\u001b[0m\n\u001b[0m\u001b[1;32m    401\u001b[0m         \u001b[0;32melif\u001b[0m \u001b[0mis_text\u001b[0m\u001b[0;34m:\u001b[0m\u001b[0;34m\u001b[0m\u001b[0;34m\u001b[0m\u001b[0m\n\u001b[1;32m    402\u001b[0m             \u001b[0;31m# Python 3 and no explicit encoding\u001b[0m\u001b[0;34m\u001b[0m\u001b[0;34m\u001b[0m\u001b[0;34m\u001b[0m\u001b[0m\n",
      "\u001b[0;31mFileNotFoundError\u001b[0m: [Errno 2] No such file or directory: '/Users/lucashunt/ASTRODATA/LCBG_LUMINOSITY_FUNCTION/COSMOS_CATALOGS/Photometry/COSMOS_CONVERTED_CATALOG_OTHER_RADII.csv'"
     ]
    }
   ],
   "source": [
    "COSMOS_FLUXES.to_csv('/Users/lucashunt/ASTRODATA/LCBG_LUMINOSITY_FUNCTION/COSMOS_CATALOGS/Photometry/COSMOS_CONVERTED_CATALOG_OTHER_RADII.csv')"
   ]
  }
 ],
 "metadata": {
  "kernelspec": {
   "display_name": "Python 3",
   "language": "python",
   "name": "python3"
  },
  "language_info": {
   "codemirror_mode": {
    "name": "ipython",
    "version": 3
   },
   "file_extension": ".py",
   "mimetype": "text/x-python",
   "name": "python",
   "nbconvert_exporter": "python",
   "pygments_lexer": "ipython3",
   "version": "3.7.1"
  }
 },
 "nbformat": 4,
 "nbformat_minor": 2
}
