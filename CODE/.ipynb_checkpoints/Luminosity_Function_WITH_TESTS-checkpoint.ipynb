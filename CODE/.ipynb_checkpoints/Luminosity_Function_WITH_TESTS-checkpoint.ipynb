{
 "cells": [
  {
   "cell_type": "code",
   "execution_count": 1,
   "metadata": {},
   "outputs": [],
   "source": [
    "import sys\n",
    "import numpy as np\n",
    "import astropy as ap\n",
    "import matplotlib.pyplot as plt\n",
    "import math as m\n",
    "import argparse\n",
    "from astropy.cosmology import FlatLambdaCDM\n",
    "from matplotlib.backends.backend_pdf import PdfPages\n",
    "import kcorrect\n",
    "import kcorrect.utils as ut\n",
    "import os\n",
    "import pandas as pd"
   ]
  },
  {
   "cell_type": "code",
   "execution_count": 2,
   "metadata": {},
   "outputs": [
    {
     "name": "stderr",
     "output_type": "stream",
     "text": [
      "usage: ipykernel_launcher.py [-h] [-mbin MBIN] [-zmin ZMIN] [-zmax ZMAX]\n",
      "                             [-mmin MMIN] [-mmax MMAX] [-ama APPMAX]\n",
      "                             [-ami APPMIN] [-om OMEGAMATTER]\n",
      "                             [-ho HUBBLECONSTANT] [-lfdir LFDIR]\n",
      "                             [-fileout FILEOUT] [-LCBG] [-nv]\n",
      "                             filein\n",
      "ipykernel_launcher.py: error: the following arguments are required: filein\n"
     ]
    },
    {
     "ename": "SystemExit",
     "evalue": "2",
     "output_type": "error",
     "traceback": [
      "An exception has occurred, use %tb to see the full traceback.\n",
      "\u001b[0;31mSystemExit\u001b[0m\u001b[0;31m:\u001b[0m 2\n"
     ]
    },
    {
     "name": "stderr",
     "output_type": "stream",
     "text": [
      "/Users/lucashunt/programs/anaconda3/anaconda3/lib/python3.6/site-packages/IPython/core/interactiveshell.py:3273: UserWarning: To exit: use 'exit', 'quit', or Ctrl-D.\n",
      "  warn(\"To exit: use 'exit', 'quit', or Ctrl-D.\", stacklevel=1)\n"
     ]
    }
   ],
   "source": [
    "parser = argparse.ArgumentParser()\n",
    "parser.add_argument(\"filein\",help=\"File containing magnitudes and redshifts\")\n",
    "parser.add_argument(\"-mbin\",\"--mbin\",type=int,help=\"Number of Absolute Magnitude bins. Default=19\",default=18)\n",
    "parser.add_argument(\"-zmin\",\"--zmin\",type=float,help=\"Minimum redshift to consider in luminosity function, default=0.01\", default=0.01)\n",
    "parser.add_argument(\"-zmax\",\"--zmax\",type=float,help=\"Maximum redshift to consider in luminosity function, default=2\", default=0.2)\n",
    "parser.add_argument(\"-mmin\",\"--Mmin\",type=float,help=\"Minumum absolute magnitude to consider in luminosity function, default=-24\", default=-24)\n",
    "parser.add_argument(\"-mmax\",\"--Mmax\",type=float,help=\"Maximum absolute magnitude to consider in luminosity function, default=-15\", default=-15)\n",
    "parser.add_argument(\"-ama\",\"--appmax\",type=float,help='Maximum apparent magnitude to consider part of the survey COSMOS i<22.5',default=22.5)\n",
    "parser.add_argument(\"-ami\",\"--appmin\",type=float,help='Minimum apparent magnitude to consider part of the survey COSMOS i>15',default=15)\n",
    "parser.add_argument(\"-om\",\"--OmegaMatter\",type=float,help=\"Omega Matter, if you want to define your own cosmology\", default=0.3)\n",
    "parser.add_argument(\"-ho\",\"--HubbleConstant\",type=float,help=\"Hubble Constant if you want to define your own cosmology\",default=70)\n",
    "parser.add_argument(\"-lfdir\",\"--lfdir\",help=\"Directroy you want to put the Luminosity Function txt file and the underlying catalog in\",default='/Users/lucashunt/projects/LCBG_LUMINOSITY_FUNCTION/FULLLFOUT/')\n",
    "parser.add_argument(\"-fileout\",\"--fileout\",type=str,help=\"Set a string if you want to give a filename if not it will default to LF_zmin_zmax.csv\",default='')\n",
    "parser.add_argument(\"-LCBG\",\"--LCBGLIST\",action=\"store_true\",help=\"Make Luminosity Function with LCBGs only?\")\n",
    "parser.add_argument(\"-nv\",\"--novega\",action=\"store_true\",help=\"Do not apply correction to switch from AB to Vega magnitudes\")\n",
    "args=parser.parse_args()"
   ]
  },
  {
   "cell_type": "code",
   "execution_count": 3,
   "metadata": {},
   "outputs": [],
   "source": [
    "#This can be turned to code in a jupyter notebook to set all of the args using argparser. That way you can run the code in the notebook\n",
    "\n",
    "args=parser.parse_args('/Users/lucashunt/ASTRODATA/LCBG_LUMINOSITY_FUNCTION/COSMOS_CATALOGS/Photometry/COSMOS_CONVERTED_CATALOG.csv -zmin 0.01 -zmax 0.2'.split())"
   ]
  },
  {
   "cell_type": "markdown",
   "metadata": {},
   "source": [
    "Setting values needed throughout the code"
   ]
  },
  {
   "cell_type": "code",
   "execution_count": 4,
   "metadata": {},
   "outputs": [],
   "source": [
    "cosmo=FlatLambdaCDM(H0=args.HubbleConstant,Om0=args.OmegaMatter)\n",
    "mbinsize=float(args.Mmax-args.Mmin)/args.mbin\n",
    "Magnitude_Loop_Array=np.stack((np.arange(args.appmin,args.appmax+0.5,0.5)[0:len(np.arange(args.appmin,args.appmax+0.5,0.5))-1],np.arange(args.appmin,args.appmax+0.5,0.5)[1:len(np.arange(args.appmin,args.appmax+0.5,0.5))]),axis=-1)\n",
    "kcordir=os.environ[\"KCORRECT_DIR\"]"
   ]
  },
  {
   "cell_type": "code",
   "execution_count": 5,
   "metadata": {},
   "outputs": [
    {
     "name": "stdout",
     "output_type": "stream",
     "text": [
      "********READING FILE********\n"
     ]
    }
   ],
   "source": [
    "print('********READING FILE********')\n",
    "CATALOG=pd.read_csv(args.filein)"
   ]
  },
  {
   "cell_type": "code",
   "execution_count": 6,
   "metadata": {},
   "outputs": [
    {
     "name": "stdout",
     "output_type": "stream",
     "text": [
      "********CALCULATING WEIGHTS********\n"
     ]
    }
   ],
   "source": [
    "print('********CALCULATING WEIGHTS********')\n",
    "tf=open('weights.txt','w')\n",
    "CATALOG['Spec_Weight']=np.nan\n",
    "CATALOG['Color_Weight']=np.nan\n",
    "CATALOG['Surface_Brightness_Weight']=np.nan\n",
    "for magrange in Magnitude_Loop_Array:\n",
    "    Num_Good_Spec=len(CATALOG[(CATALOG.mag_subaru_i>magrange[0])&(CATALOG.mag_subaru_i<magrange[1])&(CATALOG.SG_MASTER==0)&((CATALOG.Z_USE==1)|(CATALOG.Z_USE==2))])\n",
    "    Num_Bad_Spec=len(CATALOG[(CATALOG.mag_subaru_i>magrange[0])&(CATALOG.mag_subaru_i<magrange[1])&(CATALOG.SG_MASTER==0)&((CATALOG.Z_USE==3)|(CATALOG.Z_USE==4))])\n",
    "    Num_Good_Color=len(CATALOG[(CATALOG.mag_subaru_i>magrange[0])&(CATALOG.mag_subaru_i<magrange[1])&(CATALOG.SG_MASTER==0)&((CATALOG.mag_subaru_B<100)&(CATALOG.mag_subaru_V<100))])\n",
    "    Num_Bad_Color=len(CATALOG[(CATALOG.mag_subaru_i>magrange[0])&(CATALOG.mag_subaru_i<magrange[1])&(CATALOG.SG_MASTER==0)&((CATALOG.mag_subaru_B>100)|(CATALOG.mag_subaru_V>100))])\n",
    "    Num_Bad_Rh=len(CATALOG[(CATALOG.mag_subaru_i>magrange[0])&(CATALOG.mag_subaru_i<magrange[1])&(CATALOG.SG_MASTER==0)&(np.isnan(CATALOG.Rh))])\n",
    "    Num_Good_Rh=len(CATALOG[(CATALOG.mag_subaru_i>magrange[0])&(CATALOG.mag_subaru_i<magrange[1])&(CATALOG.SG_MASTER==0)&(~np.isnan(CATALOG.Rh))])\n",
    "    CATALOG.loc[(CATALOG.mag_subaru_i>magrange[0])&(CATALOG.mag_subaru_i<magrange[1])&(CATALOG.SG_MASTER==0),'Spec_Weight']=float(Num_Good_Spec+Num_Bad_Spec)/float(Num_Good_Spec)\n",
    "    CATALOG.loc[(CATALOG.mag_subaru_i>magrange[0])&(CATALOG.mag_subaru_i<magrange[1])&(CATALOG.SG_MASTER==0),'Color_Weight']=float(Num_Good_Color+Num_Bad_Color)/float(Num_Good_Color)\n",
    "    CATALOG.loc[(CATALOG.mag_subaru_i>magrange[0])&(CATALOG.mag_subaru_i<magrange[1])&(CATALOG.SG_MASTER==0),'Surface_Brightness_Weight']=float(Num_Good_Rh+Num_Bad_Rh)/float(Num_Good_Rh)\n",
    "    "
   ]
  },
  {
   "cell_type": "markdown",
   "metadata": {},
   "source": [
    "Comment below will allow you to plot weights if you want to look at them! \n",
    "\n",
    "plt.plot(CATALOG.mag_subaru_i,CATALOG.Spec_Weight*CATALOG.Color_Weight*CATALOG.Surface_Brightness_Weight,'.')\n",
    "plt.figure()\n",
    "plt.plot(CATALOG.mag_subaru_i,CATALOG.Spec_Weight,'.')\n",
    "plt.figure()\n",
    "plt.plot(CATALOG.mag_subaru_i,CATALOG.Color_Weight,'.')\n",
    "plt.figure()\n",
    "plt.plot(CATALOG.mag_subaru_i,CATALOG.Surface_Brightness_Weight,'.')"
   ]
  },
  {
   "cell_type": "markdown",
   "metadata": {},
   "source": [
    "***********************************\n",
    "Starting the Luminosity Function part of the code! \n",
    "***********************************"
   ]
  },
  {
   "cell_type": "markdown",
   "metadata": {},
   "source": [
    "Breaking up the large catalog into a smaller one containing the sources over the correct redshift range and apparent magnitude range"
   ]
  },
  {
   "cell_type": "code",
   "execution_count": 7,
   "metadata": {},
   "outputs": [],
   "source": [
    "if args.LCBGLIST:\n",
    "    LUMFUNC_CATALOG=CATALOG[(CATALOG.Z_USE<3)&(CATALOG.mag_subaru_i<=args.appmax)&(CATALOG.mag_subaru_i>=args.appmin)&(CATALOG.SG_MASTER==0)&(CATALOG.Z_BEST>=args.zmin)&(CATALOG.Z_BEST<=args.zmax)&(CATALOG.is_LCBG==1)]\n",
    "else:\n",
    "    LUMFUNC_CATALOG=CATALOG[(CATALOG.Z_USE<3)&(CATALOG.mag_subaru_i<=args.appmax)&(CATALOG.mag_subaru_i>=args.appmin)&(CATALOG.SG_MASTER==0)&(CATALOG.Z_BEST>=args.zmin)&(CATALOG.Z_BEST<=args.zmax)]"
   ]
  },
  {
   "cell_type": "markdown",
   "metadata": {},
   "source": [
    "Setting apparent magnitude limits to calculate the range over which this source would be detected. "
   ]
  },
  {
   "cell_type": "code",
   "execution_count": 24,
   "metadata": {},
   "outputs": [
    {
     "name": "stdout",
     "output_type": "stream",
     "text": [
      "0\n",
      "0.6136 1.0\n"
     ]
    },
    {
     "data": {
      "text/plain": [
       "[<matplotlib.lines.Line2D at 0x127664208>]"
      ]
     },
     "execution_count": 24,
     "metadata": {},
     "output_type": "execute_result"
    },
    {
     "data": {
      "image/png": "[encoded data removed]",
      "text/plain": [
       "<matplotlib.figure.Figure at 0x124fd6cf8>"
      ]
     },
     "metadata": {
      "needs_background": "light"
     },
     "output_type": "display_data"
    }
   ],
   "source": [
    "#The code below was designed to test the upper and lower redshift estimates. This allowed me to determine how the best order of operations to find the correct redshift limits for the source (Where the source was detectable)\n",
    "x=35642\n",
    "ilookup=np.ndarray(1000)\n",
    "for j in range(0,1000):\n",
    "    rmarrlookup[j]=kcorrect.reconstruct_maggies(LUMFUNC_CATALOG.loc[x,'c1':'c6'],redshift=zlookup[j])[1:]\n",
    "print(np.abs(ilookup-args.appmax).argmin())\n",
    "if np.abs(ilookup-args.appmax)[np.abs(ilookup-args.appmax).argsort()[:2][0]]<0.001:\n",
    "    if np.abs(np.abs(ilookup-args.appmax).argsort()[:2][0]-np.abs(ilookup-args.appmax).argsort()[:2][1])>1:\n",
    "        LUMFUNC_CATALOG.loc[x,'upper_redshift']=round(zlookup[np.abs(ilookup-args.appmax).argsort()[:2].min],4)\n",
    "    else:\n",
    "        LUMFUNC_CATALOG.loc[x,'upper_redshift']=round(zlookup[np.abs(ilookup-args.appmax).argmin()],4)\n",
    "else:\n",
    "    LUMFUNC_CATALOG.loc[x,'upper_redshift']=1\n",
    "if np.abs(ilookup-args.appmin)[np.abs(ilookup-args.appmin).argsort()[:2][0]]<0.001:\n",
    "    if np.abs(np.abs(ilookup-args.appmin).argsort()[:2][0]-np.abs(ilookup-args.appmin).argsort()[:2][1])>1:\n",
    "        LUMFUNC_CATALOG.loc[x,'lower_redshift']=round(zlookup[np.abs(ilookup-args.appmin).argsort()[:2].min],4)\n",
    "    else:\n",
    "        LUMFUNC_CATALOG.loc[x,'lower_redshift']=round(zlookup[np.abs(ilookup-args.appmin).argmin()],4)\n",
    "else:\n",
    "    LUMFUNC_CATALOG.loc[x,'lower_redshift']=0\n",
    "np.abs(ilookup-args.appmax).min()\n",
    "print(LUMFUNC_CATALOG.lower_redshift.loc[x],LUMFUNC_CATALOG.upper_redshift.loc[x])\n",
    "np.abs(np.abs(ilookup-args.appmax).argsort()[:2][0]-np.abs(ilookup-args.appmax).argsort()[:2][1])\n",
    "plt.plot(zlookup,ilookup)\n",
    "plt.\n",
    "#np.abs(ilookup-args.appmax)[np.abs(ilookup-args.appmax).argsort()[:4]]"
   ]
  },
  {
   "cell_type": "code",
   "execution_count": 37,
   "metadata": {},
   "outputs": [
    {
     "data": {
      "text/plain": [
       "22.429613534928695"
      ]
     },
     "execution_count": 37,
     "metadata": {},
     "output_type": "execute_result"
    }
   ],
   "source": [
    "LUMFUNC_CATALOG.subaru_i_synthetic_mag.loc[x]"
   ]
  },
  {
   "cell_type": "code",
   "execution_count": 59,
   "metadata": {},
   "outputs": [
    {
     "name": "stdout",
     "output_type": "stream",
     "text": [
      "0.195195195195 0.1943 -17.347465152\n",
      "The synthetic i-band is 22.474689281314987 and the measured i-band is 22.49369781006928\n"
     ]
    },
    {
     "name": "stderr",
     "output_type": "stream",
     "text": [
      "/Users/lucashunt/programs/anaconda3/anaconda3/lib/python3.6/site-packages/astropy/cosmology/core.py:1363: RuntimeWarning: divide by zero encountered in log10\n",
      "  val = 5. * np.log10(abs(self.luminosity_distance(z).value)) + 25.0\n"
     ]
    },
    {
     "data": {
      "image/png": "[encoded data removed]",
      "text/plain": [
       "<matplotlib.figure.Figure at 0x1273a4d68>"
      ]
     },
     "metadata": {
      "needs_background": "light"
     },
     "output_type": "display_data"
    }
   ],
   "source": [
    "#The code below was designed to test the upper and lower redshift estimates. This allowed me to determine how the best order of operations to find the correct redshift limits for the source (Where the source was detectable)\n",
    "x=77810\n",
    "rmarrlookup=np.ndarray(1000)\n",
    "for j in range(0,1000):\n",
    "    rmarrlookup[j]=kcorrect.reconstruct_maggies(LUMFUNC_CATALOG.loc[x,'c1':'c6'],redshift=zlookup[j])[1:]\n",
    "AbsMag=LUMFUNC_CATALOG.mag_subaru_i.loc[x]-cosmo.distmod(LUMFUNC_CATALOG.Z_BEST.loc[x]).value-LUMFUNC_CATALOG.subaru_i_synthetic_mag.loc[x]-2.5*np.log10(rmarrlookup[0])\n",
    "ilookup=AbsMag+cosmo.distmod(zlookup).value-2.5*np.log10(rmarrlookup)+2.5*np.log10(rmarrlookup[0])\n",
    "print(zlookup[round(np.abs(ilookup-args.appmax).argmin(),4)],LUMFUNC_CATALOG.Z_BEST.loc[x],AbsMag)\n",
    "plt.plot(zlookup[0:200],ilookup[0:200])\n",
    "plt.hlines(args.appmax,0,0.2)\n",
    "plt.hlines(args.appmin,0,0.2)\n",
    "print('The synthetic i-band is {} and the measured i-band is {}'.format(-2.5*np.log10(LUMFUNC_CATALOG.subaru_i0_synthetic.loc[x]),LUMFUNC_CATALOG.mag_subaru_i.loc[x]))"
   ]
  },
  {
   "cell_type": "code",
   "execution_count": 43,
   "metadata": {},
   "outputs": [
    {
     "name": "stderr",
     "output_type": "stream",
     "text": [
      "/Users/lucashunt/programs/anaconda3/anaconda3/lib/python3.6/site-packages/pandas/core/indexing.py:537: SettingWithCopyWarning: \n",
      "A value is trying to be set on a copy of a slice from a DataFrame.\n",
      "Try using .loc[row_indexer,col_indexer] = value instead\n",
      "\n",
      "See the caveats in the documentation: http://pandas.pydata.org/pandas-docs/stable/indexing.html#indexing-view-versus-copy\n",
      "  self.obj[item] = s\n"
     ]
    }
   ],
   "source": [
    "kcorrect.load_templates()\n",
    "kcorrect.load_filters(kcordir+'/data/templates/subaru_i.dat')\n",
    "zlookup=np.linspace(0,1,1000)\n",
    "for x in LUMFUNC_CATALOG.index:\n",
    "    rmarrlookup=np.ndarray(1000)\n",
    "    for j in range(0,1000):\n",
    "        rmarrlookup[j]=kcorrect.reconstruct_maggies(LUMFUNC_CATALOG.loc[x,'c1':'c6'],redshift=zlookup[j])[1:]\n",
    "        AbsMag=LUMFUNC_CATALOG.mag_subaru_i.loc[x]-cosmo.distmod(LUMFUNC_CATALOG.Z_BEST.loc[x]).value-LUMFUNC_CATALOG.subaru_i_synthetic_mag.loc[x]-2.5*np.log10(rmarrlookup[0])\n",
    "    ilookup=AbsMag+cosmo.distmod(zlookup).value-2.5*np.log10(rmarrlookup)+2.5*np.log10(rmarrlookup[0])\n",
    "    LUMFUNC_CATALOG.loc[x,'upper_redshift']=round(zlookup[np.abs(ilookup-args.appmax).argmin()],4)\n",
    "    LUMFUNC_CATALOG.loc[x,'lower_redshift']=round(zlookup[np.abs(ilookup-args.appmin).argmin()],4)\n",
    "    #print('Lower redshift = {}, upper redshift = {} and spectroscopic redshift = {}'.format(LUMFUNC_CATALOG.lower_redshift.loc[x],LUMFUNC_CATALOG.upper_redshift.loc[x],LUMFUNC_CATALOG.Z_BEST.loc[x]))"
   ]
  },
  {
   "cell_type": "code",
   "execution_count": 58,
   "metadata": {},
   "outputs": [
    {
     "name": "stdout",
     "output_type": "stream",
     "text": [
      "          Z_BEST  upper_redshift\n",
      "167762  0.121149          0.1211\n",
      "168589  0.124144          0.1241\n",
      "174061  0.030040          0.0300\n",
      "175251  0.039040          0.0390\n"
     ]
    },
    {
     "data": {
      "text/plain": [
       "Series([], Name: upper_redshift, dtype: float64)"
      ]
     },
     "execution_count": 58,
     "metadata": {},
     "output_type": "execute_result"
    },
    {
     "data": {
      "image/png": "[encoded data removed]",
      "text/plain": [
       "<matplotlib.figure.Figure at 0x119ad0dd8>"
      ]
     },
     "metadata": {
      "needs_background": "light"
     },
     "output_type": "display_data"
    }
   ],
   "source": [
    "plt.plot(LUMFUNC_CATALOG.upper_redshift.loc[LUMFUNC_CATALOG.index],'.',color='red')\n",
    "plt.plot(LUMFUNC_CATALOG.lower_redshift.loc[LUMFUNC_CATALOG.index],'.',color='blue')\n",
    "plt.plot(LUMFUNC_CATALOG.Z_BEST,'.',color='black')\n",
    "print(LUMFUNC_CATALOG.loc[LUMFUNC_CATALOG.Z_BEST>LUMFUNC_CATALOG.upper_redshift,['Z_BEST','upper_redshift']])\n",
    "LUMFUNC_CATALOG.loc[LUMFUNC_CATALOG.upper_redshift<LUMFUNC_CATALOG.lower_redshift,'upper_redshift']"
   ]
  },
  {
   "cell_type": "markdown",
   "metadata": {},
   "source": [
    "#This code was just used as fun to plot some of the lookup arrays to see how unique the values are (i.e. are there multiple crossings of the lookup table? Hint: There are not. You can uncomment this if you want to see a couple) \n",
    "#kcorrect.load_templates()\n",
    "#kcorrect.load_filters(kcordir+'/data/templates/subaru_i.dat')\n",
    "zlookup=np.linspace(0,1,1000)\n",
    "print(LUMFUNC_CATALOG.loc[LUMFUNC_CATALOG.index[0],'c1':'c6'])\n",
    "index=LUMFUNC_CATALOG.index\n",
    "for x in range(40,60):\n",
    "    rmarrlookup=np.ndarray(1000)\n",
    "    for j in range(0,1000):\n",
    "        rmarrlookup[j]=kcorrect.reconstruct_maggies(LUMFUNC_CATALOG.loc[index[x],'c1':'c6'],redshift=zlookup[j])[1:]\n",
    "    app_mag_lookup=cosmo.distmod(zlookup).value-2.5*np.log10(rmarrlookup)\n",
    "    plt.figure()\n",
    "    plt.plot(zlookup,app_mag_lookup)\n",
    "    plt.hlines(LUMFUNC_CATALOG.imag_upper_lim.loc[index[x]],0,1)\n",
    "    plt.hlines(LUMFUNC_CATALOG.imag_lower_lim.loc[index[x]],0,1)"
   ]
  },
  {
   "cell_type": "code",
   "execution_count": 48,
   "metadata": {},
   "outputs": [
    {
     "name": "stderr",
     "output_type": "stream",
     "text": [
      "/Users/lucashunt/programs/anaconda3/anaconda3/lib/python3.6/site-packages/pandas/core/indexing.py:537: SettingWithCopyWarning: \n",
      "A value is trying to be set on a copy of a slice from a DataFrame.\n",
      "Try using .loc[row_indexer,col_indexer] = value instead\n",
      "\n",
      "See the caveats in the documentation: http://pandas.pydata.org/pandas-docs/stable/indexing.html#indexing-view-versus-copy\n",
      "  self.obj[item] = s\n",
      "/Users/lucashunt/programs/anaconda3/anaconda3/lib/python3.6/site-packages/ipykernel_launcher.py:4: SettingWithCopyWarning: \n",
      "A value is trying to be set on a copy of a slice from a DataFrame.\n",
      "Try using .loc[row_indexer,col_indexer] = value instead\n",
      "\n",
      "See the caveats in the documentation: http://pandas.pydata.org/pandas-docs/stable/indexing.html#indexing-view-versus-copy\n",
      "  after removing the cwd from sys.path.\n"
     ]
    }
   ],
   "source": [
    "LUMFUNC_CATALOG_COPY=LUMFUNC_CATALOG.copy()\n",
    "LUMFUNC_CATALOG.loc[LUMFUNC_CATALOG.upper_redshift>args.zmax,'upper_redshift']=args.zmax\n",
    "LUMFUNC_CATALOG.loc[LUMFUNC_CATALOG.lower_redshift<args.zmin,'lower_redshift']=args.zmin\n",
    "LUMFUNC_CATALOG['comoving_volume']=cosmo.comoving_volume(LUMFUNC_CATALOG.upper_redshift).value/(4*np.pi/0.0003116)-cosmo.comoving_volume(LUMFUNC_CATALOG.lower_redshift).value/(4*np.pi/0.0003116)"
   ]
  },
  {
   "cell_type": "code",
   "execution_count": 49,
   "metadata": {},
   "outputs": [
    {
     "name": "stderr",
     "output_type": "stream",
     "text": [
      "/Users/lucashunt/programs/anaconda3/anaconda3/lib/python3.6/site-packages/ipykernel_launcher.py:16: RuntimeWarning: invalid value encountered in double_scalars\n",
      "  app.launch_new_instance()\n",
      "/Users/lucashunt/programs/anaconda3/anaconda3/lib/python3.6/site-packages/ipykernel_launcher.py:18: RuntimeWarning: invalid value encountered in double_scalars\n"
     ]
    }
   ],
   "source": [
    "Abs_Magnitude_Loop_Array=np.stack((np.arange(args.Mmin,args.Mmax+mbinsize,mbinsize)[0:len(np.arange(args.Mmin,args.Mmax,mbinsize))],np.arange(args.Mmin,args.Mmax+mbinsize,mbinsize)[1:len(np.arange(args.Mmin,args.Mmax,mbinsize))+1]),axis=-1)\n",
    "Abs_Mags=[]\n",
    "NUMB_DENS_LIST=[]\n",
    "NUMB_DENS_Err=[]\n",
    "NGal=[]\n",
    "AveCMV=[]\n",
    "AveWeight=[]\n",
    "for rng in Abs_Magnitude_Loop_Array:\n",
    "    if args.LCBGLIST:\n",
    "        NUMB_DENS_LIST.append(((LUMFUNC_CATALOG.loc[(LUMFUNC_CATALOG.Abs_B_Mag>rng[0])&(LUMFUNC_CATALOG.Abs_B_Mag<rng[1]),'Spec_Weight']*LUMFUNC_CATALOG.loc[(LUMFUNC_CATALOG.Abs_B_Mag>rng[0])&(LUMFUNC_CATALOG.Abs_B_Mag<rng[1]),'Color_Weight']*LUMFUNC_CATALOG.loc[(LUMFUNC_CATALOG.Abs_B_Mag>rng[0])&(LUMFUNC_CATALOG.Abs_B_Mag<rng[1]),'Surface_Brightness_Weight'])/(LUMFUNC_CATALOG.loc[(LUMFUNC_CATALOG.Abs_B_Mag>rng[0])&(LUMFUNC_CATALOG.Abs_B_Mag<rng[1]),'comoving_volume']*mbinsize)).sum())\n",
    "        AveWeight.append((LUMFUNC_CATALOG.loc[(LUMFUNC_CATALOG.Abs_B_Mag>rng[0])&(LUMFUNC_CATALOG.Abs_B_Mag<rng[1]),'Spec_Weight']*LUMFUNC_CATALOG.loc[(LUMFUNC_CATALOG.Abs_B_Mag>rng[0])&(LUMFUNC_CATALOG.Abs_B_Mag<rng[1]),'Color_Weight']*LUMFUNC_CATALOG.loc[(LUMFUNC_CATALOG.Abs_B_Mag>rng[0])&(LUMFUNC_CATALOG.Abs_B_Mag<rng[1]),'Surface_Brightness_Weight']).sum()/len(LUMFUNC_CATALOG.loc[(LUMFUNC_CATALOG.Abs_B_Mag>rng[0])&(LUMFUNC_CATALOG.Abs_B_Mag<rng[1]),'Spec_Weight']))\n",
    "        NUMB_DENS_Err.append(np.sqrt(((LUMFUNC_CATALOG.loc[(LUMFUNC_CATALOG.Abs_B_Mag>rng[0])&(LUMFUNC_CATALOG.Abs_B_Mag<rng[1]),'Spec_Weight']*LUMFUNC_CATALOG.loc[(LUMFUNC_CATALOG.Abs_B_Mag>rng[0])&(LUMFUNC_CATALOG.Abs_B_Mag<rng[1]),'Color_Weight']*LUMFUNC_CATALOG.loc[(LUMFUNC_CATALOG.Abs_B_Mag>rng[0])&(LUMFUNC_CATALOG.Abs_B_Mag<rng[1]),'Surface_Brightness_Weight'])/(LUMFUNC_CATALOG.loc[(LUMFUNC_CATALOG.Abs_B_Mag>rng[0])&(LUMFUNC_CATALOG.Abs_B_Mag<rng[1]),'comoving_volume']*mbinsize)**2).sum()))\n",
    "    else:\n",
    "        NUMB_DENS_LIST.append((LUMFUNC_CATALOG.loc[(LUMFUNC_CATALOG.Abs_B_Mag>rng[0])&(LUMFUNC_CATALOG.Abs_B_Mag<rng[1]),'Spec_Weight']/(LUMFUNC_CATALOG.loc[(LUMFUNC_CATALOG.Abs_B_Mag>rng[0])&(LUMFUNC_CATALOG.Abs_B_Mag<rng[1]),'comoving_volume']*mbinsize)).sum())\n",
    "        NUMB_DENS_Err.append(np.sqrt((LUMFUNC_CATALOG.loc[(LUMFUNC_CATALOG.Abs_B_Mag>rng[0])&(LUMFUNC_CATALOG.Abs_B_Mag<rng[1]),'Spec_Weight']/(LUMFUNC_CATALOG.loc[(LUMFUNC_CATALOG.Abs_B_Mag>rng[0])&(LUMFUNC_CATALOG.Abs_B_Mag<rng[1]),'comoving_volume']*mbinsize)**2).sum()))\n",
    "        AveWeight.append(LUMFUNC_CATALOG.loc[(LUMFUNC_CATALOG.Abs_B_Mag>rng[0])&(LUMFUNC_CATALOG.Abs_B_Mag<rng[1]),'Spec_Weight'].sum()/len(LUMFUNC_CATALOG.loc[(LUMFUNC_CATALOG.Abs_B_Mag>rng[0])&(LUMFUNC_CATALOG.Abs_B_Mag<rng[1]),'Spec_Weight']))\n",
    "    NGal.append(len(LUMFUNC_CATALOG.loc[(LUMFUNC_CATALOG.Abs_B_Mag>rng[0])&(LUMFUNC_CATALOG.Abs_B_Mag<rng[1]),'Spec_Weight']))\n",
    "    AveCMV.append(LUMFUNC_CATALOG.loc[(LUMFUNC_CATALOG.Abs_B_Mag>rng[0])&(LUMFUNC_CATALOG.Abs_B_Mag<rng[1]),'comoving_volume'].sum()/len(LUMFUNC_CATALOG.loc[(LUMFUNC_CATALOG.Abs_B_Mag>rng[0])&(LUMFUNC_CATALOG.Abs_B_Mag<rng[1]),'Spec_Weight']))\n",
    "    Abs_Mags.append(LUMFUNC_CATALOG.loc[(LUMFUNC_CATALOG.Abs_B_Mag>rng[0])&(LUMFUNC_CATALOG.Abs_B_Mag<rng[1]),'Abs_B_Mag'].mean())"
   ]
  },
  {
   "cell_type": "code",
   "execution_count": 50,
   "metadata": {},
   "outputs": [
    {
     "data": {
      "text/plain": [
       "1.4388648148109731"
      ]
     },
     "execution_count": 50,
     "metadata": {},
     "output_type": "execute_result"
    }
   ],
   "source": [
    "(LUMFUNC_CATALOG.loc[(LUMFUNC_CATALOG.Abs_B_Mag>rng[0])&(LUMFUNC_CATALOG.Abs_B_Mag<rng[1]),'Spec_Weight']*LUMFUNC_CATALOG.loc[(LUMFUNC_CATALOG.Abs_B_Mag>rng[0])&(LUMFUNC_CATALOG.Abs_B_Mag<rng[1]),'Color_Weight']*LUMFUNC_CATALOG.loc[(LUMFUNC_CATALOG.Abs_B_Mag>rng[0])&(LUMFUNC_CATALOG.Abs_B_Mag<rng[1]),'Surface_Brightness_Weight']).sum()/len(LUMFUNC_CATALOG.loc[(LUMFUNC_CATALOG.Abs_B_Mag>rng[0])&(LUMFUNC_CATALOG.Abs_B_Mag<rng[1]),'Spec_Weight'])"
   ]
  },
  {
   "cell_type": "code",
   "execution_count": 51,
   "metadata": {},
   "outputs": [],
   "source": [
    "Luminosity_Function=pd.DataFrame({'Number_Of_Gals':NGal,'Absolute_Magnitude_Bin':np.average(Abs_Magnitude_Loop_Array,axis=-1),'Average_Absolute_Magnitude':Abs_Mags,'Number_Density':NUMB_DENS_LIST,'Number_Density_Error':NUMB_DENS_Err,'Average_Comoving_Volume':AveCMV,'Average_Weight':AveWeight})"
   ]
  },
  {
   "cell_type": "code",
   "execution_count": 52,
   "metadata": {},
   "outputs": [
    {
     "name": "stderr",
     "output_type": "stream",
     "text": [
      "/Users/lucashunt/programs/anaconda3/anaconda3/lib/python3.6/site-packages/ipykernel_launcher.py:1: RuntimeWarning: divide by zero encountered in log10\n",
      "  \"\"\"Entry point for launching an IPython kernel.\n"
     ]
    }
   ],
   "source": [
    "Luminosity_Function['Log10Phi']=np.log10(Luminosity_Function['Number_Density'])\n",
    "Luminosity_Function['Log10Err']=Luminosity_Function.Number_Density_Error/(Luminosity_Function.Number_Density*np.log(10))"
   ]
  },
  {
   "cell_type": "code",
   "execution_count": 53,
   "metadata": {},
   "outputs": [
    {
     "data": {
      "text/plain": [
       "<matplotlib.axes._subplots.AxesSubplot at 0x12e6a7160>"
      ]
     },
     "execution_count": 53,
     "metadata": {},
     "output_type": "execute_result"
    },
    {
     "data": {
      "image/png": "[encoded data removed]",
      "text/plain": [
       "<matplotlib.figure.Figure at 0x12e6c6c88>"
      ]
     },
     "metadata": {
      "needs_background": "light"
     },
     "output_type": "display_data"
    }
   ],
   "source": [
    "Luminosity_Function.plot.scatter(x='Average_Absolute_Magnitude',y='Log10Phi')"
   ]
  },
  {
   "cell_type": "code",
   "execution_count": 54,
   "metadata": {},
   "outputs": [
    {
     "data": {
      "text/html": [
       "<div>\n",
       "<style scoped>\n",
       "    .dataframe tbody tr th:only-of-type {\n",
       "        vertical-align: middle;\n",
       "    }\n",
       "\n",
       "    .dataframe tbody tr th {\n",
       "        vertical-align: top;\n",
       "    }\n",
       "\n",
       "    .dataframe thead th {\n",
       "        text-align: right;\n",
       "    }\n",
       "</style>\n",
       "<table border=\"1\" class=\"dataframe\">\n",
       "  <thead>\n",
       "    <tr style=\"text-align: right;\">\n",
       "      <th></th>\n",
       "      <th>Absolute_Magnitude_Bin</th>\n",
       "      <th>Average_Absolute_Magnitude</th>\n",
       "      <th>Average_Comoving_Volume</th>\n",
       "      <th>Average_Weight</th>\n",
       "      <th>Number_Density</th>\n",
       "      <th>Number_Density_Error</th>\n",
       "      <th>Number_Of_Gals</th>\n",
       "      <th>Log10Phi</th>\n",
       "      <th>Log10Err</th>\n",
       "    </tr>\n",
       "  </thead>\n",
       "  <tbody>\n",
       "    <tr>\n",
       "      <th>0</th>\n",
       "      <td>-23.75</td>\n",
       "      <td>NaN</td>\n",
       "      <td>NaN</td>\n",
       "      <td>NaN</td>\n",
       "      <td>0.000000</td>\n",
       "      <td>0.000000</td>\n",
       "      <td>0</td>\n",
       "      <td>-inf</td>\n",
       "      <td>NaN</td>\n",
       "    </tr>\n",
       "    <tr>\n",
       "      <th>1</th>\n",
       "      <td>-23.25</td>\n",
       "      <td>NaN</td>\n",
       "      <td>NaN</td>\n",
       "      <td>NaN</td>\n",
       "      <td>0.000000</td>\n",
       "      <td>0.000000</td>\n",
       "      <td>0</td>\n",
       "      <td>-inf</td>\n",
       "      <td>NaN</td>\n",
       "    </tr>\n",
       "    <tr>\n",
       "      <th>2</th>\n",
       "      <td>-22.75</td>\n",
       "      <td>-22.772321</td>\n",
       "      <td>54622.201875</td>\n",
       "      <td>5.750000</td>\n",
       "      <td>0.000211</td>\n",
       "      <td>0.000088</td>\n",
       "      <td>1</td>\n",
       "      <td>-3.676671</td>\n",
       "      <td>0.181113</td>\n",
       "    </tr>\n",
       "    <tr>\n",
       "      <th>3</th>\n",
       "      <td>-22.25</td>\n",
       "      <td>-22.233344</td>\n",
       "      <td>54800.480649</td>\n",
       "      <td>5.500000</td>\n",
       "      <td>0.000201</td>\n",
       "      <td>0.000086</td>\n",
       "      <td>1</td>\n",
       "      <td>-3.697392</td>\n",
       "      <td>0.185184</td>\n",
       "    </tr>\n",
       "    <tr>\n",
       "      <th>4</th>\n",
       "      <td>-21.75</td>\n",
       "      <td>-21.650996</td>\n",
       "      <td>51994.218200</td>\n",
       "      <td>1.050041</td>\n",
       "      <td>0.000242</td>\n",
       "      <td>0.000097</td>\n",
       "      <td>6</td>\n",
       "      <td>-3.615430</td>\n",
       "      <td>0.173059</td>\n",
       "    </tr>\n",
       "    <tr>\n",
       "      <th>5</th>\n",
       "      <td>-21.25</td>\n",
       "      <td>-21.218194</td>\n",
       "      <td>54338.980626</td>\n",
       "      <td>1.436025</td>\n",
       "      <td>0.000787</td>\n",
       "      <td>0.000170</td>\n",
       "      <td>15</td>\n",
       "      <td>-3.103821</td>\n",
       "      <td>0.093592</td>\n",
       "    </tr>\n",
       "    <tr>\n",
       "      <th>6</th>\n",
       "      <td>-20.75</td>\n",
       "      <td>-20.702192</td>\n",
       "      <td>55463.190294</td>\n",
       "      <td>1.301214</td>\n",
       "      <td>0.001359</td>\n",
       "      <td>0.000221</td>\n",
       "      <td>29</td>\n",
       "      <td>-2.866654</td>\n",
       "      <td>0.070701</td>\n",
       "    </tr>\n",
       "    <tr>\n",
       "      <th>7</th>\n",
       "      <td>-20.25</td>\n",
       "      <td>-20.225127</td>\n",
       "      <td>55989.533196</td>\n",
       "      <td>1.159435</td>\n",
       "      <td>0.002112</td>\n",
       "      <td>0.000275</td>\n",
       "      <td>51</td>\n",
       "      <td>-2.675316</td>\n",
       "      <td>0.056478</td>\n",
       "    </tr>\n",
       "    <tr>\n",
       "      <th>8</th>\n",
       "      <td>-19.75</td>\n",
       "      <td>-19.767604</td>\n",
       "      <td>56251.590329</td>\n",
       "      <td>1.178844</td>\n",
       "      <td>0.002473</td>\n",
       "      <td>0.000297</td>\n",
       "      <td>59</td>\n",
       "      <td>-2.606809</td>\n",
       "      <td>0.052075</td>\n",
       "    </tr>\n",
       "    <tr>\n",
       "      <th>9</th>\n",
       "      <td>-19.25</td>\n",
       "      <td>-19.238825</td>\n",
       "      <td>56445.021600</td>\n",
       "      <td>1.203459</td>\n",
       "      <td>0.003710</td>\n",
       "      <td>0.000363</td>\n",
       "      <td>87</td>\n",
       "      <td>-2.430644</td>\n",
       "      <td>0.042443</td>\n",
       "    </tr>\n",
       "    <tr>\n",
       "      <th>10</th>\n",
       "      <td>-18.75</td>\n",
       "      <td>-18.742476</td>\n",
       "      <td>56527.201519</td>\n",
       "      <td>1.201142</td>\n",
       "      <td>0.004845</td>\n",
       "      <td>0.000414</td>\n",
       "      <td>114</td>\n",
       "      <td>-2.314732</td>\n",
       "      <td>0.037114</td>\n",
       "    </tr>\n",
       "    <tr>\n",
       "      <th>11</th>\n",
       "      <td>-18.25</td>\n",
       "      <td>-18.276944</td>\n",
       "      <td>56555.187281</td>\n",
       "      <td>1.217486</td>\n",
       "      <td>0.006157</td>\n",
       "      <td>0.000467</td>\n",
       "      <td>143</td>\n",
       "      <td>-2.210644</td>\n",
       "      <td>0.032914</td>\n",
       "    </tr>\n",
       "    <tr>\n",
       "      <th>12</th>\n",
       "      <td>-17.75</td>\n",
       "      <td>-17.726163</td>\n",
       "      <td>56572.416649</td>\n",
       "      <td>1.247873</td>\n",
       "      <td>0.007500</td>\n",
       "      <td>0.000515</td>\n",
       "      <td>170</td>\n",
       "      <td>-2.124956</td>\n",
       "      <td>0.029818</td>\n",
       "    </tr>\n",
       "    <tr>\n",
       "      <th>13</th>\n",
       "      <td>-17.25</td>\n",
       "      <td>-17.241188</td>\n",
       "      <td>56329.004012</td>\n",
       "      <td>1.302069</td>\n",
       "      <td>0.007959</td>\n",
       "      <td>0.000545</td>\n",
       "      <td>170</td>\n",
       "      <td>-2.099122</td>\n",
       "      <td>0.029749</td>\n",
       "    </tr>\n",
       "    <tr>\n",
       "      <th>14</th>\n",
       "      <td>-16.75</td>\n",
       "      <td>-16.756843</td>\n",
       "      <td>51127.545329</td>\n",
       "      <td>1.378913</td>\n",
       "      <td>0.008112</td>\n",
       "      <td>0.000586</td>\n",
       "      <td>145</td>\n",
       "      <td>-2.090894</td>\n",
       "      <td>0.031377</td>\n",
       "    </tr>\n",
       "    <tr>\n",
       "      <th>15</th>\n",
       "      <td>-16.25</td>\n",
       "      <td>-16.240224</td>\n",
       "      <td>34370.145760</td>\n",
       "      <td>1.360116</td>\n",
       "      <td>0.010561</td>\n",
       "      <td>0.000855</td>\n",
       "      <td>121</td>\n",
       "      <td>-1.976302</td>\n",
       "      <td>0.035148</td>\n",
       "    </tr>\n",
       "    <tr>\n",
       "      <th>16</th>\n",
       "      <td>-15.75</td>\n",
       "      <td>-15.808548</td>\n",
       "      <td>20884.402565</td>\n",
       "      <td>1.458107</td>\n",
       "      <td>0.014804</td>\n",
       "      <td>0.001318</td>\n",
       "      <td>94</td>\n",
       "      <td>-1.829618</td>\n",
       "      <td>0.038661</td>\n",
       "    </tr>\n",
       "    <tr>\n",
       "      <th>17</th>\n",
       "      <td>-15.25</td>\n",
       "      <td>-15.273107</td>\n",
       "      <td>13845.108051</td>\n",
       "      <td>1.407419</td>\n",
       "      <td>0.012381</td>\n",
       "      <td>0.001607</td>\n",
       "      <td>48</td>\n",
       "      <td>-1.907245</td>\n",
       "      <td>0.056372</td>\n",
       "    </tr>\n",
       "  </tbody>\n",
       "</table>\n",
       "</div>"
      ],
      "text/plain": [
       "    Absolute_Magnitude_Bin  Average_Absolute_Magnitude  \\\n",
       "0                   -23.75                         NaN   \n",
       "1                   -23.25                         NaN   \n",
       "2                   -22.75                  -22.772321   \n",
       "3                   -22.25                  -22.233344   \n",
       "4                   -21.75                  -21.650996   \n",
       "5                   -21.25                  -21.218194   \n",
       "6                   -20.75                  -20.702192   \n",
       "7                   -20.25                  -20.225127   \n",
       "8                   -19.75                  -19.767604   \n",
       "9                   -19.25                  -19.238825   \n",
       "10                  -18.75                  -18.742476   \n",
       "11                  -18.25                  -18.276944   \n",
       "12                  -17.75                  -17.726163   \n",
       "13                  -17.25                  -17.241188   \n",
       "14                  -16.75                  -16.756843   \n",
       "15                  -16.25                  -16.240224   \n",
       "16                  -15.75                  -15.808548   \n",
       "17                  -15.25                  -15.273107   \n",
       "\n",
       "    Average_Comoving_Volume  Average_Weight  Number_Density  \\\n",
       "0                       NaN             NaN        0.000000   \n",
       "1                       NaN             NaN        0.000000   \n",
       "2              54622.201875        5.750000        0.000211   \n",
       "3              54800.480649        5.500000        0.000201   \n",
       "4              51994.218200        1.050041        0.000242   \n",
       "5              54338.980626        1.436025        0.000787   \n",
       "6              55463.190294        1.301214        0.001359   \n",
       "7              55989.533196        1.159435        0.002112   \n",
       "8              56251.590329        1.178844        0.002473   \n",
       "9              56445.021600        1.203459        0.003710   \n",
       "10             56527.201519        1.201142        0.004845   \n",
       "11             56555.187281        1.217486        0.006157   \n",
       "12             56572.416649        1.247873        0.007500   \n",
       "13             56329.004012        1.302069        0.007959   \n",
       "14             51127.545329        1.378913        0.008112   \n",
       "15             34370.145760        1.360116        0.010561   \n",
       "16             20884.402565        1.458107        0.014804   \n",
       "17             13845.108051        1.407419        0.012381   \n",
       "\n",
       "    Number_Density_Error  Number_Of_Gals  Log10Phi  Log10Err  \n",
       "0               0.000000               0      -inf       NaN  \n",
       "1               0.000000               0      -inf       NaN  \n",
       "2               0.000088               1 -3.676671  0.181113  \n",
       "3               0.000086               1 -3.697392  0.185184  \n",
       "4               0.000097               6 -3.615430  0.173059  \n",
       "5               0.000170              15 -3.103821  0.093592  \n",
       "6               0.000221              29 -2.866654  0.070701  \n",
       "7               0.000275              51 -2.675316  0.056478  \n",
       "8               0.000297              59 -2.606809  0.052075  \n",
       "9               0.000363              87 -2.430644  0.042443  \n",
       "10              0.000414             114 -2.314732  0.037114  \n",
       "11              0.000467             143 -2.210644  0.032914  \n",
       "12              0.000515             170 -2.124956  0.029818  \n",
       "13              0.000545             170 -2.099122  0.029749  \n",
       "14              0.000586             145 -2.090894  0.031377  \n",
       "15              0.000855             121 -1.976302  0.035148  \n",
       "16              0.001318              94 -1.829618  0.038661  \n",
       "17              0.001607              48 -1.907245  0.056372  "
      ]
     },
     "execution_count": 54,
     "metadata": {},
     "output_type": "execute_result"
    }
   ],
   "source": [
    "Luminosity_Function"
   ]
  },
  {
   "cell_type": "code",
   "execution_count": 55,
   "metadata": {},
   "outputs": [],
   "source": [
    "if args.LCBGLIST:\n",
    "    Luminosity_Function.to_csv(args.lfdir+'LF_{}_{}_LCBG.csv'.format(int(args.zmin*100),int(args.zmax*100)))\n",
    "else:\n",
    "    Luminosity_Function.to_csv(args.lfdir+'LF_{}_{}.csv'.format(int(args.zmin*100),int(args.zmax*100)))"
   ]
  },
  {
   "cell_type": "code",
   "execution_count": null,
   "metadata": {},
   "outputs": [],
   "source": []
  },
  {
   "cell_type": "code",
   "execution_count": 236,
   "metadata": {},
   "outputs": [
    {
     "data": {
      "text/plain": [
       "4034"
      ]
     },
     "execution_count": 236,
     "metadata": {},
     "output_type": "execute_result"
    }
   ],
   "source": [
    "sum(Luminosity_Function.Number_Of_Gals)"
   ]
  }
 ],
 "metadata": {
  "kernelspec": {
   "display_name": "Python 3",
   "language": "python",
   "name": "python3"
  },
  "language_info": {
   "codemirror_mode": {
    "name": "ipython",
    "version": 3
   },
   "file_extension": ".py",
   "mimetype": "text/x-python",
   "name": "python",
   "nbconvert_exporter": "python",
   "pygments_lexer": "ipython3",
   "version": "3.6.6"
  }
 },
 "nbformat": 4,
 "nbformat_minor": 2
}
