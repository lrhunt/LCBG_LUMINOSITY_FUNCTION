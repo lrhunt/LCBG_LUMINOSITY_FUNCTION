{
 "cells": [
  {
   "cell_type": "code",
   "execution_count": 30,
   "metadata": {},
   "outputs": [],
   "source": [
    "import os\n",
    "import pandas as pd\n",
    "import numpy as np"
   ]
  },
  {
   "cell_type": "code",
   "execution_count": 31,
   "metadata": {},
   "outputs": [],
   "source": [
    "kcordir=os.environ[\"KCORRECT_DIR\"]\n",
    "filter_dir=kcordir+'/data/filters/'\n",
    "cosmos_filters=filter_dir+'cosmos_filters/files_from_cosmos/'"
   ]
  },
  {
   "cell_type": "code",
   "execution_count": 32,
   "metadata": {},
   "outputs": [],
   "source": [
    "filter_list=[]\n",
    "for file in os.listdir(cosmos_filters):\n",
    "    if file.endswith('.res'):\n",
    "        filter_list.append(cosmos_filters+file)"
   ]
  },
  {
   "cell_type": "code",
   "execution_count": 33,
   "metadata": {},
   "outputs": [
    {
     "data": {
      "text/plain": [
       "['/Users/lucashunt/programs/kcorrect/data/filters/cosmos_filters/files_from_cosmos/H_uv.res',\n",
       " '/Users/lucashunt/programs/kcorrect/data/filters/cosmos_filters/files_from_cosmos/J_uv.res',\n",
       " '/Users/lucashunt/programs/kcorrect/data/filters/cosmos_filters/files_from_cosmos/K_uv.res',\n",
       " '/Users/lucashunt/programs/kcorrect/data/filters/cosmos_filters/files_from_cosmos/Y_uv.res']"
      ]
     },
     "execution_count": 33,
     "metadata": {},
     "output_type": "execute_result"
    }
   ],
   "source": [
    "filter_list"
   ]
  },
  {
   "cell_type": "code",
   "execution_count": 34,
   "metadata": {},
   "outputs": [
    {
     "data": {
      "text/plain": [
       "'/Users/lucashunt/programs/kcorrect/data/filters/cosmos_filters/files_from_cosmos/vircam_H.par'"
      ]
     },
     "execution_count": 34,
     "metadata": {},
     "output_type": "execute_result"
    }
   ],
   "source": [
    "cosmos_filters+'vircam_'+filter_list[0].split('/')[-1].split('_')[0]+'.par'"
   ]
  },
  {
   "cell_type": "code",
   "execution_count": 35,
   "metadata": {},
   "outputs": [
    {
     "data": {
      "text/plain": [
       "'/Users/lucashunt/programs/kcorrect/data/filters/cosmos_filters/vircam_H.par'"
      ]
     },
     "execution_count": 35,
     "metadata": {},
     "output_type": "execute_result"
    }
   ],
   "source": [
    "cosmos_filters.split('files_from')[0]+'vircam_'+filter_list[0].split('/')[-1].split('_')[0]+'.par'"
   ]
  },
  {
   "cell_type": "code",
   "execution_count": 37,
   "metadata": {},
   "outputs": [
    {
     "data": {
      "text/plain": [
       "0      14210.0\n",
       "1      14230.0\n",
       "2      14250.0\n",
       "3      14270.0\n",
       "4      14290.0\n",
       "5      14310.0\n",
       "6      14330.0\n",
       "7      14350.0\n",
       "8      14370.0\n",
       "9      14390.0\n",
       "10     14410.0\n",
       "11     14430.0\n",
       "12     14450.0\n",
       "13     14470.0\n",
       "14     14490.0\n",
       "15     14510.0\n",
       "16     14530.0\n",
       "17     14550.0\n",
       "18     14570.0\n",
       "19     14590.0\n",
       "20     14610.0\n",
       "21     14630.0\n",
       "22     14650.0\n",
       "23     14670.0\n",
       "24     14690.0\n",
       "25     14710.0\n",
       "26     14730.0\n",
       "27     14750.0\n",
       "28     14770.0\n",
       "29     14790.0\n",
       "        ...   \n",
       "194    18090.0\n",
       "195    18110.0\n",
       "196    18130.0\n",
       "197    18150.0\n",
       "198    18170.0\n",
       "199    18190.0\n",
       "200    18210.0\n",
       "201    18230.0\n",
       "202    18250.0\n",
       "203    18270.0\n",
       "204    18290.0\n",
       "205    18310.0\n",
       "206    18330.0\n",
       "207    18350.0\n",
       "208    18370.0\n",
       "209    18390.0\n",
       "210    18410.0\n",
       "211    18430.0\n",
       "212    18450.0\n",
       "213    18470.0\n",
       "214    18490.0\n",
       "215    18510.0\n",
       "216    18530.0\n",
       "217    18550.0\n",
       "218    18570.0\n",
       "219    18590.0\n",
       "220    18610.0\n",
       "221    18630.0\n",
       "222    18650.0\n",
       "223    18670.0\n",
       "Name: wavelength, Length: 224, dtype: float64"
      ]
     },
     "execution_count": 37,
     "metadata": {},
     "output_type": "execute_result"
    }
   ],
   "source": [
    "new_filter['wavelength']"
   ]
  },
  {
   "cell_type": "code",
   "execution_count": 29,
   "metadata": {},
   "outputs": [
    {
     "name": "stdout",
     "output_type": "stream",
     "text": [
      "<_io.TextIOWrapper name='/Users/lucashunt/programs/kcorrect/data/filters/cosmos_filters/vircam_H.par' mode='a' encoding='UTF-8'>\n",
      "<_io.TextIOWrapper name='/Users/lucashunt/programs/kcorrect/data/filters/cosmos_filters/vircam_J.par' mode='a' encoding='UTF-8'>\n",
      "<_io.TextIOWrapper name='/Users/lucashunt/programs/kcorrect/data/filters/cosmos_filters/vircam_K.par' mode='a' encoding='UTF-8'>\n",
      "<_io.TextIOWrapper name='/Users/lucashunt/programs/kcorrect/data/filters/cosmos_filters/vircam_Y.par' mode='a' encoding='UTF-8'>\n"
     ]
    }
   ],
   "source": [
    "for filt in filter_list:\n",
    "    new_filter=pd.read_csv(filt,\n",
    "                           delim_whitespace=True,\n",
    "                           error_bad_lines=False,\n",
    "                           comment='#',\n",
    "                           names=['wavelength','transmission'],\n",
    "                          dtype=float)\n",
    "    new_filter['text_column']='KFILTER_VIRCAM'\n",
    "    cols=new_filter.columns.tolist()\n",
    "    cols=cols[-1:]+cols[:-1]\n",
    "    new_filter=new_filter[cols]\n",
    "    with open(cosmos_filters+'vircam_'+filt.split('/')[-1].split('_')[0]+'.par','w') as txt_fl:\n",
    "        txt_fl.write('# Units:\\r')\n",
    "        txt_fl.write('#  \"lambda\" is in Angstroms')\n",
    "        txt_fl.write('#\\r')\n",
    "        txt_fl.write('#  \"pass\" is the contribution to the detector signal per photon\\r')\n",
    "        txt_fl.write('#         entering the atmosphere of Earth (for airmass 1.3)\\r')\n",
    "        txt_fl.write('#\\r')\n",
    "        txt_fl.write('# Bandpass Name(s): '+filt.split('/')[-1].split('_')[0]+'\\r')\n",
    "        txt_fl.write('#\\r')\n",
    "        txt_fl.write('# Instrument: VIRCAM on VISTA Telescope \\r')\n",
    "        txt_fl.write('# \\r')\n",
    "        txt_fl.write('# Available here http://www.eso.org/sci/facilities/paranal/instruments/vircam/inst.html')\n",
    "        txt_fl.write('#\\r')\n",
    "        txt_fl.write('# Date of determination: Unknown\\r')\n",
    "        txt_fl.write('#\\r')\n",
    "        txt_fl.write('# Meaning of/Reason for default column: 1.3 airmass; typical for observations\\r')\n",
    "        txt_fl.write('#\\r')\n",
    "        txt_fl.write('# Notes:\\r')\n",
    "        txt_fl.write('#\\r')\n",
    "        txt_fl.write('# This file created from the above paper by\\r')\n",
    "        txt_fl.write('# Anthony Smith 2005-11-18\\r')\n",
    "        txt_fl.write('\\r')\n",
    "        txt_fl.write('typedef struct {\\r')\n",
    "        txt_fl.write('  double lambda;\\r')\n",
    "        txt_fl.write('  double pass;\\r')\n",
    "        txt_fl.write('} KFILTER_VIRCAM;\\r')\n",
    "        txt_fl.write('\\r')\n",
    "    with open(cosmos_filters.split('files_from')[0]+'vircam_'+filt.split('/')[-1].split('_')[0]+'.par','a') as txt_fl:\n",
    "        new_filter.to_csv(txt_fl, header=False,index=False,sep='\\t',float_format='%.3f')\n",
    "        print(txt_fl)\n"
   ]
  }
 ],
 "metadata": {
  "kernelspec": {
   "display_name": "Python 3",
   "language": "python",
   "name": "python3"
  },
  "language_info": {
   "codemirror_mode": {
    "name": "ipython",
    "version": 3
   },
   "file_extension": ".py",
   "mimetype": "text/x-python",
   "name": "python",
   "nbconvert_exporter": "python",
   "pygments_lexer": "ipython3",
   "version": "3.6.7"
  }
 },
 "nbformat": 4,
 "nbformat_minor": 2
}
