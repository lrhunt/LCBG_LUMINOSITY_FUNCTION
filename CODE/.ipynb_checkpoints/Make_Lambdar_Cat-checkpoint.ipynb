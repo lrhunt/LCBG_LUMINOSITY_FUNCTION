{
 "cells": [
  {
   "cell_type": "code",
   "execution_count": 1,
   "metadata": {},
   "outputs": [],
   "source": [
    "import pandas as pd\n",
    "import numpy as np\n",
    "import astropy as ap\n",
    "from astropy import units as u\n",
    "from astropy.coordinates import SkyCoord\n",
    "import kcorrect\n",
    "import kcorrect.utils as ut\n",
    "from astropy.cosmology import FlatLambdaCDM\n",
    "import os\n",
    "import matplotlib.pyplot as plt\n",
    "from itertools import combinations"
   ]
  },
  {
   "cell_type": "markdown",
   "metadata": {},
   "source": [
    "Defining Cosmology"
   ]
  },
  {
   "cell_type": "code",
   "execution_count": 2,
   "metadata": {},
   "outputs": [],
   "source": [
    "cosmo=FlatLambdaCDM(H0=70,Om0=0.3)"
   ]
  },
  {
   "cell_type": "markdown",
   "metadata": {},
   "source": [
    "Reading in Catalogs (LAMBDAR and TASCA)"
   ]
  },
  {
   "cell_type": "code",
   "execution_count": 49,
   "metadata": {},
   "outputs": [],
   "source": [
    "def make_kcorr_filt_template(dataframe):\n",
    "    '''This task will make a kcorrect filter template from a dataframe that optimizes the number of objects with detections in a subset of filters. In this case the dataframe should contain cfht, subaru, and irac wideband filters. '''\n",
    "    kcordir=os.environ[\"KCORRECT_DIR\"]\n",
    "    lambdar_to_kcorr={'mag_cfht_u':'capak_cfht_megaprime_sagem_u.par','mag_subaru_B':'capak_subaru_suprimecam_B.par','mag_subaru_V':'capak_subaru_suprimecam_V.par','mag_subaru_g':'capak_subaru_suprimecam_g.par','mag_subaru_r':'capak_subaru_suprimecam_r.par','mag_subaru_i':'capak_subaru_suprimecam_i.par','mag_subaru_z':'capak_subaru_suprimecam_z.par','mag_irac_1':'spitzer_irac_ch1.par','mag_irac_2':'spitzer_irac_ch2.par','mag_irac_3':'spitzer_irac_ch3.par','mag_irac_4':'spitzer_irac_ch4.par'}\n",
    "    numb1=0\n",
    "    numb2=0\n",
    "    numb3=0\n",
    "    numb4=0\n",
    "    numb5=0\n",
    "    flist1=[]\n",
    "    flist2=[]\n",
    "    flist3=[]\n",
    "    flist4=[]\n",
    "    flist5=[]\n",
    "    ilist1=[]\n",
    "    ilist2=[]\n",
    "    ilist3=[]\n",
    "    ilist4=[]\n",
    "    ilist5=[]\n",
    "    kcor_template=kcordir+'/data/templates/temp_filt_list.dat'\n",
    "    for x in combinations(list(dataframe),7):\n",
    "        if len(dataframe[(dataframe[x[0]]<40)&(dataframe[x[1]]<40)&(dataframe[x[2]]<40)&(dataframe[x[3]]<40)&(dataframe[x[4]]<40)]) > numb1:\n",
    "            ilist5=ilist4\n",
    "            ilist4=ilist3\n",
    "            ilist3=ilist2\n",
    "            ilist2=ilist1\n",
    "            ilist1=dataframe[(dataframe[x[0]]<40)&(dataframe[x[1]]<40)&(dataframe[x[2]]<40)&(dataframe[x[3]]<40)&(dataframe[x[4]]<40)].index.tolist()\n",
    "            numb5=numb4\n",
    "            numb4=numb3\n",
    "            numb3=numb2\n",
    "            numb2=numb1\n",
    "            numb1=len(ilist1)\n",
    "            flist5=flist4\n",
    "            flist4=flist3\n",
    "            flist3=flist2\n",
    "            flist2=flist1\n",
    "            flist1=x\n",
    "    with open(kcor_template,'w') as file:\n",
    "        file.write('KCORRECT_DIR\\n')\n",
    "        for filt in flist1:\n",
    "            file.write('data/filters/'+lambdar_to_kcorr[filt]+'\\n')\n",
    "    return flist1,kcor_template"
   ]
  },
  {
   "cell_type": "code",
   "execution_count": 4,
   "metadata": {},
   "outputs": [
    {
     "name": "stdout",
     "output_type": "stream",
     "text": [
      "Reading in Catalogs\n"
     ]
    }
   ],
   "source": [
    "print('Reading in Catalogs')\n",
    "COSMOS_PHOT_LAMBDAR=pd.read_csv('/Users/lucashunt/ASTRODATA/LCBG_LUMINOSITY_FUNCTION/COSMOS_CATALOGS/Photometry/G10CosmosLAMBDARCatv05.csv')\n",
    "TASCA_COSMOS_MORPH=pd.read_csv('/Users/lucashunt/ASTRODATA/LCBG_LUMINOSITY_FUNCTION/COSMOS_CATALOGS/Morphology/MORPH.tsv',delim_whitespace=True,header=53,dtype=float,error_bad_lines=False)\n"
   ]
  },
  {
   "cell_type": "markdown",
   "metadata": {},
   "source": [
    "Setting Variables"
   ]
  },
  {
   "cell_type": "code",
   "execution_count": 5,
   "metadata": {},
   "outputs": [],
   "source": [
    "kcordir=os.environ[\"KCORRECT_DIR\"]"
   ]
  },
  {
   "cell_type": "markdown",
   "metadata": {},
   "source": [
    "*********************************************\n",
    "Matching Catalogs\n",
    "*********************************************"
   ]
  },
  {
   "cell_type": "code",
   "execution_count": 6,
   "metadata": {},
   "outputs": [
    {
     "name": "stdout",
     "output_type": "stream",
     "text": [
      "Matching Catalogs\n"
     ]
    }
   ],
   "source": [
    "print('Matching Catalogs')"
   ]
  },
  {
   "cell_type": "markdown",
   "metadata": {},
   "source": [
    "Generating Astropy skycoord objects to easily match catalogs based on position"
   ]
  },
  {
   "cell_type": "code",
   "execution_count": 7,
   "metadata": {},
   "outputs": [],
   "source": [
    "TASCA_COORD=SkyCoord(ra=TASCA_COSMOS_MORPH['RAJ2000'].values*u.degree,dec=TASCA_COSMOS_MORPH['DEJ2000'].values*u.degree)\n",
    "G10_COORD=SkyCoord(ra=COSMOS_PHOT_LAMBDAR['RA'].values*u.degree,dec=COSMOS_PHOT_LAMBDAR['DEC'].values*u.degree)"
   ]
  },
  {
   "cell_type": "markdown",
   "metadata": {},
   "source": [
    "Matching Catalogs"
   ]
  },
  {
   "cell_type": "code",
   "execution_count": 8,
   "metadata": {},
   "outputs": [],
   "source": [
    "idx,d2d,d3d=G10_COORD.match_to_catalog_sky(TASCA_COORD)\n",
    "COSMOS_PHOT_LAMBDAR['Rh']=TASCA_COSMOS_MORPH['Rh'][idx].values\n",
    "COSMOS_PHOT_LAMBDAR['separation']=d2d.arcsecond\n",
    "COSMOS_PHOT_LAMBDAR.loc[COSMOS_PHOT_LAMBDAR.separation>1,'Rh']=np.nan\n",
    "COSMOS_FLUXES=COSMOS_PHOT_LAMBDAR"
   ]
  },
  {
   "cell_type": "markdown",
   "metadata": {},
   "source": [
    "*********************************************\n",
    "Calculating apparent magnitudes\n",
    "*********************************************"
   ]
  },
  {
   "cell_type": "code",
   "execution_count": 9,
   "metadata": {},
   "outputs": [
    {
     "name": "stdout",
     "output_type": "stream",
     "text": [
      "Calculating apparent magnitudes\n"
     ]
    }
   ],
   "source": [
    "print('Calculating apparent magnitudes')"
   ]
  },
  {
   "cell_type": "markdown",
   "metadata": {},
   "source": [
    "Determining what data is in each column"
   ]
  },
  {
   "cell_type": "code",
   "execution_count": 10,
   "metadata": {},
   "outputs": [],
   "source": [
    "column_headers=COSMOS_FLUXES.columns.values\n",
    "telescope_flux_headers=[s for s in column_headers if (('subaru' in s) or ('uvista' in s) or ('galex' in s) or ('cfht' in s) or ('irac' in s) or ('mips' in s) or ('pacs' in s) or ('spire' in s)) and ('err' not in s)]"
   ]
  },
  {
   "cell_type": "markdown",
   "metadata": {},
   "source": [
    "Calculating magnitudes (And creating column for maggies, see kcorrect.org for explanation)"
   ]
  },
  {
   "cell_type": "code",
   "execution_count": 11,
   "metadata": {},
   "outputs": [
    {
     "name": "stderr",
     "output_type": "stream",
     "text": [
      "/Users/lucashunt/programs/anaconda3/anaconda3/lib/python3.6/site-packages/ipykernel_launcher.py:2: RuntimeWarning: divide by zero encountered in log10\n",
      "  \n",
      "/Users/lucashunt/programs/anaconda3/anaconda3/lib/python3.6/site-packages/ipykernel_launcher.py:2: RuntimeWarning: invalid value encountered in log10\n",
      "  \n"
     ]
    }
   ],
   "source": [
    "for i in telescope_flux_headers:\n",
    "    COSMOS_FLUXES['mag_'+i]=-2.5*np.log10(COSMOS_FLUXES[i]/3631)\n",
    "    COSMOS_FLUXES['mag_'+i+'_err']=2.5/np.log(10)*COSMOS_FLUXES[i+'_err']/COSMOS_FLUXES[i]\n",
    "    COSMOS_FLUXES['maggies_'+i]=np.nan\n",
    "    COSMOS_FLUXES['invervar_'+i]=np.nan\n",
    "\n",
    "COSMOS_FLUXES.loc[COSMOS_FLUXES.isnull().mag_galex_fuv,'mag_galex_fuv_err']=np.nan\n",
    "COSMOS_FLUXES.loc[COSMOS_FLUXES.isnull().mag_galex_nuv,'mag_galex_nuv_err']=np.nan"
   ]
  },
  {
   "cell_type": "code",
   "execution_count": 50,
   "metadata": {},
   "outputs": [],
   "source": [
    "optimize_kcorr_filts=COSMOS_FLUXES[[filt for filt in COSMOS_FLUXES.columns.values if ('mag' in filt) & ('maggies' not in filt) & (('subaru' in filt) | ('irac' in filt) | ('cfht' in filt)) & ('ia' not in filt) & ('nb' not in filt) & ('err' not in filt)]]"
   ]
  },
  {
   "cell_type": "code",
   "execution_count": 51,
   "metadata": {},
   "outputs": [],
   "source": [
    "kcorr_filt_list,kcor_template_filter=make_kcorr_filt_template(optimize_kcorr_filts)"
   ]
  },
  {
   "cell_type": "code",
   "execution_count": 52,
   "metadata": {},
   "outputs": [
    {
     "data": {
      "text/plain": [
       "('mag_subaru_B',\n",
       " 'mag_subaru_V',\n",
       " 'mag_subaru_r',\n",
       " 'mag_subaru_i',\n",
       " 'mag_subaru_z',\n",
       " 'mag_irac_1',\n",
       " 'mag_irac_2')"
      ]
     },
     "execution_count": 52,
     "metadata": {},
     "output_type": "execute_result"
    }
   ],
   "source": [
    "kcorr_filt_list"
   ]
  },
  {
   "cell_type": "markdown",
   "metadata": {},
   "source": [
    "*********************************************\n",
    "Getting k-correction\n",
    "*********************************************"
   ]
  },
  {
   "cell_type": "markdown",
   "metadata": {},
   "source": [
    "Making columns for kcorrect output values"
   ]
  },
  {
   "cell_type": "code",
   "execution_count": 14,
   "metadata": {},
   "outputs": [],
   "source": [
    "numbers=np.arange(1,7,1)\n",
    "for string in ['c'+str(number) for number in numbers]:\n",
    "    COSMOS_FLUXES[string]=np.nan"
   ]
  },
  {
   "cell_type": "markdown",
   "metadata": {},
   "source": [
    "Making list that contains filters used for k-correction, making columns for synthetic filters. "
   ]
  },
  {
   "cell_type": "markdown",
   "metadata": {},
   "source": [
    "Converting to maggies and invervar"
   ]
  },
  {
   "cell_type": "code",
   "execution_count": 15,
   "metadata": {},
   "outputs": [],
   "source": [
    "column_headers=COSMOS_FLUXES.columns.values"
   ]
  },
  {
   "cell_type": "code",
   "execution_count": 16,
   "metadata": {},
   "outputs": [
    {
     "name": "stdout",
     "output_type": "stream",
     "text": [
      "Converting to maggies\n"
     ]
    }
   ],
   "source": [
    "print('Converting to maggies')\n",
    "column_headers=COSMOS_FLUXES.columns.values\n",
    "for column in column_headers:\n",
    "    if 'maggies' in column:\n",
    "        COSMOS_FLUXES[column]=ut.mag2maggies(COSMOS_FLUXES['mag_'+column.split('maggies_')[1]])\n",
    "        COSMOS_FLUXES['invervar_'+column.split('maggies_')[1]]=ut.invariance(COSMOS_FLUXES[column],COSMOS_FLUXES['mag_'+column.split('maggies_')[1]+'_err'])"
   ]
  },
  {
   "cell_type": "markdown",
   "metadata": {},
   "source": [
    "Here we make a list of the filters we want to use for the k-correct code"
   ]
  },
  {
   "cell_type": "code",
   "execution_count": 17,
   "metadata": {},
   "outputs": [],
   "source": [
    "kcorr_filts=['cfht_u','subaru_B','subaru_V','subaru_r','subaru_i','subaru_z']\n",
    "for f in kcorr_filts:\n",
    "    COSMOS_FLUXES[f+'_synthetic']=np.nan\n",
    "    COSMOS_FLUXES[f+'0_synthetic']=np.nan"
   ]
  },
  {
   "cell_type": "markdown",
   "metadata": {},
   "source": [
    "Loading Filters"
   ]
  },
  {
   "cell_type": "code",
   "execution_count": 18,
   "metadata": {},
   "outputs": [],
   "source": [
    "kcorrect.load_templates()\n",
    "kcorrect.load_filters(kcor_template_filter)"
   ]
  },
  {
   "cell_type": "markdown",
   "metadata": {},
   "source": [
    "Creating an index array so that we step through each source to calculate the coefficients needed for k-correct"
   ]
  },
  {
   "cell_type": "code",
   "execution_count": 19,
   "metadata": {},
   "outputs": [],
   "source": [
    "cmm_ind=COSMOS_FLUXES.index.values"
   ]
  },
  {
   "cell_type": "code",
   "execution_count": 21,
   "metadata": {},
   "outputs": [],
   "source": [
    "for i in cmm_ind:\n",
    "    COSMOS_FLUXES.loc[i,'c1':'c6']=kcorrect.fit_nonneg(np.array(COSMOS_FLUXES.loc[i,'Z_BEST'],dtype=float),np.array(COSMOS_FLUXES.loc[i,['maggies_'+col.split('mag_')[1] for col in kcorr_filt_list]],dtype=float),np.array(COSMOS_FLUXES.loc[i,['invervar_'+col.split('mag_')[1] for col in kcorr_filt_list]],dtype=float))"
   ]
  },
  {
   "cell_type": "markdown",
   "metadata": {},
   "source": [
    "Recalculating the \"maggies\" for each object based on the best guess of the SED"
   ]
  },
  {
   "cell_type": "code",
   "execution_count": 22,
   "metadata": {},
   "outputs": [],
   "source": [
    "kcorrect.load_templates()\n",
    "kcorrect.load_filters(kcordir+'/data/templates/Lum_Func_Filters_US.dat')"
   ]
  },
  {
   "cell_type": "code",
   "execution_count": 23,
   "metadata": {},
   "outputs": [],
   "source": [
    "for i in cmm_ind:\n",
    "    COSMOS_FLUXES.loc[i,[f+'_synthetic' for f in kcorr_filts]]=kcorrect.reconstruct_maggies(COSMOS_FLUXES.loc[i,'c1':'c6'])[1:]\n",
    "    COSMOS_FLUXES.loc[i,[f+'0_synthetic' for f in kcorr_filts]]=kcorrect.reconstruct_maggies(COSMOS_FLUXES.loc[i,'c1':'c6'],redshift=0)[1:]"
   ]
  },
  {
   "cell_type": "markdown",
   "metadata": {},
   "source": [
    "Converting the synthetic maggies to apparent magnitude"
   ]
  },
  {
   "cell_type": "code",
   "execution_count": 24,
   "metadata": {},
   "outputs": [],
   "source": [
    "COSMOS_FLUXES[[f+'_synthetic_mag' for f in kcorr_filts]]=-2.5*np.log10(COSMOS_FLUXES[[f+'_synthetic' for f in kcorr_filts]])"
   ]
  },
  {
   "cell_type": "markdown",
   "metadata": {},
   "source": [
    "Calculating Johnson U/B/V from the SED"
   ]
  },
  {
   "cell_type": "code",
   "execution_count": 25,
   "metadata": {},
   "outputs": [],
   "source": [
    "COSMOS_FLUXES['U0_synthetic']=np.nan\n",
    "COSMOS_FLUXES['B0_synthetic']=np.nan\n",
    "COSMOS_FLUXES['V0_synthetic']=np.nan"
   ]
  },
  {
   "cell_type": "code",
   "execution_count": 26,
   "metadata": {},
   "outputs": [],
   "source": [
    "kcorrect.load_templates()\n",
    "kcorrect.load_filters(kcordir+'/data/templates/bessell_ubv.dat')"
   ]
  },
  {
   "cell_type": "code",
   "execution_count": 27,
   "metadata": {},
   "outputs": [],
   "source": [
    "for i in cmm_ind:\n",
    "    COSMOS_FLUXES.loc[i,['U0_synthetic','B0_synthetic','V0_synthetic']]=kcorrect.reconstruct_maggies(COSMOS_FLUXES.loc[i,'c1':'c6'],redshift=0)[1:]"
   ]
  },
  {
   "cell_type": "markdown",
   "metadata": {},
   "source": [
    "Converting to magnitudes and then adding offsets to go from AB magnitudes to Vega magnitudes"
   ]
  },
  {
   "cell_type": "code",
   "execution_count": 28,
   "metadata": {
    "scrolled": true
   },
   "outputs": [],
   "source": [
    "COSMOS_FLUXES[['U0_synthetic_mag','B0_synthetic_mag','V0_synthetic_mag']]=-2.5*np.log10(COSMOS_FLUXES[['U0_synthetic','B0_synthetic','V0_synthetic']])\n",
    "COSMOS_FLUXES['U0_synthetic_mag']=COSMOS_FLUXES['U0_synthetic_mag']-0.79\n",
    "COSMOS_FLUXES['B0_synthetic_mag']=COSMOS_FLUXES['B0_synthetic_mag']+0.09\n",
    "COSMOS_FLUXES['V0_synthetic_mag']=COSMOS_FLUXES['V0_synthetic_mag']-0.02"
   ]
  },
  {
   "cell_type": "markdown",
   "metadata": {},
   "source": [
    "Actually calculating k-correction from Subaru filters to Bessell Filters"
   ]
  },
  {
   "cell_type": "code",
   "execution_count": 29,
   "metadata": {},
   "outputs": [],
   "source": [
    "COSMOS_FLUXES[[f+'_kcorr_B' for f in kcorr_filts]]=-2.5*np.log10(COSMOS_FLUXES[[f+'_synthetic' for f in kcorr_filts]]/np.stack((COSMOS_FLUXES['B0_synthetic'],COSMOS_FLUXES['B0_synthetic'],COSMOS_FLUXES['B0_synthetic'],COSMOS_FLUXES['B0_synthetic'],COSMOS_FLUXES['B0_synthetic'],COSMOS_FLUXES['B0_synthetic']),axis=-1))"
   ]
  },
  {
   "cell_type": "markdown",
   "metadata": {},
   "source": [
    "Calculating B-V color"
   ]
  },
  {
   "cell_type": "code",
   "execution_count": 30,
   "metadata": {},
   "outputs": [],
   "source": [
    "COSMOS_FLUXES['rest_frame_B-V']=COSMOS_FLUXES['B0_synthetic_mag']-COSMOS_FLUXES['V0_synthetic_mag']"
   ]
  },
  {
   "cell_type": "markdown",
   "metadata": {},
   "source": [
    "Calculating Absolute Magnitude using k-correction (Different cells below cover different redshift ranges)"
   ]
  },
  {
   "cell_type": "code",
   "execution_count": 31,
   "metadata": {
    "scrolled": true
   },
   "outputs": [],
   "source": [
    "COSMOS_FLUXES['Abs_B_Mag']=np.nan"
   ]
  },
  {
   "cell_type": "code",
   "execution_count": 32,
   "metadata": {},
   "outputs": [
    {
     "name": "stderr",
     "output_type": "stream",
     "text": [
      "/Users/lucashunt/programs/anaconda3/anaconda3/lib/python3.6/site-packages/scipy/integrate/quadpack.py:364: IntegrationWarning: The occurrence of roundoff error is detected, which prevents \n",
      "  the requested tolerance from being achieved.  The error may be \n",
      "  underestimated.\n",
      "  warnings.warn(msg, IntegrationWarning)\n",
      "/Users/lucashunt/programs/anaconda3/anaconda3/lib/python3.6/site-packages/numpy/lib/function_base.py:2815: RuntimeWarning: invalid value encountered in ? (vectorized)\n",
      "  outputs = ufunc(*inputs)\n",
      "/Users/lucashunt/programs/anaconda3/anaconda3/lib/python3.6/site-packages/astropy/cosmology/core.py:1363: RuntimeWarning: divide by zero encountered in log10\n",
      "  val = 5. * np.log10(abs(self.luminosity_distance(z).value)) + 25.0\n"
     ]
    }
   ],
   "source": [
    "COSMOS_FLUXES.loc[COSMOS_FLUXES.Z_BEST<0.1,'Abs_B_Mag']=COSMOS_FLUXES.loc[COSMOS_FLUXES.Z_BEST<0.1,'mag_subaru_B']-0.05122-cosmo.distmod(COSMOS_FLUXES.loc[COSMOS_FLUXES.Z_BEST<0.1,'Z_BEST']).value-COSMOS_FLUXES.loc[COSMOS_FLUXES.Z_BEST<0.1,'subaru_B_kcorr_B']+0.09"
   ]
  },
  {
   "cell_type": "code",
   "execution_count": 33,
   "metadata": {},
   "outputs": [],
   "source": [
    "COSMOS_FLUXES.loc[(COSMOS_FLUXES.Z_BEST>0.1)&(COSMOS_FLUXES.Z_BEST<0.35),'Abs_B_Mag']=COSMOS_FLUXES.loc[(COSMOS_FLUXES.Z_BEST>0.1)&(COSMOS_FLUXES.Z_BEST<0.35),'mag_subaru_V']-0.069802-cosmo.distmod(COSMOS_FLUXES.loc[(COSMOS_FLUXES.Z_BEST>0.1)&(COSMOS_FLUXES.Z_BEST<0.35),'Z_BEST']).value-COSMOS_FLUXES.loc[(COSMOS_FLUXES.Z_BEST>0.1)&(COSMOS_FLUXES.Z_BEST<0.35),'subaru_V_kcorr_B']+0.09"
   ]
  },
  {
   "cell_type": "code",
   "execution_count": 34,
   "metadata": {},
   "outputs": [],
   "source": [
    "COSMOS_FLUXES.loc[(COSMOS_FLUXES.Z_BEST>0.35)&(COSMOS_FLUXES.Z_BEST<0.55),'Abs_B_Mag']=COSMOS_FLUXES.loc[(COSMOS_FLUXES.Z_BEST>0.35)&(COSMOS_FLUXES.Z_BEST<0.55),'mag_subaru_r']-0.01267-cosmo.distmod(COSMOS_FLUXES.loc[(COSMOS_FLUXES.Z_BEST>0.35)&(COSMOS_FLUXES.Z_BEST<0.55),'Z_BEST']).value-COSMOS_FLUXES.loc[(COSMOS_FLUXES.Z_BEST>0.35)&(COSMOS_FLUXES.Z_BEST<0.55),'subaru_r_kcorr_B']+0.09"
   ]
  },
  {
   "cell_type": "code",
   "execution_count": 35,
   "metadata": {},
   "outputs": [],
   "source": [
    "COSMOS_FLUXES.loc[(COSMOS_FLUXES.Z_BEST>0.55)&(COSMOS_FLUXES.Z_BEST<0.75),'Abs_B_Mag']=COSMOS_FLUXES.loc[(COSMOS_FLUXES.Z_BEST>0.55)&(COSMOS_FLUXES.Z_BEST<0.75),'mag_subaru_i']-0.004512-cosmo.distmod(COSMOS_FLUXES.loc[(COSMOS_FLUXES.Z_BEST>0.55)&(COSMOS_FLUXES.Z_BEST<0.75),'Z_BEST']).value-COSMOS_FLUXES.loc[(COSMOS_FLUXES.Z_BEST>0.55)&(COSMOS_FLUXES.Z_BEST<0.75),'subaru_i_kcorr_B']+0.09"
   ]
  },
  {
   "cell_type": "code",
   "execution_count": 36,
   "metadata": {},
   "outputs": [],
   "source": [
    "COSMOS_FLUXES.loc[COSMOS_FLUXES.Z_BEST>0.75,'Abs_B_Mag']=COSMOS_FLUXES.loc[COSMOS_FLUXES.Z_BEST>0.75,'mag_subaru_z']-0.00177-cosmo.distmod(COSMOS_FLUXES.loc[COSMOS_FLUXES.Z_BEST>0.75,'Z_BEST']).value-COSMOS_FLUXES.loc[COSMOS_FLUXES.Z_BEST>0.75,'subaru_z_kcorr_B']+0.09"
   ]
  },
  {
   "cell_type": "markdown",
   "metadata": {},
   "source": [
    "Calculate absolute magnitude from the \"Synthetic\" apparent magnitude"
   ]
  },
  {
   "cell_type": "code",
   "execution_count": 37,
   "metadata": {
    "scrolled": true
   },
   "outputs": [],
   "source": [
    "COSMOS_FLUXES['Abs_B_Mag_synthetic']=COSMOS_FLUXES['B0_synthetic_mag']-cosmo.distmod(COSMOS_FLUXES.Z_BEST.values).value"
   ]
  },
  {
   "cell_type": "markdown",
   "metadata": {},
   "source": [
    "Diagnostic plotting"
   ]
  },
  {
   "cell_type": "code",
   "execution_count": 48,
   "metadata": {},
   "outputs": [
    {
     "name": "stdout",
     "output_type": "stream",
     "text": [
      "12255\n"
     ]
    },
    {
     "data": {
      "text/plain": [
       "<matplotlib.collections.LineCollection at 0x11e9366a0>"
      ]
     },
     "execution_count": 48,
     "metadata": {},
     "output_type": "execute_result"
    },
    {
     "data": {
      "image/png": "[encoded data removed]",
      "text/plain": [
       "<matplotlib.figure.Figure at 0x11e7acf98>"
      ]
     },
     "metadata": {
      "needs_background": "light"
     },
     "output_type": "display_data"
    }
   ],
   "source": [
    "plt.plot(COSMOS_FLUXES.loc[COSMOS_FLUXES.Z_BEST<1.0,'Abs_B_Mag'],COSMOS_FLUXES.loc[COSMOS_FLUXES.Z_BEST<1.0,'Abs_B_Mag']-COSMOS_FLUXES.loc[COSMOS_FLUXES.Z_BEST<1.0,'Abs_B_Mag_synthetic'],'.')\n",
    "plt.plot(COSMOS_FLUXES.loc[(COSMOS_FLUXES.Z_BEST<1.0)&(COSMOS_FLUXES.Z_USE<2)&(COSMOS_FLUXES.SG_MASTER==0),'Abs_B_Mag'],COSMOS_FLUXES.loc[(COSMOS_FLUXES.Z_BEST<1.0)&(COSMOS_FLUXES.Z_USE<2)&(COSMOS_FLUXES.SG_MASTER==0),'Abs_B_Mag']-COSMOS_FLUXES.loc[(COSMOS_FLUXES.Z_BEST<1.0)&(COSMOS_FLUXES.Z_USE<2)&(COSMOS_FLUXES.SG_MASTER==0),'Abs_B_Mag_synthetic'],'.')\n",
    "print(len(COSMOS_FLUXES.loc[(COSMOS_FLUXES.Z_BEST>0.01)&(COSMOS_FLUXES.Z_BEST<1.0)&(COSMOS_FLUXES.Z_USE<2)&(COSMOS_FLUXES.SG_MASTER==0),'Abs_B_Mag']))\n",
    "plt.hlines(0.5,-30,200)\n",
    "plt.hlines(-0.5,-30,200)"
   ]
  },
  {
   "cell_type": "code",
   "execution_count": 41,
   "metadata": {},
   "outputs": [
    {
     "data": {
      "text/plain": [
       "[<matplotlib.lines.Line2D at 0x1263240b8>]"
      ]
     },
     "execution_count": 41,
     "metadata": {},
     "output_type": "execute_result"
    },
    {
     "data": {
      "image/png": "[encoded data removed]",
      "text/plain": [
       "<matplotlib.figure.Figure at 0x11d1337b8>"
      ]
     },
     "metadata": {
      "needs_background": "light"
     },
     "output_type": "display_data"
    }
   ],
   "source": [
    "plt.plot(COSMOS_FLUXES.loc[(COSMOS_FLUXES.Z_BEST<1.0)&(COSMOS_FLUXES.Z_USE<3)&(COSMOS_FLUXES.SG_MASTER==0),'Abs_B_Mag'],'.')\n"
   ]
  },
  {
   "cell_type": "markdown",
   "metadata": {},
   "source": [
    "Calculate surface brightness"
   ]
  },
  {
   "cell_type": "code",
   "execution_count": 42,
   "metadata": {
    "scrolled": true
   },
   "outputs": [
    {
     "name": "stderr",
     "output_type": "stream",
     "text": [
      "/Users/lucashunt/programs/anaconda3/anaconda3/lib/python3.6/site-packages/ipykernel_launcher.py:1: RuntimeWarning: invalid value encountered in power\n",
      "  \"\"\"Entry point for launching an IPython kernel.\n",
      "/Users/lucashunt/programs/anaconda3/anaconda3/lib/python3.6/site-packages/ipykernel_launcher.py:1: RuntimeWarning: divide by zero encountered in log10\n",
      "  \"\"\"Entry point for launching an IPython kernel.\n"
     ]
    }
   ],
   "source": [
    "COSMOS_FLUXES['Surface_Brightness_B']=COSMOS_FLUXES.Abs_B_Mag+2.5*np.log10((2*np.pi*np.power(cosmo.angular_diameter_distance(COSMOS_FLUXES.Z_BEST.values).value*np.tan(COSMOS_FLUXES.Rh.values*0.03*4.84814e-6)*(814/(445*(1+COSMOS_FLUXES.Z_BEST.values)))**0.108*1e3,2)))+2.5*np.log10((360*60*60/(2*np.pi*0.01))**2)"
   ]
  },
  {
   "cell_type": "markdown",
   "metadata": {},
   "source": [
    "Calculate effective radius and determine whether each source is an LCBG"
   ]
  },
  {
   "cell_type": "code",
   "execution_count": 43,
   "metadata": {},
   "outputs": [
    {
     "name": "stderr",
     "output_type": "stream",
     "text": [
      "/Users/lucashunt/programs/anaconda3/anaconda3/lib/python3.6/site-packages/ipykernel_launcher.py:2: RuntimeWarning: invalid value encountered in power\n",
      "  \n",
      "/Users/lucashunt/programs/anaconda3/anaconda3/lib/python3.6/site-packages/ipykernel_launcher.py:4: RuntimeWarning: invalid value encountered in less\n",
      "  after removing the cwd from sys.path.\n"
     ]
    }
   ],
   "source": [
    "COSMOS_FLUXES['R_eff_arcsec_F814W']=COSMOS_FLUXES.loc[:,'Rh']*0.03\n",
    "COSMOS_FLUXES['R_eff_arcsec_B']=COSMOS_FLUXES.loc[:,'Rh']*0.03*(814/(445*(1+COSMOS_FLUXES.Z_BEST.values)))**0.108\n",
    "COSMOS_FLUXES['is_LCBG']=0\n",
    "COSMOS_FLUXES.loc[(COSMOS_FLUXES.Abs_B_Mag.values<-18.5)&(COSMOS_FLUXES.Surface_Brightness_B.values<21)&(COSMOS_FLUXES['rest_frame_B-V'].values<0.6),'is_LCBG']=1"
   ]
  },
  {
   "cell_type": "code",
   "execution_count": 44,
   "metadata": {
    "scrolled": true
   },
   "outputs": [
    {
     "data": {
      "text/plain": [
       "[<matplotlib.lines.Line2D at 0x128202cf8>]"
      ]
     },
     "execution_count": 44,
     "metadata": {},
     "output_type": "execute_result"
    },
    {
     "data": {
      "image/png": "[encoded data removed]",
      "text/plain": [
       "<matplotlib.figure.Figure at 0x120b953c8>"
      ]
     },
     "metadata": {
      "needs_background": "light"
     },
     "output_type": "display_data"
    }
   ],
   "source": [
    "plt.plot(COSMOS_FLUXES['rest_frame_B-V'],COSMOS_FLUXES['Surface_Brightness_B'],'.')"
   ]
  },
  {
   "cell_type": "code",
   "execution_count": 45,
   "metadata": {},
   "outputs": [],
   "source": [
    "COSMOS_FLUXES.to_csv('/Users/lucashunt/ASTRODATA/LCBG_LUMINOSITY_FUNCTION/COSMOS_CATALOGS/Photometry/COSMOS_CONVERTED_CATALOG.csv')"
   ]
  }
 ],
 "metadata": {
  "kernelspec": {
   "display_name": "Python 3",
   "language": "python",
   "name": "python3"
  },
  "language_info": {
   "codemirror_mode": {
    "name": "ipython",
    "version": 3
   },
   "file_extension": ".py",
   "mimetype": "text/x-python",
   "name": "python",
   "nbconvert_exporter": "python",
   "pygments_lexer": "ipython3",
   "version": "3.6.6"
  }
 },
 "nbformat": 4,
 "nbformat_minor": 2
}
