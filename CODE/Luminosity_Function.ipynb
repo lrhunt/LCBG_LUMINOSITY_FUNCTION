{
 "cells": [
  {
   "cell_type": "code",
   "execution_count": 1,
   "metadata": {},
   "outputs": [],
   "source": [
    "import sys\n",
    "import numpy as np\n",
    "import astropy as ap\n",
    "import matplotlib.pyplot as plt\n",
    "import math as m\n",
    "import argparse\n",
    "from astropy.cosmology import FlatLambdaCDM\n",
    "from matplotlib.backends.backend_pdf import PdfPages\n",
    "import kcorrect\n",
    "import kcorrect.utils as ut\n",
    "import os\n",
    "import pandas as pd"
   ]
  },
  {
   "cell_type": "code",
   "execution_count": 2,
   "metadata": {},
   "outputs": [
    {
     "name": "stderr",
     "output_type": "stream",
     "text": [
      "usage: ipykernel_launcher.py [-h] [-mbin MBIN] [-zmin ZMIN] [-zmax ZMAX]\n",
      "                             [-mmin MMIN] [-mmax MMAX] [-ama APPMAX]\n",
      "                             [-ami APPMIN] [-om OMEGAMATTER]\n",
      "                             [-ho HUBBLECONSTANT] [-lfdir LFDIR]\n",
      "                             [-fileout FILEOUT] [-LCBG] [-nv]\n",
      "                             filein\n",
      "ipykernel_launcher.py: error: the following arguments are required: filein\n"
     ]
    },
    {
     "ename": "SystemExit",
     "evalue": "2",
     "output_type": "error",
     "traceback": [
      "An exception has occurred, use %tb to see the full traceback.\n",
      "\u001b[0;31mSystemExit\u001b[0m\u001b[0;31m:\u001b[0m 2\n"
     ]
    },
    {
     "name": "stderr",
     "output_type": "stream",
     "text": [
      "/Users/lucashunt/programs/anaconda3/anaconda3/lib/python3.6/site-packages/IPython/core/interactiveshell.py:3273: UserWarning: To exit: use 'exit', 'quit', or Ctrl-D.\n",
      "  warn(\"To exit: use 'exit', 'quit', or Ctrl-D.\", stacklevel=1)\n"
     ]
    }
   ],
   "source": [
    "parser = argparse.ArgumentParser()\n",
    "parser.add_argument(\"filein\",help=\"File containing magnitudes and redshifts\")\n",
    "parser.add_argument(\"-mbin\",\"--mbin\",type=int,help=\"Number of Absolute Magnitude bins. Default=19\",default=18)\n",
    "parser.add_argument(\"-zmin\",\"--zmin\",type=float,help=\"Minimum redshift to consider in luminosity function, default=0.01\", default=0.01)\n",
    "parser.add_argument(\"-zmax\",\"--zmax\",type=float,help=\"Maximum redshift to consider in luminosity function, default=2\", default=0.2)\n",
    "parser.add_argument(\"-mmin\",\"--Mmin\",type=float,help=\"Minumum absolute magnitude to consider in luminosity function, default=-24\", default=-24)\n",
    "parser.add_argument(\"-mmax\",\"--Mmax\",type=float,help=\"Maximum absolute magnitude to consider in luminosity function, default=-15\", default=-15)\n",
    "parser.add_argument(\"-ama\",\"--appmax\",type=float,help='Maximum apparent magnitude to consider part of the survey COSMOS i<22.5',default=22.5)\n",
    "parser.add_argument(\"-ami\",\"--appmin\",type=float,help='Minimum apparent magnitude to consider part of the survey COSMOS i>15',default=15)\n",
    "parser.add_argument(\"-om\",\"--OmegaMatter\",type=float,help=\"Omega Matter, if you want to define your own cosmology\", default=0.3)\n",
    "parser.add_argument(\"-ho\",\"--HubbleConstant\",type=float,help=\"Hubble Constant if you want to define your own cosmology\",default=70)\n",
    "parser.add_argument(\"-lfdir\",\"--lfdir\",help=\"Directroy you want to put the Luminosity Function txt file and the underlying catalog in\",default='/Users/lucashunt/projects/LCBG_LUMINOSITY_FUNCTION/FULLLFOUT/')\n",
    "parser.add_argument(\"-fileout\",\"--fileout\",type=str,help=\"Set a string if you want to give a filename if not it will default to LF_zmin_zmax.csv\",default='')\n",
    "parser.add_argument(\"-LCBG\",\"--LCBGLIST\",action=\"store_true\",help=\"Make Luminosity Function with LCBGs only?\")\n",
    "parser.add_argument(\"-nv\",\"--novega\",action=\"store_true\",help=\"Do not apply correction to switch from AB to Vega magnitudes\")\n",
    "args=parser.parse_args()"
   ]
  },
  {
   "cell_type": "markdown",
   "metadata": {},
   "source": [
    "Setting values needed throughout the code"
   ]
  },
  {
   "cell_type": "code",
   "execution_count": 3,
   "metadata": {},
   "outputs": [
    {
     "ename": "NameError",
     "evalue": "name 'args' is not defined",
     "output_type": "error",
     "traceback": [
      "\u001b[0;31m---------------------------------------------------------------------------\u001b[0m",
      "\u001b[0;31mNameError\u001b[0m                                 Traceback (most recent call last)",
      "\u001b[0;32m<ipython-input-3-8b33772f13f4>\u001b[0m in \u001b[0;36m<module>\u001b[0;34m\u001b[0m\n\u001b[0;32m----> 1\u001b[0;31m \u001b[0mcosmo\u001b[0m\u001b[0;34m=\u001b[0m\u001b[0mFlatLambdaCDM\u001b[0m\u001b[0;34m(\u001b[0m\u001b[0mH0\u001b[0m\u001b[0;34m=\u001b[0m\u001b[0margs\u001b[0m\u001b[0;34m.\u001b[0m\u001b[0mHubbleConstant\u001b[0m\u001b[0;34m,\u001b[0m\u001b[0mOm0\u001b[0m\u001b[0;34m=\u001b[0m\u001b[0margs\u001b[0m\u001b[0;34m.\u001b[0m\u001b[0mOmegaMatter\u001b[0m\u001b[0;34m)\u001b[0m\u001b[0;34m\u001b[0m\u001b[0m\n\u001b[0m\u001b[1;32m      2\u001b[0m \u001b[0mmbinsize\u001b[0m\u001b[0;34m=\u001b[0m\u001b[0mfloat\u001b[0m\u001b[0;34m(\u001b[0m\u001b[0margs\u001b[0m\u001b[0;34m.\u001b[0m\u001b[0mMmax\u001b[0m\u001b[0;34m-\u001b[0m\u001b[0margs\u001b[0m\u001b[0;34m.\u001b[0m\u001b[0mMmin\u001b[0m\u001b[0;34m)\u001b[0m\u001b[0;34m/\u001b[0m\u001b[0margs\u001b[0m\u001b[0;34m.\u001b[0m\u001b[0mmbin\u001b[0m\u001b[0;34m\u001b[0m\u001b[0m\n\u001b[1;32m      3\u001b[0m \u001b[0mMagnitude_Loop_Array\u001b[0m\u001b[0;34m=\u001b[0m\u001b[0mnp\u001b[0m\u001b[0;34m.\u001b[0m\u001b[0mstack\u001b[0m\u001b[0;34m(\u001b[0m\u001b[0;34m(\u001b[0m\u001b[0mnp\u001b[0m\u001b[0;34m.\u001b[0m\u001b[0marange\u001b[0m\u001b[0;34m(\u001b[0m\u001b[0margs\u001b[0m\u001b[0;34m.\u001b[0m\u001b[0mappmin\u001b[0m\u001b[0;34m,\u001b[0m\u001b[0margs\u001b[0m\u001b[0;34m.\u001b[0m\u001b[0mappmax\u001b[0m\u001b[0;34m+\u001b[0m\u001b[0;36m0.5\u001b[0m\u001b[0;34m,\u001b[0m\u001b[0;36m0.5\u001b[0m\u001b[0;34m)\u001b[0m\u001b[0;34m[\u001b[0m\u001b[0;36m0\u001b[0m\u001b[0;34m:\u001b[0m\u001b[0mlen\u001b[0m\u001b[0;34m(\u001b[0m\u001b[0mnp\u001b[0m\u001b[0;34m.\u001b[0m\u001b[0marange\u001b[0m\u001b[0;34m(\u001b[0m\u001b[0margs\u001b[0m\u001b[0;34m.\u001b[0m\u001b[0mappmin\u001b[0m\u001b[0;34m,\u001b[0m\u001b[0margs\u001b[0m\u001b[0;34m.\u001b[0m\u001b[0mappmax\u001b[0m\u001b[0;34m+\u001b[0m\u001b[0;36m0.5\u001b[0m\u001b[0;34m,\u001b[0m\u001b[0;36m0.5\u001b[0m\u001b[0;34m)\u001b[0m\u001b[0;34m)\u001b[0m\u001b[0;34m-\u001b[0m\u001b[0;36m1\u001b[0m\u001b[0;34m]\u001b[0m\u001b[0;34m,\u001b[0m\u001b[0mnp\u001b[0m\u001b[0;34m.\u001b[0m\u001b[0marange\u001b[0m\u001b[0;34m(\u001b[0m\u001b[0margs\u001b[0m\u001b[0;34m.\u001b[0m\u001b[0mappmin\u001b[0m\u001b[0;34m,\u001b[0m\u001b[0margs\u001b[0m\u001b[0;34m.\u001b[0m\u001b[0mappmax\u001b[0m\u001b[0;34m+\u001b[0m\u001b[0;36m0.5\u001b[0m\u001b[0;34m,\u001b[0m\u001b[0;36m0.5\u001b[0m\u001b[0;34m)\u001b[0m\u001b[0;34m[\u001b[0m\u001b[0;36m1\u001b[0m\u001b[0;34m:\u001b[0m\u001b[0mlen\u001b[0m\u001b[0;34m(\u001b[0m\u001b[0mnp\u001b[0m\u001b[0;34m.\u001b[0m\u001b[0marange\u001b[0m\u001b[0;34m(\u001b[0m\u001b[0margs\u001b[0m\u001b[0;34m.\u001b[0m\u001b[0mappmin\u001b[0m\u001b[0;34m,\u001b[0m\u001b[0margs\u001b[0m\u001b[0;34m.\u001b[0m\u001b[0mappmax\u001b[0m\u001b[0;34m+\u001b[0m\u001b[0;36m0.5\u001b[0m\u001b[0;34m,\u001b[0m\u001b[0;36m0.5\u001b[0m\u001b[0;34m)\u001b[0m\u001b[0;34m)\u001b[0m\u001b[0;34m]\u001b[0m\u001b[0;34m)\u001b[0m\u001b[0;34m,\u001b[0m\u001b[0maxis\u001b[0m\u001b[0;34m=\u001b[0m\u001b[0;34m-\u001b[0m\u001b[0;36m1\u001b[0m\u001b[0;34m)\u001b[0m\u001b[0;34m\u001b[0m\u001b[0m\n\u001b[1;32m      4\u001b[0m \u001b[0mkcordir\u001b[0m\u001b[0;34m=\u001b[0m\u001b[0mos\u001b[0m\u001b[0;34m.\u001b[0m\u001b[0menviron\u001b[0m\u001b[0;34m[\u001b[0m\u001b[0;34m\"KCORRECT_DIR\"\u001b[0m\u001b[0;34m]\u001b[0m\u001b[0;34m\u001b[0m\u001b[0m\n",
      "\u001b[0;31mNameError\u001b[0m: name 'args' is not defined"
     ]
    }
   ],
   "source": [
    "cosmo=FlatLambdaCDM(H0=args.HubbleConstant,Om0=args.OmegaMatter)\n",
    "mbinsize=float(args.Mmax-args.Mmin)/args.mbin\n",
    "Magnitude_Loop_Array=np.stack((np.arange(args.appmin,args.appmax+0.5,0.5)[0:len(np.arange(args.appmin,args.appmax+0.5,0.5))-1],np.arange(args.appmin,args.appmax+0.5,0.5)[1:len(np.arange(args.appmin,args.appmax+0.5,0.5))]),axis=-1)\n",
    "kcordir=os.environ[\"KCORRECT_DIR\"]"
   ]
  },
  {
   "cell_type": "code",
   "execution_count": 5,
   "metadata": {},
   "outputs": [
    {
     "name": "stdout",
     "output_type": "stream",
     "text": [
      "********READING FILE********\n"
     ]
    }
   ],
   "source": [
    "print('********READING FILE********')\n",
    "CATALOG=pd.read_csv(args.filein)"
   ]
  },
  {
   "cell_type": "code",
   "execution_count": 6,
   "metadata": {},
   "outputs": [
    {
     "name": "stdout",
     "output_type": "stream",
     "text": [
      "********CALCULATING WEIGHTS********\n"
     ]
    }
   ],
   "source": [
    "print('********CALCULATING WEIGHTS********')\n",
    "tf=open('weights.txt','w')\n",
    "CATALOG['Spec_Weight']=np.nan\n",
    "CATALOG['Color_Weight']=np.nan\n",
    "CATALOG['Surface_Brightness_Weight']=np.nan\n",
    "for magrange in Magnitude_Loop_Array:\n",
    "    Num_Good_Spec=len(CATALOG[(CATALOG.mag_subaru_i>magrange[0])&(CATALOG.mag_subaru_i<magrange[1])&(CATALOG.SG_MASTER==0)&((CATALOG.Z_USE==1)|(CATALOG.Z_USE==2))])\n",
    "    Num_Bad_Spec=len(CATALOG[(CATALOG.mag_subaru_i>magrange[0])&(CATALOG.mag_subaru_i<magrange[1])&(CATALOG.SG_MASTER==0)&((CATALOG.Z_USE==3)|(CATALOG.Z_USE==4))])\n",
    "    Num_Good_Color=len(CATALOG[(CATALOG.mag_subaru_i>magrange[0])&(CATALOG.mag_subaru_i<magrange[1])&(CATALOG.SG_MASTER==0)&((CATALOG.mag_subaru_B<100)&(CATALOG.mag_subaru_V<100))])\n",
    "    Num_Bad_Color=len(CATALOG[(CATALOG.mag_subaru_i>magrange[0])&(CATALOG.mag_subaru_i<magrange[1])&(CATALOG.SG_MASTER==0)&((CATALOG.mag_subaru_B>100)|(CATALOG.mag_subaru_V>100))])\n",
    "    Num_Bad_Rh=len(CATALOG[(CATALOG.mag_subaru_i>magrange[0])&(CATALOG.mag_subaru_i<magrange[1])&(CATALOG.SG_MASTER==0)&(np.isnan(CATALOG.Rh))])\n",
    "    Num_Good_Rh=len(CATALOG[(CATALOG.mag_subaru_i>magrange[0])&(CATALOG.mag_subaru_i<magrange[1])&(CATALOG.SG_MASTER==0)&(~np.isnan(CATALOG.Rh))])\n",
    "    CATALOG.loc[(CATALOG.mag_subaru_i>magrange[0])&(CATALOG.mag_subaru_i<magrange[1])&(CATALOG.SG_MASTER==0),'Spec_Weight']=float(Num_Good_Spec+Num_Bad_Spec)/float(Num_Good_Spec)\n",
    "    CATALOG.loc[(CATALOG.mag_subaru_i>magrange[0])&(CATALOG.mag_subaru_i<magrange[1])&(CATALOG.SG_MASTER==0),'Color_Weight']=float(Num_Good_Color+Num_Bad_Color)/float(Num_Good_Color)\n",
    "    CATALOG.loc[(CATALOG.mag_subaru_i>magrange[0])&(CATALOG.mag_subaru_i<magrange[1])&(CATALOG.SG_MASTER==0),'Surface_Brightness_Weight']=float(Num_Good_Rh+Num_Bad_Rh)/float(Num_Good_Rh)\n",
    "    "
   ]
  },
  {
   "cell_type": "markdown",
   "metadata": {},
   "source": [
    "***********************************\n",
    "Starting the Luminosity Function part of the code! \n",
    "***********************************"
   ]
  },
  {
   "cell_type": "markdown",
   "metadata": {},
   "source": [
    "Breaking up the large catalog into a smaller one containing the sources over the correct redshift range and apparent magnitude range"
   ]
  },
  {
   "cell_type": "code",
   "execution_count": 7,
   "metadata": {},
   "outputs": [],
   "source": [
    "print('********LOOKING FOR LCBGS********')\n",
    "if args.LCBGLIST:\n",
    "    LUMFUNC_CATALOG=CATALOG[(CATALOG.Z_USE<3)&(CATALOG.mag_subaru_i<=args.appmax)&(CATALOG.mag_subaru_i>=args.appmin)&(CATALOG.SG_MASTER==0)&(CATALOG.Z_BEST>=args.zmin)&(CATALOG.Z_BEST<=args.zmax)&(CATALOG.is_LCBG==1)]\n",
    "else:\n",
    "    LUMFUNC_CATALOG=CATALOG[(CATALOG.Z_USE<3)&(CATALOG.mag_subaru_i<=args.appmax)&(CATALOG.mag_subaru_i>=args.appmin)&(CATALOG.SG_MASTER==0)&(CATALOG.Z_BEST>=args.zmin)&(CATALOG.Z_BEST<=args.zmax)]"
   ]
  },
  {
   "cell_type": "markdown",
   "metadata": {},
   "source": [
    "Setting apparent magnitude limits to calculate the range over which this source would be detected. "
   ]
  },
  {
   "cell_type": "code",
   "execution_count": 43,
   "metadata": {},
   "outputs": [
    {
     "name": "stderr",
     "output_type": "stream",
     "text": [
      "/Users/lucashunt/programs/anaconda3/anaconda3/lib/python3.6/site-packages/pandas/core/indexing.py:537: SettingWithCopyWarning: \n",
      "A value is trying to be set on a copy of a slice from a DataFrame.\n",
      "Try using .loc[row_indexer,col_indexer] = value instead\n",
      "\n",
      "See the caveats in the documentation: http://pandas.pydata.org/pandas-docs/stable/indexing.html#indexing-view-versus-copy\n",
      "  self.obj[item] = s\n"
     ]
    }
   ],
   "source": [
    "print('********FINDING UPPER AND LOWER REDSHIFTS********')\n",
    "kcorrect.load_templates()\n",
    "kcorrect.load_filters(kcordir+'/data/templates/subaru_i.dat')\n",
    "zlookup=np.linspace(0,1,1000)\n",
    "for x in LUMFUNC_CATALOG.index:\n",
    "    rmarrlookup=np.ndarray(1000)\n",
    "    for j in range(0,1000):\n",
    "        rmarrlookup[j]=kcorrect.reconstruct_maggies(LUMFUNC_CATALOG.loc[x,'c1':'c6'],redshift=zlookup[j])[1:]\n",
    "    AbsMag=LUMFUNC_CATALOG.mag_subaru_i.loc[x]-cosmo.distmod(LUMFUNC_CATALOG.Z_BEST.loc[x]).value-LUMFUNC_CATALOG.subaru_i_synthetic_mag.loc[x]-2.5*np.log10(rmarrlookup[0])\n",
    "    ilookup=AbsMag+cosmo.distmod(zlookup).value-2.5*np.log10(rmarrlookup)+2.5*np.log10(rmarrlookup[0])\n",
    "    LUMFUNC_CATALOG.loc[x,'upper_redshift']=round(zlookup[np.abs(ilookup-args.appmax).argmin()],4)\n",
    "    LUMFUNC_CATALOG.loc[x,'lower_redshift']=round(zlookup[np.abs(ilookup-args.appmin).argmin()],4)"
   ]
  },
  {
   "cell_type": "code",
   "execution_count": 48,
   "metadata": {},
   "outputs": [
    {
     "name": "stderr",
     "output_type": "stream",
     "text": [
      "/Users/lucashunt/programs/anaconda3/anaconda3/lib/python3.6/site-packages/pandas/core/indexing.py:537: SettingWithCopyWarning: \n",
      "A value is trying to be set on a copy of a slice from a DataFrame.\n",
      "Try using .loc[row_indexer,col_indexer] = value instead\n",
      "\n",
      "See the caveats in the documentation: http://pandas.pydata.org/pandas-docs/stable/indexing.html#indexing-view-versus-copy\n",
      "  self.obj[item] = s\n",
      "/Users/lucashunt/programs/anaconda3/anaconda3/lib/python3.6/site-packages/ipykernel_launcher.py:4: SettingWithCopyWarning: \n",
      "A value is trying to be set on a copy of a slice from a DataFrame.\n",
      "Try using .loc[row_indexer,col_indexer] = value instead\n",
      "\n",
      "See the caveats in the documentation: http://pandas.pydata.org/pandas-docs/stable/indexing.html#indexing-view-versus-copy\n",
      "  after removing the cwd from sys.path.\n"
     ]
    }
   ],
   "source": [
    "LUMFUNC_CATALOG.loc[LUMFUNC_CATALOG.upper_redshift>args.zmax,'upper_redshift']=args.zmax\n",
    "LUMFUNC_CATALOG.loc[LUMFUNC_CATALOG.lower_redshift<args.zmin,'lower_redshift']=args.zmin\n",
    "LUMFUNC_CATALOG['comoving_volume']=cosmo.comoving_volume(LUMFUNC_CATALOG.upper_redshift).value/(4*np.pi/0.0003116)-cosmo.comoving_volume(LUMFUNC_CATALOG.lower_redshift).value/(4*np.pi/0.0003116)"
   ]
  },
  {
   "cell_type": "code",
   "execution_count": 49,
   "metadata": {},
   "outputs": [
    {
     "name": "stderr",
     "output_type": "stream",
     "text": [
      "/Users/lucashunt/programs/anaconda3/anaconda3/lib/python3.6/site-packages/ipykernel_launcher.py:16: RuntimeWarning: invalid value encountered in double_scalars\n",
      "  app.launch_new_instance()\n",
      "/Users/lucashunt/programs/anaconda3/anaconda3/lib/python3.6/site-packages/ipykernel_launcher.py:18: RuntimeWarning: invalid value encountered in double_scalars\n"
     ]
    }
   ],
   "source": [
    "print('********CALCULATING VALUES FOR LUMINOSITY FUNCTION********')\n",
    "Abs_Magnitude_Loop_Array=np.stack((np.arange(args.Mmin,args.Mmax+mbinsize,mbinsize)[0:len(np.arange(args.Mmin,args.Mmax,mbinsize))],np.arange(args.Mmin,args.Mmax+mbinsize,mbinsize)[1:len(np.arange(args.Mmin,args.Mmax,mbinsize))+1]),axis=-1)\n",
    "Abs_Mags=[]\n",
    "NUMB_DENS_LIST=[]\n",
    "NUMB_DENS_Err=[]\n",
    "NGal=[]\n",
    "AveCMV=[]\n",
    "AveWeight=[]\n",
    "for rng in Abs_Magnitude_Loop_Array:\n",
    "    if args.LCBGLIST:\n",
    "        NUMB_DENS_LIST.append(((LUMFUNC_CATALOG.loc[(LUMFUNC_CATALOG.Abs_B_Mag>rng[0])&(LUMFUNC_CATALOG.Abs_B_Mag<rng[1]),'Spec_Weight']*LUMFUNC_CATALOG.loc[(LUMFUNC_CATALOG.Abs_B_Mag>rng[0])&(LUMFUNC_CATALOG.Abs_B_Mag<rng[1]),'Color_Weight']*LUMFUNC_CATALOG.loc[(LUMFUNC_CATALOG.Abs_B_Mag>rng[0])&(LUMFUNC_CATALOG.Abs_B_Mag<rng[1]),'Surface_Brightness_Weight'])/(LUMFUNC_CATALOG.loc[(LUMFUNC_CATALOG.Abs_B_Mag>rng[0])&(LUMFUNC_CATALOG.Abs_B_Mag<rng[1]),'comoving_volume']*mbinsize)).sum())\n",
    "        AveWeight.append((LUMFUNC_CATALOG.loc[(LUMFUNC_CATALOG.Abs_B_Mag>rng[0])&(LUMFUNC_CATALOG.Abs_B_Mag<rng[1]),'Spec_Weight']*LUMFUNC_CATALOG.loc[(LUMFUNC_CATALOG.Abs_B_Mag>rng[0])&(LUMFUNC_CATALOG.Abs_B_Mag<rng[1]),'Color_Weight']*LUMFUNC_CATALOG.loc[(LUMFUNC_CATALOG.Abs_B_Mag>rng[0])&(LUMFUNC_CATALOG.Abs_B_Mag<rng[1]),'Surface_Brightness_Weight']).sum()/len(LUMFUNC_CATALOG.loc[(LUMFUNC_CATALOG.Abs_B_Mag>rng[0])&(LUMFUNC_CATALOG.Abs_B_Mag<rng[1]),'Spec_Weight']))\n",
    "        NUMB_DENS_Err.append(np.sqrt(((LUMFUNC_CATALOG.loc[(LUMFUNC_CATALOG.Abs_B_Mag>rng[0])&(LUMFUNC_CATALOG.Abs_B_Mag<rng[1]),'Spec_Weight']*LUMFUNC_CATALOG.loc[(LUMFUNC_CATALOG.Abs_B_Mag>rng[0])&(LUMFUNC_CATALOG.Abs_B_Mag<rng[1]),'Color_Weight']*LUMFUNC_CATALOG.loc[(LUMFUNC_CATALOG.Abs_B_Mag>rng[0])&(LUMFUNC_CATALOG.Abs_B_Mag<rng[1]),'Surface_Brightness_Weight'])/(LUMFUNC_CATALOG.loc[(LUMFUNC_CATALOG.Abs_B_Mag>rng[0])&(LUMFUNC_CATALOG.Abs_B_Mag<rng[1]),'comoving_volume']*mbinsize)**2).sum()))\n",
    "    else:\n",
    "        NUMB_DENS_LIST.append((LUMFUNC_CATALOG.loc[(LUMFUNC_CATALOG.Abs_B_Mag>rng[0])&(LUMFUNC_CATALOG.Abs_B_Mag<rng[1]),'Spec_Weight']/(LUMFUNC_CATALOG.loc[(LUMFUNC_CATALOG.Abs_B_Mag>rng[0])&(LUMFUNC_CATALOG.Abs_B_Mag<rng[1]),'comoving_volume']*mbinsize)).sum())\n",
    "        NUMB_DENS_Err.append(np.sqrt((LUMFUNC_CATALOG.loc[(LUMFUNC_CATALOG.Abs_B_Mag>rng[0])&(LUMFUNC_CATALOG.Abs_B_Mag<rng[1]),'Spec_Weight']/(LUMFUNC_CATALOG.loc[(LUMFUNC_CATALOG.Abs_B_Mag>rng[0])&(LUMFUNC_CATALOG.Abs_B_Mag<rng[1]),'comoving_volume']*mbinsize)**2).sum()))\n",
    "        AveWeight.append(LUMFUNC_CATALOG.loc[(LUMFUNC_CATALOG.Abs_B_Mag>rng[0])&(LUMFUNC_CATALOG.Abs_B_Mag<rng[1]),'Spec_Weight'].sum()/len(LUMFUNC_CATALOG.loc[(LUMFUNC_CATALOG.Abs_B_Mag>rng[0])&(LUMFUNC_CATALOG.Abs_B_Mag<rng[1]),'Spec_Weight']))\n",
    "    NGal.append(len(LUMFUNC_CATALOG.loc[(LUMFUNC_CATALOG.Abs_B_Mag>rng[0])&(LUMFUNC_CATALOG.Abs_B_Mag<rng[1]),'Spec_Weight']))\n",
    "    AveCMV.append(LUMFUNC_CATALOG.loc[(LUMFUNC_CATALOG.Abs_B_Mag>rng[0])&(LUMFUNC_CATALOG.Abs_B_Mag<rng[1]),'comoving_volume'].sum()/len(LUMFUNC_CATALOG.loc[(LUMFUNC_CATALOG.Abs_B_Mag>rng[0])&(LUMFUNC_CATALOG.Abs_B_Mag<rng[1]),'Spec_Weight']))\n",
    "    Abs_Mags.append(LUMFUNC_CATALOG.loc[(LUMFUNC_CATALOG.Abs_B_Mag>rng[0])&(LUMFUNC_CATALOG.Abs_B_Mag<rng[1]),'Abs_B_Mag'].mean())"
   ]
  },
  {
   "cell_type": "code",
   "execution_count": 51,
   "metadata": {},
   "outputs": [],
   "source": [
    "Luminosity_Function=pd.DataFrame({'Number_Of_Gals':NGal,'Absolute_Magnitude_Bin':np.average(Abs_Magnitude_Loop_Array,axis=-1),'Average_Absolute_Magnitude':Abs_Mags,'Number_Density':NUMB_DENS_LIST,'Number_Density_Error':NUMB_DENS_Err,'Average_Comoving_Volume':AveCMV,'Average_Weight':AveWeight})"
   ]
  },
  {
   "cell_type": "code",
   "execution_count": 52,
   "metadata": {},
   "outputs": [
    {
     "name": "stderr",
     "output_type": "stream",
     "text": [
      "/Users/lucashunt/programs/anaconda3/anaconda3/lib/python3.6/site-packages/ipykernel_launcher.py:1: RuntimeWarning: divide by zero encountered in log10\n",
      "  \"\"\"Entry point for launching an IPython kernel.\n"
     ]
    }
   ],
   "source": [
    "Luminosity_Function['Log10Phi']=np.log10(Luminosity_Function['Number_Density'])\n",
    "Luminosity_Function['Log10Err']=Luminosity_Function.Number_Density_Error/(Luminosity_Function.Number_Density*np.log(10))"
   ]
  },
  {
   "cell_type": "code",
   "execution_count": 55,
   "metadata": {},
   "outputs": [],
   "source": [
    "print('********SAVING FILE********')\n",
    "if args.LCBGLIST:\n",
    "    Luminosity_Function.to_csv(args.lfdir+'LF_{}_{}_LCBG.csv'.format(int(args.zmin*100),int(args.zmax*100)))\n",
    "else:\n",
    "    Luminosity_Function.to_csv(args.lfdir+'LF_{}_{}.csv'.format(int(args.zmin*100),int(args.zmax*100)))"
   ]
  }
 ],
 "metadata": {
  "kernelspec": {
   "display_name": "Python 3",
   "language": "python",
   "name": "python3"
  },
  "language_info": {
   "codemirror_mode": {
    "name": "ipython",
    "version": 3
   },
   "file_extension": ".py",
   "mimetype": "text/x-python",
   "name": "python",
   "nbconvert_exporter": "python",
   "pygments_lexer": "ipython3",
   "version": "3.6.7"
  }
 },
 "nbformat": 4,
 "nbformat_minor": 2
}
