{
 "cells": [
  {
   "cell_type": "code",
   "execution_count": 1,
   "metadata": {},
   "outputs": [],
   "source": [
    "import numpy as np\n",
    "import pandas as pd\n",
    "import kcorrect \n",
    "import kcorrect.utils as ut\n",
    "import matplotlib.pyplot as plt\n",
    "from astropy.cosmology import FlatLambdaCDM\n",
    "import os\n",
    "from itertools import combinations\n",
    "import argparse"
   ]
  },
  {
   "cell_type": "code",
   "execution_count": null,
   "metadata": {},
   "outputs": [],
   "source": [
    "parser = argparse.ArgumentParser(description='Program to generate a file that gives you the parameters of a Luminosity Function')\n",
    "parser.add_argument(\"filein\",help=\"File containing magnitudes and redshifts\")\n",
    "parser.add_argument(\"-m\",\"--mbin\",type=int,help=\"Number of Absolute Magnitude bins. Default=19\",default=18)\n",
    "parser.add_argument(\"-p\",\"--zmin\",type=float,help=\"Minimum redshift to consider in luminosity function, default=0.5\", default=0.35)\n",
    "parser.add_argument(\"-q\",\"--zmax\",type=float,help=\"Maximum redshift to consider in luminosity function, default=1.3\", default=0.55)\n",
    "parser.add_argument(\"-r\",\"--Mmin\",type=float,help=\"Minimum redshift to consider in luminosity function, default=--26.7\", default=-24)\n",
    "parser.add_argument(\"-s\",\"--Mmax\",type=float,help=\"Minimum redshift to consider in luminosity function, default=-18.5\", default=-15)\n",
    "parser.add_argument(\"-ama\",\"--appmax\",type=float,help='Maximum apparent magnitude to consider part of the survey COSMOS i<22.5',default=22.5)\n",
    "parser.add_argument(\"-ami\",\"--appmin\",type=float,help='Minimum apparent magnitude to consider part of the survey COSMOS i>15',default=15)\n",
    "parser.add_argument(\"-om\",\"--OmegaMatter\",type=float,help=\"Omega Matter, if you want to define your own cosmology\", default=0.3)\n",
    "parser.add_argument(\"-ho\",\"--HubbleConstant\",type=float,help=\"Hubble Constant if you want to define your own cosmology\",default=70)\n",
    "parser.add_argument(\"-fo\",\"--fileout\",help=\"Filename of PDF you want to generate\",default='_LF_OUTPUT_VAL.txt')\n",
    "parser.add_argument(\"-fl\",\"--filts\",help=\"Filename of all filter lists\",default='FILTERLIST.txt')\n",
    "parser.add_argument(\"-LCBG\",\"--LCBGLIST\",action=\"store_true\",help=\"Make Luminosity Function with LCBGs only?\")\n",
    "parser.add_argument(\"-nv\",\"--novega\",action=\"store_true\",help=\"Do not apply correction to switch from AB to Vega magnitudes\")\n",
    "args=parser.parse_args()"
   ]
  },
  {
   "cell_type": "code",
   "execution_count": 3,
   "metadata": {},
   "outputs": [],
   "source": [
    "kcdir=os.environ[\"KCORRECT_DIR\"]"
   ]
  },
  {
   "cell_type": "code",
   "execution_count": 2,
   "metadata": {},
   "outputs": [],
   "source": [
    "cosmo=FlatLambdaCDM(H0=args.HubbleConstant,Om0=args.OmegaMatter)"
   ]
  },
  {
   "cell_type": "code",
   "execution_count": null,
   "metadata": {},
   "outputs": [],
   "source": [
    "print('Reading File')"
   ]
  },
  {
   "cell_type": "code",
   "execution_count": null,
   "metadata": {},
   "outputs": [],
   "source": []
  }
 ],
 "metadata": {
  "kernelspec": {
   "display_name": "Python 3",
   "language": "python",
   "name": "python3"
  },
  "language_info": {
   "codemirror_mode": {
    "name": "ipython",
    "version": 3
   },
   "file_extension": ".py",
   "mimetype": "text/x-python",
   "name": "python",
   "nbconvert_exporter": "python",
   "pygments_lexer": "ipython3",
   "version": "3.6.6"
  }
 },
 "nbformat": 4,
 "nbformat_minor": 2
}
