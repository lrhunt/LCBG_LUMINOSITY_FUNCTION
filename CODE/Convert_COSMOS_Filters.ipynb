{
 "cells": [
  {
   "cell_type": "code",
   "execution_count": 42,
   "metadata": {},
   "outputs": [],
   "source": [
    "import os\n",
    "import pandas as pd\n",
    "import numpy as np"
   ]
  },
  {
   "cell_type": "code",
   "execution_count": 43,
   "metadata": {},
   "outputs": [],
   "source": [
    "kcordir=os.environ[\"KCORRECT_DIR\"]\n",
    "filter_dir=kcordir+'/data/filters/'\n",
    "cosmos_filters=filter_dir+'cosmos_filters/'"
   ]
  },
  {
   "cell_type": "code",
   "execution_count": 44,
   "metadata": {},
   "outputs": [],
   "source": [
    "filter_list=[]\n",
    "for file in os.listdir(cosmos_filters):\n",
    "    if file.endswith('.res'):\n",
    "        filter_list.append(cosmos_filters+file)"
   ]
  },
  {
   "cell_type": "code",
   "execution_count": 45,
   "metadata": {},
   "outputs": [
    {
     "data": {
      "text/plain": [
       "'/home/lrhunt/programs/kcorrect/data/filters/cosmos_filters/H_uv.res'"
      ]
     },
     "execution_count": 45,
     "metadata": {},
     "output_type": "execute_result"
    }
   ],
   "source": [
    "filter_list[0]"
   ]
  },
  {
   "cell_type": "code",
   "execution_count": 46,
   "metadata": {},
   "outputs": [
    {
     "data": {
      "text/plain": [
       "'/home/lrhunt/programs/kcorrect/data/filters/cosmos_filters/vircam_H.par'"
      ]
     },
     "execution_count": 46,
     "metadata": {},
     "output_type": "execute_result"
    }
   ],
   "source": [
    "cosmos_filters+'vircam_'+filter_list[0].split('/')[-1].split('_')[0]+'.par'"
   ]
  },
  {
   "cell_type": "code",
   "execution_count": 52,
   "metadata": {},
   "outputs": [],
   "source": [
    "for filt in filter_list:\n",
    "    new_filter=pd.read_csv(filt,\n",
    "                           delim_whitespace=True,\n",
    "                           error_bad_lines=False,\n",
    "                           comment='#',\n",
    "                           names=['wavelength','transmission'])\n",
    "    new_filter['text_column']='KFILTER_VIRCAM'\n",
    "    cols=new_filter.columns.tolist()\n",
    "    cols=cols[-1:]+cols[:-1]\n",
    "    new_filter=new_filter[cols]\n",
    "    with open(cosmos_filters+'vircam_'+filt.split('/')[-1].split('_')[0]+'.par','w') as txt_fl:\n",
    "        txt_fl.write('# Units:\\r')\n",
    "        txt_fl.write('#  \"lambda\" is in Angstroms')\n",
    "        txt_fl.write('#\\r')\n",
    "        txt_fl.write('#  \"pass\" is the contribution to the detector signal per photon\\r')\n",
    "        txt_fl.write('#         entering the atmosphere of Earth (for airmass 1.3)\\r')\n",
    "        txt_fl.write('#\\r')\n",
    "        txt_fl.write('# Bandpass Name(s): '+filt.split('/')[-1].split('_')[0]+'\\r')\n",
    "        txt_fl.write('#\\r')\n",
    "        txt_fl.write('# Instrument: VIRCAM on VISTA Telescope \\r')\n",
    "        txt_fl.write('# \\r')\n",
    "        txt_fl.write('# Available here http://www.eso.org/sci/facilities/paranal/instruments/vircam/inst.html')\n",
    "        txt_fl.write('#\\r')\n",
    "        txt_fl.write('# Date of determination: Unknown\\r')\n",
    "        txt_fl.write('#\\r')\n",
    "        txt_fl.write('# Meaning of/Reason for default column: 1.3 airmass; typical for observations\\r')\n",
    "        txt_fl.write('#\\r')\n",
    "        txt_fl.write('# Notes:\\r')\n",
    "        txt_fl.write('#\\r')\n",
    "        txt_fl.write('# This file created from the above paper by\\r')\n",
    "        txt_fl.write('# Anthony Smith 2005-11-18\\r')\n",
    "        txt_fl.write('\\r')\n",
    "        txt_fl.write('typedef struct {\\r')\n",
    "        txt_fl.write('  double lambda;\\r')\n",
    "        txt_fl.write('  double pass;\\r')\n",
    "        txt_fl.write('} KFILTER_VIRCAM;\\r')\n",
    "        txt_fl.write('\\r')\n",
    "    with open(cosmos_filters+'vircam_'+filt.split('/')[-1].split('_')[0]+'.par','a') as txt_fl:\n",
    "        new_filter.to_csv(txt_fl, header=False,index=False,sep='\\t')\n"
   ]
  }
 ],
 "metadata": {
  "kernelspec": {
   "display_name": "Python 3",
   "language": "python",
   "name": "python3"
  },
  "language_info": {
   "codemirror_mode": {
    "name": "ipython",
    "version": 3
   },
   "file_extension": ".py",
   "mimetype": "text/x-python",
   "name": "python",
   "nbconvert_exporter": "python",
   "pygments_lexer": "ipython3",
   "version": "3.7.1"
  }
 },
 "nbformat": 4,
 "nbformat_minor": 2
}
