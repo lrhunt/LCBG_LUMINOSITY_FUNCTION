{
 "cells": [
  {
   "cell_type": "code",
   "execution_count": 1,
   "metadata": {},
   "outputs": [],
   "source": [
    "import pandas as pd\n",
    "import numpy as np\n",
    "import matplotlib.pyplot as plt"
   ]
  },
  {
   "cell_type": "code",
   "execution_count": 2,
   "metadata": {},
   "outputs": [],
   "source": [
    "import astropy as ap\n",
    "from astropy import units as u\n",
    "import kcorrect\n",
    "import kcorrect.utils as ut\n",
    "from astropy.cosmology import FlatLambdaCDM"
   ]
  },
  {
   "cell_type": "code",
   "execution_count": 3,
   "metadata": {},
   "outputs": [],
   "source": [
    "from itertools import combinations\n",
    "import os\n",
    "import datetime"
   ]
  },
  {
   "cell_type": "code",
   "execution_count": 4,
   "metadata": {},
   "outputs": [],
   "source": [
    "cosmo=FlatLambdaCDM(H0=70,Om0=0.3)"
   ]
  },
  {
   "cell_type": "code",
   "execution_count": 5,
   "metadata": {},
   "outputs": [],
   "source": [
    "catbasedir=os.environ[\"COSMOS_DIR\"].split('Original')[0]+'/Final_Catalogs'"
   ]
  },
  {
   "cell_type": "code",
   "execution_count": 6,
   "metadata": {},
   "outputs": [],
   "source": [
    "Spec_Cat=pd.read_csv(catbasedir+'/Laigle_Cat_With_kcorrections.csv')"
   ]
  },
  {
   "cell_type": "code",
   "execution_count": 50,
   "metadata": {},
   "outputs": [
    {
     "data": {
      "text/plain": [
       "0              NaN\n",
       "1         0.369500\n",
       "2              NaN\n",
       "3              NaN\n",
       "4              NaN\n",
       "5              NaN\n",
       "6              NaN\n",
       "7              NaN\n",
       "8              NaN\n",
       "9              NaN\n",
       "10             NaN\n",
       "11             NaN\n",
       "12             NaN\n",
       "13             NaN\n",
       "14             NaN\n",
       "15             NaN\n",
       "16             NaN\n",
       "17             NaN\n",
       "18             NaN\n",
       "19             NaN\n",
       "20             NaN\n",
       "21             NaN\n",
       "22             NaN\n",
       "23             NaN\n",
       "24             NaN\n",
       "25             NaN\n",
       "26             NaN\n",
       "27             NaN\n",
       "28             NaN\n",
       "29             NaN\n",
       "            ...   \n",
       "536050         NaN\n",
       "536051         NaN\n",
       "536052         NaN\n",
       "536053    0.815000\n",
       "536054         NaN\n",
       "536055    0.247446\n",
       "536056    1.122900\n",
       "536057         NaN\n",
       "536058         NaN\n",
       "536059    0.566200\n",
       "536060         NaN\n",
       "536061    1.148000\n",
       "536062    0.926736\n",
       "536063    0.697800\n",
       "536064    0.430000\n",
       "536065         NaN\n",
       "536066         NaN\n",
       "536067    0.344023\n",
       "536068    0.705210\n",
       "536069         NaN\n",
       "536070         NaN\n",
       "536071    0.739714\n",
       "536072         NaN\n",
       "536073    0.352222\n",
       "536074    0.709191\n",
       "536075         NaN\n",
       "536076    0.407000\n",
       "536077    0.434428\n",
       "536078    0.167914\n",
       "536079    0.172142\n",
       "Name: final_z, Length: 536080, dtype: float64"
      ]
     },
     "execution_count": 50,
     "metadata": {},
     "output_type": "execute_result"
    }
   ],
   "source": [
    "Spec_Cat['final_z']"
   ]
  },
  {
   "cell_type": "code",
   "execution_count": 8,
   "metadata": {},
   "outputs": [],
   "source": [
    "Spec_Cat['BJ0-VJ0']=Spec_Cat.BJ0_synthetic_vega_mag-Spec_Cat.VJ0_synthetic_vega_mag"
   ]
  },
  {
   "cell_type": "code",
   "execution_count": 9,
   "metadata": {},
   "outputs": [
    {
     "name": "stderr",
     "output_type": "stream",
     "text": [
      "/home/lrhunt/programs/anaconda3/lib/python3.7/site-packages/astropy/cosmology/core.py:1922: RuntimeWarning: invalid value encountered in sqrt\n",
      "  return 2 * np.sqrt(x) * hyp2f1(1./6, 1./2, 7./6, -x**3)\n",
      "/home/lrhunt/programs/anaconda3/lib/python3.7/site-packages/astropy/cosmology/core.py:1447: RuntimeWarning: divide by zero encountered in log10\n",
      "  val = 5. * np.log10(abs(self.luminosity_distance(z).value)) + 25.0\n"
     ]
    }
   ],
   "source": [
    "Spec_Cat['BJ0_synthetic_vega_absmag']=Spec_Cat['BJ0_synthetic_vega_mag']-cosmo.distmod(Spec_Cat.final_z)"
   ]
  },
  {
   "cell_type": "code",
   "execution_count": 48,
   "metadata": {},
   "outputs": [
    {
     "name": "stderr",
     "output_type": "stream",
     "text": [
      "/home/lrhunt/programs/anaconda3/lib/python3.7/site-packages/astropy/cosmology/core.py:1922: RuntimeWarning: invalid value encountered in sqrt\n",
      "  return 2 * np.sqrt(x) * hyp2f1(1./6, 1./2, 7./6, -x**3)\n",
      "/home/lrhunt/programs/anaconda3/lib/python3.7/site-packages/astropy/units/quantity.py:461: RuntimeWarning: divide by zero encountered in true_divide\n",
      "  result = super().__array_ufunc__(function, method, *arrays, **kwargs)\n",
      "/home/lrhunt/programs/anaconda3/lib/python3.7/site-packages/ipykernel_launcher.py:1: RuntimeWarning: divide by zero encountered in log10\n",
      "  \"\"\"Entry point for launching an IPython kernel.\n"
     ]
    }
   ],
   "source": [
    "Spec_Cat['BJ0_synthetic_vega_surface_brightness']=Spec_Cat['BJ0_synthetic_vega_absmag']+2.5*np.log10((2*np.pi*np.power(1/cosmo.arcsec_per_kpc_proper(Spec_Cat.final_z.values).value*Spec_Cat.FLUX_RADIUS.values*0.15,2)))+2.5*np.log10((360*60*60/(2*np.pi*0.01))**2)"
   ]
  },
  {
   "cell_type": "code",
   "execution_count": 49,
   "metadata": {},
   "outputs": [
    {
     "data": {
      "text/plain": [
       "0               NaN\n",
       "1         21.061044\n",
       "2               NaN\n",
       "3               NaN\n",
       "4               NaN\n",
       "5               NaN\n",
       "6               NaN\n",
       "7               NaN\n",
       "8               NaN\n",
       "9               NaN\n",
       "10              NaN\n",
       "11              NaN\n",
       "12              NaN\n",
       "13              NaN\n",
       "14              NaN\n",
       "15              NaN\n",
       "16              NaN\n",
       "17              NaN\n",
       "18              NaN\n",
       "19              NaN\n",
       "20              NaN\n",
       "21              NaN\n",
       "22              NaN\n",
       "23              NaN\n",
       "24              NaN\n",
       "25              NaN\n",
       "26              NaN\n",
       "27              NaN\n",
       "28              NaN\n",
       "29              NaN\n",
       "            ...    \n",
       "536050          NaN\n",
       "536051          NaN\n",
       "536052          NaN\n",
       "536053    21.650249\n",
       "536054          NaN\n",
       "536055    23.140219\n",
       "536056    20.811841\n",
       "536057          NaN\n",
       "536058          NaN\n",
       "536059    21.346874\n",
       "536060          NaN\n",
       "536061    21.166509\n",
       "536062    20.764247\n",
       "536063    20.684103\n",
       "536064    21.813080\n",
       "536065          NaN\n",
       "536066          NaN\n",
       "536067    21.147612\n",
       "536068    21.577833\n",
       "536069          NaN\n",
       "536070          NaN\n",
       "536071    21.055692\n",
       "536072          NaN\n",
       "536073    21.157118\n",
       "536074    21.789680\n",
       "536075          NaN\n",
       "536076    21.081382\n",
       "536077    20.731099\n",
       "536078    22.645902\n",
       "536079    21.653261\n",
       "Name: BJ0_synthetic_vega_surface_brightness, Length: 536080, dtype: float64"
      ]
     },
     "execution_count": 49,
     "metadata": {},
     "output_type": "execute_result"
    }
   ],
   "source": [
    "Spec_Cat['BJ0_synthetic_vega_surface_brightness']"
   ]
  },
  {
   "cell_type": "code",
   "execution_count": 35,
   "metadata": {},
   "outputs": [],
   "source": [
    "cosmology=FlatLambdaCDM(H0=69.6,Om0=0.286)"
   ]
  },
  {
   "cell_type": "code",
   "execution_count": 46,
   "metadata": {},
   "outputs": [
    {
     "name": "stdout",
     "output_type": "stream",
     "text": [
      "7.8570765365186235 kpc / arcsec\n",
      "7.8570817046413985 kpc\n"
     ]
    }
   ],
   "source": [
    "print(1/cosmology.arcsec_per_kpc_proper(3))\n",
    "print(cosmology.angular_diameter_distance(3).to(u.kpc)*np.tan(1*4.84814e-6))"
   ]
  },
  {
   "cell_type": "code",
   "execution_count": 34,
   "metadata": {},
   "outputs": [
    {
     "name": "stdout",
     "output_type": "stream",
     "text": [
      "[0.         0.05050505 0.1010101  0.15151515 0.2020202  0.25252525\n",
      " 0.3030303  0.35353535 0.4040404  0.45454545 0.50505051 0.55555556\n",
      " 0.60606061 0.65656566 0.70707071 0.75757576 0.80808081 0.85858586\n",
      " 0.90909091 0.95959596 1.01010101 1.06060606 1.11111111 1.16161616\n",
      " 1.21212121 1.26262626 1.31313131 1.36363636 1.41414141 1.46464646\n",
      " 1.51515152 1.56565657 1.61616162 1.66666667 1.71717172 1.76767677\n",
      " 1.81818182 1.86868687 1.91919192 1.96969697 2.02020202 2.07070707\n",
      " 2.12121212 2.17171717 2.22222222 2.27272727 2.32323232 2.37373737\n",
      " 2.42424242 2.47474747 2.52525253 2.57575758 2.62626263 2.67676768\n",
      " 2.72727273 2.77777778 2.82828283 2.87878788 2.92929293 2.97979798\n",
      " 3.03030303 3.08080808 3.13131313 3.18181818 3.23232323 3.28282828\n",
      " 3.33333333 3.38383838 3.43434343 3.48484848 3.53535354 3.58585859\n",
      " 3.63636364 3.68686869 3.73737374 3.78787879 3.83838384 3.88888889\n",
      " 3.93939394 3.98989899 4.04040404 4.09090909 4.14141414 4.19191919\n",
      " 4.24242424 4.29292929 4.34343434 4.39393939 4.44444444 4.49494949\n",
      " 4.54545455 4.5959596  4.64646465 4.6969697  4.74747475 4.7979798\n",
      " 4.84848485 4.8989899  4.94949495 5.        ]\n",
      "[0.         0.98677786 1.86076678 2.63636746 3.32570683 3.93908785\n",
      " 4.48533265 4.97204741 5.40582941 5.79243079 6.1368896  6.4436358\n",
      " 6.71657797 6.95917499 7.17449573 7.36526935 7.53392785 7.68264245\n",
      " 7.81335478 7.9278038  8.02754918 8.11399163 8.18839064 8.25188006\n",
      " 8.30548177 8.35011771 8.38662053 8.41574294 8.43816607 8.45450681\n",
      " 8.46532439 8.47112619 8.47237294 8.46948333 8.46283815 8.45278398\n",
      " 8.43963651 8.42368344 8.4051872  8.38438727 8.36150236 8.3367323\n",
      " 8.31025979 8.28225193 8.25286167 8.22222903 8.19048227 8.15773892\n",
      " 8.12410673 8.08968448 8.0545628  8.01882484 7.98254689 7.94579899\n",
      " 7.90864543 7.87114524 7.83335262 7.79531733 7.75708505 7.71869774\n",
      " 7.68019388 7.64160881 7.60297496 7.56432206 7.52567736 7.48706587\n",
      " 7.44851045 7.41003205 7.37164984 7.33338132 7.29524247 7.25724787\n",
      " 7.21941081 7.18174335 7.14425647 7.1069601  7.06986325 7.03297402\n",
      " 6.99629973 6.95984693 6.92362147 6.88762859 6.8518729  6.81635849\n",
      " 6.78108892 6.74606729 6.71129627 6.67677812 6.64251474 6.60850766\n",
      " 6.57475814 6.54126709 6.5080352  6.47506288 6.44235033 6.40989751\n",
      " 6.37770421 6.34577004 6.31409442 6.28267665] kpc / arcsec\n"
     ]
    },
    {
     "data": {
      "text/plain": [
       "[<matplotlib.lines.Line2D at 0x7f4b33d14208>]"
      ]
     },
     "execution_count": 34,
     "metadata": {},
     "output_type": "execute_result"
    },
    {
     "data": {
      "image/png": "[encoded data removed]",
      "text/plain": [
       "<Figure size 432x288 with 1 Axes>"
      ]
     },
     "metadata": {
      "needs_background": "light"
     },
     "output_type": "display_data"
    }
   ],
   "source": [
    "z_array=np.linspace(0,5,100)\n",
    "print(z_array)\n",
    "print(1/cosmo.arcsec_per_kpc_proper(z_array))\n",
    "plt.plot(z_array,1/cosmo.arcsec_per_kpc_proper(z_array))"
   ]
  },
  {
   "cell_type": "code",
   "execution_count": 25,
   "metadata": {},
   "outputs": [
    {
     "name": "stdout",
     "output_type": "stream",
     "text": [
      "120.87578399999997\n"
     ]
    },
    {
     "data": {
      "image/png": "[encoded data removed]",
      "text/plain": [
       "<Figure size 432x288 with 1 Axes>"
      ]
     },
     "metadata": {
      "needs_background": "light"
     },
     "output_type": "display_data"
    }
   ],
   "source": [
    "plt.hist(Spec_Cat.FLUX_RADIUS,bins=500,range=[-10,50],log=True)\n",
    "print(max(Spec_Cat.FLUX_RADIUS)*0.15)\n"
   ]
  }
 ],
 "metadata": {
  "kernelspec": {
   "display_name": "Python 3",
   "language": "python",
   "name": "python3"
  },
  "language_info": {
   "codemirror_mode": {
    "name": "ipython",
    "version": 3
   },
   "file_extension": ".py",
   "mimetype": "text/x-python",
   "name": "python",
   "nbconvert_exporter": "python",
   "pygments_lexer": "ipython3",
   "version": "3.7.1"
  }
 },
 "nbformat": 4,
 "nbformat_minor": 2
}
