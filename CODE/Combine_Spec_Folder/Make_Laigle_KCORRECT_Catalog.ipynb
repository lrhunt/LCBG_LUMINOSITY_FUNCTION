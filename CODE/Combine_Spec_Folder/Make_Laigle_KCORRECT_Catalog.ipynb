{
 "cells": [
  {
   "cell_type": "markdown",
   "metadata": {},
   "source": [
    "Taking the LAIGLE spectroscopic catalog to make a full catalog with selected LCBGs"
   ]
  },
  {
   "cell_type": "markdown",
   "metadata": {},
   "source": [
    "| Date | Person | Change |\n",
    "| :- | :- | :--------: |\n",
    "04/24/2019  |  L. Hunt  |  <ul><li>Initial Version</li><li>Import CSV</li><li>Use kcorrect to correct get absolut magnitudes</li></ul>\n",
    "04/26/2019 | L. Hunt | <ul><li>Runs faster on setesh</li><li>Once get kcorrections will be faster to work with</li><li>KCORRECT should work with correct filter list (Added new filters to kcorrect dir)</li></ul>\n",
    "05/02/2019 | L. Hunt | updated to run with spec catalog matched to COSMOS 08 ID"
   ]
  },
  {
   "cell_type": "markdown",
   "metadata": {},
   "source": [
    "Import number and plotting modules"
   ]
  },
  {
   "cell_type": "code",
   "execution_count": 1,
   "metadata": {},
   "outputs": [],
   "source": [
    "import pandas as pd\n",
    "import numpy as np\n",
    "import matplotlib.pyplot as plt"
   ]
  },
  {
   "cell_type": "markdown",
   "metadata": {},
   "source": [
    "Import astronomy modules"
   ]
  },
  {
   "cell_type": "code",
   "execution_count": 2,
   "metadata": {},
   "outputs": [],
   "source": [
    "import astropy as ap\n",
    "from astropy import units as u\n",
    "import kcorrect\n",
    "import kcorrect.utils as ut\n",
    "from astropy.cosmology import FlatLambdaCDM"
   ]
  },
  {
   "cell_type": "markdown",
   "metadata": {},
   "source": [
    "Import basic modules"
   ]
  },
  {
   "cell_type": "code",
   "execution_count": 3,
   "metadata": {},
   "outputs": [],
   "source": [
    "from itertools import combinations\n",
    "import os\n",
    "import datetime"
   ]
  },
  {
   "cell_type": "code",
   "execution_count": 4,
   "metadata": {},
   "outputs": [],
   "source": [
    "def make_kcorr_filt_template(dataframe):\n",
    "    '''This task will make a kcorrect filter template from a dataframe that optimizes the number of objects with detections in a subset of filters. In this case the dataframe should contain cfht, subaru, and irac wideband filters. '''\n",
    "    kcordir=os.environ[\"KCORRECT_DIR\"]\n",
    "    lambdar_to_kcorr={'u_MAG_AUTO':'capak_cfht_megaprime_sagem_u.par',\n",
    "                      'B_MAG_AUTO':'capak_subaru_suprimecam_B.par',\n",
    "                      'V_MAG_AUTO':'capak_subaru_suprimecam_V.par',\n",
    "                      'r_MAG_AUTO':'capak_subaru_suprimecam_r.par',\n",
    "                      'ip_MAG_AUTO':'capak_subaru_suprimecam_i.par',\n",
    "                      'zpp_MAG_AUTO':'subaru_suprimecam_zpp.par',\n",
    "                      'Y_MAG_AUTO':'vircam_Y.par',\n",
    "                      'J_MAG_AUTO':'vircam_J.par',\n",
    "                      'H_MAG_AUTO':'vircam_H.par',\n",
    "                      'Ks_MAG_AUTO':'vircam_K.par'}\n",
    "    numb1=0\n",
    "    numb2=0\n",
    "    numb3=0\n",
    "    numb4=0\n",
    "    numb5=0\n",
    "    flist1=[]\n",
    "    flist2=[]\n",
    "    flist3=[]\n",
    "    flist4=[]\n",
    "    flist5=[]\n",
    "    ilist1=[]\n",
    "    ilist2=[]\n",
    "    ilist3=[]\n",
    "    ilist4=[]\n",
    "    ilist5=[]\n",
    "    kcor_template=kcordir+'/data/templates/temp_filt_list.dat'\n",
    "    for x in combinations(list(dataframe),5):\n",
    "        if len(dataframe[(dataframe[x[0]]<40)&\n",
    "                         (dataframe[x[1]]<40)&\n",
    "                         (dataframe[x[2]]<40)&\n",
    "                         (dataframe[x[3]]<40)&\n",
    "                         (dataframe[x[4]]<40)]) > numb1:\n",
    "            ilist5=ilist4\n",
    "            ilist4=ilist3\n",
    "            ilist3=ilist2\n",
    "            ilist2=ilist1\n",
    "            ilist1=dataframe[(dataframe[x[0]]<40)&\n",
    "                             (dataframe[x[1]]<40)&\n",
    "                             (dataframe[x[2]]<40)&\n",
    "                             (dataframe[x[3]]<40)&\n",
    "                             (dataframe[x[4]]<40)].index.tolist()\n",
    "            numb5=numb4\n",
    "            numb4=numb3\n",
    "            numb3=numb2\n",
    "            numb2=numb1\n",
    "            numb1=len(ilist1)\n",
    "            flist5=flist4\n",
    "            flist4=flist3\n",
    "            flist3=flist2\n",
    "            flist2=flist1\n",
    "            flist1=x\n",
    "    with open(kcor_template,'w') as file:\n",
    "        file.write('KCORRECT_DIR\\n')\n",
    "        for filt in flist1:\n",
    "            file.write('data/filters/cosmos_filters/'+lambdar_to_kcorr[filt]+'\\n')\n",
    "    return flist1,kcor_template"
   ]
  },
  {
   "cell_type": "code",
   "execution_count": 8,
   "metadata": {},
   "outputs": [],
   "source": [
    "cosmo=FlatLambdaCDM(H0=70,Om0=0.3)"
   ]
  },
  {
   "cell_type": "code",
   "execution_count": 7,
   "metadata": {},
   "outputs": [],
   "source": [
    "kcordir=os.environ[\"KCORRECT_DIR\"]\n",
    "catbasedir=os.environ[\"COSMOS_DIR\"].split('Original')[0]+'/Final_Catalogs'"
   ]
  },
  {
   "cell_type": "code",
   "execution_count": 11,
   "metadata": {},
   "outputs": [
    {
     "name": "stdout",
     "output_type": "stream",
     "text": [
      "/Users/lucashunt/ASTRODATA/LCBG_LUMINOSITY_FUNCTION/COSMOS_CATALOGS/Final_Catalogs\n"
     ]
    }
   ],
   "source": [
    "print(catbasedir)"
   ]
  },
  {
   "cell_type": "code",
   "execution_count": 9,
   "metadata": {},
   "outputs": [],
   "source": [
    "Spec_Cat=pd.read_csv(catbasedir+'/final_spec_catalog.csv')"
   ]
  },
  {
   "cell_type": "code",
   "execution_count": 10,
   "metadata": {},
   "outputs": [
    {
     "data": {
      "text/plain": [
       "0         0.038600\n",
       "1         0.369500\n",
       "2         0.160000\n",
       "3         2.334300\n",
       "4         1.391600\n",
       "5         1.779200\n",
       "6         2.199100\n",
       "7         2.440700\n",
       "8         0.207900\n",
       "9         1.206000\n",
       "10        0.592700\n",
       "11        1.956000\n",
       "12        1.104400\n",
       "13        2.763400\n",
       "14        0.880300\n",
       "15        1.953900\n",
       "16        2.914500\n",
       "17        2.480900\n",
       "18        2.207700\n",
       "19        1.636300\n",
       "20        0.297600\n",
       "21        3.267700\n",
       "22        3.770400\n",
       "23        0.306500\n",
       "24        1.588600\n",
       "25        0.868500\n",
       "26        4.951600\n",
       "27        2.041700\n",
       "28        1.280900\n",
       "29        1.274200\n",
       "            ...   \n",
       "536050    0.375600\n",
       "536051    0.379900\n",
       "536052    0.809600\n",
       "536053    0.815000\n",
       "536054    0.563800\n",
       "536055    0.247446\n",
       "536056    1.122900\n",
       "536057    1.223600\n",
       "536058    1.207700\n",
       "536059    0.566200\n",
       "536060    1.315600\n",
       "536061    1.148000\n",
       "536062    0.926736\n",
       "536063    0.697800\n",
       "536064    0.430000\n",
       "536065    0.681200\n",
       "536066    0.498200\n",
       "536067    0.344023\n",
       "536068    0.705210\n",
       "536069    0.197800\n",
       "536070    0.367300\n",
       "536071    0.739714\n",
       "536072    2.179900\n",
       "536073    0.352222\n",
       "536074    0.709191\n",
       "536075    0.479400\n",
       "536076    0.407000\n",
       "536077    0.434428\n",
       "536078    0.167914\n",
       "536079    0.172142\n",
       "Name: final_z, Length: 536080, dtype: float64"
      ]
     },
     "execution_count": 10,
     "metadata": {},
     "output_type": "execute_result"
    }
   ],
   "source": [
    "Spec_Cat['final_z']"
   ]
  },
  {
   "cell_type": "code",
   "execution_count": 8,
   "metadata": {},
   "outputs": [],
   "source": [
    "magnitude_columns=[filt for filt in Spec_Cat.columns.values if '_mag_' in filt.lower()]\n",
    "magnitude_error_columns=[filt for filt in Spec_Cat.columns.values if 'err' in filt.lower()]"
   ]
  },
  {
   "cell_type": "code",
   "execution_count": 9,
   "metadata": {},
   "outputs": [],
   "source": [
    "kcorr_filt_list,kcor_template_filter=make_kcorr_filt_template(Spec_Cat[magnitude_columns])"
   ]
  },
  {
   "cell_type": "code",
   "execution_count": 10,
   "metadata": {},
   "outputs": [
    {
     "name": "stdout",
     "output_type": "stream",
     "text": [
      "/home/lrhunt/programs/kcorrect/data/templates/temp_filt_list.dat\n"
     ]
    }
   ],
   "source": [
    "print(kcor_template_filter)"
   ]
  },
  {
   "cell_type": "code",
   "execution_count": 11,
   "metadata": {},
   "outputs": [],
   "source": [
    "maggies_filt_list=[filt.split('_')[0]+\n",
    "                   '_maggies' for filt in kcorr_filt_list]\n",
    "\n",
    "invervar_filt_list=[filt.split('_')[0]+\n",
    "                    '_invervar' for filt in kcorr_filt_list]\n",
    "\n",
    "synthetic_maggies_filt_list=[filt.split('_')[0]+\n",
    "                             '_synthetic_maggies' for filt in \n",
    "                             kcorr_filt_list]\n",
    "\n",
    "rf_synthetic_maggies_filt_list=[filt.split('_')[0]+\n",
    "                             '0_synthetic_maggies' for filt in \n",
    "                             kcorr_filt_list]"
   ]
  },
  {
   "cell_type": "code",
   "execution_count": 12,
   "metadata": {},
   "outputs": [],
   "source": [
    "numbers=np.arange(1,7,1)\n",
    "for string in ['c'+str(number) for number in numbers]:\n",
    "    Spec_Cat[string]=np.nan"
   ]
  },
  {
   "cell_type": "code",
   "execution_count": 13,
   "metadata": {},
   "outputs": [
    {
     "name": "stdout",
     "output_type": "stream",
     "text": [
      "Converting to Maggies\n"
     ]
    }
   ],
   "source": [
    "print('Converting to Maggies')\n",
    "for column in magnitude_columns:\n",
    "    Spec_Cat[column.split('_')[0]\n",
    "             +'_maggies']=ut.mag2maggies(Spec_Cat[column])\n",
    "    Spec_Cat[column.split('_')[0]\n",
    "             +'_invervar'\n",
    "            ]=ut.invariance(Spec_Cat[column.split('_')[0]\n",
    "                                     +'_maggies'],\n",
    "                            Spec_Cat[column.split('_')[0]\n",
    "                                     +'_MAGERR_AUTO']\n",
    "                           )"
   ]
  },
  {
   "cell_type": "code",
   "execution_count": 14,
   "metadata": {},
   "outputs": [],
   "source": [
    "for i in range(0,len(synthetic_maggies_filt_list)):\n",
    "    Spec_Cat[synthetic_maggies_filt_list[i]]=np.nan\n",
    "    Spec_Cat[rf_synthetic_maggies_filt_list[i]]=np.nan"
   ]
  },
  {
   "cell_type": "code",
   "execution_count": 15,
   "metadata": {},
   "outputs": [],
   "source": [
    "kcorrect.load_templates()\n",
    "kcorrect.load_filters(kcor_template_filter)"
   ]
  },
  {
   "cell_type": "code",
   "execution_count": 16,
   "metadata": {},
   "outputs": [],
   "source": [
    "indexes=Spec_Cat.index.values"
   ]
  },
  {
   "cell_type": "code",
   "execution_count": 17,
   "metadata": {},
   "outputs": [
    {
     "name": "stdout",
     "output_type": "stream",
     "text": [
      "k-correction for 0 sources done\n",
      "0:00:00.487218\n",
      "k-correction for 10000 sources done\n",
      "0:04:21.542996\n",
      "k-correction for 20000 sources done\n",
      "0:04:09.200802\n",
      "k-correction for 30000 sources done\n",
      "0:04:00.204736\n",
      "k-correction for 40000 sources done\n",
      "0:04:00.677966\n",
      "k-correction for 50000 sources done\n",
      "0:04:02.153853\n",
      "k-correction for 60000 sources done\n",
      "0:04:13.744376\n",
      "k-correction for 70000 sources done\n",
      "0:04:39.460127\n",
      "k-correction for 80000 sources done\n",
      "0:04:44.495168\n",
      "k-correction for 90000 sources done\n",
      "0:04:44.756752\n",
      "k-correction for 100000 sources done\n",
      "0:04:47.949166\n",
      "k-correction for 110000 sources done\n",
      "0:04:47.845044\n",
      "k-correction for 120000 sources done\n",
      "0:04:42.174257\n",
      "k-correction for 130000 sources done\n",
      "0:04:45.460870\n",
      "k-correction for 140000 sources done\n",
      "0:04:43.786725\n",
      "k-correction for 150000 sources done\n",
      "0:04:44.691609\n",
      "k-correction for 160000 sources done\n",
      "0:04:49.044942\n",
      "k-correction for 170000 sources done\n",
      "0:04:47.670888\n",
      "k-correction for 180000 sources done\n",
      "0:04:45.051776\n",
      "k-correction for 190000 sources done\n",
      "0:04:50.334935\n",
      "k-correction for 200000 sources done\n",
      "0:04:42.213567\n",
      "k-correction for 210000 sources done\n",
      "0:04:48.803856\n",
      "k-correction for 220000 sources done\n",
      "0:04:43.609437\n",
      "k-correction for 230000 sources done\n",
      "0:04:48.191287\n",
      "k-correction for 240000 sources done\n",
      "0:04:50.255295\n",
      "k-correction for 250000 sources done\n",
      "0:04:46.707717\n",
      "k-correction for 260000 sources done\n",
      "0:04:45.467042\n",
      "k-correction for 270000 sources done\n",
      "0:04:49.069476\n",
      "k-correction for 280000 sources done\n",
      "0:04:49.679161\n",
      "k-correction for 290000 sources done\n",
      "0:04:45.165777\n",
      "k-correction for 300000 sources done\n",
      "0:04:46.478477\n",
      "k-correction for 310000 sources done\n",
      "0:04:47.788486\n",
      "k-correction for 320000 sources done\n",
      "0:04:43.471366\n",
      "k-correction for 330000 sources done\n",
      "0:04:48.721919\n",
      "k-correction for 340000 sources done\n",
      "0:04:48.556227\n",
      "k-correction for 350000 sources done\n",
      "0:04:42.955163\n",
      "k-correction for 360000 sources done\n",
      "0:04:48.403815\n",
      "k-correction for 370000 sources done\n",
      "0:04:48.423673\n",
      "k-correction for 380000 sources done\n",
      "0:04:44.349262\n",
      "k-correction for 390000 sources done\n",
      "0:04:50.659565\n",
      "k-correction for 400000 sources done\n",
      "0:04:43.851059\n",
      "k-correction for 410000 sources done\n",
      "0:04:44.925498\n",
      "k-correction for 420000 sources done\n",
      "0:04:50.919933\n",
      "k-correction for 430000 sources done\n",
      "0:04:43.837131\n",
      "k-correction for 440000 sources done\n",
      "0:04:49.708915\n",
      "k-correction for 450000 sources done\n",
      "0:04:53.201368\n",
      "k-correction for 460000 sources done\n",
      "0:04:48.120159\n",
      "k-correction for 470000 sources done\n",
      "0:04:49.131541\n",
      "k-correction for 480000 sources done\n",
      "0:04:48.804340\n",
      "k-correction for 490000 sources done\n",
      "0:04:46.299343\n",
      "k-correction for 500000 sources done\n",
      "0:04:49.524007\n",
      "k-correction for 510000 sources done\n",
      "0:04:43.242506\n",
      "k-correction for 520000 sources done\n",
      "0:04:07.128694\n",
      "k-correction for 530000 sources done\n",
      "0:04:10.078234\n"
     ]
    }
   ],
   "source": [
    "time=datetime.datetime.now()\n",
    "for i in indexes:\n",
    "    Spec_Cat.loc[i,'c1':'c6']=kcorrect.fit_nonneg(np.array(Spec_Cat.loc[i,'final_z'],\n",
    "                                                           dtype=float),\n",
    "                                                  np.array(Spec_Cat.loc[i,maggies_filt_list],\n",
    "                                                           dtype=float),\n",
    "                                                  np.array(Spec_Cat.loc[i,invervar_filt_list],\n",
    "                                                           dtype=float))\n",
    "    Spec_Cat.loc[i,synthetic_maggies_filt_list]=kcorrect.reconstruct_maggies(Spec_Cat.loc[i,'c1':'c6'])[1:]\n",
    "    Spec_Cat.loc[i,rf_synthetic_maggies_filt_list]=kcorrect.reconstruct_maggies(Spec_Cat.loc[i,'c1':'c6'],redshift=0)[1:]\n",
    "    if i%10000==0:\n",
    "        print('k-correction for {} sources done'.format(i))\n",
    "        print(datetime.datetime.now()-time)\n",
    "        time=datetime.datetime.now()"
   ]
  },
  {
   "cell_type": "code",
   "execution_count": 18,
   "metadata": {},
   "outputs": [],
   "source": [
    "Spec_Cat['UJ0_synthetic_maggies']=np.nan\n",
    "Spec_Cat['BJ0_synthetic_maggies']=np.nan\n",
    "Spec_Cat['VJ0_synthetic_maggies']=np.nan"
   ]
  },
  {
   "cell_type": "code",
   "execution_count": 19,
   "metadata": {},
   "outputs": [],
   "source": [
    "kcorrect.load_templates()\n",
    "kcorrect.load_filters(kcordir+'/data/templates/bessell_ubv.dat')"
   ]
  },
  {
   "cell_type": "code",
   "execution_count": 20,
   "metadata": {},
   "outputs": [
    {
     "name": "stdout",
     "output_type": "stream",
     "text": [
      "k-correction for 0 sources done\n",
      "0:02:32.352353\n",
      "k-correction for 10000 sources done\n",
      "0:00:44.129050\n",
      "k-correction for 20000 sources done\n",
      "0:00:44.574936\n",
      "k-correction for 30000 sources done\n",
      "0:00:48.057698\n",
      "k-correction for 40000 sources done\n",
      "0:00:47.921068\n",
      "k-correction for 50000 sources done\n",
      "0:00:47.585492\n",
      "k-correction for 60000 sources done\n",
      "0:00:46.030134\n",
      "k-correction for 70000 sources done\n",
      "0:00:46.942641\n",
      "k-correction for 80000 sources done\n",
      "0:00:46.171763\n",
      "k-correction for 90000 sources done\n",
      "0:00:48.628078\n",
      "k-correction for 100000 sources done\n",
      "0:00:48.403447\n",
      "k-correction for 110000 sources done\n",
      "0:00:45.697005\n",
      "k-correction for 120000 sources done\n",
      "0:00:46.535397\n",
      "k-correction for 130000 sources done\n",
      "0:00:46.138684\n",
      "k-correction for 140000 sources done\n",
      "0:00:48.697283\n",
      "k-correction for 150000 sources done\n",
      "0:00:47.007969\n",
      "k-correction for 160000 sources done\n",
      "0:00:47.587646\n",
      "k-correction for 170000 sources done\n",
      "0:00:43.780043\n",
      "k-correction for 180000 sources done\n",
      "0:00:44.246525\n",
      "k-correction for 190000 sources done\n",
      "0:00:46.877431\n",
      "k-correction for 200000 sources done\n",
      "0:00:43.209773\n",
      "k-correction for 210000 sources done\n",
      "0:00:47.339097\n",
      "k-correction for 220000 sources done\n",
      "0:00:48.266107\n",
      "k-correction for 230000 sources done\n",
      "0:00:43.234421\n",
      "k-correction for 240000 sources done\n",
      "0:00:44.385343\n",
      "k-correction for 250000 sources done\n",
      "0:00:48.809031\n",
      "k-correction for 260000 sources done\n",
      "0:00:45.430527\n",
      "k-correction for 270000 sources done\n",
      "0:00:45.762236\n",
      "k-correction for 280000 sources done\n",
      "0:00:46.194656\n",
      "k-correction for 290000 sources done\n",
      "0:00:46.164470\n",
      "k-correction for 300000 sources done\n",
      "0:00:46.286613\n",
      "k-correction for 310000 sources done\n",
      "0:00:45.985594\n",
      "k-correction for 320000 sources done\n",
      "0:00:48.665745\n",
      "k-correction for 330000 sources done\n",
      "0:00:46.081428\n",
      "k-correction for 340000 sources done\n",
      "0:00:46.575298\n",
      "k-correction for 350000 sources done\n",
      "0:00:45.878211\n",
      "k-correction for 360000 sources done\n",
      "0:00:45.781462\n",
      "k-correction for 370000 sources done\n",
      "0:00:46.422072\n",
      "k-correction for 380000 sources done\n",
      "0:00:46.160892\n",
      "k-correction for 390000 sources done\n",
      "0:00:50.622251\n",
      "k-correction for 400000 sources done\n",
      "0:00:45.942798\n",
      "k-correction for 410000 sources done\n",
      "0:00:46.117835\n",
      "k-correction for 420000 sources done\n",
      "0:00:45.717598\n",
      "k-correction for 430000 sources done\n",
      "0:00:46.266155\n",
      "k-correction for 440000 sources done\n",
      "0:00:46.439051\n",
      "k-correction for 450000 sources done\n",
      "0:00:46.436509\n",
      "k-correction for 460000 sources done\n",
      "0:00:45.835623\n",
      "k-correction for 470000 sources done\n",
      "0:00:46.187203\n",
      "k-correction for 480000 sources done\n",
      "0:00:47.291395\n",
      "k-correction for 490000 sources done\n",
      "0:00:49.489511\n",
      "k-correction for 500000 sources done\n",
      "0:00:45.963261\n",
      "k-correction for 510000 sources done\n",
      "0:00:45.899577\n",
      "k-correction for 520000 sources done\n",
      "0:00:45.828213\n",
      "k-correction for 530000 sources done\n",
      "0:00:45.959580\n"
     ]
    }
   ],
   "source": [
    "for i in indexes:\n",
    "    Spec_Cat.loc[i,\n",
    "                 ['UJ0_synthetic_maggies',\n",
    "                 'BJ0_synthetic_maggies',\n",
    "                  'VJ0_synthetic_maggies']\n",
    "                ]=kcorrect.reconstruct_maggies(Spec_Cat.loc[i,\n",
    "                                                            'c1':'c6']\n",
    "                                                                     ,redshift=0)[1:]\n",
    "    if i%10000==0:\n",
    "        print('k-correction for {} sources done'.format(i))\n",
    "        print(datetime.datetime.now()-time)\n",
    "        time=datetime.datetime.now()"
   ]
  },
  {
   "cell_type": "code",
   "execution_count": 21,
   "metadata": {},
   "outputs": [],
   "source": [
    "Spec_Cat[['UJ0_synthetic_AB_mag',\n",
    "          'BJ0_synthetic_AB_mag',\n",
    "          'VJ0_synthetic_AB_mag']]=-2.5*np.log10(\n",
    "    Spec_Cat[['UJ0_synthetic_maggies',\n",
    "              'BJ0_synthetic_maggies',\n",
    "              'VJ0_synthetic_maggies']])\n",
    "Spec_Cat['UJ0_synthetic_vega_mag']=Spec_Cat['UJ0_synthetic_AB_mag']-0.79\n",
    "Spec_Cat['BJ0_synthetic_vega_mag']=Spec_Cat['BJ0_synthetic_AB_mag']+0.09\n",
    "Spec_Cat['VJ0_synthetic_vega_mag']=Spec_Cat['VJ0_synthetic_AB_mag']-0.02"
   ]
  },
  {
   "cell_type": "code",
   "execution_count": 33,
   "metadata": {},
   "outputs": [
    {
     "data": {
      "text/plain": [
       "['B_kcorr_BJ0', 'V_kcorr_BJ0', 'r_kcorr_BJ0', 'ip_kcorr_BJ0', 'zpp_kcorr_BJ0']"
      ]
     },
     "execution_count": 33,
     "metadata": {},
     "output_type": "execute_result"
    }
   ],
   "source": [
    "[f.split('_')[0]+'_kcorr_BJ0' \n",
    "          for f in \n",
    "          synthetic_maggies_filt_list]"
   ]
  },
  {
   "cell_type": "code",
   "execution_count": 30,
   "metadata": {},
   "outputs": [
    {
     "ename": "KeyError",
     "evalue": "'BJ0_synthetic_maggies'",
     "output_type": "error",
     "traceback": [
      "\u001b[0;31m---------------------------------------------------------------------------\u001b[0m",
      "\u001b[0;31mKeyError\u001b[0m                                  Traceback (most recent call last)",
      "\u001b[0;32m~/programs/anaconda3/anaconda3/lib/python3.6/site-packages/pandas/core/indexes/base.py\u001b[0m in \u001b[0;36mget_loc\u001b[0;34m(self, key, method, tolerance)\u001b[0m\n\u001b[1;32m   2524\u001b[0m             \u001b[0;32mtry\u001b[0m\u001b[0;34m:\u001b[0m\u001b[0;34m\u001b[0m\u001b[0;34m\u001b[0m\u001b[0m\n\u001b[0;32m-> 2525\u001b[0;31m                 \u001b[0;32mreturn\u001b[0m \u001b[0mself\u001b[0m\u001b[0;34m.\u001b[0m\u001b[0m_engine\u001b[0m\u001b[0;34m.\u001b[0m\u001b[0mget_loc\u001b[0m\u001b[0;34m(\u001b[0m\u001b[0mkey\u001b[0m\u001b[0;34m)\u001b[0m\u001b[0;34m\u001b[0m\u001b[0;34m\u001b[0m\u001b[0m\n\u001b[0m\u001b[1;32m   2526\u001b[0m             \u001b[0;32mexcept\u001b[0m \u001b[0mKeyError\u001b[0m\u001b[0;34m:\u001b[0m\u001b[0;34m\u001b[0m\u001b[0;34m\u001b[0m\u001b[0m\n",
      "\u001b[0;32mpandas/_libs/index.pyx\u001b[0m in \u001b[0;36mpandas._libs.index.IndexEngine.get_loc\u001b[0;34m()\u001b[0m\n",
      "\u001b[0;32mpandas/_libs/index.pyx\u001b[0m in \u001b[0;36mpandas._libs.index.IndexEngine.get_loc\u001b[0;34m()\u001b[0m\n",
      "\u001b[0;32mpandas/_libs/hashtable_class_helper.pxi\u001b[0m in \u001b[0;36mpandas._libs.hashtable.PyObjectHashTable.get_item\u001b[0;34m()\u001b[0m\n",
      "\u001b[0;32mpandas/_libs/hashtable_class_helper.pxi\u001b[0m in \u001b[0;36mpandas._libs.hashtable.PyObjectHashTable.get_item\u001b[0;34m()\u001b[0m\n",
      "\u001b[0;31mKeyError\u001b[0m: 'BJ0_synthetic_maggies'",
      "\nDuring handling of the above exception, another exception occurred:\n",
      "\u001b[0;31mKeyError\u001b[0m                                  Traceback (most recent call last)",
      "\u001b[0;32m<ipython-input-30-931af08ac8df>\u001b[0m in \u001b[0;36m<module>\u001b[0;34m\u001b[0m\n\u001b[1;32m      3\u001b[0m           synthetic_maggies_filt_list]]=-2.5*np.log10(\n\u001b[1;32m      4\u001b[0m     \u001b[0mSpec_Cat\u001b[0m\u001b[0;34m[\u001b[0m\u001b[0msynthetic_maggies_filt_list\u001b[0m\u001b[0;34m]\u001b[0m\u001b[0;34m/\u001b[0m\u001b[0;34m\u001b[0m\u001b[0;34m\u001b[0m\u001b[0m\n\u001b[0;32m----> 5\u001b[0;31m     np.stack((Spec_Cat['BJ0_synthetic_maggies'],\n\u001b[0m\u001b[1;32m      6\u001b[0m               \u001b[0mSpec_Cat\u001b[0m\u001b[0;34m[\u001b[0m\u001b[0;34m'BJ0_synthetic_maggies'\u001b[0m\u001b[0;34m]\u001b[0m\u001b[0;34m,\u001b[0m\u001b[0;34m\u001b[0m\u001b[0;34m\u001b[0m\u001b[0m\n\u001b[1;32m      7\u001b[0m               \u001b[0mSpec_Cat\u001b[0m\u001b[0;34m[\u001b[0m\u001b[0;34m'BJ0_synthetic_maggies'\u001b[0m\u001b[0;34m]\u001b[0m\u001b[0;34m,\u001b[0m\u001b[0;34m\u001b[0m\u001b[0;34m\u001b[0m\u001b[0m\n",
      "\u001b[0;32m~/programs/anaconda3/anaconda3/lib/python3.6/site-packages/pandas/core/frame.py\u001b[0m in \u001b[0;36m__getitem__\u001b[0;34m(self, key)\u001b[0m\n\u001b[1;32m   2137\u001b[0m             \u001b[0;32mreturn\u001b[0m \u001b[0mself\u001b[0m\u001b[0;34m.\u001b[0m\u001b[0m_getitem_multilevel\u001b[0m\u001b[0;34m(\u001b[0m\u001b[0mkey\u001b[0m\u001b[0;34m)\u001b[0m\u001b[0;34m\u001b[0m\u001b[0;34m\u001b[0m\u001b[0m\n\u001b[1;32m   2138\u001b[0m         \u001b[0;32melse\u001b[0m\u001b[0;34m:\u001b[0m\u001b[0;34m\u001b[0m\u001b[0;34m\u001b[0m\u001b[0m\n\u001b[0;32m-> 2139\u001b[0;31m             \u001b[0;32mreturn\u001b[0m \u001b[0mself\u001b[0m\u001b[0;34m.\u001b[0m\u001b[0m_getitem_column\u001b[0m\u001b[0;34m(\u001b[0m\u001b[0mkey\u001b[0m\u001b[0;34m)\u001b[0m\u001b[0;34m\u001b[0m\u001b[0;34m\u001b[0m\u001b[0m\n\u001b[0m\u001b[1;32m   2140\u001b[0m \u001b[0;34m\u001b[0m\u001b[0m\n\u001b[1;32m   2141\u001b[0m     \u001b[0;32mdef\u001b[0m \u001b[0m_getitem_column\u001b[0m\u001b[0;34m(\u001b[0m\u001b[0mself\u001b[0m\u001b[0;34m,\u001b[0m \u001b[0mkey\u001b[0m\u001b[0;34m)\u001b[0m\u001b[0;34m:\u001b[0m\u001b[0;34m\u001b[0m\u001b[0;34m\u001b[0m\u001b[0m\n",
      "\u001b[0;32m~/programs/anaconda3/anaconda3/lib/python3.6/site-packages/pandas/core/frame.py\u001b[0m in \u001b[0;36m_getitem_column\u001b[0;34m(self, key)\u001b[0m\n\u001b[1;32m   2144\u001b[0m         \u001b[0;31m# get column\u001b[0m\u001b[0;34m\u001b[0m\u001b[0;34m\u001b[0m\u001b[0;34m\u001b[0m\u001b[0m\n\u001b[1;32m   2145\u001b[0m         \u001b[0;32mif\u001b[0m \u001b[0mself\u001b[0m\u001b[0;34m.\u001b[0m\u001b[0mcolumns\u001b[0m\u001b[0;34m.\u001b[0m\u001b[0mis_unique\u001b[0m\u001b[0;34m:\u001b[0m\u001b[0;34m\u001b[0m\u001b[0;34m\u001b[0m\u001b[0m\n\u001b[0;32m-> 2146\u001b[0;31m             \u001b[0;32mreturn\u001b[0m \u001b[0mself\u001b[0m\u001b[0;34m.\u001b[0m\u001b[0m_get_item_cache\u001b[0m\u001b[0;34m(\u001b[0m\u001b[0mkey\u001b[0m\u001b[0;34m)\u001b[0m\u001b[0;34m\u001b[0m\u001b[0;34m\u001b[0m\u001b[0m\n\u001b[0m\u001b[1;32m   2147\u001b[0m \u001b[0;34m\u001b[0m\u001b[0m\n\u001b[1;32m   2148\u001b[0m         \u001b[0;31m# duplicate columns & possible reduce dimensionality\u001b[0m\u001b[0;34m\u001b[0m\u001b[0;34m\u001b[0m\u001b[0;34m\u001b[0m\u001b[0m\n",
      "\u001b[0;32m~/programs/anaconda3/anaconda3/lib/python3.6/site-packages/pandas/core/generic.py\u001b[0m in \u001b[0;36m_get_item_cache\u001b[0;34m(self, item)\u001b[0m\n\u001b[1;32m   1840\u001b[0m         \u001b[0mres\u001b[0m \u001b[0;34m=\u001b[0m \u001b[0mcache\u001b[0m\u001b[0;34m.\u001b[0m\u001b[0mget\u001b[0m\u001b[0;34m(\u001b[0m\u001b[0mitem\u001b[0m\u001b[0;34m)\u001b[0m\u001b[0;34m\u001b[0m\u001b[0;34m\u001b[0m\u001b[0m\n\u001b[1;32m   1841\u001b[0m         \u001b[0;32mif\u001b[0m \u001b[0mres\u001b[0m \u001b[0;32mis\u001b[0m \u001b[0;32mNone\u001b[0m\u001b[0;34m:\u001b[0m\u001b[0;34m\u001b[0m\u001b[0;34m\u001b[0m\u001b[0m\n\u001b[0;32m-> 1842\u001b[0;31m             \u001b[0mvalues\u001b[0m \u001b[0;34m=\u001b[0m \u001b[0mself\u001b[0m\u001b[0;34m.\u001b[0m\u001b[0m_data\u001b[0m\u001b[0;34m.\u001b[0m\u001b[0mget\u001b[0m\u001b[0;34m(\u001b[0m\u001b[0mitem\u001b[0m\u001b[0;34m)\u001b[0m\u001b[0;34m\u001b[0m\u001b[0;34m\u001b[0m\u001b[0m\n\u001b[0m\u001b[1;32m   1843\u001b[0m             \u001b[0mres\u001b[0m \u001b[0;34m=\u001b[0m \u001b[0mself\u001b[0m\u001b[0;34m.\u001b[0m\u001b[0m_box_item_values\u001b[0m\u001b[0;34m(\u001b[0m\u001b[0mitem\u001b[0m\u001b[0;34m,\u001b[0m \u001b[0mvalues\u001b[0m\u001b[0;34m)\u001b[0m\u001b[0;34m\u001b[0m\u001b[0;34m\u001b[0m\u001b[0m\n\u001b[1;32m   1844\u001b[0m             \u001b[0mcache\u001b[0m\u001b[0;34m[\u001b[0m\u001b[0mitem\u001b[0m\u001b[0;34m]\u001b[0m \u001b[0;34m=\u001b[0m \u001b[0mres\u001b[0m\u001b[0;34m\u001b[0m\u001b[0;34m\u001b[0m\u001b[0m\n",
      "\u001b[0;32m~/programs/anaconda3/anaconda3/lib/python3.6/site-packages/pandas/core/internals.py\u001b[0m in \u001b[0;36mget\u001b[0;34m(self, item, fastpath)\u001b[0m\n\u001b[1;32m   3841\u001b[0m \u001b[0;34m\u001b[0m\u001b[0m\n\u001b[1;32m   3842\u001b[0m             \u001b[0;32mif\u001b[0m \u001b[0;32mnot\u001b[0m \u001b[0misna\u001b[0m\u001b[0;34m(\u001b[0m\u001b[0mitem\u001b[0m\u001b[0;34m)\u001b[0m\u001b[0;34m:\u001b[0m\u001b[0;34m\u001b[0m\u001b[0;34m\u001b[0m\u001b[0m\n\u001b[0;32m-> 3843\u001b[0;31m                 \u001b[0mloc\u001b[0m \u001b[0;34m=\u001b[0m \u001b[0mself\u001b[0m\u001b[0;34m.\u001b[0m\u001b[0mitems\u001b[0m\u001b[0;34m.\u001b[0m\u001b[0mget_loc\u001b[0m\u001b[0;34m(\u001b[0m\u001b[0mitem\u001b[0m\u001b[0;34m)\u001b[0m\u001b[0;34m\u001b[0m\u001b[0;34m\u001b[0m\u001b[0m\n\u001b[0m\u001b[1;32m   3844\u001b[0m             \u001b[0;32melse\u001b[0m\u001b[0;34m:\u001b[0m\u001b[0;34m\u001b[0m\u001b[0;34m\u001b[0m\u001b[0m\n\u001b[1;32m   3845\u001b[0m                 \u001b[0mindexer\u001b[0m \u001b[0;34m=\u001b[0m \u001b[0mnp\u001b[0m\u001b[0;34m.\u001b[0m\u001b[0marange\u001b[0m\u001b[0;34m(\u001b[0m\u001b[0mlen\u001b[0m\u001b[0;34m(\u001b[0m\u001b[0mself\u001b[0m\u001b[0;34m.\u001b[0m\u001b[0mitems\u001b[0m\u001b[0;34m)\u001b[0m\u001b[0;34m)\u001b[0m\u001b[0;34m[\u001b[0m\u001b[0misna\u001b[0m\u001b[0;34m(\u001b[0m\u001b[0mself\u001b[0m\u001b[0;34m.\u001b[0m\u001b[0mitems\u001b[0m\u001b[0;34m)\u001b[0m\u001b[0;34m]\u001b[0m\u001b[0;34m\u001b[0m\u001b[0;34m\u001b[0m\u001b[0m\n",
      "\u001b[0;32m~/programs/anaconda3/anaconda3/lib/python3.6/site-packages/pandas/core/indexes/base.py\u001b[0m in \u001b[0;36mget_loc\u001b[0;34m(self, key, method, tolerance)\u001b[0m\n\u001b[1;32m   2525\u001b[0m                 \u001b[0;32mreturn\u001b[0m \u001b[0mself\u001b[0m\u001b[0;34m.\u001b[0m\u001b[0m_engine\u001b[0m\u001b[0;34m.\u001b[0m\u001b[0mget_loc\u001b[0m\u001b[0;34m(\u001b[0m\u001b[0mkey\u001b[0m\u001b[0;34m)\u001b[0m\u001b[0;34m\u001b[0m\u001b[0;34m\u001b[0m\u001b[0m\n\u001b[1;32m   2526\u001b[0m             \u001b[0;32mexcept\u001b[0m \u001b[0mKeyError\u001b[0m\u001b[0;34m:\u001b[0m\u001b[0;34m\u001b[0m\u001b[0;34m\u001b[0m\u001b[0m\n\u001b[0;32m-> 2527\u001b[0;31m                 \u001b[0;32mreturn\u001b[0m \u001b[0mself\u001b[0m\u001b[0;34m.\u001b[0m\u001b[0m_engine\u001b[0m\u001b[0;34m.\u001b[0m\u001b[0mget_loc\u001b[0m\u001b[0;34m(\u001b[0m\u001b[0mself\u001b[0m\u001b[0;34m.\u001b[0m\u001b[0m_maybe_cast_indexer\u001b[0m\u001b[0;34m(\u001b[0m\u001b[0mkey\u001b[0m\u001b[0;34m)\u001b[0m\u001b[0;34m)\u001b[0m\u001b[0;34m\u001b[0m\u001b[0;34m\u001b[0m\u001b[0m\n\u001b[0m\u001b[1;32m   2528\u001b[0m \u001b[0;34m\u001b[0m\u001b[0m\n\u001b[1;32m   2529\u001b[0m         \u001b[0mindexer\u001b[0m \u001b[0;34m=\u001b[0m \u001b[0mself\u001b[0m\u001b[0;34m.\u001b[0m\u001b[0mget_indexer\u001b[0m\u001b[0;34m(\u001b[0m\u001b[0;34m[\u001b[0m\u001b[0mkey\u001b[0m\u001b[0;34m]\u001b[0m\u001b[0;34m,\u001b[0m \u001b[0mmethod\u001b[0m\u001b[0;34m=\u001b[0m\u001b[0mmethod\u001b[0m\u001b[0;34m,\u001b[0m \u001b[0mtolerance\u001b[0m\u001b[0;34m=\u001b[0m\u001b[0mtolerance\u001b[0m\u001b[0;34m)\u001b[0m\u001b[0;34m\u001b[0m\u001b[0;34m\u001b[0m\u001b[0m\n",
      "\u001b[0;32mpandas/_libs/index.pyx\u001b[0m in \u001b[0;36mpandas._libs.index.IndexEngine.get_loc\u001b[0;34m()\u001b[0m\n",
      "\u001b[0;32mpandas/_libs/index.pyx\u001b[0m in \u001b[0;36mpandas._libs.index.IndexEngine.get_loc\u001b[0;34m()\u001b[0m\n",
      "\u001b[0;32mpandas/_libs/hashtable_class_helper.pxi\u001b[0m in \u001b[0;36mpandas._libs.hashtable.PyObjectHashTable.get_item\u001b[0;34m()\u001b[0m\n",
      "\u001b[0;32mpandas/_libs/hashtable_class_helper.pxi\u001b[0m in \u001b[0;36mpandas._libs.hashtable.PyObjectHashTable.get_item\u001b[0;34m()\u001b[0m\n",
      "\u001b[0;31mKeyError\u001b[0m: 'BJ0_synthetic_maggies'"
     ]
    }
   ],
   "source": [
    "Spec_Cat[[f.split('_')[0]+'_kcorr_BJ0' \n",
    "          for f in \n",
    "          synthetic_maggies_filt_list]]=-2.5*np.log10(\n",
    "    Spec_Cat[synthetic_maggies_filt_list]/\n",
    "    np.stack((Spec_Cat['BJ0_synthetic_maggies'],\n",
    "              Spec_Cat['BJ0_synthetic_maggies'],\n",
    "              Spec_Cat['BJ0_synthetic_maggies'],\n",
    "              Spec_Cat['BJ0_synthetic_maggies'],\n",
    "              Spec_Cat['BJ0_synthetic_maggies']),axies=-1))"
   ]
  },
  {
   "cell_type": "code",
   "execution_count": null,
   "metadata": {},
   "outputs": [],
   "source": [
    "Spec_Cat.to_csv(catbasedir+'/Laigle_Cat_With_kcorrections.csv',index=False)"
   ]
  }
 ],
 "metadata": {
  "kernelspec": {
   "display_name": "Python 3",
   "language": "python",
   "name": "python3"
  },
  "language_info": {
   "codemirror_mode": {
    "name": "ipython",
    "version": 3
   },
   "file_extension": ".py",
   "mimetype": "text/x-python",
   "name": "python",
   "nbconvert_exporter": "python",
   "pygments_lexer": "ipython3",
   "version": "3.6.7"
  }
 },
 "nbformat": 4,
 "nbformat_minor": 2
}
