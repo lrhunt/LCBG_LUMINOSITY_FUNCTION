{
 "cells": [
  {
   "cell_type": "markdown",
   "metadata": {},
   "source": [
    "Trying to simply combine a large number of catalogs with the Laigle+16 catalog (Photometry for more objects), The Davies+15 (V05) catalog (A lot of spectroscopic redshifts), the DIEMOS redshift catalog, and the three morphology catalogs. This should provide a large number of redshifts for a large number of objects. Can go to higher apparent magnitude (avoid problems with incompleteness). I'm hoping this will help with number of galaxies we have? Should be simple, don't want to take too long doing this. "
   ]
  },
  {
   "cell_type": "markdown",
   "metadata": {},
   "source": [
    "| Date | Person | Change |\n",
    "| :- | :- | :--------: |\n",
    "04/16/2019  |  L. Hunt  |  <ul><li>Initial Version</li><li>Import fits table</li><li>Import other text tables</li></ul>"
   ]
  },
  {
   "cell_type": "markdown",
   "metadata": {},
   "source": [
    "Import numerical packages"
   ]
  },
  {
   "cell_type": "code",
   "execution_count": 1,
   "metadata": {},
   "outputs": [],
   "source": [
    "import pandas as pd\n",
    "import numpy as np\n",
    "from itertools import combinations"
   ]
  },
  {
   "cell_type": "markdown",
   "metadata": {},
   "source": [
    "Import Astronomy Packages"
   ]
  },
  {
   "cell_type": "code",
   "execution_count": 2,
   "metadata": {},
   "outputs": [],
   "source": [
    "import astropy as ap\n",
    "from astropy import units as u\n",
    "from astropy.coordinates import SkyCoord\n",
    "import kcorrect\n",
    "import kcorrect.utils as ut\n",
    "from astropy.cosmology import FlatLambdaCDM\n",
    "from astropy.table import Table"
   ]
  },
  {
   "cell_type": "markdown",
   "metadata": {},
   "source": [
    "Import misc./plotting packages"
   ]
  },
  {
   "cell_type": "code",
   "execution_count": 3,
   "metadata": {},
   "outputs": [],
   "source": [
    "import os\n",
    "import matplotlib.pyplot as plt"
   ]
  },
  {
   "cell_type": "markdown",
   "metadata": {},
   "source": [
    "# Setup"
   ]
  },
  {
   "cell_type": "code",
   "execution_count": 4,
   "metadata": {},
   "outputs": [],
   "source": [
    "cosmo=FlatLambdaCDM(H0=70,Om0=0.3)"
   ]
  },
  {
   "cell_type": "code",
   "execution_count": 5,
   "metadata": {},
   "outputs": [],
   "source": [
    "def make_kcorr_filt_template(dataframe):\n",
    "    '''This task will make a kcorrect filter template from a dataframe that optimizes the number of objects with detections in a subset of filters. In this case the dataframe should contain cfht, subaru, and irac wideband filters. '''\n",
    "    kcordir=os.environ[\"KCORRECT_DIR\"]\n",
    "    lambdar_to_kcorr={'mag_cfht_u':'capak_cfht_megaprime_sagem_u.par','mag_subaru_B':'capak_subaru_suprimecam_B.par','mag_subaru_V':'capak_subaru_suprimecam_V.par','mag_subaru_g':'capak_subaru_suprimecam_g.par','mag_subaru_r':'capak_subaru_suprimecam_r.par','mag_subaru_i':'capak_subaru_suprimecam_i.par','mag_subaru_z':'capak_subaru_suprimecam_z.par','mag_irac_1':'spitzer_irac_ch1.par','mag_irac_2':'spitzer_irac_ch2.par','mag_irac_3':'spitzer_irac_ch3.par','mag_irac_4':'spitzer_irac_ch4.par'}\n",
    "    numb1=0\n",
    "    numb2=0\n",
    "    numb3=0\n",
    "    numb4=0\n",
    "    numb5=0\n",
    "    flist1=[]\n",
    "    flist2=[]\n",
    "    flist3=[]\n",
    "    flist4=[]\n",
    "    flist5=[]\n",
    "    ilist1=[]\n",
    "    ilist2=[]\n",
    "    ilist3=[]\n",
    "    ilist4=[]\n",
    "    ilist5=[]\n",
    "    kcor_template=kcordir+'/data/templates/temp_filt_list.dat'\n",
    "    for x in combinations(list(dataframe),5):\n",
    "        if len(dataframe[(dataframe[x[0]]<40)&(dataframe[x[1]]<40)&(dataframe[x[2]]<40)&(dataframe[x[3]]<40)&(dataframe[x[4]]<40)]) > numb1:\n",
    "            ilist5=ilist4\n",
    "            ilist4=ilist3\n",
    "            ilist3=ilist2\n",
    "            ilist2=ilist1\n",
    "            ilist1=dataframe[(dataframe[x[0]]<40)&(dataframe[x[1]]<40)&(dataframe[x[2]]<40)&(dataframe[x[3]]<40)&(dataframe[x[4]]<40)].index.tolist()\n",
    "            numb5=numb4\n",
    "            numb4=numb3\n",
    "            numb3=numb2\n",
    "            numb2=numb1\n",
    "            numb1=len(ilist1)\n",
    "            flist5=flist4\n",
    "            flist4=flist3\n",
    "            flist3=flist2\n",
    "            flist2=flist1\n",
    "            flist1=x\n",
    "    with open(kcor_template,'w') as file:\n",
    "        file.write('KCORRECT_DIR\\n')\n",
    "        for filt in flist1:\n",
    "            file.write('data/filters/'+lambdar_to_kcorr[filt]+'\\n')\n",
    "    return flist1,kcor_template"
   ]
  },
  {
   "cell_type": "code",
   "execution_count": 6,
   "metadata": {},
   "outputs": [],
   "source": [
    "kcordir=os.environ[\"KCORRECT_DIR\"]\n",
    "catbasedir=os.environ[\"LUMFUNC_CATS\"]"
   ]
  },
  {
   "cell_type": "markdown",
   "metadata": {},
   "source": [
    "Reading catalogs into pandas databases"
   ]
  },
  {
   "cell_type": "code",
   "execution_count": 7,
   "metadata": {},
   "outputs": [
    {
     "name": "stdout",
     "output_type": "stream",
     "text": [
      "Reading Catalogs\n"
     ]
    }
   ],
   "source": [
    "print('Reading Catalogs')"
   ]
  },
  {
   "cell_type": "markdown",
   "metadata": {},
   "source": [
    "Photometry"
   ]
  },
  {
   "cell_type": "code",
   "execution_count": 8,
   "metadata": {},
   "outputs": [
    {
     "name": "stderr",
     "output_type": "stream",
     "text": [
      "WARNING: UnitsWarning: 'erg/cm2/s' contains multiple slashes, which is discouraged by the FITS standard [astropy.units.format.generic]\n",
      "/Users/lucashunt/programs/anaconda3/anaconda3/lib/python3.6/site-packages/IPython/core/interactiveshell.py:3265: TableReplaceWarning: converted column 'ID_XMM' from integer to float\n",
      "  exec(code_obj, self.user_global_ns, self.user_ns)\n",
      "/Users/lucashunt/programs/anaconda3/anaconda3/lib/python3.6/site-packages/IPython/core/interactiveshell.py:3265: TableReplaceWarning: converted column 'ID_CHANDRA09' from integer to float\n",
      "  exec(code_obj, self.user_global_ns, self.user_ns)\n",
      "/Users/lucashunt/programs/anaconda3/anaconda3/lib/python3.6/site-packages/IPython/core/interactiveshell.py:3265: TableReplaceWarning: converted column 'FLAG_XRAYBLEND' from integer to float\n",
      "  exec(code_obj, self.user_global_ns, self.user_ns)\n"
     ]
    }
   ],
   "source": [
    "laigle_table=Table.read(catbasedir+'/Photometry/COSMOS2015_Laigle+_v1.1.fits')\n",
    "laigle_df=laigle_table.to_pandas()"
   ]
  },
  {
   "cell_type": "markdown",
   "metadata": {},
   "source": [
    "Spectroscopy"
   ]
  },
  {
   "cell_type": "code",
   "execution_count": 28,
   "metadata": {},
   "outputs": [
    {
     "name": "stdout",
     "output_type": "stream",
     "text": [
      "['\\\\', 'Faisst', 'A.,', 'S.,', 'Kakazu', 'Y.,', 'Kartaltepe', 'J.,', 'Masters', 'D.,']\n",
      "['\\\\', 'Mobasher', 'B.,', 'H.,', 'Sanders', 'D.,', 'Scoville', 'N.Z.,', 'Suh', 'H.,']\n",
      "['\\\\', '10-', '20', 'deg', 'RAdeg', 'Right', 'Ascension,', 'decimal', 'degrees', '(J2000)']\n",
      "['\\\\', '37-', '41', 'mag', 'imag', 'I', 'bandpass', 'AB', 'magnitude', '(3)']\n",
      "['\\\\', '43-', '47', 'mag', 'kmag', 'K', 'bandpass', 'AB', 'magnitude', '(3)']\n",
      "['\\\\', '56-', '57', '---', 'Qf', 'original', 'spectroscopic', 'quality', 'flag', '(4)']\n",
      "['\\\\', '59-', '61', '---', 'Q', 'comprehensive', 'spectral', 'quality', 'flag', '(5)']\n",
      "['\\\\', 'binary', 'flag', 'the', 'X-ray,', 'high-z,', 'MIPS,', 'VLA,', 'Herschel,', 'OVV,']\n",
      "['\\\\', 'Note', '(3):', 'based', 'on', 'the', 'ultradeep', 'Subaru', 'Hyper', 'Suprime-Cam']\n",
      "['\\\\', 'in', 'the', 'catalogue', 'are', 'covered', 'by', 'a', 'single', 'photometric']\n",
      "['\\\\', 'Note', '(4):', 'quality', 'flag,', 'Qf,', 'following', 'the', 'original', 'zCOSMOS']\n",
      "['\\\\', 'scheme', '(Lilly', 'al.', '2009ApJS..184..218L,', 'aka', 'the', 'column', 'CClass', 'in']\n",
      "['\\\\', 'absorption', 'lines', 'the', 'G', '4304A', 'absorption', 'band,', 'respectively.', 'Other']\n",
      "['L506051', '149.4313965', '2.069463', '128', '23.07', '21.07', '0.959', '4', '2.0', '[OII],K,Hg,Hb']\n",
      "['L487779', '149.4403076', '2.0380361', '160', '20.83', '19.46', '0.6585', '4', '2.0', '[OII]d,E+A,K,Hb,[OIII]d,MgI']\n",
      "['L489434', '149.4420929', '2.0439519', '512', '25.01', '21.82', '1.705', '1', '1.5', 'MgII?']\n",
      "['L499855', '149.4459076', '2.0681691', '160', '20.24', '19.67', '0.252', '4', '2.0', 'Hb,[OIII]d,NaI,Ha,NIId,SIId']\n",
      "['L506415', '149.4481049', '2.07113', '160', '18.44', '19.14', '0.252', '4', '2.0', 'Hg,Hb,[OIII]d,Ha,NIId,SIId']\n",
      "['L510870', '149.4512024', '2.0751769', '512', '21.76', '20.05', '0.949', '2', '1.5', '[OII],[OIII]?']\n",
      "['L525526', '149.4519959', '2.1004409', '128', '23.46', '22.06', '1.1805', '4', '2.0', '[OII],H+K']\n",
      "['L508034', '149.4532929', '2.0691161', '2', '18.74', '18.02', '0.0', '4', '2.0', 'M_Star']\n",
      "['L481129', '149.4579926', '2.0298299', '128', '21.83', '20.51', '0.657', '4', '2.0', '[OII],K,Hb,[OIII]d']\n",
      "['L524074', '149.4584961', '2.097058', '224', '23.01', '20.11', '1.137', '4', '2.0', '[OII],H+K']\n",
      "['L500590', '149.4680023', '2.0594909', '32', '21.64', '20.1', '0.6745', '4', '2.0', '[OII],H+K,G,Hb']\n",
      "['L514568', '149.4779968', '2.081655', '128', '22.97', '21.07', '1.135', '4', '2.0', 'MgII(abs),[OII],K,Hg']\n",
      "['L538381', '149.4810944', '2.1186299', '128', '21.81', '20.87', '0.954', '4', '2.0', '[OII]d,E+A,Hg,Hb,[OIII]d']\n",
      "['L929110', '149.49269', '2.7093431', '21.74', '21.8', '0.308', '4', '2.0', '[OII]d,K,Hb,[OIII]d,Ha,NIId,SIId,', 'coord!']\n",
      "['L521763', '149.4934998', '2.0912549', '160', '20.83', '19.11', '0.623', '4', '2.0', '[OII],H+K,G,Hb,[OIII]d']\n",
      "['L509952', '149.4951019', '2.084325', '512', '18.51', '14.75', '0.0', '4', '2.0', 'M_Star']\n",
      "['L512840', '149.4978943', '2.076672', '704', '19.06', '18.97', '2.029', '14', '2.0', 'CIII](br),FeI/FeII(abs),MgII(br)']\n",
      "['L517902', '149.5005035', '2.0872969', '512', '24.09', '22.26', 'null', '0', '0.0', 'null']\n",
      "['L536673', '149.5032959', '2.117691', '704', '23.69', '21.72', '1.557', '1', '1.5', 'MgII?']\n",
      "['L529682', '149.5072937', '2.104922', '128', '21.32', '19.73', '0.0', '4', '2.0', 'M_Star']\n",
      "['L511692', '149.5162964', '2.078958', '576', '24.49', '23.26', '3.029', '4', '2.0', 'Lya,CIV,CIII]']\n",
      "['L510186', '149.5260925', '2.0758769', '128', '23.24', '21.58', '0.891', '4', '2.0', '[OII],Hb,[OIII]d']\n",
      "['L531886', '149.5269013', '2.109241', '128', '23.18', '21.74', '1.601', '4', '2.0', 'FeII(abs),FeI/FeII(abs),MgII(abs),[OII]d']\n",
      "['L533935', '149.5305939', '2.10958', '128', '22.48', '21.19', '0.998', '3', '2.0', '[OII],H']\n",
      "['L522557', '149.534195', '2.0946879', '192', '23.25', '20.91', '0.828', '4', '2.0', '[OII],K,Hb,[OIII]d']\n",
      "['L541850', '149.5359039', '2.123486', '128', '21.99', '20.11', '0.908', '4', '2.0', '[OII],H+K']\n",
      "['L530434', '149.5386963', '2.1038079', '2', '17.51', '17.33', '0.0', '4', '2.0', 'star']\n",
      "['L564808', '149.5467987', '2.1597609', '32', '23.81', '22.5', '1.482', '4', '2.0', '[OII]d,K']\n",
      "['L512042', '149.547868', '2.078279', '23.39', '21.43', '0.961', '2', '1.5', '[OII]?,', 'K?,H?']\n",
      "['L541230', '149.5500031', '2.1255359', '512', '25.38', '23.48', 'null', '0', '0.0', 'null']\n",
      "['L555378', '149.550705', '2.1429998', '96', '20.11', '20.22', '0.0', '3', '2.0', 'star']\n",
      "['L538120', '149.5511932', '2.1193859', '128', '22.68', '21.34', '1.493', '3', '2.0', 'MgI(abs),[OII]']\n",
      "['L565659', '149.5529022', '2.1613109', '128', '23.92', '21.98', '1.484', '3', '2.0', '[OII]d']\n",
      "['L578019', '149.5532074', '2.178297', '128', '22.18', '20.53', '0.843', '4', '2.0', '[OII]d,H+K,G,Hb,[OIII]']\n",
      "['L590750', '149.5561981', '2.1973969', '224', '23.67', '21.03', '1.4895', '3', '2.0', 'MgII(abs),[OII]']\n",
      "['L584869', '149.5583954', '2.189594', '128', '23.52', '21.76', '1.454', '3', '2.0', 'MgII(abs),[OII]']\n",
      "['L600711', '149.5722046', '2.211672', '224', '22.48', '20.62', 'null', '0', '0.0', 'null']\n",
      "['L546182', '149.5724945', '2.1317799', '128', '23.21', '20.93', '0.833', '2', '1.5', 'G,Hb(abs)']\n",
      "['L600384', '149.5760956', '2.21353', '640', '26.75', '22.77', 'null', '0', '0.0', 'null']\n",
      "['L558325', '149.5809937', '2.145394', '2', '18.62', '17.89', '0.0', '4', '2.0', 'star']\n",
      "['L602877', '149.5821991', '2.214925', '192', '22.4', '20.14', '1.027', '4', '2.0', '[OII],H+K']\n",
      "['L568163', '149.5950928', '2.1606659', '2', '17.66', '16.82', '0.0', '4', '2.0', 'star']\n",
      "['L588576', '149.5955048', '2.1932051', '128', '23.99', '21.57', '1.27', '4', '2.0', '[OII],H+K']\n",
      "['L601642', '149.595993', '2.22', '640', '11.2', '12.72', '0.0', '4', '2.0', 'star']\n",
      "['L569840', '149.6051025', '2.1637659', '224', '21.76', '19.76', '1.0255', '4', '2.0', '[OII],E+A,H+K']\n",
      "['L587164', '149.6058044', '2.1904749', '224', '20.65', '18.89', '0.537', '4', '2.0', '[OII],H+K,G.Hb(abs),MgI,NaI']\n",
      "['C1090847', '149.6082001', '2.151772', '192', '25.24', '23.8', 'null', '0', '0.0', 'null']\n",
      "['L603802', '149.6159973', '2.2167859', '128', '22.22', '21.37', '0.949', '4', '2.0', '[OII],K,Hg,[OIII]']\n",
      "['L607000', '149.6186981', '2.2203879', '576', '23.27', '19.96', '1.058', '3', '2.0', '[OII],H+K']\n",
      "['L590550', '149.6208954', '2.1987519', '512', '24.86', '22.88', 'null', '0', '0.0', 'null']\n",
      "['L588083', '149.6210022', '2.1936159', '128', '22.72', '19.99', 'null', '0', '0.0', 'null']\n",
      "['L603482', '149.6266022', '2.2165749', '128', '22.62', '20.81', '1.031', '4', '2.0', '[OII]d,K,Hb']\n",
      "['L603396', '149.6338959', '2.2155859', '512', '22.63', '20.58', '1.026', '3', '2.0', '[OII],H+K,G']\n",
      "['L580231', '149.6385956', '2.1828908', '640', '25.31', '21.62', 'null', '0', '0.0', 'null']\n",
      "['L600839', '149.6405029', '2.2113909', '128', '22.16', '19.92', '0.889', '4', '2.0', '[OII],H+K']\n",
      "['L585219', '149.6432037', '2.1856329', '2', '18.31', '17.56', '0.0', '4', '2.0', 'star']\n",
      "['L601457', '149.6495972', '2.209263', '576', '21.35', '19.25', '0.953', '4', '2.0', '[OII],H+K,G']\n",
      "['null', '149.7877045', '2.0951171', 'null', 'null', '5.388', '2', '1.0', 'Lya(?)', '2nd']\n",
      "['null', '149.859375', '1.7838056', 'null', 'null', '4.619', '2', '2.0', 'Lya', '2nd']\n",
      "['L768578', '149.8766174', '2.4647529', '21.68', '19.76', '0.73', '14', '2.0', '[OII],K,Hb', '(br)']\n",
      "['null', '149.8837433', '1.8525', 'null', 'null', '1.2453', '4', '2.0', 'MgII(abs),[OII]d', '2nd']\n",
      "['null', '149.9182587', '2.5152221', 'null', 'null', '1.461', '3', '2.0', '[OII]d', '2nd']\n",
      "['null', '149.9303436', '1.5990001', 'null', 'null', '1.439', '3', '2.0', '[OII]d', '2nd']\n",
      "['L590303', '149.9366455', '2.1981859', '23.73', '22.64', '4.934', '3', '2.0', 'Lya', '2nd']\n",
      "['null', '149.9386292', '2.4962556', 'null', 'null', '5.502', '3', '2.0', 'Lya', '2nd']\n",
      "['L376775', '149.94104', '1.8628581', '21.53', '22.55', '3.177', '3', '2.0', 'CIII],Fe', 'lines']\n",
      "['null', '149.9548645', '2.030328', 'null', 'null', '1.241', '3', '2.0', '[OII]d', '2nd']\n",
      "['null', '149.9711304', '1.8293889', 'null', 'null', '1.176', '3', '2.0', '[OII]d', '2nd']\n",
      "['L990857', '149.97394', '2.8102995', '22.62', '21.0', '1.5595', '14', '2.0', 'CII,MgII(br)', '([OII]@1.24?)']\n",
      "['null', '149.9831696', '2.3189321', 'null', 'null', '1.004', '2', '1.0', '[OII]?', '2nd']\n",
      "['L741093', '149.9866333', '2.4225161', '22.05', '20.54', '0.626', '4', '2.0', 'K,Hg,Hb,[OIII]d,Ha(dbl', 'em)']\n",
      "['null', '149.9866333', '2.4225161', 'null', 'null', '1.459', '4', '2.0', 'MgII(abs),[OII]d', '2nd']\n",
      "['L339502', '149.98732', '1.8026852', '20.32', '19.08', '0.341', '4', '2.0', 'G,Hbeta,NaI,Ha', '(dbl?)']\n",
      "['null', '150.0394583', '2.3828889', 'null', 'null', '0.341', '4', '2.0', 'Hb,[OIII]d,Ha,NIId,SIId', '2nd']\n",
      "['L504974', '150.0564423', '2.0680921', '24.8', '21.6', '1.7245', '1', '1.5', 'MgII,I', '(abs)?']\n",
      "['null', '150.0651667', '2.2321944', 'null', 'null', '1.2555', '4', '2.0', '[OII]d,Hg', '2nd']\n",
      "['L848185', '150.0895844', '2.5864251', '24.67', '23.17', '5.284', '4', '2.0', 'Lya(skewed),SiII,OI/SiII,CII,SiIV,SiIV', '(abs)']\n",
      "['null', '150.0972083', '2.2918611', 'null', 'null', '4.489', '3', '2.0', 'Lya', '2nd']\n",
      "['null', '150.104248', '1.809', 'null', 'null', '5.8', '3', '2.0', 'Lya', '2nd']\n",
      "['L610080', '150.1097917', '2.2237778', '20.82', '19.22', '0.373', '4', '2.0', 'G,[OIII],MgI,NaI,Ha(dbl', 'em),NII,SIId']\n",
      "['null', '150.1428333', '2.4533333', 'null', 'null', '0.888', '3', '2.0', '[OII]d', '2nd']\n",
      "['null', '150.153', '2.2588611', 'null', 'null', '5.3725', '3', '2.0', 'Lya', '2nd']\n",
      "['null', '150.1821747', '2.3384221', 'null', 'null', '5.937', '9', '1.0', 'Lya?', '2nd']\n",
      "['null', '150.1883', '2.215848', '26.32', 'null', '4.4565', '3', '2.0', 'Lya(skewed),', '2nd']\n",
      "['null', '150.1889583', '2.2103611', 'null', 'null', '0.7505', '4', '2.0', '[OII]d,[OIII]d', '2nd']\n",
      "['null', '150.2035522', '2.5891199', 'null', 'null', '1.0036', '3', '2.0', '[OII]d', '2nd']\n",
      "['L198590', '150.2092133', '1.579489', '21.36', '19.73', '0.887', '4', '2.0', '[OII],H+K,G,Hg,Hb(all', '(abs))']\n",
      "['null', '150.2237701', '2.1250629', 'null', 'null', '0.752', '4', '2.0', '[OII],Hb,[OIII]d', '2nd']\n",
      "['null', '150.2278748', '1.7646945', 'null', 'null', '0.916', '2', '1.0', '[OII]d?', '2nd']\n",
      "['L367250', '150.230545', '1.8447061', '21.26', '19.51', '0.554', '4', '2.0', 'H+K,G,Hg,Hb,MgI,NaI', '(abs)']\n",
      "['L230785', '150.231881', '1.62798', '19.96', '18.72', '0.404', '4', '2.0', '[OII],K,Hb,[OIII]d,Ha,NIId(dbl', 'em)']\n",
      "['L976422', '150.270784', '2.784044', '20.7', '20.52', '0.495', '14', '2.0', '[OII](br),H(no', 'K),Hb,[OIII]d,MgI,NaI,Ha']\n",
      "['L807070', '150.288269', '2.522325', '21.07', '19.75', '0.671', '4', '2.0', 'H+K,G,Hg,Hb,MgI', '(abs)']\n",
      "['null', '150.3070526', '2.650528', 'null', 'null', '4.626', '3', '2.0', 'Lya', '2nd']\n",
      "['null', '150.3116', '1.756438', 'null', 'null', '0.935', '3', '2.0', '[OII]d', '2nd']\n",
      "['L215902', '150.31725', '1.6047658', '18.47', '17.82', '0.213', '4', '2.0', 'K,Hb(abs),MgI,Ha,NIId,SIId;', 'ULX?']\n",
      "['null', '150.3298798', '1.8597223', 'null', 'null', '0.4162', '4', '2.0', '[OIII],Ha,NIId,SIId', '2nd']\n",
      "['null', '150.3435516', '1.909306', 'null', 'null', '0.878', '2', '2.0', '[OII]', '(2nd)']\n",
      "['null', '150.3455048', '1.9043371', 'null', 'null', '0.958', '4', '2.0', '[OII],H,Hg', '2nd']\n",
      "['L720578', '150.3476715', '2.3910329', '22.4', '20.59', '1.8485', '19', '1.0', 'MgII', 'br']\n",
      "['null', '150.3593292', '1.939639', 'null', 'null', '0.9647', '4', '2.0', 'Hb,[OIII]d', '2nd']\n",
      "['null', '150.3901672', '1.9144722', 'null', 'null', '0.8391', '4', '2.0', 'Hb,[OIII]d', '2nd']\n",
      "['null', '150.4099121', '1.9146111', 'null', 'null', '0.3504', '4', '2.0', 'Hb,[OIII]d', '2nd']\n",
      "['null', '150.420748', '1.945358', 'null', 'null', '0.2089', '4', '2.0', '[OII]?,K,Hg,Hb,[OIII]d,Ha,NIId,SIId', '2nd']\n",
      "['null', '150.4929199', '2.5435829', 'null', 'null', '0.672', '4', '2.0', '[OII],Hb,[OIII]', '2nd']\n",
      "['null', '150.504', '2.567612', 'null', 'null', '0.796', '3', '2.0', '[OII]d', '2nd']\n",
      "['null', '150.55667', '2.5844025', 'null', 'null', '0.359', '4', '2.0', '[OII],Hb,[OIII]d,Ha,NIId', '2nd']\n",
      "['null', '150.613164', '2.204538', 'null', 'null', '4.6365', '3', '2.0', 'Lya', '2nd']\n",
      "['null', '150.7360077', '1.8943861', 'null', 'null', '5.359', '1', '2.0', 'Lya', '2nd']\n",
      "['ID', 'Ra', 'Dec', 'sel', 'imag', 'kmag', 'zspec', 'Qf', 'Q', 'Remarks']\n",
      "['char', 'double', 'double', 'char', 'float', 'float', 'float', 'int', 'float', 'char']\n",
      "['L488262', '149.47647', '2.0559484', '128', '12.84', '13.56', '0.0', '4', '2.0', 'star']\n"
     ]
    }
   ],
   "source": [
    "typedict={'char':str,'double':np.float64,'float':np.float64,'int':np.int}\n",
    "with open(catbasedir+'/Spectroscopy/deimos_10k_March2018/deimos_redshifts.tbl') as deimos:\n",
    "    file=deimos.readlines()\n",
    "    for line in file:\n",
    "        deimos_dict=dict(zip(file[71].split(),[typedict[f] for f in file[72].split()]))"
   ]
  },
  {
   "cell_type": "code",
   "execution_count": 59,
   "metadata": {},
   "outputs": [
    {
     "name": "stderr",
     "output_type": "stream",
     "text": [
      "b'Skipping line 136: expected 10 fields, saw 11\\nSkipping line 142: expected 10 fields, saw 11\\nSkipping line 144: expected 10 fields, saw 11\\nSkipping line 147: expected 10 fields, saw 11\\nSkipping line 150: expected 10 fields, saw 11\\nSkipping line 153: expected 10 fields, saw 11\\nSkipping line 158: expected 10 fields, saw 11\\nSkipping line 160: expected 10 fields, saw 11\\nSkipping line 175: expected 10 fields, saw 11\\nSkipping line 191: expected 10 fields, saw 11\\nSkipping line 196: expected 10 fields, saw 11\\nSkipping line 221: expected 10 fields, saw 11\\nSkipping line 226: expected 10 fields, saw 11\\nSkipping line 232: expected 10 fields, saw 11\\nSkipping line 237: expected 10 fields, saw 11\\nSkipping line 242: expected 10 fields, saw 11\\nSkipping line 253: expected 10 fields, saw 11\\nSkipping line 271: expected 10 fields, saw 11\\nSkipping line 290: expected 10 fields, saw 11\\nSkipping line 309: expected 10 fields, saw 11\\nSkipping line 321: expected 10 fields, saw 11\\nSkipping line 325: expected 10 fields, saw 11\\nSkipping line 341: expected 10 fields, saw 11\\nSkipping line 363: expected 10 fields, saw 11\\nSkipping line 372: expected 10 fields, saw 11\\nSkipping line 373: expected 10 fields, saw 11\\nSkipping line 375: expected 10 fields, saw 11\\nSkipping line 381: expected 10 fields, saw 11\\nSkipping line 398: expected 10 fields, saw 11\\nSkipping line 403: expected 10 fields, saw 11\\nSkipping line 437: expected 10 fields, saw 11\\nSkipping line 460: expected 10 fields, saw 11\\nSkipping line 480: expected 10 fields, saw 11\\nSkipping line 484: expected 10 fields, saw 11\\nSkipping line 526: expected 10 fields, saw 11\\nSkipping line 528: expected 10 fields, saw 11\\nSkipping line 530: expected 10 fields, saw 11\\nSkipping line 571: expected 10 fields, saw 11\\nSkipping line 573: expected 10 fields, saw 11\\nSkipping line 583: expected 10 fields, saw 11\\nSkipping line 649: expected 10 fields, saw 11\\nSkipping line 664: expected 10 fields, saw 11\\nSkipping line 725: expected 10 fields, saw 11\\nSkipping line 745: expected 10 fields, saw 11\\nSkipping line 752: expected 10 fields, saw 11\\nSkipping line 766: expected 10 fields, saw 11\\nSkipping line 801: expected 10 fields, saw 11\\nSkipping line 1167: expected 10 fields, saw 13\\nSkipping line 1567: expected 10 fields, saw 14\\nSkipping line 4253: expected 10 fields, saw 14\\nSkipping line 7134: expected 10 fields, saw 14\\nSkipping line 9191: expected 10 fields, saw 14\\n'\n"
     ]
    }
   ],
   "source": [
    "davies_table=Table.read(catbasedir+'/Spectroscopy/G10CosmosCatv05/G10COSMOSCatv05.fits')\n",
    "davies_df=davies_table.to_pandas()\n",
    "deimos_df=pd.read_csv(\n",
    "    catbasedir+'/Spectroscopy/deimos_10k_March2018/deimos_redshifts.tbl',     delim_whitespace=True,\n",
    "    header=71,\n",
    "    dtype=deimos_dict,\n",
    "    error_bad_lines=False,\n",
    "    skiprows=[72,73,74])"
   ]
  },
  {
   "cell_type": "code",
   "execution_count": 60,
   "metadata": {},
   "outputs": [
    {
     "name": "stdout",
     "output_type": "stream",
     "text": [
      "1.5\n",
      "2.0\n",
      "2.0\n",
      "1.5\n",
      "2.0\n",
      "2.0\n",
      "2.0\n",
      "2.0\n",
      "2.0\n",
      "2.0\n",
      "2.0\n",
      "2.0\n",
      "2.0\n",
      "2.0\n",
      "0.0\n",
      "1.5\n",
      "2.0\n",
      "2.0\n",
      "2.0\n",
      "2.0\n",
      "2.0\n",
      "2.0\n",
      "2.0\n",
      "2.0\n",
      "0.0\n",
      "2.0\n",
      "2.0\n",
      "2.0\n",
      "2.0\n",
      "2.0\n",
      "0.0\n",
      "0.0\n",
      "2.0\n",
      "2.0\n",
      "2.0\n",
      "2.0\n",
      "2.0\n",
      "2.0\n",
      "2.0\n",
      "0.0\n",
      "2.0\n",
      "0.0\n",
      "2.0\n",
      "0.0\n",
      "2.0\n",
      "2.0\n",
      "2.0\n"
     ]
    }
   ],
   "source": [
    "with open(catbasedir+'/Spectroscopy/deimos_10k_March2018/deimos_redshifts.tbl') as deimos:\n",
    "    file=deimos.readlines()\n",
    "    i=0\n",
    "    for line in file:\n",
    "        if (len(line.split())==11) & (i>74):\n",
    "            x=line.split()\n",
    "            del x[3]\n",
    "            x_series=pd.Series(x,index=file[71].split())\n",
    "            deimos_df=deimos_df.append(x_series,ignore_index=True)\n",
    "        i=i+1"
   ]
  }
 ],
 "metadata": {
  "kernelspec": {
   "display_name": "Python 3",
   "language": "python",
   "name": "python3"
  },
  "language_info": {
   "codemirror_mode": {
    "name": "ipython",
    "version": 3
   },
   "file_extension": ".py",
   "mimetype": "text/x-python",
   "name": "python",
   "nbconvert_exporter": "python",
   "pygments_lexer": "ipython3",
   "version": "3.6.7"
  }
 },
 "nbformat": 4,
 "nbformat_minor": 2
}
