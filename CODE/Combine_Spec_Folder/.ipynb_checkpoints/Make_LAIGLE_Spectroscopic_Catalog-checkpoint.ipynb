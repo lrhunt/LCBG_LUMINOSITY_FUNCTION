{
 "cells": [
  {
   "cell_type": "markdown",
   "metadata": {},
   "source": [
    "Trying to simply combine a large number of catalogs with the Laigle+16 catalog (Photometry for more objects), The Davies+15 (V05) catalog (A lot of spectroscopic redshifts), the DIEMOS redshift catalog, and the three morphology catalogs. This should provide a large number of redshifts for a large number of objects. Can go to higher apparent magnitude (avoid problems with incompleteness). I'm hoping this will help with number of galaxies we have? Should be simple, don't want to take too long doing this. "
   ]
  },
  {
   "cell_type": "markdown",
   "metadata": {},
   "source": [
    "| Date | Person | Change |\n",
    "| :- | :- | :--------: |\n",
    "04/16/2019  |  L. Hunt  |  <ul><li>Initial Version</li><li>Import fits table</li><li>Import other text tables</li></ul>"
   ]
  },
  {
   "cell_type": "markdown",
   "metadata": {},
   "source": [
    "Import numerical packages"
   ]
  },
  {
   "cell_type": "code",
   "execution_count": 1,
   "metadata": {},
   "outputs": [],
   "source": [
    "import pandas as pd\n",
    "import numpy as np\n",
    "from itertools import combinations"
   ]
  },
  {
   "cell_type": "markdown",
   "metadata": {},
   "source": [
    "Import Astronomy Packages"
   ]
  },
  {
   "cell_type": "code",
   "execution_count": 2,
   "metadata": {},
   "outputs": [],
   "source": [
    "import astropy as ap\n",
    "from astropy import units as u\n",
    "from astropy.coordinates import SkyCoord\n",
    "import kcorrect\n",
    "import kcorrect.utils as ut\n",
    "from astropy.cosmology import FlatLambdaCDM\n",
    "from astropy.table import Table"
   ]
  },
  {
   "cell_type": "markdown",
   "metadata": {},
   "source": [
    "Import misc./plotting packages"
   ]
  },
  {
   "cell_type": "code",
   "execution_count": 3,
   "metadata": {},
   "outputs": [],
   "source": [
    "import os\n",
    "import matplotlib.pyplot as plt"
   ]
  },
  {
   "cell_type": "markdown",
   "metadata": {},
   "source": [
    "# Setup"
   ]
  },
  {
   "cell_type": "code",
   "execution_count": 4,
   "metadata": {},
   "outputs": [],
   "source": [
    "cosmo=FlatLambdaCDM(H0=70,Om0=0.3)"
   ]
  },
  {
   "cell_type": "code",
   "execution_count": 5,
   "metadata": {},
   "outputs": [],
   "source": [
    "def make_kcorr_filt_template(dataframe):\n",
    "    '''This task will make a kcorrect filter template from a dataframe that optimizes the number of objects with detections in a subset of filters. In this case the dataframe should contain cfht, subaru, and irac wideband filters. '''\n",
    "    kcordir=os.environ[\"KCORRECT_DIR\"]\n",
    "    lambdar_to_kcorr={'mag_cfht_u':'capak_cfht_megaprime_sagem_u.par','mag_subaru_B':'capak_subaru_suprimecam_B.par','mag_subaru_V':'capak_subaru_suprimecam_V.par','mag_subaru_g':'capak_subaru_suprimecam_g.par','mag_subaru_r':'capak_subaru_suprimecam_r.par','mag_subaru_i':'capak_subaru_suprimecam_i.par','mag_subaru_z':'capak_subaru_suprimecam_z.par','mag_irac_1':'spitzer_irac_ch1.par','mag_irac_2':'spitzer_irac_ch2.par','mag_irac_3':'spitzer_irac_ch3.par','mag_irac_4':'spitzer_irac_ch4.par'}\n",
    "    numb1=0\n",
    "    numb2=0\n",
    "    numb3=0\n",
    "    numb4=0\n",
    "    numb5=0\n",
    "    flist1=[]\n",
    "    flist2=[]\n",
    "    flist3=[]\n",
    "    flist4=[]\n",
    "    flist5=[]\n",
    "    ilist1=[]\n",
    "    ilist2=[]\n",
    "    ilist3=[]\n",
    "    ilist4=[]\n",
    "    ilist5=[]\n",
    "    kcor_template=kcordir+'/data/templates/temp_filt_list.dat'\n",
    "    for x in combinations(list(dataframe),5):\n",
    "        if len(dataframe[(dataframe[x[0]]<40)&(dataframe[x[1]]<40)&(dataframe[x[2]]<40)&(dataframe[x[3]]<40)&(dataframe[x[4]]<40)]) > numb1:\n",
    "            ilist5=ilist4\n",
    "            ilist4=ilist3\n",
    "            ilist3=ilist2\n",
    "            ilist2=ilist1\n",
    "            ilist1=dataframe[(dataframe[x[0]]<40)&(dataframe[x[1]]<40)&(dataframe[x[2]]<40)&(dataframe[x[3]]<40)&(dataframe[x[4]]<40)].index.tolist()\n",
    "            numb5=numb4\n",
    "            numb4=numb3\n",
    "            numb3=numb2\n",
    "            numb2=numb1\n",
    "            numb1=len(ilist1)\n",
    "            flist5=flist4\n",
    "            flist4=flist3\n",
    "            flist3=flist2\n",
    "            flist2=flist1\n",
    "            flist1=x\n",
    "    with open(kcor_template,'w') as file:\n",
    "        file.write('KCORRECT_DIR\\n')\n",
    "        for filt in flist1:\n",
    "            file.write('data/filters/'+lambdar_to_kcorr[filt]+'\\n')\n",
    "    return flist1,kcor_template"
   ]
  },
  {
   "cell_type": "code",
   "execution_count": 6,
   "metadata": {},
   "outputs": [],
   "source": [
    "kcordir=os.environ[\"KCORRECT_DIR\"]\n",
    "catbasedir=os.environ[\"LUMFUNC_CATS\"]"
   ]
  },
  {
   "cell_type": "markdown",
   "metadata": {},
   "source": [
    "Reading catalogs into pandas databases"
   ]
  },
  {
   "cell_type": "code",
   "execution_count": 7,
   "metadata": {},
   "outputs": [
    {
     "name": "stdout",
     "output_type": "stream",
     "text": [
      "Reading Catalogs\n"
     ]
    }
   ],
   "source": [
    "print('Reading Catalogs')"
   ]
  },
  {
   "cell_type": "markdown",
   "metadata": {},
   "source": [
    "Photometry"
   ]
  },
  {
   "cell_type": "code",
   "execution_count": 8,
   "metadata": {},
   "outputs": [
    {
     "name": "stderr",
     "output_type": "stream",
     "text": [
      "WARNING: UnitsWarning: 'erg/cm2/s' contains multiple slashes, which is discouraged by the FITS standard [astropy.units.format.generic]\n",
      "/Users/lucashunt/programs/anaconda3/anaconda3/lib/python3.6/site-packages/IPython/core/interactiveshell.py:3265: TableReplaceWarning: converted column 'ID_XMM' from integer to float\n",
      "  exec(code_obj, self.user_global_ns, self.user_ns)\n",
      "/Users/lucashunt/programs/anaconda3/anaconda3/lib/python3.6/site-packages/IPython/core/interactiveshell.py:3265: TableReplaceWarning: converted column 'ID_CHANDRA09' from integer to float\n",
      "  exec(code_obj, self.user_global_ns, self.user_ns)\n",
      "/Users/lucashunt/programs/anaconda3/anaconda3/lib/python3.6/site-packages/IPython/core/interactiveshell.py:3265: TableReplaceWarning: converted column 'FLAG_XRAYBLEND' from integer to float\n",
      "  exec(code_obj, self.user_global_ns, self.user_ns)\n"
     ]
    }
   ],
   "source": [
    "laigle_table=Table.read(catbasedir+'/Photometry/COSMOS2015_Laigle+_v1.1.fits')\n",
    "laigle_df=laigle_table.to_pandas()"
   ]
  },
  {
   "cell_type": "markdown",
   "metadata": {},
   "source": [
    "Spectroscopy"
   ]
  },
  {
   "cell_type": "code",
   "execution_count": 9,
   "metadata": {},
   "outputs": [],
   "source": [
    "typedict={'char':str,'double':np.float64,'float':np.float64,'int':np.int}\n",
    "with open(catbasedir+'/Spectroscopy/deimos_10k_March2018/deimos_redshifts.tbl') as deimos:\n",
    "    file=deimos.readlines()\n",
    "    for line in file:\n",
    "        deimos_dict=dict(zip(file[71].split(),[typedict[f] for f in file[72].split()]))"
   ]
  },
  {
   "cell_type": "code",
   "execution_count": 10,
   "metadata": {},
   "outputs": [
    {
     "name": "stderr",
     "output_type": "stream",
     "text": [
      "b'Skipping line 136: expected 10 fields, saw 11\\nSkipping line 142: expected 10 fields, saw 11\\nSkipping line 144: expected 10 fields, saw 11\\nSkipping line 147: expected 10 fields, saw 11\\nSkipping line 150: expected 10 fields, saw 11\\nSkipping line 153: expected 10 fields, saw 11\\nSkipping line 158: expected 10 fields, saw 11\\nSkipping line 160: expected 10 fields, saw 11\\nSkipping line 175: expected 10 fields, saw 11\\nSkipping line 191: expected 10 fields, saw 11\\nSkipping line 196: expected 10 fields, saw 11\\nSkipping line 221: expected 10 fields, saw 11\\nSkipping line 226: expected 10 fields, saw 11\\nSkipping line 232: expected 10 fields, saw 11\\nSkipping line 237: expected 10 fields, saw 11\\nSkipping line 242: expected 10 fields, saw 11\\nSkipping line 253: expected 10 fields, saw 11\\nSkipping line 271: expected 10 fields, saw 11\\nSkipping line 290: expected 10 fields, saw 11\\nSkipping line 309: expected 10 fields, saw 11\\nSkipping line 321: expected 10 fields, saw 11\\nSkipping line 325: expected 10 fields, saw 11\\nSkipping line 341: expected 10 fields, saw 11\\nSkipping line 363: expected 10 fields, saw 11\\nSkipping line 372: expected 10 fields, saw 11\\nSkipping line 373: expected 10 fields, saw 11\\nSkipping line 375: expected 10 fields, saw 11\\nSkipping line 381: expected 10 fields, saw 11\\nSkipping line 398: expected 10 fields, saw 11\\nSkipping line 403: expected 10 fields, saw 11\\nSkipping line 437: expected 10 fields, saw 11\\nSkipping line 460: expected 10 fields, saw 11\\nSkipping line 480: expected 10 fields, saw 11\\nSkipping line 484: expected 10 fields, saw 11\\nSkipping line 526: expected 10 fields, saw 11\\nSkipping line 528: expected 10 fields, saw 11\\nSkipping line 530: expected 10 fields, saw 11\\nSkipping line 571: expected 10 fields, saw 11\\nSkipping line 573: expected 10 fields, saw 11\\nSkipping line 583: expected 10 fields, saw 11\\nSkipping line 649: expected 10 fields, saw 11\\nSkipping line 664: expected 10 fields, saw 11\\nSkipping line 725: expected 10 fields, saw 11\\nSkipping line 745: expected 10 fields, saw 11\\nSkipping line 752: expected 10 fields, saw 11\\nSkipping line 766: expected 10 fields, saw 11\\nSkipping line 801: expected 10 fields, saw 11\\nSkipping line 1167: expected 10 fields, saw 13\\nSkipping line 1567: expected 10 fields, saw 14\\nSkipping line 4253: expected 10 fields, saw 14\\nSkipping line 7134: expected 10 fields, saw 14\\nSkipping line 9191: expected 10 fields, saw 14\\n'\n"
     ]
    }
   ],
   "source": [
    "davies_table=Table.read(catbasedir+'/Spectroscopy/G10CosmosCatv05/G10COSMOSCatv05.fits')\n",
    "davies_df=davies_table.to_pandas()\n",
    "deimos_df=pd.read_csv(\n",
    "    catbasedir+'/Spectroscopy/deimos_10k_March2018/deimos_redshifts.tbl',     delim_whitespace=True,\n",
    "    header=71,\n",
    "    dtype=deimos_dict,\n",
    "    error_bad_lines=False,\n",
    "    skiprows=[72,73,74])"
   ]
  },
  {
   "cell_type": "markdown",
   "metadata": {},
   "source": [
    "Adding objects that were skipped because some columns had two values\n",
    "(Note, had to go through and manually edit text file because some parts of the notes column had spaces as well. These were found by printing x_series.Q It should be a number so if it has a molecular line identifier in it the notes section has a space. Quickest to just edit these.)"
   ]
  },
  {
   "cell_type": "code",
   "execution_count": 11,
   "metadata": {},
   "outputs": [],
   "source": [
    "with open(catbasedir+'/Spectroscopy/deimos_10k_March2018/deimos_redshifts.tbl') as deimos:\n",
    "    file=deimos.readlines()\n",
    "    i=0\n",
    "    for line in file:\n",
    "        if (len(line.split())==11) & (i>74):\n",
    "            x=line.split()\n",
    "            del x[3]\n",
    "            x_series=pd.Series(x,index=file[71].split())\n",
    "            deimos_df=deimos_df.append(x_series,ignore_index=True)\n",
    "        i=i+1"
   ]
  },
  {
   "cell_type": "markdown",
   "metadata": {},
   "source": [
    "Now create SkyCoord arrays with astropy to match catalogs"
   ]
  },
  {
   "cell_type": "code",
   "execution_count": 41,
   "metadata": {},
   "outputs": [],
   "source": [
    "davies_coord=SkyCoord(ra=davies_df['RA_06'].values*u.degree,\n",
    "                     dec=davies_df['DEC_06'].values*u.degree)\n",
    "deimos_coord=SkyCoord(ra=deimos_df['Ra'].values*u.degree,\n",
    "                     dec=deimos_df['Dec'].values*u.degree)\n",
    "laigle_coord=SkyCoord(ra=laigle_df['ALPHA_J2000'].values*u.degree,\n",
    "                     dec=laigle_df['DELTA_J2000'].values*u.degree)"
   ]
  },
  {
   "cell_type": "code",
   "execution_count": 50,
   "metadata": {},
   "outputs": [],
   "source": [
    "idx_laigle_deimos,idx_deimos_laigle,d2d_lde,d3d_lde=deimos_coord.search_around_sky(laigle_coord,1*u.arcsecond)\n",
    "idx_laigle_davies,idx_davies_laigle,d2d_lda,d3d_lda=davies_coord.search_around_sky(laigle_coord,1*u.arcsecond)"
   ]
  },
  {
   "cell_type": "code",
   "execution_count": 69,
   "metadata": {},
   "outputs": [
    {
     "name": "stdout",
     "output_type": "stream",
     "text": [
      "three objs is [ 0.7340613   0.20929912  0.61292318]\n",
      "0.20929911586593766\n",
      "2474 2475 2476\n",
      "2475\n",
      "30989 30989 20909\n",
      "True\n",
      "False\n",
      "three objs is [ 0.7796972   0.64963589  0.48867044]\n",
      "0.48867044340847154\n",
      "21426 21427 21428\n",
      "21428\n",
      "three objs is [ 0.94715524  0.36584909  0.58326177]\n",
      "0.3658490885253835\n",
      "25920 25921 25922\n",
      "25921\n",
      "three objs is [ 0.65001556  0.50092151  0.64522685]\n",
      "0.5009215103436003\n",
      "40411 40412 40413\n",
      "40412\n",
      "three objs is [ 0.77227076  0.83215623  0.34036665]\n",
      "0.34036665467354227\n",
      "40753 40754 40755\n",
      "40755\n",
      "69111 69111 80799\n",
      "True\n",
      "False\n",
      "91603 91603 85183\n",
      "False\n",
      "True\n",
      "117433 117433 127194\n",
      "True\n",
      "False\n",
      "three objs is [ 0.85915533  0.97594259  0.96968373]\n",
      "0.8591553254038138\n",
      "77106 77107 77108\n",
      "77106\n",
      "three objs is [ 0.97594259  0.96968373  0.24592078]\n",
      "0.24592077720760094\n",
      "77107 77108 77109\n",
      "77109\n",
      "three objs is [ 0.68352974  0.53335648  0.98559782]\n",
      "0.5333564842622643\n",
      "83595 83596 83597\n",
      "83596\n",
      "111692 111692 95748\n",
      "True\n",
      "False\n",
      "three objs is [ 0.72721028  0.85146867  0.71668752]\n",
      "0.7166875184001081\n",
      "95812 95813 95814\n",
      "95814\n",
      "three objs is [ 0.22858194  0.67050152  0.32680155]\n",
      "0.22858194324643089\n",
      "101555 101556 101557\n",
      "101555\n",
      "three objs is [ 0.97639816  0.24437844  0.6625107 ]\n",
      "0.2443784411838464\n",
      "103749 103750 103751\n",
      "103750\n",
      "three objs is [ 0.99771669  0.5636011   0.51997906]\n",
      "0.5199790592603174\n",
      "114303 114304 114305\n",
      "114305\n",
      "three objs is [ 0.27881302  0.90134091  0.94133335]\n",
      "0.27881302310971046\n",
      "116168 116169 116170\n",
      "116168\n",
      "three objs is [ 0.96321134  0.31606583  0.51468009]\n",
      "0.31606583010251654\n",
      "117018 117019 117020\n",
      "117019\n",
      "three objs is [ 0.38470349  0.83812315  0.66271463]\n",
      "0.3847034904770975\n",
      "125094 125095 125096\n",
      "125094\n",
      "three objs is [ 0.68415164  0.81590247  0.65761069]\n",
      "0.6576106862866092\n",
      "132235 132236 132237\n",
      "132237\n",
      "148253 148253 173757\n",
      "True\n",
      "False\n",
      "three objs is [ 0.74515098  0.88104196  0.74413281]\n",
      "0.7441328123880102\n",
      "138108 138109 138110\n",
      "138110\n",
      "three objs is [ 0.85063517  0.91483186  0.15643084]\n",
      "0.15643084183873116\n",
      "155383 155384 155385\n",
      "155385\n",
      "three objs is [ 0.55041896  0.95246747  0.56330468]\n",
      "0.5504189550313552\n",
      "161188 161189 161190\n",
      "161188\n",
      "three objs is [ 0.07896276  0.92470692  0.61374231]\n",
      "0.07896275689235661\n",
      "167662 167663 167664\n",
      "167662\n",
      "three objs is [ 0.83380042  0.96239823  0.62425726]\n",
      "0.6242572568859701\n",
      "170765 170766 170767\n",
      "170767\n",
      "three objs is [ 0.89829903  0.88128325  0.56668028]\n",
      "0.5666802770677256\n",
      "182473 182474 182475\n",
      "182475\n",
      "three objs is [ 0.81211106  0.57462153  0.51681909]\n",
      "0.5168190875471741\n",
      "197948 197949 197950\n",
      "197950\n",
      "229392 229392 229442\n",
      "True\n",
      "False\n",
      "three objs is [ 0.85273754  0.61571008  0.81832016]\n",
      "0.6157100837308876\n",
      "220940 220941 220942\n",
      "220941\n",
      "three objs is [ 0.36670462  0.45484548  0.42211193]\n",
      "0.36670461664277476\n",
      "222001 222002 222003\n",
      "222001\n",
      "three objs is [ 0.96647764  0.81670777  0.73072274]\n",
      "0.7307227381752983\n",
      "222595 222596 222597\n",
      "222597\n",
      "three objs is [ 0.79036432  0.44902971  0.829129  ]\n",
      "0.44902971063408215\n",
      "228540 228541 228542\n",
      "228541\n",
      "three objs is [ 0.94480565  0.73832268  0.70744297]\n",
      "0.707442971627985\n",
      "231793 231794 231795\n",
      "231795\n",
      "three objs is [ 0.49948239  0.89656655  0.37260025]\n",
      "0.372600253244513\n",
      "234541 234542 234543\n",
      "234543\n",
      "291103 291103 411146\n",
      "False\n",
      "True\n",
      "three objs is [ 0.75367813  0.85545278  0.61902357]\n",
      "0.6190235717728956\n",
      "242210 242211 242212\n",
      "242212\n",
      "three objs is [ 0.92336098  0.66851885  0.51754028]\n",
      "0.5175402838370686\n",
      "243530 243531 243532\n",
      "243532\n",
      "three objs is [ 0.49127648  0.48758027  0.60689779]\n",
      "0.4875802657770075\n",
      "244727 244728 244729\n",
      "244728\n",
      "three objs is [ 0.90453089  0.21327553  0.65028647]\n",
      "0.21327552536737146\n",
      "247280 247281 247282\n",
      "247281\n",
      "three objs is [ 0.58671812  0.88718683  0.66426011]\n",
      "0.5867181171429607\n",
      "252104 252105 252106\n",
      "252104\n",
      "three objs is [ 0.72104593  0.66570391  0.36060794]\n",
      "0.360607943880823\n",
      "263804 263805 263806\n",
      "263806\n",
      "three objs is [ 0.68417303  0.7087125   0.398233  ]\n",
      "0.3982330007938665\n",
      "264078 264079 264080\n",
      "264080\n",
      "three objs is [ 0.19970281  0.96200001  0.97321003]\n",
      "0.19970280638352203\n",
      "267025 267026 267027\n",
      "267025\n",
      "358194 358194 329297\n",
      "True\n",
      "False\n",
      "three objs is [ 0.83761209  0.67220044  0.25459036]\n",
      "0.25459035870274654\n",
      "269933 269934 269935\n",
      "269935\n",
      "three objs is [ 0.9970953   0.8321709   0.24125216]\n",
      "0.24125216489220683\n",
      "292430 292431 292432\n",
      "292432\n",
      "three objs is [ 0.35783213  0.7311539   0.93288406]\n",
      "0.35783213261479296\n",
      "292768 292769 292770\n",
      "292768\n",
      "three objs is [ 0.99366988  0.66270979  0.65854287]\n",
      "0.6585428658631248\n",
      "294685 294686 294687\n",
      "294687\n",
      "three objs is [ 0.35869958  0.25060636  0.50415339]\n",
      "0.25060636319266444\n",
      "302247 302248 302249\n",
      "302248\n",
      "three objs is [ 0.83337096  0.6622478   0.70083814]\n",
      "0.6622478012376605\n",
      "303510 303511 303512\n",
      "303511\n",
      "three objs is [ 0.81588298  0.46409176  0.79858155]\n",
      "0.4640917608078845\n",
      "318407 318408 318409\n",
      "318408\n",
      "398329 398329 377773\n",
      "True\n",
      "False\n",
      "three objs is [ 0.95607701  0.8425301   0.24055158]\n",
      "0.2405515841682811\n",
      "328843 328844 328845\n",
      "328845\n",
      "three objs is [ 0.72747177  0.63454886  0.21658135]\n",
      "0.21658135048158225\n",
      "331416 331417 331418\n",
      "331418\n"
     ]
    }
   ],
   "source": [
    "# This code will check to see if a source in one catalog is matched to more than one source in the other\n",
    "\n",
    "mask=np.ones(len(idx_laigle_davies),dtype=bool)\n",
    "separation_list=[]\n",
    "three_obj_within_1_arcsec=[]\n",
    "for i in range(0,len(idx_laigle_davies)-2):\n",
    "    if idx_davies_laigle[i]==idx_davies_laigle[i+1]:\n",
    "        print(idx_davies_laigle[i],idx_davies_laigle[i+1],idx_davies_laigle[i+2])\n",
    "        separation_list.append([d2d_lda[i].arcsecond,d2d_lda[i+1].arcsecond])\n",
    "        if d2d_lda[i]>d2d_lda[i+1]:\n",
    "            mask[i]=False\n",
    "        if d2d_lda[i]<d2d_lda[i+1]:\n",
    "            mask[i+1]=False\n",
    "        if d2d_lda[i]==d2d_lda[i+1]:\n",
    "            mask[i+1]=False\n",
    "        print(mask[i])\n",
    "        print(mask[i+1])\n",
    "    if idx_laigle_davies[i]==idx_laigle_davies[i+2]:\n",
    "        three_objs=d2d_lda[i:i+3].arcsecond\n",
    "        print('three objs is {}'.format(three_objs))\n",
    "        print(min([d2d_lda[i].arcsecond,d2d_lda[i+1].arcsecond,d2d_lda[i+2].arcsecond]))\n",
    "        three_objs_dict={d2d_lda[i].arcsecond:i,d2d_lda[i+1].arcsecond:i+1,d2d_lda[i+2].arcsecond:i+2}\n",
    "        print(i,i+1,i+2)\n",
    "        print(three_objs_dict[min(three_objs)])\n",
    "        three_obj_within_1_arcsec.append([d2d_lda[i].arcsecond,d2d_lda[i+1].arcsecond,d2d_lda[i+2].arcsecond])"
   ]
  },
  {
   "cell_type": "code",
   "execution_count": 55,
   "metadata": {},
   "outputs": [
    {
     "name": "stdout",
     "output_type": "stream",
     "text": [
      "[0.0655152726642033, 0.9114160015490234]\n",
      "[0.7340613015853004, 0.20929911586593766, 0.6129231792230663]\n",
      "[0.14685631157450563, 0.953003561435913]\n",
      "[0.7796972016786765, 0.6496358897890099, 0.48867044340847154]\n",
      "[0.9943384955129251, 0.11068098747950006]\n",
      "[0.9471552350508954, 0.3658490885253835, 0.5832617702923116]\n",
      "[0.09791941902686015, 0.6978242592426229]\n",
      "[0.650015561682486, 0.5009215103436003, 0.6452268537072329]\n",
      "[0.08996073940271349, 0.5838693551660177]\n",
      "[0.7722707632147587, 0.8321562338318617, 0.34036665467354227]\n",
      "[0.43619732710789816, 0.49848449665728817]\n",
      "[0.8591553254038138, 0.9759425872273968, 0.9696837276786364]\n",
      "[0.07610124958011666, 0.9763528014805611]\n",
      "[0.9759425872273968, 0.9696837276786364, 0.24592077720760094]\n",
      "[0.6549560640401175, 0.6074460670147551]\n",
      "[0.6835297407998336, 0.5333564842622643, 0.9855978240366152]\n",
      "[0.09560723951223477, 0.9116137326110119]\n",
      "[0.727210284919072, 0.8514686661491789, 0.7166875184001081]\n",
      "[0.10931156753377935, 0.7952603281868023]\n",
      "[0.22858194324643089, 0.6705015247941523, 0.32680155044646086]\n"
     ]
    },
    {
     "ename": "IndexError",
     "evalue": "list index out of range",
     "output_type": "error",
     "traceback": [
      "\u001b[0;31m---------------------------------------------------------------------------\u001b[0m",
      "\u001b[0;31mIndexError\u001b[0m                                Traceback (most recent call last)",
      "\u001b[0;32m<ipython-input-55-ffe66fe683e1>\u001b[0m in \u001b[0;36m<module>\u001b[0;34m\u001b[0m\n\u001b[1;32m      1\u001b[0m \u001b[0;32mfor\u001b[0m \u001b[0mi\u001b[0m \u001b[0;32min\u001b[0m \u001b[0mrange\u001b[0m\u001b[0;34m(\u001b[0m\u001b[0;36m0\u001b[0m\u001b[0;34m,\u001b[0m\u001b[0mlen\u001b[0m\u001b[0;34m(\u001b[0m\u001b[0mthree_obj_within_1_arcsec\u001b[0m\u001b[0;34m)\u001b[0m\u001b[0;34m)\u001b[0m\u001b[0;34m:\u001b[0m\u001b[0;34m\u001b[0m\u001b[0;34m\u001b[0m\u001b[0m\n\u001b[0;32m----> 2\u001b[0;31m     \u001b[0mprint\u001b[0m\u001b[0;34m(\u001b[0m\u001b[0mseparation_list\u001b[0m\u001b[0;34m[\u001b[0m\u001b[0mi\u001b[0m\u001b[0;34m]\u001b[0m\u001b[0;34m)\u001b[0m\u001b[0;34m\u001b[0m\u001b[0;34m\u001b[0m\u001b[0m\n\u001b[0m\u001b[1;32m      3\u001b[0m     \u001b[0mprint\u001b[0m\u001b[0;34m(\u001b[0m\u001b[0mthree_obj_within_1_arcsec\u001b[0m\u001b[0;34m[\u001b[0m\u001b[0mi\u001b[0m\u001b[0;34m]\u001b[0m\u001b[0;34m)\u001b[0m\u001b[0;34m\u001b[0m\u001b[0;34m\u001b[0m\u001b[0m\n",
      "\u001b[0;31mIndexError\u001b[0m: list index out of range"
     ]
    }
   ],
   "source": [
    "for i in range(0,len(three_obj_within_1_arcsec)):\n",
    "    print(separation_list[i])\n",
    "    print(three_obj_within_1_arcsec[i])"
   ]
  }
 ],
 "metadata": {
  "kernelspec": {
   "display_name": "Python 3",
   "language": "python",
   "name": "python3"
  },
  "language_info": {
   "codemirror_mode": {
    "name": "ipython",
    "version": 3
   },
   "file_extension": ".py",
   "mimetype": "text/x-python",
   "name": "python",
   "nbconvert_exporter": "python",
   "pygments_lexer": "ipython3",
   "version": "3.6.7"
  }
 },
 "nbformat": 4,
 "nbformat_minor": 2
}
