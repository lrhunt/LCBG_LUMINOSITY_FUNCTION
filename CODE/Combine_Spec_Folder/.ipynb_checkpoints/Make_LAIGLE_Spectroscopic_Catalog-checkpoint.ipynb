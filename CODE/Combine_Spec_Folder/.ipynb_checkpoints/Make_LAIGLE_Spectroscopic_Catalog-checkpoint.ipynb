{
 "cells": [
  {
   "cell_type": "markdown",
   "metadata": {},
   "source": [
    "Trying to simply combine a large number of catalogs with the Laigle+16 catalog (Photometry for more objects), The Davies+15 (V05) catalog (A lot of spectroscopic redshifts), the DIEMOS redshift catalog, and the three morphology catalogs. This should provide a large number of redshifts for a large number of objects. Can go to higher apparent magnitude (avoid problems with incompleteness). I'm hoping this will help with number of galaxies we have? Should be simple, don't want to take too long doing this. "
   ]
  },
  {
   "cell_type": "markdown",
   "metadata": {},
   "source": [
    "| Date | Person | Change |\n",
    "| :- | :- | :--------: |\n",
    "04/16/2019  |  L. Hunt  |  <ul><li>Initial Version</li><li>Import fits table</li><li>Import other text tables</li></ul>\n",
    "04/26/2019  |  L. Hunt  |  <ul><li>Need final_z to include photometric redshifts</li><li>(if deimos_use is nan won't match)</li></ul>\n",
    "05/02/2019  |  L. Hunt  |  Made change to match catalogs to 08 ID number"
   ]
  },
  {
   "cell_type": "markdown",
   "metadata": {},
   "source": [
    "Import numerical packages"
   ]
  },
  {
   "cell_type": "code",
   "execution_count": 1,
   "metadata": {},
   "outputs": [],
   "source": [
    "import pandas as pd\n",
    "import numpy as np\n",
    "from itertools import combinations"
   ]
  },
  {
   "cell_type": "markdown",
   "metadata": {},
   "source": [
    "Import Astronomy Packages"
   ]
  },
  {
   "cell_type": "code",
   "execution_count": 2,
   "metadata": {},
   "outputs": [],
   "source": [
    "import astropy as ap\n",
    "from astropy import units as u\n",
    "from astropy.coordinates import SkyCoord\n",
    "import kcorrect\n",
    "import kcorrect.utils as ut\n",
    "from astropy.cosmology import FlatLambdaCDM\n",
    "from astropy.table import Table"
   ]
  },
  {
   "cell_type": "markdown",
   "metadata": {},
   "source": [
    "Import misc./plotting packages"
   ]
  },
  {
   "cell_type": "code",
   "execution_count": 3,
   "metadata": {},
   "outputs": [],
   "source": [
    "import os\n",
    "import matplotlib.pyplot as plt"
   ]
  },
  {
   "cell_type": "markdown",
   "metadata": {},
   "source": [
    "# Setup"
   ]
  },
  {
   "cell_type": "code",
   "execution_count": 4,
   "metadata": {},
   "outputs": [],
   "source": [
    "cosmo=FlatLambdaCDM(H0=70,Om0=0.3)"
   ]
  },
  {
   "cell_type": "code",
   "execution_count": 5,
   "metadata": {},
   "outputs": [],
   "source": [
    "kcordir=os.environ[\"KCORRECT_DIR\"]\n",
    "catbasedir=os.environ[\"COSMOS_DIR\"]"
   ]
  },
  {
   "cell_type": "markdown",
   "metadata": {},
   "source": [
    "Reading catalogs into pandas databases"
   ]
  },
  {
   "cell_type": "code",
   "execution_count": 6,
   "metadata": {},
   "outputs": [
    {
     "name": "stdout",
     "output_type": "stream",
     "text": [
      "Reading Catalogs\n"
     ]
    }
   ],
   "source": [
    "print('Reading Catalogs')"
   ]
  },
  {
   "cell_type": "markdown",
   "metadata": {},
   "source": [
    "Photometry"
   ]
  },
  {
   "cell_type": "code",
   "execution_count": 7,
   "metadata": {},
   "outputs": [
    {
     "name": "stderr",
     "output_type": "stream",
     "text": [
      "WARNING: UnitsWarning: 'erg/cm2/s' contains multiple slashes, which is discouraged by the FITS standard [astropy.units.format.generic]\n",
      "/Users/lucashunt/programs/anaconda3/anaconda3/lib/python3.6/site-packages/IPython/core/interactiveshell.py:3265: TableReplaceWarning: converted column 'ID_XMM' from integer to float\n",
      "  exec(code_obj, self.user_global_ns, self.user_ns)\n",
      "/Users/lucashunt/programs/anaconda3/anaconda3/lib/python3.6/site-packages/IPython/core/interactiveshell.py:3265: TableReplaceWarning: converted column 'ID_CHANDRA09' from integer to float\n",
      "  exec(code_obj, self.user_global_ns, self.user_ns)\n",
      "/Users/lucashunt/programs/anaconda3/anaconda3/lib/python3.6/site-packages/IPython/core/interactiveshell.py:3265: TableReplaceWarning: converted column 'FLAG_XRAYBLEND' from integer to float\n",
      "  exec(code_obj, self.user_global_ns, self.user_ns)\n"
     ]
    }
   ],
   "source": [
    "laigle_table=Table.read(catbasedir+'/Photometry/COSMOS2015_Laigle_v1.1.fits')\n",
    "initial_laigle_df=laigle_table.to_pandas()"
   ]
  },
  {
   "cell_type": "code",
   "execution_count": 8,
   "metadata": {},
   "outputs": [],
   "source": [
    "laigle_df=initial_laigle_df.loc[(initial_laigle_df.FLAG_HJMCC==0) &\n",
    "                                (initial_laigle_df.FLAG_COSMOS==1) & \n",
    "                                (initial_laigle_df.FLAG_PETER==0)][['NUMBER',\n",
    "                                                                    'ID2006',\n",
    "                                                                    'ID2008',\n",
    "                                                                    'ID2013',\n",
    "                                                                    'ALPHA_J2000',\n",
    "                                                                    'DELTA_J2000',\n",
    "                                                                    'FLUX_RADIUS',\n",
    "                                                                    'u_MAG_AUTO',\n",
    "                                                                    'u_MAGERR_AUTO',\n",
    "                                                                    'B_MAG_AUTO',\n",
    "                                                                    'B_MAGERR_AUTO',\n",
    "                                                                    'V_MAG_AUTO',\n",
    "                                                                    'V_MAGERR_AUTO',\n",
    "                                                                    'r_MAG_AUTO',\n",
    "                                                                    'r_MAGERR_AUTO',\n",
    "                                                                    'ip_MAG_AUTO',\n",
    "                                                                    'ip_MAGERR_AUTO',\n",
    "                                                                    'zpp_MAG_AUTO',\n",
    "                                                                    'zpp_MAGERR_AUTO',\n",
    "                                                                    'Y_MAG_AUTO',\n",
    "                                                                    'Y_MAGERR_AUTO',\n",
    "                                                                    'J_MAG_AUTO',\n",
    "                                                                    'J_MAGERR_AUTO',\n",
    "                                                                    'H_MAG_AUTO',\n",
    "                                                                    'H_MAGERR_AUTO',\n",
    "                                                                    'Ks_MAG_AUTO',\n",
    "                                                                    'Ks_MAGERR_AUTO',\n",
    "                                                                    'ZPDF',\n",
    "                                                                    'TYPE'\n",
    "]]"
   ]
  },
  {
   "cell_type": "code",
   "execution_count": 9,
   "metadata": {},
   "outputs": [],
   "source": [
    "laigle_df=laigle_df.rename(columns={'ALPHA_J2000':'RA','DELTA_J2000':'DEC'})"
   ]
  },
  {
   "cell_type": "markdown",
   "metadata": {},
   "source": [
    "laigle_df=initial_laigle_df[['NUMBER',\n",
    " 'ID2006',\n",
    " 'ID2008',\n",
    " 'ALPHA_J2000',\n",
    " 'DELTA_J2000',\n",
    " 'FLUX_RADIUS',\n",
    " 'u_MAG_AUTO',\n",
    " 'u_MAGERR_AUTO',\n",
    " 'B_MAG_AUTO',\n",
    " 'B_MAGERR_AUTO',\n",
    " 'V_MAG_AUTO',\n",
    " 'V_MAGERR_AUTO',\n",
    " 'r_MAG_AUTO',\n",
    " 'r_MAGERR_AUTO',\n",
    " 'ip_MAG_AUTO',\n",
    " 'ip_MAGERR_AUTO',\n",
    " 'zpp_MAG_AUTO',\n",
    " 'zpp_MAGERR_AUTO',\n",
    " 'Y_MAG_AUTO',\n",
    " 'Y_MAGERR_AUTO',\n",
    " 'J_MAG_AUTO',\n",
    " 'J_MAGERR_AUTO',\n",
    " 'H_MAG_AUTO',\n",
    " 'H_MAGERR_AUTO',\n",
    " 'Ks_MAG_AUTO',\n",
    " 'Ks_MAGERR_AUTO',\n",
    " 'ZPDF',\n",
    " 'TYPE'\n",
    "]]"
   ]
  },
  {
   "cell_type": "markdown",
   "metadata": {},
   "source": [
    "Spectroscopy"
   ]
  },
  {
   "cell_type": "code",
   "execution_count": 10,
   "metadata": {},
   "outputs": [],
   "source": [
    "typedict={'char':str,'double':np.float64,'float':np.float64,'int':np.int}\n",
    "with open(catbasedir+'/Spectroscopy/deimos_10k_March2018/deimos_redshifts.tbl') as deimos:\n",
    "    file=deimos.readlines()\n",
    "    for line in file:\n",
    "        deimos_dict=dict(zip(file[71].split(),[typedict[f] for f in file[72].split()]))"
   ]
  },
  {
   "cell_type": "code",
   "execution_count": 11,
   "metadata": {},
   "outputs": [
    {
     "name": "stderr",
     "output_type": "stream",
     "text": [
      "b'Skipping line 136: expected 10 fields, saw 11\\nSkipping line 142: expected 10 fields, saw 11\\nSkipping line 144: expected 10 fields, saw 11\\nSkipping line 147: expected 10 fields, saw 11\\nSkipping line 150: expected 10 fields, saw 11\\nSkipping line 153: expected 10 fields, saw 11\\nSkipping line 158: expected 10 fields, saw 11\\nSkipping line 160: expected 10 fields, saw 11\\nSkipping line 175: expected 10 fields, saw 11\\nSkipping line 191: expected 10 fields, saw 11\\nSkipping line 196: expected 10 fields, saw 11\\nSkipping line 221: expected 10 fields, saw 11\\nSkipping line 226: expected 10 fields, saw 11\\nSkipping line 232: expected 10 fields, saw 11\\nSkipping line 237: expected 10 fields, saw 11\\nSkipping line 242: expected 10 fields, saw 11\\nSkipping line 253: expected 10 fields, saw 11\\nSkipping line 271: expected 10 fields, saw 11\\nSkipping line 290: expected 10 fields, saw 11\\nSkipping line 309: expected 10 fields, saw 11\\nSkipping line 321: expected 10 fields, saw 11\\nSkipping line 325: expected 10 fields, saw 11\\nSkipping line 341: expected 10 fields, saw 11\\nSkipping line 363: expected 10 fields, saw 11\\nSkipping line 372: expected 10 fields, saw 11\\nSkipping line 373: expected 10 fields, saw 11\\nSkipping line 375: expected 10 fields, saw 11\\nSkipping line 381: expected 10 fields, saw 11\\nSkipping line 398: expected 10 fields, saw 11\\nSkipping line 403: expected 10 fields, saw 11\\nSkipping line 437: expected 10 fields, saw 11\\nSkipping line 460: expected 10 fields, saw 11\\nSkipping line 480: expected 10 fields, saw 11\\nSkipping line 484: expected 10 fields, saw 11\\nSkipping line 526: expected 10 fields, saw 11\\nSkipping line 528: expected 10 fields, saw 11\\nSkipping line 530: expected 10 fields, saw 11\\nSkipping line 571: expected 10 fields, saw 11\\nSkipping line 573: expected 10 fields, saw 11\\nSkipping line 583: expected 10 fields, saw 11\\nSkipping line 649: expected 10 fields, saw 11\\nSkipping line 664: expected 10 fields, saw 11\\nSkipping line 725: expected 10 fields, saw 11\\nSkipping line 745: expected 10 fields, saw 11\\nSkipping line 752: expected 10 fields, saw 11\\nSkipping line 766: expected 10 fields, saw 11\\nSkipping line 801: expected 10 fields, saw 11\\nSkipping line 1167: expected 10 fields, saw 13\\nSkipping line 1567: expected 10 fields, saw 14\\nSkipping line 4253: expected 10 fields, saw 14\\nSkipping line 7134: expected 10 fields, saw 14\\nSkipping line 9191: expected 10 fields, saw 14\\n'\n"
     ]
    }
   ],
   "source": [
    "davies_table=Table.read(catbasedir+'/Spectroscopy/G10CosmosCatv05/G10COSMOSCatv05.fits')\n",
    "davies_df=davies_table.to_pandas()\n",
    "deimos_df=pd.read_csv(\n",
    "    catbasedir+'/Spectroscopy/deimos_10k_March2018/deimos_redshifts.tbl',     delim_whitespace=True,\n",
    "    header=71,\n",
    "    dtype=deimos_dict,\n",
    "    error_bad_lines=False,\n",
    "    skiprows=[72,73,74])"
   ]
  },
  {
   "cell_type": "markdown",
   "metadata": {},
   "source": [
    "Adding objects that were skipped because some columns had two values\n",
    "(Note, had to go through and manually edit text file because some parts of the notes column had spaces as well. These were found by printing x_series.Q It should be a number so if it has a molecular line identifier in it the notes section has a space. Quickest to just edit these.)"
   ]
  },
  {
   "cell_type": "code",
   "execution_count": 12,
   "metadata": {},
   "outputs": [],
   "source": [
    "with open(catbasedir+'/Spectroscopy/deimos_10k_March2018/deimos_redshifts.tbl') as deimos:\n",
    "    file=deimos.readlines()\n",
    "    i=0\n",
    "    for line in file:\n",
    "        if (len(line.split())==11) & (i>74):\n",
    "            x=line.split()\n",
    "            del x[3]\n",
    "            x_series=pd.Series(x,index=file[71].split())\n",
    "            deimos_df=deimos_df.append(x_series,ignore_index=True)\n",
    "        i=i+1\n",
    "\n",
    "deimos_df.columns='deimos_'+deimos_df.columns.str.lower()"
   ]
  },
  {
   "cell_type": "markdown",
   "metadata": {},
   "source": [
    "Match Catalogs based on source name"
   ]
  },
  {
   "cell_type": "code",
   "execution_count": 13,
   "metadata": {},
   "outputs": [],
   "source": [
    "deimos_df['catalog']=np.nan\n",
    "\n",
    "deimos_df.loc[deimos_df.deimos_id.str.startswith('L',na=False),'catalog']='L'\n",
    "\n",
    "deimos_df.loc[deimos_df.deimos_id.str.startswith('C',na=False),'catalog']='C'"
   ]
  },
  {
   "cell_type": "code",
   "execution_count": 14,
   "metadata": {},
   "outputs": [],
   "source": [
    "deimos_df.loc[deimos_df.catalog!=deimos_df.catalog,'deimos_id']=0"
   ]
  },
  {
   "cell_type": "code",
   "execution_count": 15,
   "metadata": {},
   "outputs": [],
   "source": [
    "deimos_df.loc[deimos_df.catalog=='L','deimos_id']=deimos_df.loc[\n",
    "    deimos_df.catalog=='L','deimos_id'].str.strip('L').astype(int)\n",
    "\n",
    "deimos_df.loc[deimos_df.deimos_id.str.startswith('C',na=False),'deimos_id']=deimos_df.loc[\n",
    "    deimos_df.deimos_id.str.startswith('C',na=False),'deimos_id'].str.strip('C').astype(int)\n",
    "\n",
    "deimos_df.loc[deimos_df.catalog!=deimos_df.catalog,'deimos_id']=0\n",
    "\n",
    "deimos_df['deimos_id']=deimos_df['deimos_id'].astype(int)"
   ]
  },
  {
   "cell_type": "code",
   "execution_count": 16,
   "metadata": {},
   "outputs": [],
   "source": [
    "join_laigle_deimos_l=pd.merge(left=laigle_df,\n",
    "                            right=deimos_df.loc[deimos_df.catalog=='L',['deimos_id',\n",
    "                                             'deimos_ra',\n",
    "                                             'deimos_dec',\n",
    "                                             'deimos_zspec',\n",
    "                                             'deimos_qf',\n",
    "                                             'deimos_q',\n",
    "                                             'catalog']],\n",
    "                            how='left',\n",
    "                            left_on=['NUMBER'],\n",
    "                            right_on=['deimos_id'])\n",
    "\n",
    "join_laigle_deimos=pd.merge(left=join_laigle_deimos_l,\n",
    "                            right=deimos_df.loc[deimos_df.catalog=='C',['deimos_id',\n",
    "                                             'deimos_ra',\n",
    "                                             'deimos_dec',\n",
    "                                             'deimos_zspec',\n",
    "                                             'deimos_qf',\n",
    "                                             'deimos_q',\n",
    "                                             'catalog']],\n",
    "                            how='left',\n",
    "                            left_on=['ID2006'],\n",
    "                            right_on=['deimos_id'])"
   ]
  },
  {
   "cell_type": "code",
   "execution_count": 17,
   "metadata": {},
   "outputs": [],
   "source": [
    "for column in ['deimos_id','deimos_ra','deimos_dec','deimos_zspec','deimos_qf','deimos_q','catalog']:\n",
    "    join_laigle_deimos[column]=np.nan\n",
    "    join_laigle_deimos[column].fillna(join_laigle_deimos[column+'_x'],inplace=True)\n",
    "    join_laigle_deimos[column].fillna(join_laigle_deimos[column+'_y'],inplace=True)\n",
    "    join_laigle_deimos=join_laigle_deimos.drop(columns=[column+'_y',column+'_x'])"
   ]
  },
  {
   "cell_type": "code",
   "execution_count": 18,
   "metadata": {},
   "outputs": [],
   "source": [
    "davies_coord=SkyCoord(ra=davies_df['RA_COSMOS2015'].values*u.degree,\n",
    "                     dec=davies_df['DEC_COSMOS2015'].values*u.degree)\n",
    "deimos_coord=SkyCoord(ra=deimos_df.loc[deimos_df.deimos_id==0,'deimos_ra'].values*u.degree,\n",
    "                     dec=deimos_df.loc[deimos_df.deimos_id==0,'deimos_dec'].values*u.degree)\n",
    "laigle_coord=SkyCoord(ra=laigle_df['RA'].values*u.degree,\n",
    "                     dec=laigle_df['DEC'].values*u.degree)"
   ]
  },
  {
   "cell_type": "code",
   "execution_count": 19,
   "metadata": {},
   "outputs": [],
   "source": [
    "idx_deimos,d2d,d3d=deimos_coord.match_to_catalog_sky(laigle_coord)"
   ]
  },
  {
   "cell_type": "code",
   "execution_count": 20,
   "metadata": {},
   "outputs": [
    {
     "name": "stderr",
     "output_type": "stream",
     "text": [
      "/home/lrhunt/programs/anaconda3/lib/python3.7/site-packages/ipykernel_launcher.py:13: SettingWithCopyWarning: \n",
      "A value is trying to be set on a copy of a slice from a DataFrame\n",
      "\n",
      "See the caveats in the documentation: http://pandas.pydata.org/pandas-docs/stable/indexing.html#indexing-view-versus-copy\n",
      "  del sys.path[0]\n",
      "/home/lrhunt/programs/anaconda3/lib/python3.7/site-packages/pandas/core/series.py:983: SettingWithCopyWarning: \n",
      "A value is trying to be set on a copy of a slice from a DataFrame\n",
      "\n",
      "See the caveats in the documentation: http://pandas.pydata.org/pandas-docs/stable/indexing.html#indexing-view-versus-copy\n",
      "  self._set_labels(key, value)\n"
     ]
    }
   ],
   "source": [
    "for idx in range(0,len(idx_deimos)):\n",
    "    if d2d[idx].arcsecond<1:\n",
    "        join_laigle_deimos.iloc[idx_deimos[idx]][['deimos_id',\n",
    "                                             'deimos_ra',\n",
    "                                             'deimos_dec',\n",
    "                                             'deimos_zspec',\n",
    "                                             'deimos_qf',\n",
    "                                             'deimos_q']]=deimos_df.loc[deimos_df.deimos_id==0].iloc[idx][['deimos_id',\n",
    "                                             'deimos_ra',\n",
    "                                             'deimos_dec',\n",
    "                                             'deimos_zspec',\n",
    "                                             'deimos_qf',\n",
    "                                             'deimos_q']]"
   ]
  },
  {
   "cell_type": "code",
   "execution_count": 21,
   "metadata": {},
   "outputs": [],
   "source": [
    "final_catalog=pd.merge(join_laigle_deimos,davies_df[['ID_08','Z_USE','Z_BEST','Z_GEN']],how='left',left_on=['ID2008'],right_on=['ID_08'])"
   ]
  },
  {
   "cell_type": "code",
   "execution_count": 22,
   "metadata": {},
   "outputs": [
    {
     "data": {
      "text/plain": [
       "536080"
      ]
     },
     "execution_count": 22,
     "metadata": {},
     "output_type": "execute_result"
    }
   ],
   "source": [
    "len(final_catalog)"
   ]
  },
  {
   "cell_type": "code",
   "execution_count": 23,
   "metadata": {},
   "outputs": [],
   "source": [
    "final_catalog['deimos_q']=final_catalog.deimos_q.apply(float)"
   ]
  },
  {
   "cell_type": "code",
   "execution_count": 24,
   "metadata": {},
   "outputs": [
    {
     "data": {
      "text/plain": [
       "Index(['NUMBER', 'ID2006', 'ID2008', 'RA', 'DEC', 'FLUX_RADIUS', 'u_MAG_AUTO',\n",
       "       'u_MAGERR_AUTO', 'B_MAG_AUTO', 'B_MAGERR_AUTO', 'V_MAG_AUTO',\n",
       "       'V_MAGERR_AUTO', 'r_MAG_AUTO', 'r_MAGERR_AUTO', 'ip_MAG_AUTO',\n",
       "       'ip_MAGERR_AUTO', 'zpp_MAG_AUTO', 'zpp_MAGERR_AUTO', 'Y_MAG_AUTO',\n",
       "       'Y_MAGERR_AUTO', 'J_MAG_AUTO', 'J_MAGERR_AUTO', 'H_MAG_AUTO',\n",
       "       'H_MAGERR_AUTO', 'Ks_MAG_AUTO', 'Ks_MAGERR_AUTO', 'ZPDF', 'TYPE',\n",
       "       'deimos_id', 'deimos_ra', 'deimos_dec', 'deimos_zspec', 'deimos_qf',\n",
       "       'deimos_q', 'catalog', 'ID_06', 'Z_USE', 'Z_BEST'],\n",
       "      dtype='object')"
      ]
     },
     "execution_count": 24,
     "metadata": {},
     "output_type": "execute_result"
    }
   ],
   "source": [
    "final_catalog.columns"
   ]
  },
  {
   "cell_type": "code",
   "execution_count": 25,
   "metadata": {},
   "outputs": [],
   "source": [
    "final_catalog.loc[(final_catalog.deimos_q.isnull()),\n",
    "                  'final_z']=final_catalog.loc[(final_catalog.deimos_q.isnull()),\n",
    "                                               'ZPDF']\n",
    "\n",
    "final_catalog.loc[(final_catalog.deimos_q.isnull()),\n",
    "                  'final_use']=2\n",
    "\n",
    "\n",
    "final_catalog.loc[(final_catalog.Z_USE<3),'final_z']=final_catalog.loc[(final_catalog.Z_USE<3),'Z_BEST']\n",
    "\n",
    "final_catalog.loc[(final_catalog.Z_USE<3),'final_use']=1\n",
    "\n",
    "final_catalog.loc[(final_catalog.Z_USE>=3)&\n",
    "                  (final_catalog.deimos_q==2),\n",
    "                  'final_z']=final_catalog.loc[(final_catalog.Z_USE>=3)&\n",
    "                                               (final_catalog.deimos_q==2),\n",
    "                                                'deimos_zspec']\n",
    "\n",
    "final_catalog.loc[(final_catalog.Z_USE>=3)&\n",
    "                  (final_catalog.deimos_q==2),\n",
    "                  'final_use']=1\n",
    "\n",
    "final_catalog.loc[(final_catalog.Z_USE>=3)&\n",
    "                  (final_catalog.deimos_q<2),\n",
    "                  'final_z']=final_catalog.loc[(final_catalog.Z_USE>=3)&\n",
    "                                               (final_catalog.deimos_q<2),\n",
    "                                               'ZPDF']\n",
    "\n",
    "final_catalog.loc[(final_catalog.Z_USE>=3)&\n",
    "                  (final_catalog.deimos_q<2),\n",
    "                  'final_use']=2"
   ]
  },
  {
   "cell_type": "code",
   "execution_count": 26,
   "metadata": {},
   "outputs": [],
   "source": [
    "final_catalog.loc[(final_catalog.Z_USE.isnull())&\n",
    "                  (final_catalog.deimos_q<2),\n",
    "                  'final_z']=final_catalog.loc[(final_catalog.Z_USE.isnull())&\n",
    "                                               (final_catalog.deimos_q<2),\n",
    "                                               'ZPDF']\n",
    "final_catalog.loc[(final_catalog.Z_USE.isnull())&\n",
    "                  (final_catalog.deimos_q<2),\n",
    "                  'final_use']=2\n",
    "\n",
    "final_catalog.loc[(final_catalog.Z_USE.isnull())&\n",
    "                  (final_catalog.deimos_q==2.0),\n",
    "                  'final_z']=final_catalog.loc[(final_catalog.Z_USE.isnull())&\n",
    "                                               (final_catalog.deimos_q==2.0),\n",
    "                                               'deimos_zspec']\n",
    "final_catalog.loc[(final_catalog.Z_USE.isnull())&\n",
    "                  (final_catalog.deimos_q==2),\n",
    "                  'final_use']=1\n",
    "\n",
    "final_catalog.loc[(final_catalog.deimos_q==2)&\n",
    "                  (final_catalog.deimos_zspec.isnull())&\n",
    "                  (final_catalog.Z_USE>2),\n",
    "                 'final_use']=2\n",
    "\n",
    "final_catalog.loc[(final_catalog.deimos_q==2)&\n",
    "                  (final_catalog.deimos_zspec.isnull())&\n",
    "                  (final_catalog.Z_USE>2),\n",
    "                 'final_z']=final_catalog.loc[(final_catalog.deimos_q==2)&\n",
    "                  (final_catalog.deimos_zspec.isnull())&\n",
    "                  (final_catalog.Z_USE>2),\n",
    "                 'ZPDF']"
   ]
  },
  {
   "cell_type": "code",
   "execution_count": 27,
   "metadata": {},
   "outputs": [
    {
     "name": "stdout",
     "output_type": "stream",
     "text": [
      "0           0.0386\n",
      "1           0.3695\n",
      "2             0.16\n",
      "3           2.3343\n",
      "4           1.3916\n",
      "5           1.7792\n",
      "6           2.1991\n",
      "7           2.4407\n",
      "8           0.2079\n",
      "9            1.206\n",
      "10          0.5927\n",
      "11           1.956\n",
      "12          1.1044\n",
      "13          2.7634\n",
      "14          0.8803\n",
      "15          1.9539\n",
      "16          2.9145\n",
      "17          2.4809\n",
      "18          2.2077\n",
      "19          1.6363\n",
      "20          0.2976\n",
      "21          3.2677\n",
      "22          3.7704\n",
      "23          0.3065\n",
      "24          1.5886\n",
      "25          0.8685\n",
      "26          4.9516\n",
      "27          2.0417\n",
      "28          1.2809\n",
      "29          1.2742\n",
      "            ...   \n",
      "536050      0.3756\n",
      "536051      0.3799\n",
      "536052      0.8096\n",
      "536053       0.815\n",
      "536054      0.5638\n",
      "536055    0.247446\n",
      "536056      1.1229\n",
      "536057      1.2236\n",
      "536058      1.2077\n",
      "536059      0.5662\n",
      "536060      1.3156\n",
      "536061       1.148\n",
      "536062    0.926736\n",
      "536063      0.6978\n",
      "536064        0.43\n",
      "536065      0.6812\n",
      "536066      0.4982\n",
      "536067    0.344023\n",
      "536068     0.70521\n",
      "536069      0.1978\n",
      "536070      0.3673\n",
      "536071    0.739714\n",
      "536072      2.1799\n",
      "536073    0.352222\n",
      "536074    0.709191\n",
      "536075      0.4794\n",
      "536076       0.407\n",
      "536077    0.434428\n",
      "536078    0.167914\n",
      "536079    0.172142\n",
      "Name: final_z, Length: 536080, dtype: object\n"
     ]
    }
   ],
   "source": [
    "print(final_catalog.final_z)"
   ]
  },
  {
   "cell_type": "code",
   "execution_count": 28,
   "metadata": {},
   "outputs": [
    {
     "name": "stdout",
     "output_type": "stream",
     "text": [
      "26876\n",
      "23779\n"
     ]
    }
   ],
   "source": [
    "print(len(final_catalog.loc[final_catalog.final_use==1]))\n",
    "print(len(final_catalog.loc[final_catalog.Z_USE<3]))"
   ]
  },
  {
   "cell_type": "code",
   "execution_count": 29,
   "metadata": {},
   "outputs": [
    {
     "name": "stdout",
     "output_type": "stream",
     "text": [
      "29204\n"
     ]
    },
    {
     "data": {
      "image/png": "[encoded data removed]",
      "text/plain": [
       "<Figure size 432x288 with 1 Axes>"
      ]
     },
     "metadata": {
      "needs_background": "light"
     },
     "output_type": "display_data"
    },
    {
     "data": {
      "text/plain": [
       "<Figure size 432x288 with 0 Axes>"
      ]
     },
     "metadata": {},
     "output_type": "display_data"
    }
   ],
   "source": [
    "plt.scatter(davies_df.loc[davies_df.Z_USE<4]['RA_06'],davies_df.loc[davies_df.Z_USE<4]['DEC_06'])\n",
    "plt.scatter(final_catalog.loc[final_catalog.final_use==1,'RA'],\n",
    "            final_catalog.loc[final_catalog.final_use==1,'DEC'])\n",
    "plt.figure()\n",
    "#plt.hist(laigle_davies_06.loc[laigle_davies_06.Z_USE<4]['zpp_MAG_AUTO'],bins=30,range=[15,30])\n",
    "#plt.hist(laigle_davies_06['zpp_MAG_AUTO'],bins=30,range=[15,30],alpha=0.3)\n",
    "\n",
    "#print(len(laigle_davies_06.loc[laigle_davies_06.Z_USE<3]))\n",
    "print(len(davies_df.loc[davies_df.Z_USE<3]))\n"
   ]
  },
  {
   "cell_type": "code",
   "execution_count": 30,
   "metadata": {},
   "outputs": [],
   "source": [
    "final_catalog.to_csv(catbasedir+'/Final_Catalogs/final_spec_catalog_08.csv',index=False)"
   ]
  }
 ],
 "metadata": {
  "kernelspec": {
   "display_name": "Python 3",
   "language": "python",
   "name": "python3"
  },
  "language_info": {
   "codemirror_mode": {
    "name": "ipython",
    "version": 3
   },
   "file_extension": ".py",
   "mimetype": "text/x-python",
   "name": "python",
   "nbconvert_exporter": "python",
   "pygments_lexer": "ipython3",
   "version": "3.6.7"
  }
 },
 "nbformat": 4,
 "nbformat_minor": 2
}
