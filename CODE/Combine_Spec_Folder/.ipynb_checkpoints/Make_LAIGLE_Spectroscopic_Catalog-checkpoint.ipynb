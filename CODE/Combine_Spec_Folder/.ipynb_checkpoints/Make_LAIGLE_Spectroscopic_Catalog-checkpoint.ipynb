{
 "cells": [
  {
   "cell_type": "markdown",
   "metadata": {},
   "source": [
    "Trying to simply combine a large number of catalogs with the Laigle+16 catalog (Photometry for more objects), The Davies+15 (V05) catalog (A lot of spectroscopic redshifts), the DIEMOS redshift catalog, and the three morphology catalogs. This should provide a large number of redshifts for a large number of objects. Can go to higher apparent magnitude (avoid problems with incompleteness). I'm hoping this will help with number of galaxies we have? Should be simple, don't want to take too long doing this. "
   ]
  },
  {
   "cell_type": "markdown",
   "metadata": {},
   "source": [
    "| Date | Person | Change |\n",
    "| :- | :- | :--------: |\n",
    "04/16/2019  |  L. Hunt  |  <ul><li>Initial Version</li><li>Import fits table</li><li>Import other text tables</li></ul>"
   ]
  },
  {
   "cell_type": "markdown",
   "metadata": {},
   "source": [
    "Import numerical packages"
   ]
  },
  {
   "cell_type": "code",
   "execution_count": 1,
   "metadata": {},
   "outputs": [],
   "source": [
    "import pandas as pd\n",
    "import numpy as np\n",
    "from itertools import combinations"
   ]
  },
  {
   "cell_type": "markdown",
   "metadata": {},
   "source": [
    "Import Astronomy Packages"
   ]
  },
  {
   "cell_type": "code",
   "execution_count": 2,
   "metadata": {},
   "outputs": [],
   "source": [
    "import astropy as ap\n",
    "from astropy import units as u\n",
    "from astropy.coordinates import SkyCoord\n",
    "import kcorrect\n",
    "import kcorrect.utils as ut\n",
    "from astropy.cosmology import FlatLambdaCDM\n",
    "from astropy.table import Table"
   ]
  },
  {
   "cell_type": "markdown",
   "metadata": {},
   "source": [
    "Import misc./plotting packages"
   ]
  },
  {
   "cell_type": "code",
   "execution_count": 3,
   "metadata": {},
   "outputs": [],
   "source": [
    "import os\n",
    "import matplotlib.pyplot as plt"
   ]
  },
  {
   "cell_type": "markdown",
   "metadata": {},
   "source": [
    "# Setup"
   ]
  },
  {
   "cell_type": "code",
   "execution_count": 4,
   "metadata": {},
   "outputs": [],
   "source": [
    "cosmo=FlatLambdaCDM(H0=70,Om0=0.3)"
   ]
  },
  {
   "cell_type": "code",
   "execution_count": 5,
   "metadata": {},
   "outputs": [],
   "source": [
    "kcordir=os.environ[\"KCORRECT_DIR\"]\n",
    "catbasedir=os.environ[\"COSMOS_DIR\"]"
   ]
  },
  {
   "cell_type": "markdown",
   "metadata": {},
   "source": [
    "Reading catalogs into pandas databases"
   ]
  },
  {
   "cell_type": "code",
   "execution_count": 6,
   "metadata": {},
   "outputs": [
    {
     "name": "stdout",
     "output_type": "stream",
     "text": [
      "Reading Catalogs\n"
     ]
    }
   ],
   "source": [
    "print('Reading Catalogs')"
   ]
  },
  {
   "cell_type": "markdown",
   "metadata": {},
   "source": [
    "Photometry"
   ]
  },
  {
   "cell_type": "code",
   "execution_count": 7,
   "metadata": {},
   "outputs": [
    {
     "name": "stderr",
     "output_type": "stream",
     "text": [
      "WARNING: UnitsWarning: 'erg/cm2/s' contains multiple slashes, which is discouraged by the FITS standard [astropy.units.format.generic]\n",
      "/home/lrhunt/programs/anaconda3/lib/python3.7/site-packages/IPython/core/interactiveshell.py:3267: TableReplaceWarning: converted column 'ID_XMM' from integer to float\n",
      "  exec(code_obj, self.user_global_ns, self.user_ns)\n",
      "/home/lrhunt/programs/anaconda3/lib/python3.7/site-packages/IPython/core/interactiveshell.py:3267: TableReplaceWarning: converted column 'ID_CHANDRA09' from integer to float\n",
      "  exec(code_obj, self.user_global_ns, self.user_ns)\n",
      "/home/lrhunt/programs/anaconda3/lib/python3.7/site-packages/IPython/core/interactiveshell.py:3267: TableReplaceWarning: converted column 'FLAG_XRAYBLEND' from integer to float\n",
      "  exec(code_obj, self.user_global_ns, self.user_ns)\n"
     ]
    }
   ],
   "source": [
    "laigle_table=Table.read(catbasedir+'/Photometry/COSMOS2015_Laigle_v1.1.fits')\n",
    "initial_laigle_df=laigle_table.to_pandas()"
   ]
  },
  {
   "cell_type": "code",
   "execution_count": 8,
   "metadata": {},
   "outputs": [],
   "source": [
    "laigle_df=initial_laigle_df.loc[(initial_laigle_df.FLAG_HJMCC==0) &\n",
    "                                (initial_laigle_df.FLAG_COSMOS==1) & \n",
    "                                (initial_laigle_df.FLAG_PETER==0)][['NUMBER',\n",
    " 'ID2006',\n",
    " 'ID2008',\n",
    " 'ALPHA_J2000',\n",
    " 'DELTA_J2000',\n",
    " 'FLUX_RADIUS',\n",
    " 'u_MAG_AUTO',\n",
    " 'u_MAGERR_AUTO',\n",
    " 'B_MAG_AUTO',\n",
    " 'B_MAGERR_AUTO',\n",
    " 'V_MAG_AUTO',\n",
    " 'V_MAGERR_AUTO',\n",
    " 'r_MAG_AUTO',\n",
    " 'r_MAGERR_AUTO',\n",
    " 'ip_MAG_AUTO',\n",
    " 'ip_MAGERR_AUTO',\n",
    " 'zpp_MAG_AUTO',\n",
    " 'zpp_MAGERR_AUTO',\n",
    " 'Y_MAG_AUTO',\n",
    " 'Y_MAGERR_AUTO',\n",
    " 'J_MAG_AUTO',\n",
    " 'J_MAGERR_AUTO',\n",
    " 'H_MAG_AUTO',\n",
    " 'H_MAGERR_AUTO',\n",
    " 'Ks_MAG_AUTO',\n",
    " 'Ks_MAGERR_AUTO',\n",
    " 'ZPDF',\n",
    " 'TYPE'\n",
    "]]"
   ]
  },
  {
   "cell_type": "code",
   "execution_count": 9,
   "metadata": {},
   "outputs": [],
   "source": [
    "laigle_df=laigle_df.rename(columns={'ALPHA_J2000':'RA','DELTA_J2000':'DEC'})"
   ]
  },
  {
   "cell_type": "markdown",
   "metadata": {},
   "source": [
    "laigle_df=initial_laigle_df[['NUMBER',\n",
    " 'ID2006',\n",
    " 'ID2008',\n",
    " 'ALPHA_J2000',\n",
    " 'DELTA_J2000',\n",
    " 'FLUX_RADIUS',\n",
    " 'u_MAG_AUTO',\n",
    " 'u_MAGERR_AUTO',\n",
    " 'B_MAG_AUTO',\n",
    " 'B_MAGERR_AUTO',\n",
    " 'V_MAG_AUTO',\n",
    " 'V_MAGERR_AUTO',\n",
    " 'r_MAG_AUTO',\n",
    " 'r_MAGERR_AUTO',\n",
    " 'ip_MAG_AUTO',\n",
    " 'ip_MAGERR_AUTO',\n",
    " 'zpp_MAG_AUTO',\n",
    " 'zpp_MAGERR_AUTO',\n",
    " 'Y_MAG_AUTO',\n",
    " 'Y_MAGERR_AUTO',\n",
    " 'J_MAG_AUTO',\n",
    " 'J_MAGERR_AUTO',\n",
    " 'H_MAG_AUTO',\n",
    " 'H_MAGERR_AUTO',\n",
    " 'Ks_MAG_AUTO',\n",
    " 'Ks_MAGERR_AUTO',\n",
    " 'ZPDF',\n",
    " 'TYPE'\n",
    "]]"
   ]
  },
  {
   "cell_type": "markdown",
   "metadata": {},
   "source": [
    "Spectroscopy"
   ]
  },
  {
   "cell_type": "code",
   "execution_count": 10,
   "metadata": {},
   "outputs": [],
   "source": [
    "typedict={'char':str,'double':np.float64,'float':np.float64,'int':np.int}\n",
    "with open(catbasedir+'/Spectroscopy/deimos_10k_March2018/deimos_redshifts.tbl') as deimos:\n",
    "    file=deimos.readlines()\n",
    "    for line in file:\n",
    "        deimos_dict=dict(zip(file[71].split(),[typedict[f] for f in file[72].split()]))"
   ]
  },
  {
   "cell_type": "code",
   "execution_count": 11,
   "metadata": {},
   "outputs": [
    {
     "name": "stderr",
     "output_type": "stream",
     "text": [
      "b'Skipping line 136: expected 10 fields, saw 11\\nSkipping line 142: expected 10 fields, saw 11\\nSkipping line 144: expected 10 fields, saw 11\\nSkipping line 147: expected 10 fields, saw 11\\nSkipping line 150: expected 10 fields, saw 11\\nSkipping line 153: expected 10 fields, saw 11\\nSkipping line 158: expected 10 fields, saw 11\\nSkipping line 160: expected 10 fields, saw 11\\nSkipping line 175: expected 10 fields, saw 11\\nSkipping line 191: expected 10 fields, saw 11\\nSkipping line 196: expected 10 fields, saw 11\\nSkipping line 221: expected 10 fields, saw 11\\nSkipping line 226: expected 10 fields, saw 11\\nSkipping line 232: expected 10 fields, saw 11\\nSkipping line 237: expected 10 fields, saw 11\\nSkipping line 242: expected 10 fields, saw 11\\nSkipping line 253: expected 10 fields, saw 11\\nSkipping line 271: expected 10 fields, saw 11\\nSkipping line 290: expected 10 fields, saw 11\\nSkipping line 309: expected 10 fields, saw 11\\nSkipping line 321: expected 10 fields, saw 11\\nSkipping line 325: expected 10 fields, saw 11\\nSkipping line 341: expected 10 fields, saw 11\\nSkipping line 363: expected 10 fields, saw 11\\nSkipping line 372: expected 10 fields, saw 11\\nSkipping line 373: expected 10 fields, saw 11\\nSkipping line 375: expected 10 fields, saw 11\\nSkipping line 381: expected 10 fields, saw 11\\nSkipping line 398: expected 10 fields, saw 11\\nSkipping line 403: expected 10 fields, saw 11\\nSkipping line 437: expected 10 fields, saw 11\\nSkipping line 460: expected 10 fields, saw 11\\nSkipping line 480: expected 10 fields, saw 11\\nSkipping line 484: expected 10 fields, saw 11\\nSkipping line 526: expected 10 fields, saw 11\\nSkipping line 528: expected 10 fields, saw 11\\nSkipping line 530: expected 10 fields, saw 11\\nSkipping line 571: expected 10 fields, saw 11\\nSkipping line 573: expected 10 fields, saw 11\\nSkipping line 583: expected 10 fields, saw 11\\nSkipping line 649: expected 10 fields, saw 11\\nSkipping line 664: expected 10 fields, saw 11\\nSkipping line 725: expected 10 fields, saw 11\\nSkipping line 745: expected 10 fields, saw 11\\nSkipping line 752: expected 10 fields, saw 11\\nSkipping line 766: expected 10 fields, saw 11\\nSkipping line 801: expected 10 fields, saw 11\\nSkipping line 1167: expected 10 fields, saw 13\\nSkipping line 1567: expected 10 fields, saw 14\\nSkipping line 4253: expected 10 fields, saw 14\\nSkipping line 7134: expected 10 fields, saw 14\\nSkipping line 9191: expected 10 fields, saw 14\\n'\n"
     ]
    }
   ],
   "source": [
    "davies_table=Table.read(catbasedir+'/Spectroscopy/G10CosmosCatv05/G10COSMOSCatv05.fits')\n",
    "davies_df=davies_table.to_pandas()\n",
    "deimos_df=pd.read_csv(\n",
    "    catbasedir+'/Spectroscopy/deimos_10k_March2018/deimos_redshifts.tbl',     delim_whitespace=True,\n",
    "    header=71,\n",
    "    dtype=deimos_dict,\n",
    "    error_bad_lines=False,\n",
    "    skiprows=[72,73,74])"
   ]
  },
  {
   "cell_type": "markdown",
   "metadata": {},
   "source": [
    "Adding objects that were skipped because some columns had two values\n",
    "(Note, had to go through and manually edit text file because some parts of the notes column had spaces as well. These were found by printing x_series.Q It should be a number so if it has a molecular line identifier in it the notes section has a space. Quickest to just edit these.)"
   ]
  },
  {
   "cell_type": "code",
   "execution_count": 12,
   "metadata": {},
   "outputs": [],
   "source": [
    "with open(catbasedir+'/Spectroscopy/deimos_10k_March2018/deimos_redshifts.tbl') as deimos:\n",
    "    file=deimos.readlines()\n",
    "    i=0\n",
    "    for line in file:\n",
    "        if (len(line.split())==11) & (i>74):\n",
    "            x=line.split()\n",
    "            del x[3]\n",
    "            x_series=pd.Series(x,index=file[71].split())\n",
    "            deimos_df=deimos_df.append(x_series,ignore_index=True)\n",
    "        i=i+1\n",
    "\n",
    "deimos_df.columns='deimos_'+deimos_df.columns.str.lower()"
   ]
  },
  {
   "cell_type": "markdown",
   "metadata": {},
   "source": [
    "Match Catalogs based on source name"
   ]
  },
  {
   "cell_type": "code",
   "execution_count": 13,
   "metadata": {},
   "outputs": [],
   "source": [
    "deimos_df['catalog']=np.nan\n",
    "\n",
    "deimos_df.loc[deimos_df.deimos_id.str.startswith('L',na=False),'catalog']='L'\n",
    "\n",
    "deimos_df.loc[deimos_df.deimos_id.str.startswith('C',na=False),'catalog']='C'"
   ]
  },
  {
   "cell_type": "code",
   "execution_count": 14,
   "metadata": {},
   "outputs": [],
   "source": [
    "deimos_df.loc[deimos_df.catalog!=deimos_df.catalog,'deimos_id']=0"
   ]
  },
  {
   "cell_type": "code",
   "execution_count": 15,
   "metadata": {},
   "outputs": [],
   "source": [
    "deimos_df.loc[deimos_df.catalog=='L','deimos_id']=deimos_df.loc[\n",
    "    deimos_df.catalog=='L','deimos_id'].str.strip('L').astype(int)\n",
    "\n",
    "deimos_df.loc[deimos_df.deimos_id.str.startswith('C',na=False),'deimos_id']=deimos_df.loc[\n",
    "    deimos_df.deimos_id.str.startswith('C',na=False),'deimos_id'].str.strip('C').astype(int)\n",
    "\n",
    "deimos_df.loc[deimos_df.catalog!=deimos_df.catalog,'deimos_id']=0\n",
    "\n",
    "deimos_df['deimos_id']=deimos_df['deimos_id'].astype(int)"
   ]
  },
  {
   "cell_type": "code",
   "execution_count": 16,
   "metadata": {},
   "outputs": [],
   "source": [
    "join_laigle_deimos_l=pd.merge(left=laigle_df,\n",
    "                            right=deimos_df.loc[deimos_df.catalog=='L',['deimos_id',\n",
    "                                             'deimos_ra',\n",
    "                                             'deimos_dec',\n",
    "                                             'deimos_zspec',\n",
    "                                             'deimos_qf',\n",
    "                                             'deimos_q',\n",
    "                                             'catalog']],\n",
    "                            how='left',\n",
    "                            left_on=['NUMBER'],\n",
    "                            right_on=['deimos_id'])\n",
    "\n",
    "join_laigle_deimos=pd.merge(left=join_laigle_deimos_l,\n",
    "                            right=deimos_df.loc[deimos_df.catalog=='C',['deimos_id',\n",
    "                                             'deimos_ra',\n",
    "                                             'deimos_dec',\n",
    "                                             'deimos_zspec',\n",
    "                                             'deimos_qf',\n",
    "                                             'deimos_q',\n",
    "                                             'catalog']],\n",
    "                            how='left',\n",
    "                            left_on=['ID2006'],\n",
    "                            right_on=['deimos_id'])"
   ]
  },
  {
   "cell_type": "code",
   "execution_count": 17,
   "metadata": {},
   "outputs": [],
   "source": [
    "for column in ['deimos_id','deimos_ra','deimos_dec','deimos_zspec','deimos_qf','deimos_q','catalog']:\n",
    "    join_laigle_deimos[column]=np.nan\n",
    "    join_laigle_deimos[column].fillna(join_laigle_deimos[column+'_x'],inplace=True)\n",
    "    join_laigle_deimos[column].fillna(join_laigle_deimos[column+'_y'],inplace=True)\n",
    "    join_laigle_deimos=join_laigle_deimos.drop(columns=[column+'_y',column+'_x'])"
   ]
  },
  {
   "cell_type": "code",
   "execution_count": 18,
   "metadata": {},
   "outputs": [],
   "source": [
    "davies_coord=SkyCoord(ra=davies_df['RA_06'].values*u.degree,\n",
    "                     dec=davies_df['DEC_06'].values*u.degree)\n",
    "deimos_coord=SkyCoord(ra=deimos_df.loc[deimos_df.deimos_id==0,'deimos_ra'].values*u.degree,\n",
    "                     dec=deimos_df.loc[deimos_df.deimos_id==0,'deimos_dec'].values*u.degree)\n",
    "laigle_coord=SkyCoord(ra=laigle_df['RA'].values*u.degree,\n",
    "                     dec=laigle_df['DEC'].values*u.degree)"
   ]
  },
  {
   "cell_type": "code",
   "execution_count": 19,
   "metadata": {},
   "outputs": [],
   "source": [
    "idx_deimos,d2d,d3d=deimos_coord.match_to_catalog_sky(laigle_coord)"
   ]
  },
  {
   "cell_type": "code",
   "execution_count": 20,
   "metadata": {},
   "outputs": [
    {
     "name": "stderr",
     "output_type": "stream",
     "text": [
      "/home/lrhunt/programs/anaconda3/lib/python3.7/site-packages/ipykernel_launcher.py:13: SettingWithCopyWarning: \n",
      "A value is trying to be set on a copy of a slice from a DataFrame\n",
      "\n",
      "See the caveats in the documentation: http://pandas.pydata.org/pandas-docs/stable/indexing.html#indexing-view-versus-copy\n",
      "  del sys.path[0]\n",
      "/home/lrhunt/programs/anaconda3/lib/python3.7/site-packages/pandas/core/series.py:983: SettingWithCopyWarning: \n",
      "A value is trying to be set on a copy of a slice from a DataFrame\n",
      "\n",
      "See the caveats in the documentation: http://pandas.pydata.org/pandas-docs/stable/indexing.html#indexing-view-versus-copy\n",
      "  self._set_labels(key, value)\n"
     ]
    }
   ],
   "source": [
    "for idx in range(0,len(idx_deimos)):\n",
    "    if d2d[idx].arcsecond<1:\n",
    "        join_laigle_deimos.iloc[idx_deimos[idx]][['deimos_id',\n",
    "                                             'deimos_ra',\n",
    "                                             'deimos_dec',\n",
    "                                             'deimos_zspec',\n",
    "                                             'deimos_qf',\n",
    "                                             'deimos_q']]=deimos_df.loc[deimos_df.deimos_id==0].iloc[idx][['deimos_id',\n",
    "                                             'deimos_ra',\n",
    "                                             'deimos_dec',\n",
    "                                             'deimos_zspec',\n",
    "                                             'deimos_qf',\n",
    "                                             'deimos_q']]"
   ]
  },
  {
   "cell_type": "code",
   "execution_count": 21,
   "metadata": {},
   "outputs": [],
   "source": [
    "final_catalog=pd.merge(join_laigle_deimos,davies_df[['ID_06','Z_USE','Z_BEST']],how='left',left_on=['ID2006'],right_on=['ID_06'])"
   ]
  },
  {
   "cell_type": "code",
   "execution_count": 22,
   "metadata": {},
   "outputs": [
    {
     "data": {
      "text/plain": [
       "536080"
      ]
     },
     "execution_count": 22,
     "metadata": {},
     "output_type": "execute_result"
    }
   ],
   "source": [
    "len(final_catalog)"
   ]
  },
  {
   "cell_type": "code",
   "execution_count": 23,
   "metadata": {},
   "outputs": [
    {
     "data": {
      "text/html": [
       "<div>\n",
       "<style scoped>\n",
       "    .dataframe tbody tr th:only-of-type {\n",
       "        vertical-align: middle;\n",
       "    }\n",
       "\n",
       "    .dataframe tbody tr th {\n",
       "        vertical-align: top;\n",
       "    }\n",
       "\n",
       "    .dataframe thead th {\n",
       "        text-align: right;\n",
       "    }\n",
       "</style>\n",
       "<table border=\"1\" class=\"dataframe\">\n",
       "  <thead>\n",
       "    <tr style=\"text-align: right;\">\n",
       "      <th></th>\n",
       "      <th>deimos_zspec</th>\n",
       "      <th>deimos_q</th>\n",
       "      <th>Z_BEST</th>\n",
       "      <th>Z_USE</th>\n",
       "    </tr>\n",
       "  </thead>\n",
       "  <tbody>\n",
       "    <tr>\n",
       "      <th>750</th>\n",
       "      <td>0.337</td>\n",
       "      <td>2</td>\n",
       "      <td>0.337700</td>\n",
       "      <td>1.0</td>\n",
       "    </tr>\n",
       "    <tr>\n",
       "      <th>3292</th>\n",
       "      <td>0.7006</td>\n",
       "      <td>2</td>\n",
       "      <td>0.701100</td>\n",
       "      <td>1.0</td>\n",
       "    </tr>\n",
       "    <tr>\n",
       "      <th>3752</th>\n",
       "      <td>0.622</td>\n",
       "      <td>2</td>\n",
       "      <td>0.623800</td>\n",
       "      <td>1.0</td>\n",
       "    </tr>\n",
       "    <tr>\n",
       "      <th>5760</th>\n",
       "      <td>0.538</td>\n",
       "      <td>2</td>\n",
       "      <td>0.525900</td>\n",
       "      <td>1.0</td>\n",
       "    </tr>\n",
       "    <tr>\n",
       "      <th>7096</th>\n",
       "      <td>0.3618</td>\n",
       "      <td>2</td>\n",
       "      <td>0.361900</td>\n",
       "      <td>1.0</td>\n",
       "    </tr>\n",
       "    <tr>\n",
       "      <th>11227</th>\n",
       "      <td>0.505</td>\n",
       "      <td>2</td>\n",
       "      <td>0.506000</td>\n",
       "      <td>1.0</td>\n",
       "    </tr>\n",
       "    <tr>\n",
       "      <th>13924</th>\n",
       "      <td>0.903</td>\n",
       "      <td>2</td>\n",
       "      <td>0.909500</td>\n",
       "      <td>1.0</td>\n",
       "    </tr>\n",
       "    <tr>\n",
       "      <th>14608</th>\n",
       "      <td>0.7445</td>\n",
       "      <td>2</td>\n",
       "      <td>0.746500</td>\n",
       "      <td>1.0</td>\n",
       "    </tr>\n",
       "    <tr>\n",
       "      <th>16009</th>\n",
       "      <td>0.6183</td>\n",
       "      <td>2</td>\n",
       "      <td>0.386900</td>\n",
       "      <td>1.0</td>\n",
       "    </tr>\n",
       "    <tr>\n",
       "      <th>16201</th>\n",
       "      <td>1.126</td>\n",
       "      <td>2</td>\n",
       "      <td>1.021400</td>\n",
       "      <td>1.0</td>\n",
       "    </tr>\n",
       "    <tr>\n",
       "      <th>17170</th>\n",
       "      <td>0.375</td>\n",
       "      <td>2</td>\n",
       "      <td>0.372058</td>\n",
       "      <td>1.0</td>\n",
       "    </tr>\n",
       "    <tr>\n",
       "      <th>18379</th>\n",
       "      <td>0.864</td>\n",
       "      <td>2</td>\n",
       "      <td>0.863400</td>\n",
       "      <td>1.0</td>\n",
       "    </tr>\n",
       "    <tr>\n",
       "      <th>20230</th>\n",
       "      <td>0.701</td>\n",
       "      <td>2</td>\n",
       "      <td>0.701500</td>\n",
       "      <td>1.0</td>\n",
       "    </tr>\n",
       "    <tr>\n",
       "      <th>20923</th>\n",
       "      <td>0.3408</td>\n",
       "      <td>2</td>\n",
       "      <td>0.340400</td>\n",
       "      <td>1.0</td>\n",
       "    </tr>\n",
       "    <tr>\n",
       "      <th>21325</th>\n",
       "      <td>0.852</td>\n",
       "      <td>2</td>\n",
       "      <td>0.849600</td>\n",
       "      <td>1.0</td>\n",
       "    </tr>\n",
       "    <tr>\n",
       "      <th>22438</th>\n",
       "      <td>0.248</td>\n",
       "      <td>2</td>\n",
       "      <td>0.247400</td>\n",
       "      <td>1.0</td>\n",
       "    </tr>\n",
       "    <tr>\n",
       "      <th>22742</th>\n",
       "      <td>0.3215</td>\n",
       "      <td>2</td>\n",
       "      <td>0.321800</td>\n",
       "      <td>1.0</td>\n",
       "    </tr>\n",
       "    <tr>\n",
       "      <th>23564</th>\n",
       "      <td>0.706</td>\n",
       "      <td>2</td>\n",
       "      <td>0.705000</td>\n",
       "      <td>1.0</td>\n",
       "    </tr>\n",
       "    <tr>\n",
       "      <th>24053</th>\n",
       "      <td>0.7398</td>\n",
       "      <td>2</td>\n",
       "      <td>0.750700</td>\n",
       "      <td>1.0</td>\n",
       "    </tr>\n",
       "    <tr>\n",
       "      <th>26057</th>\n",
       "      <td>0.591</td>\n",
       "      <td>2</td>\n",
       "      <td>0.590400</td>\n",
       "      <td>1.0</td>\n",
       "    </tr>\n",
       "    <tr>\n",
       "      <th>26090</th>\n",
       "      <td>0.6343</td>\n",
       "      <td>2</td>\n",
       "      <td>0.634300</td>\n",
       "      <td>1.0</td>\n",
       "    </tr>\n",
       "    <tr>\n",
       "      <th>27207</th>\n",
       "      <td>0.832</td>\n",
       "      <td>2</td>\n",
       "      <td>0.835500</td>\n",
       "      <td>1.0</td>\n",
       "    </tr>\n",
       "    <tr>\n",
       "      <th>28273</th>\n",
       "      <td>0.8515</td>\n",
       "      <td>2</td>\n",
       "      <td>0.786600</td>\n",
       "      <td>1.0</td>\n",
       "    </tr>\n",
       "    <tr>\n",
       "      <th>31032</th>\n",
       "      <td>0.219</td>\n",
       "      <td>2</td>\n",
       "      <td>0.218000</td>\n",
       "      <td>1.0</td>\n",
       "    </tr>\n",
       "    <tr>\n",
       "      <th>31196</th>\n",
       "      <td>0.1207</td>\n",
       "      <td>2</td>\n",
       "      <td>0.124200</td>\n",
       "      <td>1.0</td>\n",
       "    </tr>\n",
       "    <tr>\n",
       "      <th>33150</th>\n",
       "      <td>0.696</td>\n",
       "      <td>2</td>\n",
       "      <td>0.695200</td>\n",
       "      <td>1.0</td>\n",
       "    </tr>\n",
       "    <tr>\n",
       "      <th>43522</th>\n",
       "      <td>0.62</td>\n",
       "      <td>2</td>\n",
       "      <td>0.619600</td>\n",
       "      <td>1.0</td>\n",
       "    </tr>\n",
       "    <tr>\n",
       "      <th>48906</th>\n",
       "      <td>0.702</td>\n",
       "      <td>2</td>\n",
       "      <td>0.701400</td>\n",
       "      <td>1.0</td>\n",
       "    </tr>\n",
       "    <tr>\n",
       "      <th>51889</th>\n",
       "      <td>0.5542</td>\n",
       "      <td>2</td>\n",
       "      <td>0.554700</td>\n",
       "      <td>1.0</td>\n",
       "    </tr>\n",
       "    <tr>\n",
       "      <th>53063</th>\n",
       "      <td>0.2182</td>\n",
       "      <td>2</td>\n",
       "      <td>0.221500</td>\n",
       "      <td>1.0</td>\n",
       "    </tr>\n",
       "    <tr>\n",
       "      <th>...</th>\n",
       "      <td>...</td>\n",
       "      <td>...</td>\n",
       "      <td>...</td>\n",
       "      <td>...</td>\n",
       "    </tr>\n",
       "    <tr>\n",
       "      <th>523369</th>\n",
       "      <td>0.493</td>\n",
       "      <td>2</td>\n",
       "      <td>0.493874</td>\n",
       "      <td>1.0</td>\n",
       "    </tr>\n",
       "    <tr>\n",
       "      <th>523570</th>\n",
       "      <td>0.826</td>\n",
       "      <td>2</td>\n",
       "      <td>0.826500</td>\n",
       "      <td>1.0</td>\n",
       "    </tr>\n",
       "    <tr>\n",
       "      <th>523784</th>\n",
       "      <td>0.495</td>\n",
       "      <td>2</td>\n",
       "      <td>0.500603</td>\n",
       "      <td>2.0</td>\n",
       "    </tr>\n",
       "    <tr>\n",
       "      <th>524024</th>\n",
       "      <td>0.4274</td>\n",
       "      <td>2</td>\n",
       "      <td>1.042448</td>\n",
       "      <td>2.0</td>\n",
       "    </tr>\n",
       "    <tr>\n",
       "      <th>524134</th>\n",
       "      <td>0.8808</td>\n",
       "      <td>2</td>\n",
       "      <td>0.881811</td>\n",
       "      <td>2.0</td>\n",
       "    </tr>\n",
       "    <tr>\n",
       "      <th>524426</th>\n",
       "      <td>0.3189</td>\n",
       "      <td>2</td>\n",
       "      <td>0.327130</td>\n",
       "      <td>1.0</td>\n",
       "    </tr>\n",
       "    <tr>\n",
       "      <th>527443</th>\n",
       "      <td>0.823</td>\n",
       "      <td>2</td>\n",
       "      <td>0.823300</td>\n",
       "      <td>1.0</td>\n",
       "    </tr>\n",
       "    <tr>\n",
       "      <th>527726</th>\n",
       "      <td>1.121</td>\n",
       "      <td>2</td>\n",
       "      <td>1.119700</td>\n",
       "      <td>1.0</td>\n",
       "    </tr>\n",
       "    <tr>\n",
       "      <th>527818</th>\n",
       "      <td>0.878</td>\n",
       "      <td>2</td>\n",
       "      <td>0.840356</td>\n",
       "      <td>2.0</td>\n",
       "    </tr>\n",
       "    <tr>\n",
       "      <th>528204</th>\n",
       "      <td>0.794</td>\n",
       "      <td>2</td>\n",
       "      <td>0.791900</td>\n",
       "      <td>1.0</td>\n",
       "    </tr>\n",
       "    <tr>\n",
       "      <th>528328</th>\n",
       "      <td>0.816</td>\n",
       "      <td>2</td>\n",
       "      <td>0.851723</td>\n",
       "      <td>2.0</td>\n",
       "    </tr>\n",
       "    <tr>\n",
       "      <th>528792</th>\n",
       "      <td>0.3277</td>\n",
       "      <td>2</td>\n",
       "      <td>0.314466</td>\n",
       "      <td>2.0</td>\n",
       "    </tr>\n",
       "    <tr>\n",
       "      <th>529075</th>\n",
       "      <td>0.314</td>\n",
       "      <td>2</td>\n",
       "      <td>0.316807</td>\n",
       "      <td>2.0</td>\n",
       "    </tr>\n",
       "    <tr>\n",
       "      <th>529567</th>\n",
       "      <td>0.667</td>\n",
       "      <td>2</td>\n",
       "      <td>0.668100</td>\n",
       "      <td>1.0</td>\n",
       "    </tr>\n",
       "    <tr>\n",
       "      <th>529979</th>\n",
       "      <td>0.793</td>\n",
       "      <td>2</td>\n",
       "      <td>0.794200</td>\n",
       "      <td>1.0</td>\n",
       "    </tr>\n",
       "    <tr>\n",
       "      <th>530094</th>\n",
       "      <td>0.08</td>\n",
       "      <td>2</td>\n",
       "      <td>0.084995</td>\n",
       "      <td>2.0</td>\n",
       "    </tr>\n",
       "    <tr>\n",
       "      <th>531639</th>\n",
       "      <td>1.121</td>\n",
       "      <td>2</td>\n",
       "      <td>1.106650</td>\n",
       "      <td>2.0</td>\n",
       "    </tr>\n",
       "    <tr>\n",
       "      <th>532458</th>\n",
       "      <td>0.611</td>\n",
       "      <td>2</td>\n",
       "      <td>0.605482</td>\n",
       "      <td>2.0</td>\n",
       "    </tr>\n",
       "    <tr>\n",
       "      <th>532864</th>\n",
       "      <td>0.3448</td>\n",
       "      <td>2</td>\n",
       "      <td>0.342817</td>\n",
       "      <td>2.0</td>\n",
       "    </tr>\n",
       "    <tr>\n",
       "      <th>533658</th>\n",
       "      <td>0.214</td>\n",
       "      <td>2</td>\n",
       "      <td>0.214566</td>\n",
       "      <td>2.0</td>\n",
       "    </tr>\n",
       "    <tr>\n",
       "      <th>533691</th>\n",
       "      <td>0.306</td>\n",
       "      <td>2</td>\n",
       "      <td>0.308098</td>\n",
       "      <td>2.0</td>\n",
       "    </tr>\n",
       "    <tr>\n",
       "      <th>533715</th>\n",
       "      <td>0.742</td>\n",
       "      <td>2</td>\n",
       "      <td>0.741027</td>\n",
       "      <td>2.0</td>\n",
       "    </tr>\n",
       "    <tr>\n",
       "      <th>533906</th>\n",
       "      <td>0.547</td>\n",
       "      <td>2</td>\n",
       "      <td>0.534401</td>\n",
       "      <td>2.0</td>\n",
       "    </tr>\n",
       "    <tr>\n",
       "      <th>535476</th>\n",
       "      <td>0.746</td>\n",
       "      <td>2</td>\n",
       "      <td>0.718348</td>\n",
       "      <td>2.0</td>\n",
       "    </tr>\n",
       "    <tr>\n",
       "      <th>535478</th>\n",
       "      <td>0.77</td>\n",
       "      <td>2</td>\n",
       "      <td>0.770000</td>\n",
       "      <td>1.0</td>\n",
       "    </tr>\n",
       "    <tr>\n",
       "      <th>535498</th>\n",
       "      <td>0.488</td>\n",
       "      <td>2</td>\n",
       "      <td>0.613380</td>\n",
       "      <td>2.0</td>\n",
       "    </tr>\n",
       "    <tr>\n",
       "      <th>535587</th>\n",
       "      <td>0.488</td>\n",
       "      <td>2</td>\n",
       "      <td>0.681447</td>\n",
       "      <td>2.0</td>\n",
       "    </tr>\n",
       "    <tr>\n",
       "      <th>535600</th>\n",
       "      <td>1.129</td>\n",
       "      <td>2</td>\n",
       "      <td>1.128580</td>\n",
       "      <td>1.0</td>\n",
       "    </tr>\n",
       "    <tr>\n",
       "      <th>535640</th>\n",
       "      <td>0.814</td>\n",
       "      <td>2</td>\n",
       "      <td>0.813600</td>\n",
       "      <td>1.0</td>\n",
       "    </tr>\n",
       "    <tr>\n",
       "      <th>535857</th>\n",
       "      <td>0.744</td>\n",
       "      <td>2</td>\n",
       "      <td>0.683300</td>\n",
       "      <td>1.0</td>\n",
       "    </tr>\n",
       "  </tbody>\n",
       "</table>\n",
       "<p>1723 rows × 4 columns</p>\n",
       "</div>"
      ],
      "text/plain": [
       "       deimos_zspec deimos_q    Z_BEST  Z_USE\n",
       "750           0.337        2  0.337700    1.0\n",
       "3292         0.7006        2  0.701100    1.0\n",
       "3752          0.622        2  0.623800    1.0\n",
       "5760          0.538        2  0.525900    1.0\n",
       "7096         0.3618        2  0.361900    1.0\n",
       "11227         0.505        2  0.506000    1.0\n",
       "13924         0.903        2  0.909500    1.0\n",
       "14608        0.7445        2  0.746500    1.0\n",
       "16009        0.6183        2  0.386900    1.0\n",
       "16201         1.126        2  1.021400    1.0\n",
       "17170         0.375        2  0.372058    1.0\n",
       "18379         0.864        2  0.863400    1.0\n",
       "20230         0.701        2  0.701500    1.0\n",
       "20923        0.3408        2  0.340400    1.0\n",
       "21325         0.852        2  0.849600    1.0\n",
       "22438         0.248        2  0.247400    1.0\n",
       "22742        0.3215        2  0.321800    1.0\n",
       "23564         0.706        2  0.705000    1.0\n",
       "24053        0.7398        2  0.750700    1.0\n",
       "26057         0.591        2  0.590400    1.0\n",
       "26090        0.6343        2  0.634300    1.0\n",
       "27207         0.832        2  0.835500    1.0\n",
       "28273        0.8515        2  0.786600    1.0\n",
       "31032         0.219        2  0.218000    1.0\n",
       "31196        0.1207        2  0.124200    1.0\n",
       "33150         0.696        2  0.695200    1.0\n",
       "43522          0.62        2  0.619600    1.0\n",
       "48906         0.702        2  0.701400    1.0\n",
       "51889        0.5542        2  0.554700    1.0\n",
       "53063        0.2182        2  0.221500    1.0\n",
       "...             ...      ...       ...    ...\n",
       "523369        0.493        2  0.493874    1.0\n",
       "523570        0.826        2  0.826500    1.0\n",
       "523784        0.495        2  0.500603    2.0\n",
       "524024       0.4274        2  1.042448    2.0\n",
       "524134       0.8808        2  0.881811    2.0\n",
       "524426       0.3189        2  0.327130    1.0\n",
       "527443        0.823        2  0.823300    1.0\n",
       "527726        1.121        2  1.119700    1.0\n",
       "527818        0.878        2  0.840356    2.0\n",
       "528204        0.794        2  0.791900    1.0\n",
       "528328        0.816        2  0.851723    2.0\n",
       "528792       0.3277        2  0.314466    2.0\n",
       "529075        0.314        2  0.316807    2.0\n",
       "529567        0.667        2  0.668100    1.0\n",
       "529979        0.793        2  0.794200    1.0\n",
       "530094         0.08        2  0.084995    2.0\n",
       "531639        1.121        2  1.106650    2.0\n",
       "532458        0.611        2  0.605482    2.0\n",
       "532864       0.3448        2  0.342817    2.0\n",
       "533658        0.214        2  0.214566    2.0\n",
       "533691        0.306        2  0.308098    2.0\n",
       "533715        0.742        2  0.741027    2.0\n",
       "533906        0.547        2  0.534401    2.0\n",
       "535476        0.746        2  0.718348    2.0\n",
       "535478         0.77        2  0.770000    1.0\n",
       "535498        0.488        2  0.613380    2.0\n",
       "535587        0.488        2  0.681447    2.0\n",
       "535600        1.129        2  1.128580    1.0\n",
       "535640        0.814        2  0.813600    1.0\n",
       "535857        0.744        2  0.683300    1.0\n",
       "\n",
       "[1723 rows x 4 columns]"
      ]
     },
     "execution_count": 23,
     "metadata": {},
     "output_type": "execute_result"
    }
   ],
   "source": [
    "final_catalog.loc[(final_catalog.deimos_q==2) & (final_catalog.Z_USE<3),['deimos_zspec','deimos_q','Z_BEST','Z_USE']]"
   ]
  },
  {
   "cell_type": "code",
   "execution_count": 24,
   "metadata": {},
   "outputs": [],
   "source": [
    "final_catalog['deimos_q']=final_catalog.deimos_q.apply(float)"
   ]
  },
  {
   "cell_type": "code",
   "execution_count": 25,
   "metadata": {},
   "outputs": [
    {
     "data": {
      "text/plain": [
       "Index(['NUMBER', 'ID2006', 'ID2008', 'RA', 'DEC', 'FLUX_RADIUS', 'u_MAG_AUTO',\n",
       "       'u_MAGERR_AUTO', 'B_MAG_AUTO', 'B_MAGERR_AUTO', 'V_MAG_AUTO',\n",
       "       'V_MAGERR_AUTO', 'r_MAG_AUTO', 'r_MAGERR_AUTO', 'ip_MAG_AUTO',\n",
       "       'ip_MAGERR_AUTO', 'zpp_MAG_AUTO', 'zpp_MAGERR_AUTO', 'Y_MAG_AUTO',\n",
       "       'Y_MAGERR_AUTO', 'J_MAG_AUTO', 'J_MAGERR_AUTO', 'H_MAG_AUTO',\n",
       "       'H_MAGERR_AUTO', 'Ks_MAG_AUTO', 'Ks_MAGERR_AUTO', 'ZPDF', 'TYPE',\n",
       "       'deimos_id', 'deimos_ra', 'deimos_dec', 'deimos_zspec', 'deimos_qf',\n",
       "       'deimos_q', 'catalog', 'ID_06', 'Z_USE', 'Z_BEST'],\n",
       "      dtype='object')"
      ]
     },
     "execution_count": 25,
     "metadata": {},
     "output_type": "execute_result"
    }
   ],
   "source": [
    "final_catalog.columns"
   ]
  },
  {
   "cell_type": "code",
   "execution_count": 26,
   "metadata": {},
   "outputs": [],
   "source": [
    "final_catalog.loc[(final_catalog.Z_USE<3),'final_z']=final_catalog.loc[(final_catalog.Z_USE<3),'Z_BEST']\n",
    "final_catalog.loc[(final_catalog.Z_USE<3),'final_use']=1\n",
    "final_catalog.loc[(final_catalog.Z_USE>=3)&\n",
    "                  (final_catalog.deimos_q==2),\n",
    "                  'final_z']=final_catalog.loc[(final_catalog.Z_USE>=3)&\n",
    "                                               (final_catalog.deimos_q==2),\n",
    "                                                'deimos_zspec']\n",
    "final_catalog.loc[(final_catalog.Z_USE>=3)&\n",
    "                  (final_catalog.deimos_q==2),\n",
    "                  'final_use']=1\n",
    "final_catalog.loc[(final_catalog.Z_USE>=3)&\n",
    "                  (final_catalog.deimos_q<2),\n",
    "                  'final_z']=final_catalog.loc[(final_catalog.Z_USE>=3)&\n",
    "                                               (final_catalog.deimos_q<2),\n",
    "                                                'Z_BEST']\n",
    "final_catalog.loc[(final_catalog.Z_USE>=3)&\n",
    "                  (final_catalog.deimos_q<2),\n",
    "                  'final_use']=2"
   ]
  },
  {
   "cell_type": "code",
   "execution_count": 27,
   "metadata": {},
   "outputs": [
    {
     "name": "stdout",
     "output_type": "stream",
     "text": [
      "26591\n",
      "23779\n"
     ]
    }
   ],
   "source": [
    "print(len(final_catalog.loc[final_catalog.final_use==1]))\n",
    "print(len(final_catalog.loc[final_catalog.Z_USE<3]))"
   ]
  },
  {
   "cell_type": "code",
   "execution_count": 28,
   "metadata": {},
   "outputs": [
    {
     "name": "stdout",
     "output_type": "stream",
     "text": [
      "29204\n"
     ]
    },
    {
     "data": {
      "image/png": "[encoded data removed]",
      "text/plain": [
       "<Figure size 432x288 with 1 Axes>"
      ]
     },
     "metadata": {
      "needs_background": "light"
     },
     "output_type": "display_data"
    },
    {
     "data": {
      "text/plain": [
       "<Figure size 432x288 with 0 Axes>"
      ]
     },
     "metadata": {},
     "output_type": "display_data"
    }
   ],
   "source": [
    "plt.scatter(davies_df.loc[davies_df.Z_USE<4]['RA_06'],davies_df.loc[davies_df.Z_USE<4]['DEC_06'])\n",
    "plt.scatter(final_catalog.loc[final_catalog.final_use==1,'RA'],\n",
    "            final_catalog.loc[final_catalog.final_use==1,'DEC'])\n",
    "plt.figure()\n",
    "#plt.hist(laigle_davies_06.loc[laigle_davies_06.Z_USE<4]['zpp_MAG_AUTO'],bins=30,range=[15,30])\n",
    "#plt.hist(laigle_davies_06['zpp_MAG_AUTO'],bins=30,range=[15,30],alpha=0.3)\n",
    "\n",
    "#print(len(laigle_davies_06.loc[laigle_davies_06.Z_USE<3]))\n",
    "print(len(davies_df.loc[davies_df.Z_USE<3]))\n"
   ]
  },
  {
   "cell_type": "code",
   "execution_count": 29,
   "metadata": {},
   "outputs": [],
   "source": [
    "final_catalog.to_csv('/home/lrhunt/Astrodata/LCBG_Luminosity_Function/Final_Catalogs/final_spec_catalog.csv',index=False)"
   ]
  }
 ],
 "metadata": {
  "kernelspec": {
   "display_name": "Python 3",
   "language": "python",
   "name": "python3"
  },
  "language_info": {
   "codemirror_mode": {
    "name": "ipython",
    "version": 3
   },
   "file_extension": ".py",
   "mimetype": "text/x-python",
   "name": "python",
   "nbconvert_exporter": "python",
   "pygments_lexer": "ipython3",
   "version": "3.7.1"
  }
 },
 "nbformat": 4,
 "nbformat_minor": 2
}
