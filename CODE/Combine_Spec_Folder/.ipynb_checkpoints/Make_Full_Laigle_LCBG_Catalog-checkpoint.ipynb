{
 "cells": [
  {
   "cell_type": "markdown",
   "metadata": {},
   "source": [
    "Taking the LAIGLE spectroscopic catalog to make a full catalog with selected LCBGs"
   ]
  },
  {
   "cell_type": "markdown",
   "metadata": {},
   "source": [
    "| Date | Person | Change |\n",
    "| :- | :- | :--------: |\n",
    "04/24/2019  |  L. Hunt  |  <ul><li>Initial Version</li><li>Import CSV</li><li>Use kcorrect to correct get absolut magnitudes</li><li>Select LCBGs</li></ul>"
   ]
  },
  {
   "cell_type": "markdown",
   "metadata": {},
   "source": [
    "Import number and plotting modules"
   ]
  },
  {
   "cell_type": "code",
   "execution_count": 1,
   "metadata": {},
   "outputs": [],
   "source": [
    "import pandas as pd\n",
    "import numpy as np\n",
    "import matplotlib.pyplot as plt"
   ]
  },
  {
   "cell_type": "markdown",
   "metadata": {},
   "source": [
    "Import astronomy modules"
   ]
  },
  {
   "cell_type": "code",
   "execution_count": 2,
   "metadata": {},
   "outputs": [],
   "source": [
    "import astropy as ap\n",
    "from astropy import units as u\n",
    "import kcorrect\n",
    "import kcorrect.utils as ut\n",
    "from astropy.cosmology import FlatLambdaCDM"
   ]
  },
  {
   "cell_type": "markdown",
   "metadata": {},
   "source": [
    "Import basic modules"
   ]
  },
  {
   "cell_type": "code",
   "execution_count": 3,
   "metadata": {},
   "outputs": [],
   "source": [
    "from itertools import combinations\n",
    "import os\n",
    "import datetime"
   ]
  },
  {
   "cell_type": "code",
   "execution_count": 4,
   "metadata": {},
   "outputs": [],
   "source": [
    "def make_kcorr_filt_template(dataframe):\n",
    "    '''This task will make a kcorrect filter template from a dataframe that optimizes the number of objects with detections in a subset of filters. In this case the dataframe should contain cfht, subaru, and irac wideband filters. '''\n",
    "    kcordir=os.environ[\"KCORRECT_DIR\"]\n",
    "    lambdar_to_kcorr={'u_MAG_AUTO':'capak_cfht_megaprime_sagem_u.par',\n",
    "                      'B_MAG_AUTO':'capak_subaru_suprimecam_B.par',\n",
    "                      'V_MAG_AUTO':'capak_subaru_suprimecam_V.par',\n",
    "                      'r_MAG_AUTO':'capak_subaru_suprimecam_r.par',\n",
    "                      'ip_MAG_AUTO':'capak_subaru_suprimecam_i.par',\n",
    "                      'zpp_MAG_AUTO':'subaru_suprimecam_zpp.par',\n",
    "                      'Y_MAG_AUTO':'vircam_Y.par',\n",
    "                      'J_MAG_AUTO':'vircam_J.par',\n",
    "                      'H_MAG_AUTO':'vircam_H.par',\n",
    "                      'Ks_MAG_AUTO':'vircam_K.par'}\n",
    "    numb1=0\n",
    "    numb2=0\n",
    "    numb3=0\n",
    "    numb4=0\n",
    "    numb5=0\n",
    "    flist1=[]\n",
    "    flist2=[]\n",
    "    flist3=[]\n",
    "    flist4=[]\n",
    "    flist5=[]\n",
    "    ilist1=[]\n",
    "    ilist2=[]\n",
    "    ilist3=[]\n",
    "    ilist4=[]\n",
    "    ilist5=[]\n",
    "    kcor_template=kcordir+'/data/templates/temp_filt_list.dat'\n",
    "    for x in combinations(list(dataframe),5):\n",
    "        if len(dataframe[(dataframe[x[0]]<40)&\n",
    "                         (dataframe[x[1]]<40)&\n",
    "                         (dataframe[x[2]]<40)&\n",
    "                         (dataframe[x[3]]<40)&\n",
    "                         (dataframe[x[4]]<40)]) > numb1:\n",
    "            ilist5=ilist4\n",
    "            ilist4=ilist3\n",
    "            ilist3=ilist2\n",
    "            ilist2=ilist1\n",
    "            ilist1=dataframe[(dataframe[x[0]]<40)&\n",
    "                             (dataframe[x[1]]<40)&\n",
    "                             (dataframe[x[2]]<40)&\n",
    "                             (dataframe[x[3]]<40)&\n",
    "                             (dataframe[x[4]]<40)].index.tolist()\n",
    "            numb5=numb4\n",
    "            numb4=numb3\n",
    "            numb3=numb2\n",
    "            numb2=numb1\n",
    "            numb1=len(ilist1)\n",
    "            flist5=flist4\n",
    "            flist4=flist3\n",
    "            flist3=flist2\n",
    "            flist2=flist1\n",
    "            flist1=x\n",
    "    with open(kcor_template,'w') as file:\n",
    "        file.write('KCORRECT_DIR\\n')\n",
    "        for filt in flist1:\n",
    "            file.write('data/filters/cosmos_filters/'+lambdar_to_kcorr[filt]+'\\n')\n",
    "    return flist1,kcor_template"
   ]
  },
  {
   "cell_type": "code",
   "execution_count": 5,
   "metadata": {},
   "outputs": [],
   "source": [
    "cosmo=FlatLambdaCDM(H0=70,Om0=0.3)"
   ]
  },
  {
   "cell_type": "code",
   "execution_count": 6,
   "metadata": {},
   "outputs": [],
   "source": [
    "kcordir=os.environ[\"KCORRECT_DIR\"]\n",
    "catbasedir=os.environ[\"COSMOS_DIR\"].split('Original')[0]+'Final_Catalogs'"
   ]
  },
  {
   "cell_type": "code",
   "execution_count": 7,
   "metadata": {},
   "outputs": [],
   "source": [
    "Spec_Cat=pd.read_csv(catbasedir+'/final_spec_catalog.csv')"
   ]
  },
  {
   "cell_type": "code",
   "execution_count": 8,
   "metadata": {},
   "outputs": [],
   "source": [
    "magnitude_columns=[filt for filt in Spec_Cat.columns.values if '_mag_' in filt.lower()]\n",
    "magnitude_error_columns=[filt for filt in Spec_Cat.columns.values if 'err' in filt.lower()]"
   ]
  },
  {
   "cell_type": "code",
   "execution_count": 9,
   "metadata": {},
   "outputs": [],
   "source": [
    "kcorr_filt_list,kcor_template_filter=make_kcorr_filt_template(Spec_Cat[magnitude_columns])"
   ]
  },
  {
   "cell_type": "code",
   "execution_count": 10,
   "metadata": {},
   "outputs": [
    {
     "name": "stdout",
     "output_type": "stream",
     "text": [
      "/home/lrhunt/programs/kcorrect/data/templates/temp_filt_list.dat\n"
     ]
    }
   ],
   "source": [
    "print(kcor_template_filter)"
   ]
  },
  {
   "cell_type": "code",
   "execution_count": null,
   "metadata": {},
   "outputs": [],
   "source": [
    "maggies_filt_list=[filt.split('_')[0]+\n",
    "                   '_maggies' for filt in kcorr_filt_list]\n",
    "invervar_filt_list=[filt.split('_')[0]+\n",
    "                    '_invervar' for filt in kcorr_filt_list]\n",
    "synthetic_maggies_filt_list=[filt.split('_')[0]+\n",
    "                             '_synthetic_maggies' for filt in \n",
    "                             kcorr_filt_list]\n",
    "rf_synthetic_maggies_filt_list=[filt.split('_')[0]+\n",
    "                             '0_synthetic_maggies' for filt in \n",
    "                             kcorr_filt_list]"
   ]
  },
  {
   "cell_type": "code",
   "execution_count": null,
   "metadata": {},
   "outputs": [],
   "source": [
    "numbers=np.arange(1,7,1)\n",
    "for string in ['c'+str(number) for number in numbers]:\n",
    "    Spec_Cat[string]=np.nan"
   ]
  },
  {
   "cell_type": "code",
   "execution_count": null,
   "metadata": {},
   "outputs": [
    {
     "name": "stdout",
     "output_type": "stream",
     "text": [
      "Converting to Maggies\n"
     ]
    }
   ],
   "source": [
    "print('Converting to Maggies')\n",
    "for column in magnitude_columns:\n",
    "    Spec_Cat[column.split('_')[0]+'_maggies']=ut.mag2maggies(Spec_Cat[column])\n",
    "    Spec_Cat[column.split('_')[0]+'_invervar']=ut.invariance(Spec_Cat[column.split('_')[0]+'_maggies'],Spec_Cat[column.split('_')[0]+'_MAGERR_AUTO'])"
   ]
  },
  {
   "cell_type": "code",
   "execution_count": null,
   "metadata": {},
   "outputs": [],
   "source": [
    "for i in range(0,len(synthetic_maggies_filt_list)):\n",
    "    Spec_Cat[synthetic_maggies_filt_list[i]]=np.nan\n",
    "    Spec_Cat[rf_synthetic_maggies_filt_list[i]]=np.nan"
   ]
  },
  {
   "cell_type": "code",
   "execution_count": null,
   "metadata": {},
   "outputs": [],
   "source": [
    "kcorrect.load_templates()\n",
    "kcorrect.load_filters(kcor_template_filter)"
   ]
  },
  {
   "cell_type": "code",
   "execution_count": null,
   "metadata": {},
   "outputs": [],
   "source": [
    "indexes=Spec_Cat.index.values"
   ]
  },
  {
   "cell_type": "code",
   "execution_count": null,
   "metadata": {},
   "outputs": [
    {
     "name": "stdout",
     "output_type": "stream",
     "text": [
      "k-correction for 0 sources done\n",
      "0:00:00.683296\n"
     ]
    }
   ],
   "source": [
    "time=datetime.datetime.now()\n",
    "for i in indexes:\n",
    "    Spec_Cat.loc[i,'c1':'c6']=kcorrect.fit_nonneg(np.array(Spec_Cat.loc[i,'final_z'],\n",
    "                                                           dtype=float),\n",
    "                                                  np.array(Spec_Cat.loc[i,maggies_filt_list],\n",
    "                                                           dtype=float),\n",
    "                                                  np.array(Spec_Cat.loc[i,invervar_filt_list],\n",
    "                                                           dtype=float))\n",
    "    Spec_Cat.loc[i,synthetic_maggies_filt_list]=kcorrect.reconstruct_maggies(Spec_Cat.loc[i,'c1':'c6'])[1:]\n",
    "    Spec_Cat.loc[i,rf_synthetic_maggies_filt_list]=kcorrect.reconstruct_maggies(Spec_Cat.loc[i,'c1':'c6'],redshift=0)[1:]\n",
    "    if i%10000==0:\n",
    "        print('k-correction for {} sources done'.format(i))\n",
    "        print(datetime.datetime.now()-time)\n",
    "        time=datetime.datetime.now()"
   ]
  },
  {
   "cell_type": "code",
   "execution_count": null,
   "metadata": {},
   "outputs": [],
   "source": [
    "Spec_Cat['U0_synthetic_maggies']=np.nan\n",
    "Spec_Cat['B0_synthetic_maggies']=np.nan\n",
    "Spec_Cat['V0_synthetic_maggies']=np.nan"
   ]
  },
  {
   "cell_type": "code",
   "execution_count": null,
   "metadata": {},
   "outputs": [],
   "source": [
    "kcorrect.load_templates()\n",
    "kcorrect.load_filters(kcordir+'/data/templates/bessell_ubv.dat')"
   ]
  },
  {
   "cell_type": "code",
   "execution_count": 7,
   "metadata": {},
   "outputs": [
    {
     "ename": "NameError",
     "evalue": "name 'indexes' is not defined",
     "output_type": "error",
     "traceback": [
      "\u001b[0;31m---------------------------------------------------------------------------\u001b[0m",
      "\u001b[0;31mNameError\u001b[0m                                 Traceback (most recent call last)",
      "\u001b[0;32m<ipython-input-7-c7efcdab06ef>\u001b[0m in \u001b[0;36m<module>\u001b[0;34m\u001b[0m\n\u001b[0;32m----> 1\u001b[0;31m \u001b[0;32mfor\u001b[0m \u001b[0mi\u001b[0m \u001b[0;32min\u001b[0m \u001b[0mindexes\u001b[0m\u001b[0;34m:\u001b[0m\u001b[0;34m\u001b[0m\u001b[0;34m\u001b[0m\u001b[0m\n\u001b[0m\u001b[1;32m      2\u001b[0m     Spec_Cat.loc[i,\n\u001b[1;32m      3\u001b[0m                  ['U0_synthetic_maggies',\n\u001b[1;32m      4\u001b[0m                  \u001b[0;34m'B0_synthetic_maggies'\u001b[0m\u001b[0;34m,\u001b[0m\u001b[0;34m\u001b[0m\u001b[0;34m\u001b[0m\u001b[0m\n\u001b[1;32m      5\u001b[0m                  'V0_synthetic_maggies']]=kcorrect.reconstruct_maggies(Spec_Cat.loc[i,'c1':'c6']\n",
      "\u001b[0;31mNameError\u001b[0m: name 'indexes' is not defined"
     ]
    }
   ],
   "source": [
    "for i in indexes:\n",
    "    Spec_Cat.loc[i,\n",
    "                 ['U0_synthetic_maggies',\n",
    "                 'B0_synthetic_maggies',\n",
    "                 'V0_synthetic_maggies']]=kcorrect.reconstruct_maggies(Spec_Cat.loc[i,'c1':'c6']\n",
    "                                                                     ,redshift=0)[1:]\n",
    "    if i%10000==0:\n",
    "        print('k-correction for {} sources done'.format(i))\n",
    "        print(datetime.datetime.now()-time)\n",
    "        time=datetime.datetime.now()"
   ]
  },
  {
   "cell_type": "code",
   "execution_count": null,
   "metadata": {},
   "outputs": [],
   "source": [
    "Spec_Cat[['U0_synthetic_mag',\n",
    "               'B0_synthetic_mag',\n",
    "               'V0_synthetic_mag']]=-2.5*np.log10(Spec_Cat[['U0_synthetic_maggies','B0_synthetic_maggies','V0_synthetic_maggies']])"
   ]
  },
  {
   "cell_type": "code",
   "execution_count": null,
   "metadata": {},
   "outputs": [],
   "source": [
    "Spec_Cat"
   ]
  }
 ],
 "metadata": {
  "kernelspec": {
   "display_name": "Python 3",
   "language": "python",
   "name": "python3"
  },
  "language_info": {
   "codemirror_mode": {
    "name": "ipython",
    "version": 3
   },
   "file_extension": ".py",
   "mimetype": "text/x-python",
   "name": "python",
   "nbconvert_exporter": "python",
   "pygments_lexer": "ipython3",
   "version": "3.7.1"
  }
 },
 "nbformat": 4,
 "nbformat_minor": 2
}
