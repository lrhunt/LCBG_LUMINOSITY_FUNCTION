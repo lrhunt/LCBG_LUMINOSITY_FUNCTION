{
 "cells": [
  {
   "cell_type": "code",
   "execution_count": 1,
   "metadata": {},
   "outputs": [],
   "source": [
    "import pandas as pd\n",
    "import numpy as np\n",
    "import astropy as ap\n",
    "from astropy import units as u\n",
    "from astropy.coordinates import SkyCoord\n",
    "import kcorrect\n",
    "import kcorrect.utils as ut\n",
    "from astropy.cosmology import FlatLambdaCDM\n",
    "import os\n",
    "import matplotlib.pyplot as plt"
   ]
  },
  {
   "cell_type": "markdown",
   "metadata": {},
   "source": [
    "Defining Cosmology"
   ]
  },
  {
   "cell_type": "code",
   "execution_count": 2,
   "metadata": {},
   "outputs": [],
   "source": [
    "cosmo=FlatLambdaCDM(H0=70,Om0=0.3)"
   ]
  },
  {
   "cell_type": "markdown",
   "metadata": {},
   "source": [
    "Reading in Catalogs (LAMBDAR and TASCA)"
   ]
  },
  {
   "cell_type": "code",
   "execution_count": 3,
   "metadata": {},
   "outputs": [
    {
     "name": "stdout",
     "output_type": "stream",
     "text": [
      "Reading in Catalogs\n"
     ]
    }
   ],
   "source": [
    "print('Reading in Catalogs')\n",
    "COSMOS_PHOT_LAMBDAR=pd.read_csv('/Users/lucashunt/ASTRODATA/LCBG_LUMINOSITY_FUNCTION/COSMOS_CATALOGS/Photometry/G10CosmosLAMBDARCatv05.csv')\n",
    "TASCA_COSMOS_MORPH=pd.read_csv('/Users/lucashunt/ASTRODATA/LCBG_LUMINOSITY_FUNCTION/COSMOS_CATALOGS/Morphology/MORPH.tsv',delim_whitespace=True,header=53,dtype=float,error_bad_lines=False)\n"
   ]
  },
  {
   "cell_type": "markdown",
   "metadata": {},
   "source": [
    "Setting Variables"
   ]
  },
  {
   "cell_type": "code",
   "execution_count": 4,
   "metadata": {},
   "outputs": [],
   "source": [
    "kcordir=os.environ[\"KCORRECT_DIR\"]"
   ]
  },
  {
   "cell_type": "markdown",
   "metadata": {},
   "source": [
    "*********************************************\n",
    "Matching Catalogs\n",
    "*********************************************"
   ]
  },
  {
   "cell_type": "code",
   "execution_count": 5,
   "metadata": {},
   "outputs": [
    {
     "name": "stdout",
     "output_type": "stream",
     "text": [
      "Matching Catalogs\n"
     ]
    }
   ],
   "source": [
    "print('Matching Catalogs')"
   ]
  },
  {
   "cell_type": "markdown",
   "metadata": {},
   "source": [
    "Generating Astropy skycoord objects to easily match catalogs based on position"
   ]
  },
  {
   "cell_type": "code",
   "execution_count": 6,
   "metadata": {},
   "outputs": [],
   "source": [
    "TASCA_COORD=SkyCoord(ra=TASCA_COSMOS_MORPH['RAJ2000'].values*u.degree,dec=TASCA_COSMOS_MORPH['DEJ2000'].values*u.degree)\n",
    "G10_COORD=SkyCoord(ra=COSMOS_PHOT_LAMBDAR['RA'].values*u.degree,dec=COSMOS_PHOT_LAMBDAR['DEC'].values*u.degree)"
   ]
  },
  {
   "cell_type": "markdown",
   "metadata": {},
   "source": [
    "Matching Catalogs"
   ]
  },
  {
   "cell_type": "code",
   "execution_count": 7,
   "metadata": {},
   "outputs": [],
   "source": [
    "idx,d2d,d3d=G10_COORD.match_to_catalog_sky(TASCA_COORD)\n",
    "COSMOS_PHOT_LAMBDAR['Rh']=TASCA_COSMOS_MORPH['Rh'][idx].values\n",
    "COSMOS_PHOT_LAMBDAR['separation']=d2d.arcsecond\n",
    "COSMOS_PHOT_LAMBDAR.loc[COSMOS_PHOT_LAMBDAR.separation>1,'Rh']=np.nan\n",
    "COSMOS_FLUXES=COSMOS_PHOT_LAMBDAR"
   ]
  },
  {
   "cell_type": "markdown",
   "metadata": {},
   "source": [
    "*********************************************\n",
    "Calculating apparent magnitudes\n",
    "*********************************************"
   ]
  },
  {
   "cell_type": "code",
   "execution_count": 8,
   "metadata": {},
   "outputs": [
    {
     "name": "stdout",
     "output_type": "stream",
     "text": [
      "Calculating apparent magnitudes\n"
     ]
    }
   ],
   "source": [
    "print('Calculating apparent magnitudes')"
   ]
  },
  {
   "cell_type": "markdown",
   "metadata": {},
   "source": [
    "Determining what data is in each column"
   ]
  },
  {
   "cell_type": "code",
   "execution_count": 9,
   "metadata": {},
   "outputs": [],
   "source": [
    "column_headers=COSMOS_FLUXES.columns.values\n",
    "telescope_flux_headers=[s for s in column_headers if (('subaru' in s) or ('uvista' in s) or ('galex' in s) or ('cfht' in s) or ('irac' in s) or ('mips' in s) or ('pacs' in s) or ('spire' in s)) and ('err' not in s)]"
   ]
  },
  {
   "cell_type": "markdown",
   "metadata": {},
   "source": [
    "Calculating magnitudes (And creating column for maggies, see kcorrect.org for explanation)"
   ]
  },
  {
   "cell_type": "code",
   "execution_count": 10,
   "metadata": {},
   "outputs": [
    {
     "name": "stderr",
     "output_type": "stream",
     "text": [
      "/Users/lucashunt/programs/anaconda3/anaconda3/lib/python3.6/site-packages/ipykernel_launcher.py:2: RuntimeWarning: divide by zero encountered in log10\n",
      "  \n",
      "/Users/lucashunt/programs/anaconda3/anaconda3/lib/python3.6/site-packages/ipykernel_launcher.py:2: RuntimeWarning: invalid value encountered in log10\n",
      "  \n"
     ]
    }
   ],
   "source": [
    "for i in telescope_flux_headers:\n",
    "    COSMOS_FLUXES['mag_'+i]=-2.5*np.log10(COSMOS_FLUXES[i]/3631)\n",
    "    COSMOS_FLUXES['mag_'+i+'_err']=2.5/np.log(10)*COSMOS_FLUXES[i+'_err']/COSMOS_FLUXES[i]\n",
    "    COSMOS_FLUXES['maggies_'+i]=np.nan\n",
    "    COSMOS_FLUXES['invervar_'+i]=np.nan\n",
    "\n",
    "COSMOS_FLUXES.loc[COSMOS_FLUXES.isnull().mag_galex_fuv,'mag_galex_fuv_err']=np.nan\n",
    "COSMOS_FLUXES.loc[COSMOS_FLUXES.isnull().mag_galex_nuv,'mag_galex_nuv_err']=np.nan"
   ]
  },
  {
   "cell_type": "code",
   "execution_count": 23,
   "metadata": {},
   "outputs": [
    {
     "data": {
      "text/plain": [
       "['galex_fuv',\n",
       " 'galex_nuv',\n",
       " 'cfht_u',\n",
       " 'subaru_B',\n",
       " 'subaru_V',\n",
       " 'subaru_g',\n",
       " 'subaru_r',\n",
       " 'subaru_i',\n",
       " 'subaru_z',\n",
       " 'uvista_Y',\n",
       " 'uvista_J',\n",
       " 'uvista_H',\n",
       " 'uvista_K',\n",
       " 'irac_1',\n",
       " 'irac_2',\n",
       " 'irac_3',\n",
       " 'irac_4',\n",
       " 'mips_24',\n",
       " 'mips_70',\n",
       " 'pacs_100',\n",
       " 'pacs_160',\n",
       " 'spire_250',\n",
       " 'spire_350',\n",
       " 'spire_500',\n",
       " 'subaru_ia427',\n",
       " 'subaru_ia464',\n",
       " 'subaru_ia484',\n",
       " 'subaru_ia505',\n",
       " 'subaru_ia527',\n",
       " 'subaru_ia574',\n",
       " 'subaru_ia624',\n",
       " 'subaru_ia679',\n",
       " 'subaru_ia709',\n",
       " 'subaru_ia738',\n",
       " 'subaru_ia767',\n",
       " 'subaru_ia827',\n",
       " 'subaru_nb711',\n",
       " 'subaru_nb816']"
      ]
     },
     "execution_count": 23,
     "metadata": {},
     "output_type": "execute_result"
    }
   ],
   "source": [
    "telescope_flux_headers"
   ]
  },
  {
   "cell_type": "markdown",
   "metadata": {},
   "source": [
    "*********************************************\n",
    "Getting k-correction\n",
    "*********************************************"
   ]
  },
  {
   "cell_type": "markdown",
   "metadata": {},
   "source": [
    "Making columns for kcorrect output values"
   ]
  },
  {
   "cell_type": "code",
   "execution_count": 18,
   "metadata": {},
   "outputs": [],
   "source": [
    "numbers=np.arange(1,7,1)\n",
    "for string in ['c'+str(number) for number in numbers]:\n",
    "    COSMOS_FLUXES[string]=np.nan"
   ]
  },
  {
   "cell_type": "markdown",
   "metadata": {},
   "source": [
    "Making list that contains filters used for k-correction, making columns for synthetic filters. "
   ]
  },
  {
   "cell_type": "markdown",
   "metadata": {},
   "source": [
    "Converting to maggies and invervar"
   ]
  },
  {
   "cell_type": "code",
   "execution_count": 19,
   "metadata": {},
   "outputs": [],
   "source": [
    "column_headers=COSMOS_FLUXES.columns.values"
   ]
  },
  {
   "cell_type": "code",
   "execution_count": 20,
   "metadata": {},
   "outputs": [
    {
     "name": "stdout",
     "output_type": "stream",
     "text": [
      "Converting to maggies\n"
     ]
    }
   ],
   "source": [
    "print('Converting to maggies')\n",
    "column_headers=COSMOS_FLUXES.columns.values\n",
    "for column in column_headers:\n",
    "    if 'maggies' in column:\n",
    "        COSMOS_FLUXES[column]=ut.mag2maggies(COSMOS_FLUXES['mag_'+column.split('maggies_')[1]])\n",
    "        COSMOS_FLUXES['invervar_'+column.split('maggies_')[1]]=ut.invariance(COSMOS_FLUXES[column],COSMOS_FLUXES['mag_'+column.split('maggies_')[1]+'_err'])"
   ]
  },
  {
   "cell_type": "markdown",
   "metadata": {},
   "source": [
    "Here we make a list of the filters we want to use for the k-correct code"
   ]
  },
  {
   "cell_type": "code",
   "execution_count": 21,
   "metadata": {},
   "outputs": [],
   "source": [
    "kcorr_filts=['cfht_u','subaru_B','subaru_V','subaru_r','subaru_i','subaru_z']\n",
    "for f in kcorr_filts:\n",
    "    COSMOS_FLUXES[f+'_synthetic']=np.nan\n",
    "    COSMOS_FLUXES[f+'0_synthetic']=np.nan"
   ]
  },
  {
   "cell_type": "markdown",
   "metadata": {},
   "source": [
    "Loading Filters"
   ]
  },
  {
   "cell_type": "code",
   "execution_count": 22,
   "metadata": {},
   "outputs": [],
   "source": [
    "kcorrect.load_templates()\n",
    "kcorrect.load_filters(kcordir+'/data/templates/Lum_Func_Filters_US.dat')"
   ]
  },
  {
   "cell_type": "markdown",
   "metadata": {},
   "source": [
    "Creating an index array so that we step through each source to calculate the coefficients needed for k-correct"
   ]
  },
  {
   "cell_type": "code",
   "execution_count": 16,
   "metadata": {},
   "outputs": [],
   "source": [
    "cmm_ind=COSMOS_FLUXES.index.values"
   ]
  },
  {
   "cell_type": "code",
   "execution_count": 17,
   "metadata": {},
   "outputs": [
    {
     "ename": "KeyboardInterrupt",
     "evalue": "",
     "output_type": "error",
     "traceback": [
      "\u001b[0;31m---------------------------------------------------------------------------\u001b[0m",
      "\u001b[0;31mKeyboardInterrupt\u001b[0m                         Traceback (most recent call last)",
      "\u001b[0;32m<ipython-input-17-5b387e35b56c>\u001b[0m in \u001b[0;36m<module>\u001b[0;34m\u001b[0m\n\u001b[1;32m      1\u001b[0m \u001b[0;32mfor\u001b[0m \u001b[0mi\u001b[0m \u001b[0;32min\u001b[0m \u001b[0mcmm_ind\u001b[0m\u001b[0;34m:\u001b[0m\u001b[0;34m\u001b[0m\u001b[0m\n\u001b[0;32m----> 2\u001b[0;31m     \u001b[0mCOSMOS_FLUXES\u001b[0m\u001b[0;34m.\u001b[0m\u001b[0mloc\u001b[0m\u001b[0;34m[\u001b[0m\u001b[0mi\u001b[0m\u001b[0;34m,\u001b[0m\u001b[0;34m'c1'\u001b[0m\u001b[0;34m:\u001b[0m\u001b[0;34m'c6'\u001b[0m\u001b[0;34m]\u001b[0m\u001b[0;34m=\u001b[0m\u001b[0mkcorrect\u001b[0m\u001b[0;34m.\u001b[0m\u001b[0mfit_nonneg\u001b[0m\u001b[0;34m(\u001b[0m\u001b[0mnp\u001b[0m\u001b[0;34m.\u001b[0m\u001b[0marray\u001b[0m\u001b[0;34m(\u001b[0m\u001b[0mCOSMOS_FLUXES\u001b[0m\u001b[0;34m.\u001b[0m\u001b[0mloc\u001b[0m\u001b[0;34m[\u001b[0m\u001b[0mi\u001b[0m\u001b[0;34m,\u001b[0m\u001b[0;34m'Z_BEST'\u001b[0m\u001b[0;34m]\u001b[0m\u001b[0;34m,\u001b[0m\u001b[0mdtype\u001b[0m\u001b[0;34m=\u001b[0m\u001b[0mfloat\u001b[0m\u001b[0;34m)\u001b[0m\u001b[0;34m,\u001b[0m\u001b[0mnp\u001b[0m\u001b[0;34m.\u001b[0m\u001b[0marray\u001b[0m\u001b[0;34m(\u001b[0m\u001b[0mCOSMOS_FLUXES\u001b[0m\u001b[0;34m.\u001b[0m\u001b[0mloc\u001b[0m\u001b[0;34m[\u001b[0m\u001b[0mi\u001b[0m\u001b[0;34m,\u001b[0m\u001b[0;34m[\u001b[0m\u001b[0;34m'maggies_'\u001b[0m\u001b[0;34m+\u001b[0m\u001b[0mcol\u001b[0m \u001b[0;32mfor\u001b[0m \u001b[0mcol\u001b[0m \u001b[0;32min\u001b[0m \u001b[0mkcorr_filts\u001b[0m\u001b[0;34m]\u001b[0m\u001b[0;34m]\u001b[0m\u001b[0;34m,\u001b[0m\u001b[0mdtype\u001b[0m\u001b[0;34m=\u001b[0m\u001b[0mfloat\u001b[0m\u001b[0;34m)\u001b[0m\u001b[0;34m,\u001b[0m\u001b[0mnp\u001b[0m\u001b[0;34m.\u001b[0m\u001b[0marray\u001b[0m\u001b[0;34m(\u001b[0m\u001b[0mCOSMOS_FLUXES\u001b[0m\u001b[0;34m.\u001b[0m\u001b[0mloc\u001b[0m\u001b[0;34m[\u001b[0m\u001b[0mi\u001b[0m\u001b[0;34m,\u001b[0m\u001b[0;34m[\u001b[0m\u001b[0;34m'invervar_'\u001b[0m\u001b[0;34m+\u001b[0m\u001b[0mcol\u001b[0m \u001b[0;32mfor\u001b[0m \u001b[0mcol\u001b[0m \u001b[0;32min\u001b[0m \u001b[0mkcorr_filts\u001b[0m\u001b[0;34m]\u001b[0m\u001b[0;34m]\u001b[0m\u001b[0;34m,\u001b[0m\u001b[0mdtype\u001b[0m\u001b[0;34m=\u001b[0m\u001b[0mfloat\u001b[0m\u001b[0;34m)\u001b[0m\u001b[0;34m)\u001b[0m\u001b[0;34m\u001b[0m\u001b[0m\n\u001b[0m",
      "\u001b[0;32m~/programs/anaconda3/anaconda3/lib/python3.6/site-packages/pandas/core/indexing.py\u001b[0m in \u001b[0;36m__setitem__\u001b[0;34m(self, key, value)\u001b[0m\n\u001b[1;32m    192\u001b[0m             \u001b[0mkey\u001b[0m \u001b[0;34m=\u001b[0m \u001b[0mcom\u001b[0m\u001b[0;34m.\u001b[0m\u001b[0m_apply_if_callable\u001b[0m\u001b[0;34m(\u001b[0m\u001b[0mkey\u001b[0m\u001b[0;34m,\u001b[0m \u001b[0mself\u001b[0m\u001b[0;34m.\u001b[0m\u001b[0mobj\u001b[0m\u001b[0;34m)\u001b[0m\u001b[0;34m\u001b[0m\u001b[0m\n\u001b[1;32m    193\u001b[0m         \u001b[0mindexer\u001b[0m \u001b[0;34m=\u001b[0m \u001b[0mself\u001b[0m\u001b[0;34m.\u001b[0m\u001b[0m_get_setitem_indexer\u001b[0m\u001b[0;34m(\u001b[0m\u001b[0mkey\u001b[0m\u001b[0;34m)\u001b[0m\u001b[0;34m\u001b[0m\u001b[0m\n\u001b[0;32m--> 194\u001b[0;31m         \u001b[0mself\u001b[0m\u001b[0;34m.\u001b[0m\u001b[0m_setitem_with_indexer\u001b[0m\u001b[0;34m(\u001b[0m\u001b[0mindexer\u001b[0m\u001b[0;34m,\u001b[0m \u001b[0mvalue\u001b[0m\u001b[0;34m)\u001b[0m\u001b[0;34m\u001b[0m\u001b[0m\n\u001b[0m\u001b[1;32m    195\u001b[0m \u001b[0;34m\u001b[0m\u001b[0m\n\u001b[1;32m    196\u001b[0m     \u001b[0;32mdef\u001b[0m \u001b[0m_has_valid_type\u001b[0m\u001b[0;34m(\u001b[0m\u001b[0mself\u001b[0m\u001b[0;34m,\u001b[0m \u001b[0mk\u001b[0m\u001b[0;34m,\u001b[0m \u001b[0maxis\u001b[0m\u001b[0;34m)\u001b[0m\u001b[0;34m:\u001b[0m\u001b[0;34m\u001b[0m\u001b[0m\n",
      "\u001b[0;32m~/programs/anaconda3/anaconda3/lib/python3.6/site-packages/pandas/core/indexing.py\u001b[0m in \u001b[0;36m_setitem_with_indexer\u001b[0;34m(self, indexer, value)\u001b[0m\n\u001b[1;32m    601\u001b[0m \u001b[0;34m\u001b[0m\u001b[0m\n\u001b[1;32m    602\u001b[0m                     \u001b[0;32mfor\u001b[0m \u001b[0mitem\u001b[0m\u001b[0;34m,\u001b[0m \u001b[0mv\u001b[0m \u001b[0;32min\u001b[0m \u001b[0mzip\u001b[0m\u001b[0;34m(\u001b[0m\u001b[0mlabels\u001b[0m\u001b[0;34m,\u001b[0m \u001b[0mvalue\u001b[0m\u001b[0;34m)\u001b[0m\u001b[0;34m:\u001b[0m\u001b[0;34m\u001b[0m\u001b[0m\n\u001b[0;32m--> 603\u001b[0;31m                         \u001b[0msetter\u001b[0m\u001b[0;34m(\u001b[0m\u001b[0mitem\u001b[0m\u001b[0;34m,\u001b[0m \u001b[0mv\u001b[0m\u001b[0;34m)\u001b[0m\u001b[0;34m\u001b[0m\u001b[0m\n\u001b[0m\u001b[1;32m    604\u001b[0m             \u001b[0;32melse\u001b[0m\u001b[0;34m:\u001b[0m\u001b[0;34m\u001b[0m\u001b[0m\n\u001b[1;32m    605\u001b[0m \u001b[0;34m\u001b[0m\u001b[0m\n",
      "\u001b[0;32m~/programs/anaconda3/anaconda3/lib/python3.6/site-packages/pandas/core/indexing.py\u001b[0m in \u001b[0;36msetter\u001b[0;34m(item, v)\u001b[0m\n\u001b[1;32m    535\u001b[0m \u001b[0;34m\u001b[0m\u001b[0m\n\u001b[1;32m    536\u001b[0m                 \u001b[0;31m# reset the sliced object if unique\u001b[0m\u001b[0;34m\u001b[0m\u001b[0;34m\u001b[0m\u001b[0m\n\u001b[0;32m--> 537\u001b[0;31m                 \u001b[0mself\u001b[0m\u001b[0;34m.\u001b[0m\u001b[0mobj\u001b[0m\u001b[0;34m[\u001b[0m\u001b[0mitem\u001b[0m\u001b[0;34m]\u001b[0m \u001b[0;34m=\u001b[0m \u001b[0ms\u001b[0m\u001b[0;34m\u001b[0m\u001b[0m\n\u001b[0m\u001b[1;32m    538\u001b[0m \u001b[0;34m\u001b[0m\u001b[0m\n\u001b[1;32m    539\u001b[0m             \u001b[0;32mdef\u001b[0m \u001b[0mcan_do_equal_len\u001b[0m\u001b[0;34m(\u001b[0m\u001b[0;34m)\u001b[0m\u001b[0;34m:\u001b[0m\u001b[0;34m\u001b[0m\u001b[0m\n",
      "\u001b[0;31mKeyboardInterrupt\u001b[0m: "
     ]
    }
   ],
   "source": [
    "for i in cmm_ind:\n",
    "    COSMOS_FLUXES.loc[i,'c1':'c6']=kcorrect.fit_nonneg(np.array(COSMOS_FLUXES.loc[i,'Z_BEST'],dtype=float),np.array(COSMOS_FLUXES.loc[i,['maggies_'+col for col in kcorr_filts]],dtype=float),np.array(COSMOS_FLUXES.loc[i,['invervar_'+col for col in kcorr_filts]],dtype=float))"
   ]
  },
  {
   "cell_type": "markdown",
   "metadata": {},
   "source": [
    "Recalculating the \"maggies\" for each object based on the best guess of the SED"
   ]
  },
  {
   "cell_type": "code",
   "execution_count": null,
   "metadata": {},
   "outputs": [],
   "source": [
    "for i in cmm_ind:\n",
    "    COSMOS_FLUXES.loc[i,[f+'_synthetic' for f in kcorr_filts]]=kcorrect.reconstruct_maggies(COSMOS_FLUXES.loc[i,'c1':'c6'])[1:]\n",
    "    COSMOS_FLUXES.loc[i,[f+'0_synthetic' for f in kcorr_filts]]=kcorrect.reconstruct_maggies(COSMOS_FLUXES.loc[i,'c1':'c6'],redshift=0)[1:]"
   ]
  },
  {
   "cell_type": "markdown",
   "metadata": {},
   "source": [
    "Converting the synthetic maggies to apparent magnitude"
   ]
  },
  {
   "cell_type": "code",
   "execution_count": null,
   "metadata": {},
   "outputs": [],
   "source": [
    "COSMOS_FLUXES[[f+'_synthetic_mag' for f in kcorr_filts]]=-2.5*np.log10(COSMOS_FLUXES[[f+'_synthetic' for f in kcorr_filts]])"
   ]
  },
  {
   "cell_type": "markdown",
   "metadata": {},
   "source": [
    "Calculating Johnson U/B/V from the SED"
   ]
  },
  {
   "cell_type": "code",
   "execution_count": null,
   "metadata": {},
   "outputs": [],
   "source": [
    "COSMOS_FLUXES['U0_synthetic']=np.nan\n",
    "COSMOS_FLUXES['B0_synthetic']=np.nan\n",
    "COSMOS_FLUXES['V0_synthetic']=np.nan"
   ]
  },
  {
   "cell_type": "code",
   "execution_count": null,
   "metadata": {},
   "outputs": [],
   "source": [
    "kcorrect.load_templates()\n",
    "kcorrect.load_filters(kcordir+'/data/templates/bessell_ubv.dat')"
   ]
  },
  {
   "cell_type": "code",
   "execution_count": null,
   "metadata": {},
   "outputs": [],
   "source": [
    "for i in cmm_ind:\n",
    "    COSMOS_FLUXES.loc[i,['U0_synthetic','B0_synthetic','V0_synthetic']]=kcorrect.reconstruct_maggies(COSMOS_FLUXES.loc[i,'c1':'c6'],redshift=0)[1:]"
   ]
  },
  {
   "cell_type": "markdown",
   "metadata": {},
   "source": [
    "Converting to magnitudes and then adding offsets to go from AB magnitudes to Vega magnitudes"
   ]
  },
  {
   "cell_type": "code",
   "execution_count": null,
   "metadata": {
    "scrolled": true
   },
   "outputs": [],
   "source": [
    "COSMOS_FLUXES[['U0_synthetic_mag','B0_synthetic_mag','V0_synthetic_mag']]=-2.5*np.log10(COSMOS_FLUXES[['U0_synthetic','B0_synthetic','V0_synthetic']])\n",
    "COSMOS_FLUXES['U0_synthetic_mag']=COSMOS_FLUXES['U0_synthetic_mag']-0.79\n",
    "COSMOS_FLUXES['B0_synthetic_mag']=COSMOS_FLUXES['B0_synthetic_mag']+0.09\n",
    "COSMOS_FLUXES['V0_synthetic_mag']=COSMOS_FLUXES['V0_synthetic_mag']-0.02"
   ]
  },
  {
   "cell_type": "markdown",
   "metadata": {},
   "source": [
    "Actually calculating k-correction from Subaru filters to Bessell Filters"
   ]
  },
  {
   "cell_type": "code",
   "execution_count": null,
   "metadata": {},
   "outputs": [],
   "source": [
    "COSMOS_FLUXES[[f+'_kcorr_B' for f in kcorr_filts]]=-2.5*np.log10(COSMOS_FLUXES[[f+'_synthetic' for f in kcorr_filts]]/np.stack((COSMOS_FLUXES['B0_synthetic'],COSMOS_FLUXES['B0_synthetic'],COSMOS_FLUXES['B0_synthetic'],COSMOS_FLUXES['B0_synthetic'],COSMOS_FLUXES['B0_synthetic'],COSMOS_FLUXES['B0_synthetic']),axis=-1))"
   ]
  },
  {
   "cell_type": "markdown",
   "metadata": {},
   "source": [
    "Calculating B-V color"
   ]
  },
  {
   "cell_type": "code",
   "execution_count": null,
   "metadata": {},
   "outputs": [],
   "source": [
    "COSMOS_FLUXES['rest_frame_B-V']=COSMOS_FLUXES['B0_synthetic_mag']-COSMOS_FLUXES['V0_synthetic_mag']"
   ]
  },
  {
   "cell_type": "markdown",
   "metadata": {},
   "source": [
    "Calculating Absolute Magnitude using k-correction (Different cells below cover different redshift ranges)"
   ]
  },
  {
   "cell_type": "code",
   "execution_count": null,
   "metadata": {
    "scrolled": true
   },
   "outputs": [],
   "source": [
    "COSMOS_FLUXES['Abs_B_Mag']=np.nan"
   ]
  },
  {
   "cell_type": "code",
   "execution_count": null,
   "metadata": {},
   "outputs": [],
   "source": [
    "COSMOS_FLUXES.loc[COSMOS_FLUXES.Z_BEST<0.1,'Abs_B_Mag']=COSMOS_FLUXES.loc[COSMOS_FLUXES.Z_BEST<0.1,'mag_subaru_B']-0.05122-cosmo.distmod(COSMOS_FLUXES.loc[COSMOS_FLUXES.Z_BEST<0.1,'Z_BEST']).value-COSMOS_FLUXES.loc[COSMOS_FLUXES.Z_BEST<0.1,'subaru_B_kcorr_B']+0.09"
   ]
  },
  {
   "cell_type": "code",
   "execution_count": null,
   "metadata": {},
   "outputs": [],
   "source": [
    "COSMOS_FLUXES.loc[(COSMOS_FLUXES.Z_BEST>0.1)&(COSMOS_FLUXES.Z_BEST<0.35),'Abs_B_Mag']=COSMOS_FLUXES.loc[(COSMOS_FLUXES.Z_BEST>0.1)&(COSMOS_FLUXES.Z_BEST<0.35),'mag_subaru_V']-0.069802-cosmo.distmod(COSMOS_FLUXES.loc[(COSMOS_FLUXES.Z_BEST>0.1)&(COSMOS_FLUXES.Z_BEST<0.35),'Z_BEST']).value-COSMOS_FLUXES.loc[(COSMOS_FLUXES.Z_BEST>0.1)&(COSMOS_FLUXES.Z_BEST<0.35),'subaru_V_kcorr_B']+0.09"
   ]
  },
  {
   "cell_type": "code",
   "execution_count": null,
   "metadata": {},
   "outputs": [],
   "source": [
    "COSMOS_FLUXES.loc[(COSMOS_FLUXES.Z_BEST>0.35)&(COSMOS_FLUXES.Z_BEST<0.55),'Abs_B_Mag']=COSMOS_FLUXES.loc[(COSMOS_FLUXES.Z_BEST>0.35)&(COSMOS_FLUXES.Z_BEST<0.55),'mag_subaru_r']-0.01267-cosmo.distmod(COSMOS_FLUXES.loc[(COSMOS_FLUXES.Z_BEST>0.35)&(COSMOS_FLUXES.Z_BEST<0.55),'Z_BEST']).value-COSMOS_FLUXES.loc[(COSMOS_FLUXES.Z_BEST>0.35)&(COSMOS_FLUXES.Z_BEST<0.55),'subaru_r_kcorr_B']+0.09"
   ]
  },
  {
   "cell_type": "code",
   "execution_count": null,
   "metadata": {},
   "outputs": [],
   "source": [
    "COSMOS_FLUXES.loc[(COSMOS_FLUXES.Z_BEST>0.55)&(COSMOS_FLUXES.Z_BEST<0.75),'Abs_B_Mag']=COSMOS_FLUXES.loc[(COSMOS_FLUXES.Z_BEST>0.55)&(COSMOS_FLUXES.Z_BEST<0.75),'mag_subaru_i']-0.004512-cosmo.distmod(COSMOS_FLUXES.loc[(COSMOS_FLUXES.Z_BEST>0.55)&(COSMOS_FLUXES.Z_BEST<0.75),'Z_BEST']).value-COSMOS_FLUXES.loc[(COSMOS_FLUXES.Z_BEST>0.55)&(COSMOS_FLUXES.Z_BEST<0.75),'subaru_i_kcorr_B']+0.09"
   ]
  },
  {
   "cell_type": "code",
   "execution_count": null,
   "metadata": {},
   "outputs": [],
   "source": [
    "COSMOS_FLUXES.loc[COSMOS_FLUXES.Z_BEST>0.75,'Abs_B_Mag']=COSMOS_FLUXES.loc[COSMOS_FLUXES.Z_BEST>0.75,'mag_subaru_z']-0.00177-cosmo.distmod(COSMOS_FLUXES.loc[COSMOS_FLUXES.Z_BEST>0.75,'Z_BEST']).value-COSMOS_FLUXES.loc[COSMOS_FLUXES.Z_BEST>0.75,'subaru_z_kcorr_B']+0.09"
   ]
  },
  {
   "cell_type": "markdown",
   "metadata": {},
   "source": [
    "Calculate absolute magnitude from the \"Synthetic\" apparent magnitude"
   ]
  },
  {
   "cell_type": "code",
   "execution_count": null,
   "metadata": {
    "scrolled": true
   },
   "outputs": [],
   "source": [
    "COSMOS_FLUXES['Abs_B_Mag_synthetic']=COSMOS_FLUXES['B0_synthetic_mag']-cosmo.distmod(COSMOS_FLUXES.Z_BEST.values).value"
   ]
  },
  {
   "cell_type": "markdown",
   "metadata": {},
   "source": [
    "Diagnostic plotting"
   ]
  },
  {
   "cell_type": "code",
   "execution_count": null,
   "metadata": {},
   "outputs": [],
   "source": [
    "plt.plot(COSMOS_FLUXES.loc[COSMOS_FLUXES.Z_BEST<1.0,'Abs_B_Mag'],COSMOS_FLUXES.loc[COSMOS_FLUXES.Z_BEST<1.0,'Abs_B_Mag']-COSMOS_FLUXES.loc[COSMOS_FLUXES.Z_BEST<1.0,'Abs_B_Mag_synthetic'],'.')\n",
    "plt.plot(COSMOS_FLUXES.loc[(COSMOS_FLUXES.Z_BEST<1.0)&(COSMOS_FLUXES.Z_USE<3)&(COSMOS_FLUXES.SG_MASTER==0),'Abs_B_Mag'],COSMOS_FLUXES.loc[(COSMOS_FLUXES.Z_BEST<1.0)&(COSMOS_FLUXES.Z_USE<3)&(COSMOS_FLUXES.SG_MASTER==0),'Abs_B_Mag']-COSMOS_FLUXES.loc[(COSMOS_FLUXES.Z_BEST<1.0)&(COSMOS_FLUXES.Z_USE<3)&(COSMOS_FLUXES.SG_MASTER==0),'Abs_B_Mag_synthetic'],'.')\n",
    "print(len(COSMOS_FLUXES.loc[COSMOS_FLUXES.Z_BEST>0.1(COSMOS_FLUXES.Z_BEST<1.0)&(COSMOS_FLUXES.Z_USE<3)&(COSMOS_FLUXES.SG_MASTER==0),'Abs_B_Mag']))\n",
    "plt.hlines(1,-30,200)\n",
    "plt.hlines(-1,-30,200)"
   ]
  },
  {
   "cell_type": "code",
   "execution_count": null,
   "metadata": {},
   "outputs": [],
   "source": [
    "plt.plot(COSMOS_FLUXES.loc[(COSMOS_FLUXES.Z_BEST<1.0)&(COSMOS_FLUXES.Z_USE<3)&(COSMOS_FLUXES.SG_MASTER==0),'Abs_B_Mag'],'.')\n"
   ]
  },
  {
   "cell_type": "markdown",
   "metadata": {},
   "source": [
    "Calculate surface brightness"
   ]
  },
  {
   "cell_type": "code",
   "execution_count": null,
   "metadata": {
    "scrolled": true
   },
   "outputs": [],
   "source": [
    "COSMOS_FLUXES['Surface_Brightness_B']=COSMOS_FLUXES.Abs_B_Mag+2.5*np.log10((2*np.pi*np.power(cosmo.angular_diameter_distance(COSMOS_FLUXES.Z_BEST.values).value*np.tan(COSMOS_FLUXES.Rh.values*0.03*4.84814e-6)*(814/(445*(1+COSMOS_FLUXES.Z_BEST.values)))**0.108*1e3,2)))+2.5*np.log10((360*60*60/(2*np.pi*0.01))**2)"
   ]
  },
  {
   "cell_type": "markdown",
   "metadata": {},
   "source": [
    "Calculate effective radius and determine whether each source is an LCBG"
   ]
  },
  {
   "cell_type": "code",
   "execution_count": null,
   "metadata": {},
   "outputs": [],
   "source": [
    "COSMOS_FLUXES['R_eff_arcsec_F814W']=COSMOS_FLUXES.loc[:,'Rh']*0.03\n",
    "COSMOS_FLUXES['R_eff_arcsec_B']=COSMOS_FLUXES.loc[:,'Rh']*0.03*(814/(445*(1+COSMOS_FLUXES.Z_BEST.values)))**0.108\n",
    "COSMOS_FLUXES['is_LCBG']=0\n",
    "COSMOS_FLUXES.loc[(COSMOS_FLUXES.Abs_B_Mag.values<-18.5)&(COSMOS_FLUXES.Surface_Brightness_B.values<21)&(COSMOS_FLUXES['rest_frame_B-V'].values<0.6),'is_LCBG']=1"
   ]
  },
  {
   "cell_type": "code",
   "execution_count": null,
   "metadata": {
    "scrolled": true
   },
   "outputs": [],
   "source": [
    "plt.plot(COSMOS_FLUXES['rest_frame_B-V'],COSMOS_FLUXES['Surface_Brightness_B'],'.')"
   ]
  },
  {
   "cell_type": "code",
   "execution_count": null,
   "metadata": {},
   "outputs": [],
   "source": [
    "COSMOS_FLUXES.to_csv('/Users/lucashunt/ASTRODATA/LCBG_LUMINOSITY_FUNCTION/COSMOS_CATALOGS/Photometry/COSMOS_CONVERTED_CATALOG.csv')"
   ]
  }
 ],
 "metadata": {
  "kernelspec": {
   "display_name": "Python 3",
   "language": "python",
   "name": "python3"
  },
  "language_info": {
   "codemirror_mode": {
    "name": "ipython",
    "version": 3
   },
   "file_extension": ".py",
   "mimetype": "text/x-python",
   "name": "python",
   "nbconvert_exporter": "python",
   "pygments_lexer": "ipython3",
   "version": "3.6.6"
  }
 },
 "nbformat": 4,
 "nbformat_minor": 2
}
